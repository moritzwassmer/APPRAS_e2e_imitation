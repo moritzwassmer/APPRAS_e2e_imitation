{
 "cells": [
  {
   "cell_type": "code",
   "execution_count": 83,
   "metadata": {},
   "outputs": [],
   "source": [
    "import pandas as pd\n",
    "import cv2\n",
    "import json\n",
    "from data_pipeline import CARLADataset, DataLoader\n",
    "from torchvision import transforms\n",
    "from torch.utils.data import Sampler\n",
    "import numpy as np\n",
    "import torch"
   ]
  },
  {
   "cell_type": "code",
   "execution_count": 86,
   "metadata": {},
   "outputs": [],
   "source": [
    "\"\"\"\n",
    "Inspiration from https://www.kaggle.com/code/shahules/guide-pytorch-data-samplers-sequence-bucketing\n",
    "\n",
    "Assigns weights/probabilities to which each index in the dataset gets sampled.\n",
    "Use cases:\n",
    "1. Set probabilities of indices to zero which don't have enough previous data point in a specific route\n",
    "accoring to the specified sequence length.\n",
    "2. Oversampling of rare events/maneuvers such as turns to balance the dataset (for this additional metadata\n",
    "will be needed).\n",
    "\"\"\"\n",
    "class WeightedSampler(Sampler):\n",
    "    \n",
    "    def __init__(self, dataset):\n",
    "        \n",
    "        self.dataset = dataset\n",
    "        self.indices = list(range(len(dataset)))\n",
    "        self.num_samples = len(dataset)\n",
    "        restricted_idxs = self.__get_restricted_indices()\n",
    "        weights = np.ones(dataset.__len__()) * 1 / (dataset.__len__() - len(restricted_idxs))\n",
    "        weights[restricted_idxs] = 0\n",
    "        \n",
    "        self.weights = torch.tensor(weights,dtype=torch.double)\n",
    "        \n",
    "    def __iter__(self):\n",
    "        count = 0\n",
    "        index = [self.indices[i] for i in torch.multinomial(self.weights, self.num_samples, replacement=True)]\n",
    "        while count < self.num_samples:\n",
    "            yield index[count]\n",
    "            count += 1\n",
    "\n",
    "    def __get_restricted_indices(self):\n",
    "        \"\"\"\n",
    "        Return:\n",
    "                restricted_idx (list): List contains idxs that shall not be sampled because they don't\n",
    "                have enough previous/lagged datapoint with respect to seq_len for each route.\n",
    "        \"\"\"\n",
    "        df_meta_data, seq_len = self.dataset.df_meta_data, self.dataset.seq_len\n",
    "        boarders = df_meta_data[\"route\"].value_counts().sort_index().to_numpy()\n",
    "        boarders_cumsum = np.cumsum(boarders) - 1\n",
    "        boarders_cumsum = np.insert(boarders_cumsum, 0, 0)\n",
    "        restricted_idxs = []\n",
    "        for i in range(len(boarders_cumsum) - 1):\n",
    "            if boarders_cumsum[i+1] - boarders_cumsum[i] < seq_len:\n",
    "                restricted_idxs += list(range(boarders_cumsum[i+1] + 1))\n",
    "            else:\n",
    "                if boarders_cumsum[i] == 0:\n",
    "                    restricted_idxs += list(range(seq_len))\n",
    "                else:\n",
    "                    restricted_idxs += list(range(boarders_cumsum[i] + 1, boarders_cumsum[i] + 1 + seq_len))\n",
    "        return restricted_idxs\n",
    "\n",
    "    \n",
    "    def __len__(self):\n",
    "        return self.num_samples\n",
    "        \n",
    "        \n",
    "\n"
   ]
  },
  {
   "cell_type": "code",
   "execution_count": 87,
   "metadata": {},
   "outputs": [
    {
     "name": "stdout",
     "output_type": "stream",
     "text": [
      "217\n"
     ]
    }
   ],
   "source": [
    "path_moritz_data = \"myfolder/sample_trainingsdata\"\n",
    "path_ege_data = \"../data/Dataset Ege\"\n",
    "\n",
    "data_transform = transforms.Compose([\n",
    "        transforms.ToTensor(),\n",
    "        transforms.Normalize(mean=[0.485, 0.456, 0.406],\n",
    "                             std=[0.229, 0.224, 0.225])\n",
    "    ])\n",
    "\n",
    "config = {\"used_inputs\": [\"rgb\", \"depth\", \"measurements\"], \n",
    "        \"used_measurements\": [\"speed\", \"steer\", \"throttle\"],\n",
    "        \"seq_len\": 2\n",
    "        }\n",
    "dataset = CARLADataset(root_dir=path_ege_data, config=config, transform=None)\n",
    "weighted_sampler = WeightedSampler(dataset=dataset)\n",
    "print(dataset.__len__())"
   ]
  },
  {
   "cell_type": "code",
   "execution_count": 88,
   "metadata": {},
   "outputs": [
    {
     "data": {
      "text/plain": [
       "2"
      ]
     },
     "execution_count": 88,
     "metadata": {},
     "output_type": "execute_result"
    }
   ],
   "source": [
    "len(dataset[2][\"depth\"])"
   ]
  },
  {
   "cell_type": "code",
   "execution_count": 93,
   "metadata": {},
   "outputs": [],
   "source": [
    "dl = DataLoader(dataset=dataset, batch_size=16, num_workers=0, sampler=weighted_sampler)"
   ]
  },
  {
   "cell_type": "code",
   "execution_count": 94,
   "metadata": {},
   "outputs": [
    {
     "name": "stdout",
     "output_type": "stream",
     "text": [
      "14\n"
     ]
    }
   ],
   "source": [
    "# Weird: When num_workers increases (>0) then it takes longer to loop over batches??\n",
    "count = 0\n",
    "for batch in dl:\n",
    "    count += 1\n",
    "print(count)"
   ]
  },
  {
   "cell_type": "code",
   "execution_count": 100,
   "metadata": {},
   "outputs": [
    {
     "data": {
      "text/plain": [
       "torch.Size([9, 160, 960, 3])"
      ]
     },
     "execution_count": 100,
     "metadata": {},
     "output_type": "execute_result"
    }
   ],
   "source": [
    "batch[\"depth\"][0].shape"
   ]
  },
  {
   "cell_type": "code",
   "execution_count": 20,
   "metadata": {},
   "outputs": [
    {
     "data": {
      "text/plain": [
       "5"
      ]
     },
     "execution_count": 20,
     "metadata": {},
     "output_type": "execute_result"
    }
   ],
   "source": [
    "# DataLoader open questions:\n",
    "# Check which indices where used for a specific batch\n",
    "# --> Solved by adding \"idx\" attribute to sample\n",
    "# "
   ]
  },
  {
   "cell_type": "code",
   "execution_count": 11,
   "metadata": {},
   "outputs": [],
   "source": [
    "image_path = \"../data/Dataset Ege/Town10HD_Scenario10_route3_11_28_17_28_17/rgb/0000.png\"\n",
    "json_path = \"../data/Dataset Ege/Town10HD_Scenario10_route3_11_28_17_28_17/measurements/0000.json\"\n",
    "npy_path = \"../data/Dataset Ege/Town10HD_Scenario10_route3_11_28_17_28_17/lidar/0152.npy\""
   ]
  },
  {
   "cell_type": "code",
   "execution_count": 6,
   "metadata": {},
   "outputs": [
    {
     "data": {
      "text/plain": [
       "array([[[115, 111, 101],\n",
       "        [ 25, 117, 113],\n",
       "        [ 28, 123, 112],\n",
       "        ...,\n",
       "        [179, 194, 215],\n",
       "        [197, 195, 202],\n",
       "        [195, 202, 210]],\n",
       "\n",
       "       [[115, 139, 156],\n",
       "        [113, 158, 154],\n",
       "        [ 60, 145, 134],\n",
       "        ...,\n",
       "        [164, 190, 215],\n",
       "        [156, 174, 196],\n",
       "        [169, 181, 195]],\n",
       "\n",
       "       [[131, 169, 182],\n",
       "        [198, 189, 189],\n",
       "        [130, 172, 167],\n",
       "        ...,\n",
       "        [173, 197, 220],\n",
       "        [166, 188, 207],\n",
       "        [184, 195, 208]],\n",
       "\n",
       "       ...,\n",
       "\n",
       "       [[195, 198, 203],\n",
       "        [190, 196, 203],\n",
       "        [190, 196, 203],\n",
       "        ...,\n",
       "        [224, 230, 237],\n",
       "        [221, 227, 234],\n",
       "        [227, 228, 233]],\n",
       "\n",
       "       [[188, 197, 205],\n",
       "        [190, 196, 204],\n",
       "        [189, 194, 202],\n",
       "        ...,\n",
       "        [228, 233, 239],\n",
       "        [228, 232, 238],\n",
       "        [228, 233, 238]],\n",
       "\n",
       "       [[175, 186, 198],\n",
       "        [179, 188, 199],\n",
       "        [184, 190, 200],\n",
       "        ...,\n",
       "        [229, 234, 240],\n",
       "        [229, 234, 240],\n",
       "        [229, 234, 240]]], dtype=uint8)"
      ]
     },
     "execution_count": 6,
     "metadata": {},
     "output_type": "execute_result"
    }
   ],
   "source": [
    "cv2.imread(image_path)"
   ]
  },
  {
   "cell_type": "code",
   "execution_count": 9,
   "metadata": {},
   "outputs": [],
   "source": [
    "with open(json_path, 'r') as f:\n",
    "    file = json.load(f)"
   ]
  },
  {
   "cell_type": "code",
   "execution_count": 12,
   "metadata": {},
   "outputs": [
    {
     "data": {
      "text/plain": [
       "{'x': -112.95048778796695,\n",
       " 'y': -41.48863607339395,\n",
       " 'theta': 6.280380725860596,\n",
       " 'speed': 0.0,\n",
       " 'target_speed': 4.0,\n",
       " 'x_command': -82.62922440350494,\n",
       " 'y_command': -41.57395940725048,\n",
       " 'command': 4,\n",
       " 'waypoints': [[-112.89775848388672, -41.48876953125, 6.2803715443298636],\n",
       "  [-112.74459075927734, -41.489200592041016, 6.2803715443298636],\n",
       "  [-112.48578643798828, -41.48992919921875, 6.2803715443298636],\n",
       "  [-112.12135314941406, -41.4909553527832, 6.2803715443298636],\n",
       "  [-111.65128326416016, -41.49227523803711, 6.2803715443298636],\n",
       "  [-111.07557678222656, -41.493896484375, 6.2803715443298636],\n",
       "  [-110.39423370361328, -41.49581527709961, 6.2803715443298636],\n",
       "  [-109.60726165771484, -41.49802780151367, 6.2803715443298636]],\n",
       " 'steer': -0.0,\n",
       " 'throttle': 0.75,\n",
       " 'brake': False,\n",
       " 'junction': False,\n",
       " 'vehicle_hazard': [False,\n",
       "  False,\n",
       "  False,\n",
       "  False,\n",
       "  False,\n",
       "  False,\n",
       "  False,\n",
       "  False,\n",
       "  False,\n",
       "  False,\n",
       "  False,\n",
       "  False,\n",
       "  False,\n",
       "  False,\n",
       "  False,\n",
       "  False,\n",
       "  False,\n",
       "  False,\n",
       "  False,\n",
       "  False,\n",
       "  False,\n",
       "  False,\n",
       "  False,\n",
       "  False,\n",
       "  False,\n",
       "  False,\n",
       "  False,\n",
       "  False,\n",
       "  False,\n",
       "  False,\n",
       "  False,\n",
       "  False,\n",
       "  False,\n",
       "  False,\n",
       "  False,\n",
       "  False,\n",
       "  False,\n",
       "  False,\n",
       "  False,\n",
       "  False,\n",
       "  False,\n",
       "  False,\n",
       "  False,\n",
       "  False,\n",
       "  False,\n",
       "  False,\n",
       "  False,\n",
       "  False,\n",
       "  False,\n",
       "  False,\n",
       "  False,\n",
       "  False,\n",
       "  False,\n",
       "  False,\n",
       "  False,\n",
       "  False,\n",
       "  False,\n",
       "  False,\n",
       "  False,\n",
       "  False,\n",
       "  False,\n",
       "  False,\n",
       "  False,\n",
       "  False,\n",
       "  False,\n",
       "  False,\n",
       "  False,\n",
       "  False,\n",
       "  False,\n",
       "  False,\n",
       "  False,\n",
       "  False,\n",
       "  False,\n",
       "  False,\n",
       "  False,\n",
       "  False,\n",
       "  False,\n",
       "  False,\n",
       "  False,\n",
       "  False],\n",
       " 'light_hazard': False,\n",
       " 'walker_hazard': [False,\n",
       "  False,\n",
       "  False,\n",
       "  False,\n",
       "  False,\n",
       "  False,\n",
       "  False,\n",
       "  False,\n",
       "  False,\n",
       "  False,\n",
       "  False,\n",
       "  False,\n",
       "  False,\n",
       "  False,\n",
       "  False,\n",
       "  False,\n",
       "  False,\n",
       "  False,\n",
       "  False,\n",
       "  False,\n",
       "  False,\n",
       "  False,\n",
       "  False,\n",
       "  False,\n",
       "  False,\n",
       "  False,\n",
       "  False,\n",
       "  False,\n",
       "  False,\n",
       "  False,\n",
       "  False,\n",
       "  False,\n",
       "  False,\n",
       "  False,\n",
       "  False,\n",
       "  False,\n",
       "  False,\n",
       "  False,\n",
       "  False,\n",
       "  False,\n",
       "  False,\n",
       "  False,\n",
       "  False,\n",
       "  False,\n",
       "  False,\n",
       "  False,\n",
       "  False,\n",
       "  False,\n",
       "  False,\n",
       "  False,\n",
       "  False,\n",
       "  False,\n",
       "  False,\n",
       "  False,\n",
       "  False,\n",
       "  False,\n",
       "  False,\n",
       "  False,\n",
       "  False,\n",
       "  False,\n",
       "  False,\n",
       "  False,\n",
       "  False,\n",
       "  False,\n",
       "  False,\n",
       "  False,\n",
       "  False,\n",
       "  False,\n",
       "  False,\n",
       "  False,\n",
       "  False,\n",
       "  False,\n",
       "  False,\n",
       "  False,\n",
       "  False,\n",
       "  False,\n",
       "  False,\n",
       "  False,\n",
       "  False,\n",
       "  False],\n",
       " 'stop_sign_hazard': False,\n",
       " 'angle': -2.8842181144496166e-06,\n",
       " 'ego_matrix': [[-0.0028137369081377983,\n",
       "   0.9999960660934448,\n",
       "   0.0,\n",
       "   -41.4886360168457],\n",
       "  [-0.9999960660934448, -0.0028137369081377983, 0.0, 112.94529724121094],\n",
       "  [0.0, -0.0, 1.0, 0.2350168228149414],\n",
       "  [0.0, 0.0, 0.0, 1.0]]}"
      ]
     },
     "execution_count": 12,
     "metadata": {},
     "output_type": "execute_result"
    }
   ],
   "source": [
    "file"
   ]
  },
  {
   "cell_type": "code",
   "execution_count": null,
   "metadata": {},
   "outputs": [],
   "source": []
  }
 ],
 "metadata": {
  "kernelspec": {
   "display_name": "Python 3.8.13 ('carla')",
   "language": "python",
   "name": "python3"
  },
  "language_info": {
   "codemirror_mode": {
    "name": "ipython",
    "version": 3
   },
   "file_extension": ".py",
   "mimetype": "text/x-python",
   "name": "python",
   "nbconvert_exporter": "python",
   "pygments_lexer": "ipython3",
   "version": "3.8.13"
  },
  "orig_nbformat": 4,
  "vscode": {
   "interpreter": {
    "hash": "bc80d0638afb8ec7c43f4b834002a598fcddbd6e8bf5db40ad8cba47e68e6a97"
   }
  }
 },
 "nbformat": 4,
 "nbformat_minor": 2
}
