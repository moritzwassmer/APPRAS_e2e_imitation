{
 "cells": [
  {
   "cell_type": "code",
   "execution_count": 218,
   "metadata": {},
   "outputs": [],
   "source": [
    "import pandas as pd\n",
    "import numpy as np\n",
    "import json\n",
    "from dictor import dictor\n",
    "from tabulate import tabulate"
   ]
  },
  {
   "cell_type": "code",
   "execution_count": 74,
   "metadata": {},
   "outputs": [],
   "source": [
    "path_json = \"../data/parsed_baseline_v3_dropout_0_25_E_10/results.json\""
   ]
  },
  {
   "cell_type": "code",
   "execution_count": 7,
   "metadata": {},
   "outputs": [],
   "source": [
    "with open(path_json) as f:\n",
    "    results = json.load(f)"
   ]
  },
  {
   "cell_type": "code",
   "execution_count": 56,
   "metadata": {},
   "outputs": [],
   "source": [
    "progress = dictor(results, '_checkpoint.progress')"
   ]
  },
  {
   "cell_type": "code",
   "execution_count": 156,
   "metadata": {},
   "outputs": [],
   "source": [
    "def prettify_json(path):\n",
    "    with open(path) as fd:\n",
    "        json_dict = json.load(fd)\n",
    "\n",
    "    if not json_dict:\n",
    "        print('[Error] The file [{}] could not be parsed.'.format(args.file))\n",
    "        return -1\n",
    "\n",
    "    progress = dictor(json_dict, '_checkpoint.progress')\n",
    "    records_table = dictor(json_dict, '_checkpoint.records')\n",
    "    sensors = dictor(json_dict, 'sensors')\n",
    "    labels_scores = dictor(json_dict, 'labels')\n",
    "    scores = dictor(json_dict, 'values')\n",
    "\n",
    "    # compose output\n",
    "    output = \"\"\n",
    "\n",
    "    if progress:\n",
    "        output += '* {}% ({}/{}) routes completed\\n'.format(100.0*progress[0]/float(progress[1]),\n",
    "                                                            progress[0],\n",
    "                                                            progress[1])\n",
    "    if sensors:\n",
    "        output += '* The agent used the following sensors: {}\\n\\n'.format(', '.join(sensors))\n",
    "\n",
    "    if scores and labels_scores:\n",
    "        metrics = [labels_scores[0:3], scores[0:3]]\n",
    "        infractions = [labels_scores[3:], scores[3:]]\n",
    "\n",
    "    if records_table:\n",
    "        header = ['route', 'metric', 'value', 'additional information']\n",
    "        list_statistics = [header]\n",
    "        total_duration_game = 0\n",
    "        total_duration_system = 0\n",
    "        total_route_length = 0\n",
    "        for route in records_table:\n",
    "            route_completed_kms = 0.01 * route['scores']['score_route'] * route['meta']['route_length'] / 1000.0\n",
    "            metrics_route = [['{}'.format(route['route_id'])] + [key, '{:.3f}'.format(values), ''] for key, values in route['scores'].items()]\n",
    "            infractions_route = [['{}'.format(route['route_id'])] + [key, '{:.3f} ({} occurrences)'.format(len(values)/route_completed_kms, len(values)),\n",
    "                                 '\\n'.join(values)] for key, values in route['infractions'].items()]\n",
    "\n",
    "            times = [['{}'.format(route['route_id'])] + ['duration game', '{:.3f}'.format(route['meta']['duration_game']), 'seconds'],\n",
    "                     ['{}'.format(route['route_id'])] + ['duration system', '{:.3f}'.format(route['meta']['duration_system']), 'seconds']]\n",
    "\n",
    "            route_completed_length = [['{}'.format(route['route_id'])] + ['distance driven', '{:.3f}'.format(route_completed_kms), 'Km']]\n",
    "\n",
    "            total_duration_game += route['meta']['duration_game']\n",
    "            total_duration_system += route['meta']['duration_system']\n",
    "            total_route_length += route_completed_kms\n",
    "\n",
    "            list_statistics.extend([ *metrics_route, *infractions_route, *times, *route_completed_length])\n",
    "\n",
    "        header = ['total duration_game [s]', 'total duration_system [s]', 'total distance driven [Km]']\n",
    "        total_stats = [header]\n",
    "        total_stats.append(['{:.3f}'.format(total_duration_game), '{:.3f}'.format(total_duration_system), '{:.3f}'.format(total_route_length)])\n",
    "\n",
    "    df_metrics_avg = pd.DataFrame(metrics[1:], columns=metrics[0])\n",
    "    df_infractions = pd.DataFrame(infractions[1:], columns=infractions[0])\n",
    "    df_metrics_routes = pd.DataFrame(list_statistics[1:], columns=list_statistics[0])\n",
    "    df_routes_tot_stats = pd.DataFrame(total_stats[1:], columns=total_stats[0])\n",
    "    \n",
    "    # return metrics, infractions, list_statistics, total_stats\n",
    "    return df_metrics_avg, df_infractions, df_metrics_routes, df_routes_tot_stats\n"
   ]
  },
  {
   "cell_type": "code",
   "execution_count": 232,
   "metadata": {},
   "outputs": [],
   "source": [
    "def prettify_json(path):\n",
    "    with open(path) as fd:\n",
    "        json_dict = json.load(fd)\n",
    "\n",
    "    if not json_dict:\n",
    "        print('[Error] The file [{}] could not be parsed.'.format(args.file))\n",
    "        return -1\n",
    "\n",
    "    progress = dictor(json_dict, '_checkpoint.progress')\n",
    "    records_table = dictor(json_dict, '_checkpoint.records')\n",
    "    sensors = dictor(json_dict, 'sensors')\n",
    "    labels_scores = dictor(json_dict, 'labels')\n",
    "    scores = dictor(json_dict, 'values')\n",
    "\n",
    "    # compose output\n",
    "    output = \"\"\n",
    "\n",
    "    if progress:\n",
    "        output += '* {}% ({}/{}) routes completed\\n'.format(100.0*progress[0]/float(progress[1]),\n",
    "                                                            progress[0],\n",
    "                                                            progress[1])\n",
    "    if sensors:\n",
    "        output += '* The agent used the following sensors: {}\\n\\n'.format(', '.join(sensors))\n",
    "\n",
    "    if scores and labels_scores:\n",
    "        metrics = [labels_scores[0:3], scores[0:3]]\n",
    "        infractions = [labels_scores[3:], scores[3:]]\n",
    "\n",
    "    if records_table:\n",
    "        header = ['route', 'metric', 'value', 'occurrences', 'additional information']\n",
    "        list_statistics = [header]\n",
    "        total_duration_game = 0\n",
    "        total_duration_system = 0\n",
    "        total_route_length = 0\n",
    "        for route in records_table:\n",
    "            route_completed_kms = 0.01 * route['scores']['score_route'] * route['meta']['route_length'] / 1000.0\n",
    "            metrics_route = [['{}'.format(route['route_id'])] + [key, '{:.3f}'.format(values), np.NAN, ''] for key, values in route['scores'].items()]\n",
    "            infractions_route = [['{}'.format(route['route_id'])] + [key, round(len(values)/route_completed_kms, 3), len(values),\n",
    "                                 '\\n'.join(values)] for key, values in route['infractions'].items()]\n",
    "\n",
    "            times = [['{}'.format(route['route_id'])] + ['duration game', '{:.3f}'.format(route['meta']['duration_game']), np.NAN, 'seconds'],\n",
    "                     ['{}'.format(route['route_id'])] + ['duration system', '{:.3f}'.format(route['meta']['duration_system']), np.NAN, 'seconds']]\n",
    "\n",
    "            route_completed_length = [['{}'.format(route['route_id'])] + ['distance driven', '{:.3f}'.format(route_completed_kms), np.NAN, 'Km']]\n",
    "\n",
    "            total_duration_game += route['meta']['duration_game']\n",
    "            total_duration_system += route['meta']['duration_system']\n",
    "            total_route_length += route_completed_kms\n",
    "\n",
    "            list_statistics.extend([*metrics_route, *infractions_route, *times, *route_completed_length])\n",
    "\n",
    "        header = ['total duration_game [s]', 'total duration_system [s]', 'total distance driven [Km]']\n",
    "        total_stats = [header]\n",
    "        total_stats.append(['{:.3f}'.format(total_duration_game), '{:.3f}'.format(total_duration_system), '{:.3f}'.format(total_route_length)])\n",
    "\n",
    "    df_metrics_avg = pd.DataFrame(metrics[1:], columns=metrics[0]).astype(\"float32\")\n",
    "    df_infractions = pd.DataFrame(infractions[1:], columns=infractions[0]).astype(\"float32\")\n",
    "    df_metrics_routes = pd.DataFrame(list_statistics[1:], columns=list_statistics[0]).astype({\"value\": \"float32\", \"occurrences\": \"float32\"})\n",
    "    df_routes_tot_stats = pd.DataFrame(total_stats[1:], columns=total_stats[0]).astype(\"float32\")\n",
    "    \n",
    "    #return metrics, infractions, list_statistics, total_stats\n",
    "    return df_metrics_avg, df_infractions, df_metrics_routes, df_routes_tot_stats"
   ]
  },
  {
   "cell_type": "code",
   "execution_count": 233,
   "metadata": {},
   "outputs": [],
   "source": [
    "#metrics, infractions, list_statistics, total_stats = prettify_json(path_json)\n",
    "df_metrics_avg, df_infractions, df_metrics_routes, df_routes_tot_stats = prettify_json(path_json)"
   ]
  },
  {
   "cell_type": "code",
   "execution_count": 239,
   "metadata": {},
   "outputs": [
    {
     "data": {
      "text/html": [
       "<div>\n",
       "<style scoped>\n",
       "    .dataframe tbody tr th:only-of-type {\n",
       "        vertical-align: middle;\n",
       "    }\n",
       "\n",
       "    .dataframe tbody tr th {\n",
       "        vertical-align: top;\n",
       "    }\n",
       "\n",
       "    .dataframe thead th {\n",
       "        text-align: right;\n",
       "    }\n",
       "</style>\n",
       "<table border=\"1\" class=\"dataframe\">\n",
       "  <thead>\n",
       "    <tr style=\"text-align: right;\">\n",
       "      <th></th>\n",
       "      <th>Avg. driving score</th>\n",
       "      <th>Avg. route completion</th>\n",
       "      <th>Avg. infraction penalty</th>\n",
       "    </tr>\n",
       "  </thead>\n",
       "  <tbody>\n",
       "    <tr>\n",
       "      <th>0</th>\n",
       "      <td>11.949</td>\n",
       "      <td>30.649</td>\n",
       "      <td>0.473</td>\n",
       "    </tr>\n",
       "  </tbody>\n",
       "</table>\n",
       "</div>"
      ],
      "text/plain": [
       "   Avg. driving score  Avg. route completion  Avg. infraction penalty\n",
       "0              11.949                 30.649                    0.473"
      ]
     },
     "execution_count": 239,
     "metadata": {},
     "output_type": "execute_result"
    }
   ],
   "source": [
    "df_metrics_avg"
   ]
  },
  {
   "cell_type": "code",
   "execution_count": 224,
   "metadata": {},
   "outputs": [
    {
     "data": {
      "text/html": [
       "<div>\n",
       "<style scoped>\n",
       "    .dataframe tbody tr th:only-of-type {\n",
       "        vertical-align: middle;\n",
       "    }\n",
       "\n",
       "    .dataframe tbody tr th {\n",
       "        vertical-align: top;\n",
       "    }\n",
       "\n",
       "    .dataframe thead th {\n",
       "        text-align: right;\n",
       "    }\n",
       "</style>\n",
       "<table border=\"1\" class=\"dataframe\">\n",
       "  <thead>\n",
       "    <tr style=\"text-align: right;\">\n",
       "      <th></th>\n",
       "      <th>Collisions with pedestrians</th>\n",
       "      <th>Collisions with vehicles</th>\n",
       "      <th>Collisions with layout</th>\n",
       "      <th>Red lights infractions</th>\n",
       "      <th>Stop sign infractions</th>\n",
       "      <th>Off-road infractions</th>\n",
       "      <th>Route deviations</th>\n",
       "      <th>Route timeouts</th>\n",
       "      <th>Agent blocked</th>\n",
       "    </tr>\n",
       "  </thead>\n",
       "  <tbody>\n",
       "    <tr>\n",
       "      <th>0</th>\n",
       "      <td>0.000</td>\n",
       "      <td>3.200</td>\n",
       "      <td>0.478</td>\n",
       "      <td>0.436</td>\n",
       "      <td>0.125</td>\n",
       "      <td>0.682</td>\n",
       "      <td>0.303</td>\n",
       "      <td>0.000</td>\n",
       "      <td>3.514</td>\n",
       "    </tr>\n",
       "  </tbody>\n",
       "</table>\n",
       "</div>"
      ],
      "text/plain": [
       "  Collisions with pedestrians Collisions with vehicles Collisions with layout  \\\n",
       "0                       0.000                    3.200                  0.478   \n",
       "\n",
       "  Red lights infractions Stop sign infractions Off-road infractions  \\\n",
       "0                  0.436                 0.125                0.682   \n",
       "\n",
       "  Route deviations Route timeouts Agent blocked  \n",
       "0            0.303          0.000         3.514  "
      ]
     },
     "execution_count": 224,
     "metadata": {},
     "output_type": "execute_result"
    }
   ],
   "source": [
    "df_infractions"
   ]
  },
  {
   "cell_type": "code",
   "execution_count": 225,
   "metadata": {},
   "outputs": [
    {
     "data": {
      "text/html": [
       "<div>\n",
       "<style scoped>\n",
       "    .dataframe tbody tr th:only-of-type {\n",
       "        vertical-align: middle;\n",
       "    }\n",
       "\n",
       "    .dataframe tbody tr th {\n",
       "        vertical-align: top;\n",
       "    }\n",
       "\n",
       "    .dataframe thead th {\n",
       "        text-align: right;\n",
       "    }\n",
       "</style>\n",
       "<table border=\"1\" class=\"dataframe\">\n",
       "  <thead>\n",
       "    <tr style=\"text-align: right;\">\n",
       "      <th></th>\n",
       "      <th>route</th>\n",
       "      <th>metric</th>\n",
       "      <th>value</th>\n",
       "      <th>occurrences</th>\n",
       "      <th>additional information</th>\n",
       "    </tr>\n",
       "  </thead>\n",
       "  <tbody>\n",
       "    <tr>\n",
       "      <th>0</th>\n",
       "      <td>RouteScenario_0</td>\n",
       "      <td>score_composed</td>\n",
       "      <td>23.271999</td>\n",
       "      <td>NaN</td>\n",
       "      <td></td>\n",
       "    </tr>\n",
       "    <tr>\n",
       "      <th>1</th>\n",
       "      <td>RouteScenario_0</td>\n",
       "      <td>score_penalty</td>\n",
       "      <td>0.420000</td>\n",
       "      <td>NaN</td>\n",
       "      <td></td>\n",
       "    </tr>\n",
       "    <tr>\n",
       "      <th>2</th>\n",
       "      <td>RouteScenario_0</td>\n",
       "      <td>score_route</td>\n",
       "      <td>55.409000</td>\n",
       "      <td>NaN</td>\n",
       "      <td></td>\n",
       "    </tr>\n",
       "    <tr>\n",
       "      <th>3</th>\n",
       "      <td>RouteScenario_0</td>\n",
       "      <td>collisions_layout</td>\n",
       "      <td>0.000000</td>\n",
       "      <td>0.0</td>\n",
       "      <td></td>\n",
       "    </tr>\n",
       "    <tr>\n",
       "      <th>4</th>\n",
       "      <td>RouteScenario_0</td>\n",
       "      <td>collisions_pedestrian</td>\n",
       "      <td>0.000000</td>\n",
       "      <td>0.0</td>\n",
       "      <td></td>\n",
       "    </tr>\n",
       "    <tr>\n",
       "      <th>5</th>\n",
       "      <td>RouteScenario_0</td>\n",
       "      <td>collisions_vehicle</td>\n",
       "      <td>1.597000</td>\n",
       "      <td>1.0</td>\n",
       "      <td>Agent collided against object with type=vehicl...</td>\n",
       "    </tr>\n",
       "    <tr>\n",
       "      <th>6</th>\n",
       "      <td>RouteScenario_0</td>\n",
       "      <td>outside_route_lanes</td>\n",
       "      <td>0.000000</td>\n",
       "      <td>0.0</td>\n",
       "      <td></td>\n",
       "    </tr>\n",
       "    <tr>\n",
       "      <th>7</th>\n",
       "      <td>RouteScenario_0</td>\n",
       "      <td>red_light</td>\n",
       "      <td>1.597000</td>\n",
       "      <td>1.0</td>\n",
       "      <td>Agent ran a red light 100 at (x=332.04, y=316....</td>\n",
       "    </tr>\n",
       "    <tr>\n",
       "      <th>8</th>\n",
       "      <td>RouteScenario_0</td>\n",
       "      <td>route_dev</td>\n",
       "      <td>0.000000</td>\n",
       "      <td>0.0</td>\n",
       "      <td></td>\n",
       "    </tr>\n",
       "    <tr>\n",
       "      <th>9</th>\n",
       "      <td>RouteScenario_0</td>\n",
       "      <td>route_timeout</td>\n",
       "      <td>0.000000</td>\n",
       "      <td>0.0</td>\n",
       "      <td></td>\n",
       "    </tr>\n",
       "    <tr>\n",
       "      <th>10</th>\n",
       "      <td>RouteScenario_0</td>\n",
       "      <td>stop_infraction</td>\n",
       "      <td>0.000000</td>\n",
       "      <td>0.0</td>\n",
       "      <td></td>\n",
       "    </tr>\n",
       "    <tr>\n",
       "      <th>11</th>\n",
       "      <td>RouteScenario_0</td>\n",
       "      <td>vehicle_blocked</td>\n",
       "      <td>1.597000</td>\n",
       "      <td>1.0</td>\n",
       "      <td>Agent got blocked at (x=161.858, y=0.061, z=0....</td>\n",
       "    </tr>\n",
       "    <tr>\n",
       "      <th>12</th>\n",
       "      <td>RouteScenario_0</td>\n",
       "      <td>duration game</td>\n",
       "      <td>400.299988</td>\n",
       "      <td>NaN</td>\n",
       "      <td>seconds</td>\n",
       "    </tr>\n",
       "    <tr>\n",
       "      <th>13</th>\n",
       "      <td>RouteScenario_0</td>\n",
       "      <td>duration system</td>\n",
       "      <td>1312.369019</td>\n",
       "      <td>NaN</td>\n",
       "      <td>seconds</td>\n",
       "    </tr>\n",
       "    <tr>\n",
       "      <th>14</th>\n",
       "      <td>RouteScenario_0</td>\n",
       "      <td>distance driven</td>\n",
       "      <td>0.626000</td>\n",
       "      <td>NaN</td>\n",
       "      <td>Km</td>\n",
       "    </tr>\n",
       "  </tbody>\n",
       "</table>\n",
       "</div>"
      ],
      "text/plain": [
       "              route                 metric        value  occurrences  \\\n",
       "0   RouteScenario_0         score_composed    23.271999          NaN   \n",
       "1   RouteScenario_0          score_penalty     0.420000          NaN   \n",
       "2   RouteScenario_0            score_route    55.409000          NaN   \n",
       "3   RouteScenario_0      collisions_layout     0.000000          0.0   \n",
       "4   RouteScenario_0  collisions_pedestrian     0.000000          0.0   \n",
       "5   RouteScenario_0     collisions_vehicle     1.597000          1.0   \n",
       "6   RouteScenario_0    outside_route_lanes     0.000000          0.0   \n",
       "7   RouteScenario_0              red_light     1.597000          1.0   \n",
       "8   RouteScenario_0              route_dev     0.000000          0.0   \n",
       "9   RouteScenario_0          route_timeout     0.000000          0.0   \n",
       "10  RouteScenario_0        stop_infraction     0.000000          0.0   \n",
       "11  RouteScenario_0        vehicle_blocked     1.597000          1.0   \n",
       "12  RouteScenario_0          duration game   400.299988          NaN   \n",
       "13  RouteScenario_0        duration system  1312.369019          NaN   \n",
       "14  RouteScenario_0        distance driven     0.626000          NaN   \n",
       "\n",
       "                               additional information  \n",
       "0                                                      \n",
       "1                                                      \n",
       "2                                                      \n",
       "3                                                      \n",
       "4                                                      \n",
       "5   Agent collided against object with type=vehicl...  \n",
       "6                                                      \n",
       "7   Agent ran a red light 100 at (x=332.04, y=316....  \n",
       "8                                                      \n",
       "9                                                      \n",
       "10                                                     \n",
       "11  Agent got blocked at (x=161.858, y=0.061, z=0....  \n",
       "12                                            seconds  \n",
       "13                                            seconds  \n",
       "14                                                 Km  "
      ]
     },
     "execution_count": 225,
     "metadata": {},
     "output_type": "execute_result"
    }
   ],
   "source": [
    "df_metrics_routes[df_metrics_routes.route == \"RouteScenario_0\"]"
   ]
  },
  {
   "cell_type": "code",
   "execution_count": 238,
   "metadata": {},
   "outputs": [
    {
     "data": {
      "text/plain": [
       "metric\n",
       "collisions_layout          1.327722\n",
       "collisions_pedestrian      0.000000\n",
       "collisions_vehicle         8.888000\n",
       "distance driven            0.403139\n",
       "duration game            313.743042\n",
       "duration system          945.983154\n",
       "outside_route_lanes        1.895750\n",
       "red_light                  1.209833\n",
       "route_dev                  0.841750\n",
       "route_timeout              0.000000\n",
       "score_composed            11.948667\n",
       "score_penalty              0.472972\n",
       "score_route               30.649252\n",
       "stop_infraction            0.348083\n",
       "vehicle_blocked            9.760611\n",
       "Name: value, dtype: float32"
      ]
     },
     "execution_count": 238,
     "metadata": {},
     "output_type": "execute_result"
    }
   ],
   "source": [
    "df_metrics_routes.groupby(\"metric\")[\"value\"].mean()"
   ]
  },
  {
   "cell_type": "code",
   "execution_count": 211,
   "metadata": {},
   "outputs": [
    {
     "data": {
      "text/plain": [
       "0.32486492"
      ]
     },
     "execution_count": 211,
     "metadata": {},
     "output_type": "execute_result"
    }
   ],
   "source": [
    "df_metrics_routes[df_metrics_routes.metric == \"score_penalty\"][\"value\"].std()"
   ]
  },
  {
   "cell_type": "code",
   "execution_count": 210,
   "metadata": {},
   "outputs": [
    {
     "data": {
      "text/plain": [
       "1      0.420\n",
       "16     0.172\n",
       "31     0.637\n",
       "46     0.001\n",
       "61     0.649\n",
       "76     0.700\n",
       "91     0.002\n",
       "106    0.360\n",
       "121    0.054\n",
       "136    0.000\n",
       "151    0.372\n",
       "166    0.002\n",
       "181    1.000\n",
       "196    0.650\n",
       "211    0.512\n",
       "226    0.800\n",
       "241    0.354\n",
       "256    0.288\n",
       "271    0.490\n",
       "286    0.650\n",
       "301    0.047\n",
       "316    0.389\n",
       "331    1.000\n",
       "346    1.000\n",
       "361    0.252\n",
       "376    0.305\n",
       "391    0.389\n",
       "406    0.800\n",
       "421    0.213\n",
       "436    0.176\n",
       "451    0.420\n",
       "466    1.000\n",
       "481    0.490\n",
       "496    1.000\n",
       "511    0.978\n",
       "526    0.455\n",
       "Name: value, dtype: float32"
      ]
     },
     "execution_count": 210,
     "metadata": {},
     "output_type": "execute_result"
    }
   ],
   "source": [
    "df_metrics_routes[df_metrics_routes.metric == \"score_penalty\"][\"value\"]"
   ]
  },
  {
   "cell_type": "code",
   "execution_count": 173,
   "metadata": {},
   "outputs": [
    {
     "data": {
      "text/plain": [
       "<AxesSubplot: ylabel='Frequency'>"
      ]
     },
     "execution_count": 173,
     "metadata": {},
     "output_type": "execute_result"
    },
    {
     "data": {
      "image/png": "[encoded data removed]",
      "text/plain": [
       "<Figure size 640x480 with 1 Axes>"
      ]
     },
     "metadata": {},
     "output_type": "display_data"
    }
   ],
   "source": [
    "df_metrics_routes[df_metrics_routes.metric == \"score_penalty\"][\"value\"].astype(\"float32\").plot.hist()"
   ]
  },
  {
   "cell_type": "code",
   "execution_count": null,
   "metadata": {},
   "outputs": [],
   "source": []
  }
 ],
 "metadata": {
  "kernelspec": {
   "display_name": "carla",
   "language": "python",
   "name": "python3"
  },
  "language_info": {
   "codemirror_mode": {
    "name": "ipython",
    "version": 3
   },
   "file_extension": ".py",
   "mimetype": "text/x-python",
   "name": "python",
   "nbconvert_exporter": "python",
   "pygments_lexer": "ipython3",
   "version": "3.8.13"
  },
  "orig_nbformat": 4,
  "vscode": {
   "interpreter": {
    "hash": "bc80d0638afb8ec7c43f4b834002a598fcddbd6e8bf5db40ad8cba47e68e6a97"
   }
  }
 },
 "nbformat": 4,
 "nbformat_minor": 2
}
