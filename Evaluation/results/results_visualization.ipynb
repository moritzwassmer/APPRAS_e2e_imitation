{
 "cells": [
  {
   "cell_type": "code",
   "execution_count": 2,
   "metadata": {},
   "outputs": [],
   "source": [
    "import pandas as pd\n",
    "import numpy as np\n",
    "import json\n",
    "from dictor import dictor\n",
    "from tabulate import tabulate"
   ]
  },
  {
   "cell_type": "code",
   "execution_count": 34,
   "metadata": {},
   "outputs": [],
   "source": [
    "# path_json = \"../data/parsed_baseline_v3_dropout_0_25_E_10/results.json\"\n",
    "# rgb\n",
    "# path_json = \"/Users/julianvonklitzing/Documents/GitHub/end2endappras/Evaluation/results/longest6results/v3_rgb_dropout_0_25_E_10/e10_rgb.json\"\n",
    "# lidar\n",
    "path_json = \"/Users/julianvonklitzing/Documents/GitHub/end2endappras/Evaluation/results/longest6results/resnet_lidar_v1_dropout_ep17/results.json\""
   ]
  },
  {
   "cell_type": "code",
   "execution_count": 35,
   "metadata": {},
   "outputs": [],
   "source": [
    "with open(path_json) as f:\n",
    "    results = json.load(f)"
   ]
  },
  {
   "cell_type": "code",
   "execution_count": 36,
   "metadata": {},
   "outputs": [],
   "source": [
    "progress = dictor(results, '_checkpoint.progress')"
   ]
  },
  {
   "cell_type": "code",
   "execution_count": 37,
   "metadata": {},
   "outputs": [],
   "source": [
    "def prettify_json(path):\n",
    "    with open(path) as fd:\n",
    "        json_dict = json.load(fd)\n",
    "\n",
    "    if not json_dict:\n",
    "        print('[Error] The file [{}] could not be parsed.'.format(args.file))\n",
    "        return -1\n",
    "\n",
    "    progress = dictor(json_dict, '_checkpoint.progress')\n",
    "    records_table = dictor(json_dict, '_checkpoint.records')\n",
    "    sensors = dictor(json_dict, 'sensors')\n",
    "    labels_scores = dictor(json_dict, 'labels')\n",
    "    scores = dictor(json_dict, 'values')\n",
    "\n",
    "    # compose output\n",
    "    output = \"\"\n",
    "\n",
    "    if progress:\n",
    "        output += '* {}% ({}/{}) routes completed\\n'.format(100.0*progress[0]/float(progress[1]),\n",
    "                                                            progress[0],\n",
    "                                                            progress[1])\n",
    "    if sensors:\n",
    "        output += '* The agent used the following sensors: {}\\n\\n'.format(', '.join(sensors))\n",
    "\n",
    "    if scores and labels_scores:\n",
    "        metrics = [labels_scores[0:3], scores[0:3]]\n",
    "        infractions = [labels_scores[3:], scores[3:]]\n",
    "\n",
    "    if records_table:\n",
    "        header = ['route', 'metric', 'value', 'additional information']\n",
    "        list_statistics = [header]\n",
    "        total_duration_game = 0\n",
    "        total_duration_system = 0\n",
    "        total_route_length = 0\n",
    "        for route in records_table:\n",
    "            route_completed_kms = 0.01 * route['scores']['score_route'] * route['meta']['route_length'] / 1000.0\n",
    "            metrics_route = [['{}'.format(route['route_id'])] + [key, '{:.3f}'.format(values), ''] for key, values in route['scores'].items()]\n",
    "            infractions_route = [['{}'.format(route['route_id'])] + [key, '{:.3f} ({} occurrences)'.format(len(values)/route_completed_kms, len(values)),\n",
    "                                 '\\n'.join(values)] for key, values in route['infractions'].items()]\n",
    "\n",
    "            times = [['{}'.format(route['route_id'])] + ['duration game', '{:.3f}'.format(route['meta']['duration_game']), 'seconds'],\n",
    "                     ['{}'.format(route['route_id'])] + ['duration system', '{:.3f}'.format(route['meta']['duration_system']), 'seconds']]\n",
    "\n",
    "            route_completed_length = [['{}'.format(route['route_id'])] + ['distance driven', '{:.3f}'.format(route_completed_kms), 'Km']]\n",
    "\n",
    "            total_duration_game += route['meta']['duration_game']\n",
    "            total_duration_system += route['meta']['duration_system']\n",
    "            total_route_length += route_completed_kms\n",
    "\n",
    "            list_statistics.extend([ *metrics_route, *infractions_route, *times, *route_completed_length])\n",
    "\n",
    "        header = ['total duration_game [s]', 'total duration_system [s]', 'total distance driven [Km]']\n",
    "        total_stats = [header]\n",
    "        total_stats.append(['{:.3f}'.format(total_duration_game), '{:.3f}'.format(total_duration_system), '{:.3f}'.format(total_route_length)])\n",
    "\n",
    "    df_metrics_avg = pd.DataFrame(metrics[1:], columns=metrics[0])\n",
    "    df_infractions = pd.DataFrame(infractions[1:], columns=infractions[0])\n",
    "    df_metrics_routes = pd.DataFrame(list_statistics[1:], columns=list_statistics[0])\n",
    "    df_routes_tot_stats = pd.DataFrame(total_stats[1:], columns=total_stats[0])\n",
    "    \n",
    "    # return metrics, infractions, list_statistics, total_stats\n",
    "    return df_metrics_avg, df_infractions, df_metrics_routes, df_routes_tot_stats\n"
   ]
  },
  {
   "cell_type": "code",
   "execution_count": 38,
   "metadata": {},
   "outputs": [],
   "source": [
    "def prettify_json(path):\n",
    "    with open(path) as fd:\n",
    "        json_dict = json.load(fd)\n",
    "\n",
    "    if not json_dict:\n",
    "        print('[Error] The file [{}] could not be parsed.'.format(args.file))\n",
    "        return -1\n",
    "\n",
    "    progress = dictor(json_dict, '_checkpoint.progress')\n",
    "    records_table = dictor(json_dict, '_checkpoint.records')\n",
    "    sensors = dictor(json_dict, 'sensors')\n",
    "    labels_scores = dictor(json_dict, 'labels')\n",
    "    scores = dictor(json_dict, 'values')\n",
    "\n",
    "    # compose output\n",
    "    output = \"\"\n",
    "\n",
    "    if progress:\n",
    "        output += '* {}% ({}/{}) routes completed\\n'.format(100.0*progress[0]/float(progress[1]),\n",
    "                                                            progress[0],\n",
    "                                                            progress[1])\n",
    "    if sensors:\n",
    "        output += '* The agent used the following sensors: {}\\n\\n'.format(', '.join(sensors))\n",
    "\n",
    "    if scores and labels_scores:\n",
    "        metrics = [labels_scores[0:3], scores[0:3]]\n",
    "        infractions = [labels_scores[3:], scores[3:]]\n",
    "\n",
    "    if records_table:\n",
    "        header = ['route', 'metric', 'value', 'occurrences', 'additional information']\n",
    "        list_statistics = [header]\n",
    "        total_duration_game = 0\n",
    "        total_duration_system = 0\n",
    "        total_route_length = 0\n",
    "        for route in records_table:\n",
    "            route_completed_kms = 0.01 * route['scores']['score_route'] * route['meta']['route_length'] / 1000.0\n",
    "            metrics_route = [['{}'.format(route['route_id'])] + [key, '{:.3f}'.format(values), np.NAN, ''] for key, values in route['scores'].items()]\n",
    "            infractions_route = [['{}'.format(route['route_id'])] + [key, round(len(values)/route_completed_kms, 3), len(values),\n",
    "                                 '\\n'.join(values)] for key, values in route['infractions'].items()]\n",
    "\n",
    "            times = [['{}'.format(route['route_id'])] + ['duration game', '{:.3f}'.format(route['meta']['duration_game']), np.NAN, 'seconds'],\n",
    "                     ['{}'.format(route['route_id'])] + ['duration system', '{:.3f}'.format(route['meta']['duration_system']), np.NAN, 'seconds']]\n",
    "\n",
    "            route_completed_length = [['{}'.format(route['route_id'])] + ['distance driven', '{:.3f}'.format(route_completed_kms), np.NAN, 'Km']]\n",
    "\n",
    "            total_duration_game += route['meta']['duration_game']\n",
    "            total_duration_system += route['meta']['duration_system']\n",
    "            total_route_length += route_completed_kms\n",
    "\n",
    "            list_statistics.extend([*metrics_route, *infractions_route, *times, *route_completed_length])\n",
    "\n",
    "        header = ['total duration_game [s]', 'total duration_system [s]', 'total distance driven [Km]']\n",
    "        total_stats = [header]\n",
    "        total_stats.append(['{:.3f}'.format(total_duration_game), '{:.3f}'.format(total_duration_system), '{:.3f}'.format(total_route_length)])\n",
    "\n",
    "    df_metrics_avg = pd.DataFrame(metrics[1:], columns=metrics[0]).astype(\"float32\")\n",
    "    df_infractions = pd.DataFrame(infractions[1:], columns=infractions[0]).astype(\"float32\")\n",
    "    df_metrics_routes = pd.DataFrame(list_statistics[1:], columns=list_statistics[0]).astype({\"value\": \"float32\", \"occurrences\": \"float32\"})\n",
    "    df_routes_tot_stats = pd.DataFrame(total_stats[1:], columns=total_stats[0]).astype(\"float32\")\n",
    "    \n",
    "    #return metrics, infractions, list_statistics, total_stats\n",
    "    return df_metrics_avg, df_infractions, df_metrics_routes, df_routes_tot_stats"
   ]
  },
  {
   "cell_type": "code",
   "execution_count": 39,
   "metadata": {},
   "outputs": [],
   "source": [
    "#metrics, infractions, list_statistics, total_stats = prettify_json(path_json)\n",
    "df_metrics_avg, df_infractions, df_metrics_routes, df_routes_tot_stats = prettify_json(path_json)"
   ]
  },
  {
   "cell_type": "code",
   "execution_count": 40,
   "metadata": {},
   "outputs": [
    {
     "data": {
      "text/html": [
       "<div>\n",
       "<style scoped>\n",
       "    .dataframe tbody tr th:only-of-type {\n",
       "        vertical-align: middle;\n",
       "    }\n",
       "\n",
       "    .dataframe tbody tr th {\n",
       "        vertical-align: top;\n",
       "    }\n",
       "\n",
       "    .dataframe thead th {\n",
       "        text-align: right;\n",
       "    }\n",
       "</style>\n",
       "<table border=\"1\" class=\"dataframe\">\n",
       "  <thead>\n",
       "    <tr style=\"text-align: right;\">\n",
       "      <th></th>\n",
       "      <th>0</th>\n",
       "    </tr>\n",
       "  </thead>\n",
       "  <tbody>\n",
       "    <tr>\n",
       "      <th>Avg. driving score</th>\n",
       "      <td>13.365</td>\n",
       "    </tr>\n",
       "    <tr>\n",
       "      <th>Avg. route completion</th>\n",
       "      <td>33.597</td>\n",
       "    </tr>\n",
       "    <tr>\n",
       "      <th>Avg. infraction penalty</th>\n",
       "      <td>0.464</td>\n",
       "    </tr>\n",
       "  </tbody>\n",
       "</table>\n",
       "</div>"
      ],
      "text/plain": [
       "                              0\n",
       "Avg. driving score       13.365\n",
       "Avg. route completion    33.597\n",
       "Avg. infraction penalty   0.464"
      ]
     },
     "execution_count": 40,
     "metadata": {},
     "output_type": "execute_result"
    }
   ],
   "source": [
    "df_metrics_avg.T"
   ]
  },
  {
   "cell_type": "code",
   "execution_count": 32,
   "metadata": {},
   "outputs": [
    {
     "data": {
      "text/html": [
       "<div>\n",
       "<style scoped>\n",
       "    .dataframe tbody tr th:only-of-type {\n",
       "        vertical-align: middle;\n",
       "    }\n",
       "\n",
       "    .dataframe tbody tr th {\n",
       "        vertical-align: top;\n",
       "    }\n",
       "\n",
       "    .dataframe thead th {\n",
       "        text-align: right;\n",
       "    }\n",
       "</style>\n",
       "<table border=\"1\" class=\"dataframe\">\n",
       "  <thead>\n",
       "    <tr style=\"text-align: right;\">\n",
       "      <th></th>\n",
       "      <th>0</th>\n",
       "    </tr>\n",
       "  </thead>\n",
       "  <tbody>\n",
       "    <tr>\n",
       "      <th>Collisions with pedestrians</th>\n",
       "      <td>0.000</td>\n",
       "    </tr>\n",
       "    <tr>\n",
       "      <th>Collisions with vehicles</th>\n",
       "      <td>3.031</td>\n",
       "    </tr>\n",
       "    <tr>\n",
       "      <th>Collisions with layout</th>\n",
       "      <td>0.421</td>\n",
       "    </tr>\n",
       "    <tr>\n",
       "      <th>Red lights infractions</th>\n",
       "      <td>0.512</td>\n",
       "    </tr>\n",
       "    <tr>\n",
       "      <th>Stop sign infractions</th>\n",
       "      <td>0.162</td>\n",
       "    </tr>\n",
       "    <tr>\n",
       "      <th>Off-road infractions</th>\n",
       "      <td>0.855</td>\n",
       "    </tr>\n",
       "    <tr>\n",
       "      <th>Route deviations</th>\n",
       "      <td>0.389</td>\n",
       "    </tr>\n",
       "    <tr>\n",
       "      <th>Route timeouts</th>\n",
       "      <td>0.097</td>\n",
       "    </tr>\n",
       "    <tr>\n",
       "      <th>Agent blocked</th>\n",
       "      <td>0.943</td>\n",
       "    </tr>\n",
       "  </tbody>\n",
       "</table>\n",
       "</div>"
      ],
      "text/plain": [
       "                                 0\n",
       "Collisions with pedestrians  0.000\n",
       "Collisions with vehicles     3.031\n",
       "Collisions with layout       0.421\n",
       "Red lights infractions       0.512\n",
       "Stop sign infractions        0.162\n",
       "Off-road infractions         0.855\n",
       "Route deviations             0.389\n",
       "Route timeouts               0.097\n",
       "Agent blocked                0.943"
      ]
     },
     "execution_count": 32,
     "metadata": {},
     "output_type": "execute_result"
    }
   ],
   "source": [
    "df_infractions.T"
   ]
  },
  {
   "cell_type": "code",
   "execution_count": 46,
   "metadata": {},
   "outputs": [
    {
     "data": {
      "text/plain": [
       "1.0     14\n",
       "0.0     10\n",
       "2.0      8\n",
       "3.0      2\n",
       "17.0     1\n",
       "7.0      1\n",
       "Name: occurrences, dtype: int64"
      ]
     },
     "execution_count": 46,
     "metadata": {},
     "output_type": "execute_result"
    }
   ],
   "source": [
    "df_metrics_routes[df_metrics_routes[\"metric\"] == \"collisions_vehicle\"][\"occurrences\"].value_counts()"
   ]
  },
  {
   "cell_type": "code",
   "execution_count": 63,
   "metadata": {},
   "outputs": [
    {
     "data": {
      "text/plain": [
       "1.6666666"
      ]
     },
     "execution_count": 63,
     "metadata": {},
     "output_type": "execute_result"
    }
   ],
   "source": [
    "df_metrics_routes[df_metrics_routes[\"metric\"] ==  \"collisions_vehicle\"][\"occurrences\"].mean()"
   ]
  },
  {
   "cell_type": "code",
   "execution_count": 60,
   "metadata": {},
   "outputs": [
    {
     "data": {
      "text/html": [
       "<div>\n",
       "<style scoped>\n",
       "    .dataframe tbody tr th:only-of-type {\n",
       "        vertical-align: middle;\n",
       "    }\n",
       "\n",
       "    .dataframe tbody tr th {\n",
       "        vertical-align: top;\n",
       "    }\n",
       "\n",
       "    .dataframe thead th {\n",
       "        text-align: right;\n",
       "    }\n",
       "</style>\n",
       "<table border=\"1\" class=\"dataframe\">\n",
       "  <thead>\n",
       "    <tr style=\"text-align: right;\">\n",
       "      <th></th>\n",
       "      <th>route</th>\n",
       "      <th>metric</th>\n",
       "      <th>value</th>\n",
       "      <th>occurrences</th>\n",
       "      <th>additional information</th>\n",
       "    </tr>\n",
       "  </thead>\n",
       "  <tbody>\n",
       "    <tr>\n",
       "      <th>0</th>\n",
       "      <td>RouteScenario_0</td>\n",
       "      <td>score_composed</td>\n",
       "      <td>26.089001</td>\n",
       "      <td>NaN</td>\n",
       "      <td></td>\n",
       "    </tr>\n",
       "    <tr>\n",
       "      <th>1</th>\n",
       "      <td>RouteScenario_0</td>\n",
       "      <td>score_penalty</td>\n",
       "      <td>0.360000</td>\n",
       "      <td>NaN</td>\n",
       "      <td></td>\n",
       "    </tr>\n",
       "    <tr>\n",
       "      <th>2</th>\n",
       "      <td>RouteScenario_0</td>\n",
       "      <td>score_route</td>\n",
       "      <td>72.470001</td>\n",
       "      <td>NaN</td>\n",
       "      <td></td>\n",
       "    </tr>\n",
       "    <tr>\n",
       "      <th>3</th>\n",
       "      <td>RouteScenario_0</td>\n",
       "      <td>collisions_layout</td>\n",
       "      <td>0.000000</td>\n",
       "      <td>0.0</td>\n",
       "      <td></td>\n",
       "    </tr>\n",
       "    <tr>\n",
       "      <th>4</th>\n",
       "      <td>RouteScenario_0</td>\n",
       "      <td>collisions_pedestrian</td>\n",
       "      <td>0.000000</td>\n",
       "      <td>0.0</td>\n",
       "      <td></td>\n",
       "    </tr>\n",
       "    <tr>\n",
       "      <th>...</th>\n",
       "      <td>...</td>\n",
       "      <td>...</td>\n",
       "      <td>...</td>\n",
       "      <td>...</td>\n",
       "      <td>...</td>\n",
       "    </tr>\n",
       "    <tr>\n",
       "      <th>535</th>\n",
       "      <td>RouteScenario_35</td>\n",
       "      <td>stop_infraction</td>\n",
       "      <td>0.000000</td>\n",
       "      <td>0.0</td>\n",
       "      <td></td>\n",
       "    </tr>\n",
       "    <tr>\n",
       "      <th>536</th>\n",
       "      <td>RouteScenario_35</td>\n",
       "      <td>vehicle_blocked</td>\n",
       "      <td>0.000000</td>\n",
       "      <td>0.0</td>\n",
       "      <td></td>\n",
       "    </tr>\n",
       "    <tr>\n",
       "      <th>537</th>\n",
       "      <td>RouteScenario_35</td>\n",
       "      <td>duration game</td>\n",
       "      <td>267.600006</td>\n",
       "      <td>NaN</td>\n",
       "      <td>seconds</td>\n",
       "    </tr>\n",
       "    <tr>\n",
       "      <th>538</th>\n",
       "      <td>RouteScenario_35</td>\n",
       "      <td>duration system</td>\n",
       "      <td>1290.834961</td>\n",
       "      <td>NaN</td>\n",
       "      <td>seconds</td>\n",
       "    </tr>\n",
       "    <tr>\n",
       "      <th>539</th>\n",
       "      <td>RouteScenario_35</td>\n",
       "      <td>distance driven</td>\n",
       "      <td>0.780000</td>\n",
       "      <td>NaN</td>\n",
       "      <td>Km</td>\n",
       "    </tr>\n",
       "  </tbody>\n",
       "</table>\n",
       "<p>540 rows × 5 columns</p>\n",
       "</div>"
      ],
      "text/plain": [
       "                route                 metric        value  occurrences  \\\n",
       "0     RouteScenario_0         score_composed    26.089001          NaN   \n",
       "1     RouteScenario_0          score_penalty     0.360000          NaN   \n",
       "2     RouteScenario_0            score_route    72.470001          NaN   \n",
       "3     RouteScenario_0      collisions_layout     0.000000          0.0   \n",
       "4     RouteScenario_0  collisions_pedestrian     0.000000          0.0   \n",
       "..                ...                    ...          ...          ...   \n",
       "535  RouteScenario_35        stop_infraction     0.000000          0.0   \n",
       "536  RouteScenario_35        vehicle_blocked     0.000000          0.0   \n",
       "537  RouteScenario_35          duration game   267.600006          NaN   \n",
       "538  RouteScenario_35        duration system  1290.834961          NaN   \n",
       "539  RouteScenario_35        distance driven     0.780000          NaN   \n",
       "\n",
       "    additional information  \n",
       "0                           \n",
       "1                           \n",
       "2                           \n",
       "3                           \n",
       "4                           \n",
       "..                     ...  \n",
       "535                         \n",
       "536                         \n",
       "537                seconds  \n",
       "538                seconds  \n",
       "539                     Km  \n",
       "\n",
       "[540 rows x 5 columns]"
      ]
     },
     "execution_count": 60,
     "metadata": {},
     "output_type": "execute_result"
    }
   ],
   "source": [
    "df_metrics_routes"
   ]
  },
  {
   "cell_type": "code",
   "execution_count": 59,
   "metadata": {},
   "outputs": [
    {
     "data": {
      "text/plain": [
       "1.0     14\n",
       "0.0     10\n",
       "2.0      8\n",
       "3.0      2\n",
       "17.0     1\n",
       "7.0      1\n",
       "Name: occurrences, dtype: int64"
      ]
     },
     "execution_count": 59,
     "metadata": {},
     "output_type": "execute_result"
    }
   ],
   "source": [
    "df_metrics_routes[df_metrics_routes[\"metric\"] ==  \"collisions_vehicle\"][\"occurrences\"].value_counts()"
   ]
  },
  {
   "cell_type": "code",
   "execution_count": 58,
   "metadata": {},
   "outputs": [
    {
     "data": {
      "text/plain": [
       "<AxesSubplot: ylabel='Frequency'>"
      ]
     },
     "execution_count": 58,
     "metadata": {},
     "output_type": "execute_result"
    },
    {
     "data": {
      "image/png": "[encoded data removed]",
      "text/plain": [
       "<Figure size 640x480 with 1 Axes>"
      ]
     },
     "metadata": {},
     "output_type": "display_data"
    }
   ],
   "source": [
    "df_metrics_routes[df_metrics_routes[\"metric\"] ==  \"collisions_vehicle\"][\"occurrences\"].plot.hist()  # .value_counts()"
   ]
  },
  {
   "cell_type": "code",
   "execution_count": 55,
   "metadata": {},
   "outputs": [
    {
     "data": {
      "text/plain": [
       "5       2.0\n",
       "20      1.0\n",
       "35      0.0\n",
       "50      1.0\n",
       "65      1.0\n",
       "80      2.0\n",
       "95      3.0\n",
       "110     1.0\n",
       "125     0.0\n",
       "140     0.0\n",
       "155     2.0\n",
       "170     3.0\n",
       "185     2.0\n",
       "200     2.0\n",
       "215     1.0\n",
       "230     1.0\n",
       "245     1.0\n",
       "260     2.0\n",
       "275    17.0\n",
       "290     1.0\n",
       "305     1.0\n",
       "320     2.0\n",
       "335     1.0\n",
       "350     0.0\n",
       "365     1.0\n",
       "380     0.0\n",
       "395     0.0\n",
       "410     0.0\n",
       "425     1.0\n",
       "440     2.0\n",
       "455     1.0\n",
       "470     0.0\n",
       "485     1.0\n",
       "500     7.0\n",
       "515     0.0\n",
       "530     0.0\n",
       "Name: occurrences, dtype: float32"
      ]
     },
     "execution_count": 55,
     "metadata": {},
     "output_type": "execute_result"
    }
   ],
   "source": [
    "df_metrics_routes[df_metrics_routes[\"metric\"] ==  \"collisions_vehicle\"][\"occurrences\"]"
   ]
  },
  {
   "cell_type": "code",
   "execution_count": 47,
   "metadata": {},
   "outputs": [
    {
     "data": {
      "text/plain": [
       "<AxesSubplot: ylabel='Frequency'>"
      ]
     },
     "execution_count": 47,
     "metadata": {},
     "output_type": "execute_result"
    },
    {
     "data": {
      "image/png": "[encoded data removed]",
      "text/plain": [
       "<Figure size 640x480 with 1 Axes>"
      ]
     },
     "metadata": {},
     "output_type": "display_data"
    }
   ],
   "source": [
    "df_metrics_routes[df_metrics_routes.metric == \"route_dev\"][\"value\"].plot.hist()"
   ]
  },
  {
   "cell_type": "code",
   "execution_count": 49,
   "metadata": {},
   "outputs": [
    {
     "data": {
      "text/plain": [
       "<AxesSubplot: ylabel='Frequency'>"
      ]
     },
     "execution_count": 49,
     "metadata": {},
     "output_type": "execute_result"
    },
    {
     "data": {
      "image/png": "[encoded data removed]",
      "text/plain": [
       "<Figure size 640x480 with 1 Axes>"
      ]
     },
     "metadata": {},
     "output_type": "display_data"
    }
   ],
   "source": [
    "df_metrics_routes[df_metrics_routes.metric == \"route_dev\"][\"occurrences\"].plot.hist()"
   ]
  },
  {
   "cell_type": "code",
   "execution_count": 18,
   "metadata": {},
   "outputs": [
    {
     "data": {
      "text/plain": [
       "array(['collisions_layout', 'collisions_pedestrian', 'collisions_vehicle',\n",
       "       'outside_route_lanes', 'red_light', 'route_dev', 'route_timeout',\n",
       "       'stop_infraction', 'vehicle_blocked'], dtype=object)"
      ]
     },
     "execution_count": 18,
     "metadata": {},
     "output_type": "execute_result"
    }
   ],
   "source": [
    "df_metrics_routes[~df_metrics_routes[\"occurrences\"].isna()][\"metric\"].unique()"
   ]
  },
  {
   "cell_type": "code",
   "execution_count": 173,
   "metadata": {},
   "outputs": [
    {
     "data": {
      "text/plain": [
       "<AxesSubplot: ylabel='Frequency'>"
      ]
     },
     "execution_count": 173,
     "metadata": {},
     "output_type": "execute_result"
    },
    {
     "data": {
      "image/png": "[encoded data removed]",
      "text/plain": [
       "<Figure size 640x480 with 1 Axes>"
      ]
     },
     "metadata": {},
     "output_type": "display_data"
    }
   ],
   "source": [
    "df_metrics_routes[df_metrics_routes.metric == \"score_penalty\"][\"value\"].astype(\"float32\").plot.hist()"
   ]
  },
  {
   "cell_type": "code",
   "execution_count": null,
   "metadata": {},
   "outputs": [],
   "source": []
  }
 ],
 "metadata": {
  "kernelspec": {
   "display_name": "carla",
   "language": "python",
   "name": "python3"
  },
  "language_info": {
   "codemirror_mode": {
    "name": "ipython",
    "version": 3
   },
   "file_extension": ".py",
   "mimetype": "text/x-python",
   "name": "python",
   "nbconvert_exporter": "python",
   "pygments_lexer": "ipython3",
   "version": "3.8.13"
  },
  "orig_nbformat": 4,
  "vscode": {
   "interpreter": {
    "hash": "bc80d0638afb8ec7c43f4b834002a598fcddbd6e8bf5db40ad8cba47e68e6a97"
   }
  }
 },
 "nbformat": 4,
 "nbformat_minor": 2
}
