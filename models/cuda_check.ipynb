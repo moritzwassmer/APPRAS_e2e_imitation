{
 "cells": [
  {
   "cell_type": "code",
   "execution_count": 1,
   "id": "7973b163",
   "metadata": {},
   "outputs": [
    {
     "data": {
      "text/plain": [
       "True"
      ]
     },
     "execution_count": 1,
     "metadata": {},
     "output_type": "execute_result"
    }
   ],
   "source": [
    "import torch\n",
    "torch.cuda.is_available()"
   ]
  },
  {
   "cell_type": "code",
   "execution_count": null,
   "id": "289c9929",
   "metadata": {},
   "outputs": [],
   "source": [
    "#nvcc --version"
   ]
  },
  {
   "cell_type": "code",
   "execution_count": null,
   "id": "cd9c7f1e",
   "metadata": {
    "scrolled": true
   },
   "outputs": [],
   "source": [
    "conda install -c pytorch torchvision cudatoolkit=11.0 pytorch"
   ]
  },
  {
   "cell_type": "code",
   "execution_count": 2,
   "id": "ebeb06ec",
   "metadata": {},
   "outputs": [
    {
     "name": "stdout",
     "output_type": "stream",
     "text": [
      "PyTorch version: 1.13.0\n",
      "**********\n",
      "_CUDA version: \n",
      "**********\n",
      "CUDNN version: 8302\n",
      "Available GPU devices: 1\n",
      "Device Name: NVIDIA GeForce GTX 1060\n"
     ]
    }
   ],
   "source": [
    "import torch\n",
    "print(f'PyTorch version: {torch.__version__}')\n",
    "print('*' * 10)\n",
    "print(f'_CUDA version: ')\n",
    "# !nvcc --version\n",
    "print('*' * 10)\n",
    "print(f'CUDNN version: {torch.backends.cudnn.version()}')\n",
    "print(f'Available GPU devices: {torch.cuda.device_count()}')\n",
    "print(f'Device Name: {torch.cuda.get_device_name()}')"
   ]
  },
  {
   "cell_type": "code",
   "execution_count": null,
   "id": "b90abc63",
   "metadata": {},
   "outputs": [],
   "source": [
    "#conda install anaconda"
   ]
  },
  {
   "cell_type": "code",
   "execution_count": null,
   "id": "0158364c",
   "metadata": {},
   "outputs": [],
   "source": [
    "#conda install pytorch torchvision torchaudio cudatoolkit=11.0 -c pytorch"
   ]
  },
  {
   "cell_type": "code",
   "execution_count": null,
   "id": "2afb5e12",
   "metadata": {},
   "outputs": [],
   "source": [
    "#conda remove pytorch torchvision torchaudio cudatoolkit"
   ]
  },
  {
   "cell_type": "code",
   "execution_count": null,
   "id": "19a11fe2",
   "metadata": {},
   "outputs": [],
   "source": [
    "#pip3 install torch torchvision torchaudio --extra-index-url https://download.pytorch.org/whl/cu116"
   ]
  },
  {
   "cell_type": "code",
   "execution_count": null,
   "id": "d12638f2",
   "metadata": {},
   "outputs": [],
   "source": [
    "#conda install pytorch torchvision torchaudio pytorch-cuda=11.6 -c pytorch -c nvidia "
   ]
  },
  {
   "cell_type": "code",
   "execution_count": null,
   "id": "7869ac13",
   "metadata": {},
   "outputs": [],
   "source": [
    "#11.6"
   ]
  }
 ],
 "metadata": {
  "kernelspec": {
   "display_name": "Python 3 (ipykernel)",
   "language": "python",
   "name": "python3"
  },
  "language_info": {
   "codemirror_mode": {
    "name": "ipython",
    "version": 3
   },
   "file_extension": ".py",
   "mimetype": "text/x-python",
   "name": "python",
   "nbconvert_exporter": "python",
   "pygments_lexer": "ipython3",
   "version": "3.9.13"
  }
 },
 "nbformat": 4,
 "nbformat_minor": 5
}
