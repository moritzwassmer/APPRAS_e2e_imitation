{
 "cells": [
  {
   "cell_type": "code",
   "execution_count": 4,
   "id": "09030c90",
   "metadata": {},
   "outputs": [],
   "source": [
    "import torch"
   ]
  },
  {
   "cell_type": "code",
   "execution_count": 5,
   "id": "fd2bc83a",
   "metadata": {},
   "outputs": [],
   "source": [
    "from rgb_baseline import MyResnet\n",
    "import rgb_baseline"
   ]
  },
  {
   "cell_type": "code",
   "execution_count": 6,
   "id": "9a37dcb0",
   "metadata": {},
   "outputs": [
    {
     "name": "stderr",
     "output_type": "stream",
     "text": [
      "C:\\Users\\morit\\anaconda3\\lib\\site-packages\\torchvision\\models\\_utils.py:223: UserWarning: Arguments other than a weight enum or `None` for 'weights' are deprecated since 0.13 and may be removed in the future. The current behavior is equivalent to passing `weights=ResNet18_Weights.IMAGENET1K_V1`. You can also use `weights=ResNet18_Weights.DEFAULT` to get the most up-to-date weights.\n",
      "  warnings.warn(msg)\n"
     ]
    }
   ],
   "source": [
    "net = MyResnet()\n",
    "net = torch.load('rgb_resnet.pth')"
   ]
  },
  {
   "cell_type": "code",
   "execution_count": null,
   "id": "2b20fd91",
   "metadata": {},
   "outputs": [],
   "source": [
    "import sys\n",
    "sys.path.insert(1, 'C:/Users/morit/OneDrive/UNI/Master/WS22/APP-RAS/Programming/data_pipeline') # TODO\n",
    "import os\n",
    "\n",
    "path_ege_data = os.path.join(\"..\",\"..\" ,\"data\", \"Dataset Ege\")\n",
    "\n",
    "print(path_ege_data)\n",
    "\n",
    "# DATA ENGINEERING\n",
    "from torch.utils.data import Dataset, DataLoader\n",
    "from torchvision import transforms\n",
    "from data_sampler import WeightedSampler\n",
    "from dataset import CARLADataset#, CARLADatasetMultiProcessing\n",
    "\n",
    "config = {\"used_inputs\": [\"rgb\",\"measurements\"], \n",
    "        \"used_measurements\": [\"speed\", \"steer\", \"throttle\", \"brake\"],\n",
    "        \"seq_len\": 1\n",
    "        }\n",
    "\n",
    "batch_size = 16\n",
    "\n",
    "preprocess = transforms.Compose([\n",
    "    transforms.ToPILImage(),\n",
    "    transforms.ToTensor(),\n",
    "    transforms.Normalize(mean=[0.485, 0.456, 0.406], std=[0.229, 0.224, 0.225]),\n",
    "])\n",
    "\n",
    "\n",
    "def normalize_batch(tensors):\n",
    "    liste = []\n",
    "    for tensor in tensors:\n",
    "        tensor = preprocess(tensor ) #* 1/255\n",
    "        liste.append(tensor)\n",
    "    return torch.stack(liste)   \n",
    "\n",
    "device = torch.device('cuda:0' if torch.cuda.is_available() else 'cpu')\n",
    "\n",
    "train_dataset = CARLADataset(root_dir=path_ege_data, config=config, transform=None)\n",
    "weighted_sampler = WeightedSampler(dataset=train_dataset)\n",
    "\n",
    "## TEST\n",
    "test_dataloader = DataLoader(train_dataset, batch_size=batch_size, shuffle=True)\n",
    "print(next(iter(test_dataloader)).keys())\n",
    "idx, X = next(enumerate(test_dataloader))\n",
    "data_ = normalize_batch(X[\"rgb\"].transpose(1,4)[:,:,:,:,0]).float().to(device)\n",
    "target_ = (X[\"throttle\"],X[\"steer\"],X[\"brake\"])\n",
    "with torch.no_grad():\n",
    "    outputs_ = net(data_)\n",
    "print(outputs_[0])"
   ]
  },
  {
   "cell_type": "code",
   "execution_count": null,
   "id": "6a2de837",
   "metadata": {},
   "outputs": [],
   "source": [
    "import sys\n",
    "sys.path.insert(1, 'C:/Users/morit/OneDrive/UNI/Master/WS22/APP-RAS/Programming/data_pipeline') # TODO\n",
    "import os\n",
    "\n",
    "path_ege_data = os.path.join(\"..\",\"..\" ,\"data\", \"Dataset Ege\")\n",
    "\n",
    "print(path_ege_data)\n",
    "\n",
    "# DATA ENGINEERING\n",
    "from torch.utils.data import Dataset, DataLoader\n",
    "from torchvision import transforms\n",
    "from data_sampler import WeightedSampler\n",
    "from dataset import CARLADataset#, CARLADatasetMultiProcessing\n",
    "\n",
    "config = {\"used_inputs\": [\"rgb\",\"measurements\"], \n",
    "        \"used_measurements\": [\"speed\", \"steer\", \"throttle\", \"brake\"],\n",
    "        \"seq_len\": 1\n",
    "        }\n",
    "\n",
    "batch_size = 1\n",
    "\n",
    "preprocess = transforms.Compose([\n",
    "    transforms.ToPILImage(),\n",
    "    transforms.ToTensor(),\n",
    "    transforms.Normalize(mean=[0.485, 0.456, 0.406], std=[0.229, 0.224, 0.225]),\n",
    "])\n",
    "\n",
    "\n",
    "def normalize_batch(tensors):\n",
    "    liste = []\n",
    "    for tensor in tensors:\n",
    "        tensor = preprocess(tensor ) #* 1/255\n",
    "        liste.append(tensor)\n",
    "    return torch.stack(liste)   \n",
    "\n",
    "device = torch.device('cuda:0' if torch.cuda.is_available() else 'cpu')\n",
    "\n",
    "train_dataset = CARLADataset(root_dir=path_ege_data, config=config, transform=None)\n",
    "weighted_sampler = WeightedSampler(dataset=train_dataset)\n",
    "\n",
    "## TEST\n",
    "test_dataloader = DataLoader(train_dataset, batch_size=batch_size, shuffle=True)\n",
    "print(next(iter(test_dataloader)).keys())\n",
    "idx, X = next(enumerate(test_dataloader))\n",
    "data_ = normalize_batch(X[\"rgb\"].transpose(1,4)[:,:,:,:,0]).float().to(device)\n",
    "target_ = (X[\"throttle\"],X[\"steer\"],X[\"brake\"])\n",
    "with torch.no_grad():\n",
    "    outputs_ = net(data_)\n",
    "print(outputs_[0])"
   ]
  },
  {
   "cell_type": "code",
   "execution_count": null,
   "id": "03d70daa",
   "metadata": {},
   "outputs": [],
   "source": [
    "# single rgb -> batch_rgb\n",
    "single = data_[0,:,:,:]\n",
    "batch = torch.unsqueeze(single, dim=0)\n",
    "\n",
    "print(batch.shape)\n"
   ]
  },
  {
   "cell_type": "code",
   "execution_count": null,
   "id": "3aa94c35",
   "metadata": {},
   "outputs": [],
   "source": [
    "type(X[\"rgb\"])"
   ]
  }
 ],
 "metadata": {
  "kernelspec": {
   "display_name": "Python 3 (ipykernel)",
   "language": "python",
   "name": "python3"
  },
  "language_info": {
   "codemirror_mode": {
    "name": "ipython",
    "version": 3
   },
   "file_extension": ".py",
   "mimetype": "text/x-python",
   "name": "python",
   "nbconvert_exporter": "python",
   "pygments_lexer": "ipython3",
   "version": "3.9.13"
  }
 },
 "nbformat": 4,
 "nbformat_minor": 5
}
