{
 "cells": [
  {
   "cell_type": "markdown",
   "id": "ae4bdd6a",
   "metadata": {},
   "source": [
    "Data Loaders Test etc"
   ]
  },
  {
   "cell_type": "code",
   "execution_count": 1,
   "id": "6414d0f3",
   "metadata": {},
   "outputs": [],
   "source": [
    "import sys\n",
    "sys.path.insert(1, 'C:/Users/morit/OneDrive/UNI/Master/WS22/APP-RAS/Programming/data_pipeline')\n",
    "import os\n",
    "from data_sampler import WeightedSampler\n",
    "from dataset import CARLADataset#, CARLADatasetMultiProcessing\n",
    "from torch.utils.data import DataLoader"
   ]
  },
  {
   "cell_type": "code",
   "execution_count": 25,
   "id": "93304280",
   "metadata": {},
   "outputs": [
    {
     "name": "stdout",
     "output_type": "stream",
     "text": [
      "Town10HD_Scenario10_route9_11_28_17_59_39 has varying number of data files among input folders. It got discarded from the dataset.\n"
     ]
    }
   ],
   "source": [
    "path_ege_data = os.path.join(\"..\", \"data\", \"Dataset Ege\")\n",
    "\n",
    "config = {\"used_inputs\": [\"rgb\",\"measurements\"], \n",
    "        \"used_measurements\": [\"speed\", \"steer\", \"throttle\", \"brake\"],\n",
    "        \"seq_len\": 1\n",
    "        }\n",
    "\n",
    "train_dataset = CARLADataset(root_dir=path_ege_data, config=config, transform=None)\n",
    "weighted_sampler = WeightedSampler(dataset=train_dataset)\n",
    "\n",
    "batch_size = 16\n",
    "train_dataloader = DataLoader(train_dataset, batch_size=batch_size, shuffle=True)\n",
    "test_dataloader = DataLoader(train_dataset, batch_size=batch_size, shuffle=True)"
   ]
  },
  {
   "cell_type": "markdown",
   "id": "3c4750c0",
   "metadata": {},
   "source": [
    "Model ResNet\n",
    "\n",
    "https://www.pluralsight.com/guides/introduction-to-resnet"
   ]
  },
  {
   "cell_type": "code",
   "execution_count": 3,
   "id": "2969a3fd",
   "metadata": {},
   "outputs": [],
   "source": [
    "import torch\n",
    "import torch.nn as nn\n",
    "import torch.optim as optim\n",
    "import torch.nn.functional as F\n",
    "import numpy as np\n",
    "import torchvision\n",
    "from torchvision import *\n",
    "from torch.utils.data import Dataset, DataLoader\n",
    "\n",
    "import matplotlib.pyplot as plt\n",
    "import time\n",
    "import copy\n",
    "import os\n",
    "\n",
    "batch_size = 16\n",
    "learning_rate = 1e-3\n",
    "\n",
    "transforms = transforms.Compose(\n",
    "[\n",
    "    transforms.ToTensor()\n",
    "])\n",
    "\n",
    "\n",
    "device = torch.device('cuda:0' if torch.cuda.is_available() else 'cpu')"
   ]
  },
  {
   "cell_type": "code",
   "execution_count": 4,
   "id": "50fbc137",
   "metadata": {},
   "outputs": [
    {
     "name": "stderr",
     "output_type": "stream",
     "text": [
      "C:\\Users\\morit\\anaconda3\\lib\\site-packages\\torchvision\\models\\_utils.py:208: UserWarning: The parameter 'pretrained' is deprecated since 0.13 and may be removed in the future, please use 'weights' instead.\n",
      "  warnings.warn(\n",
      "C:\\Users\\morit\\anaconda3\\lib\\site-packages\\torchvision\\models\\_utils.py:223: UserWarning: Arguments other than a weight enum or `None` for 'weights' are deprecated since 0.13 and may be removed in the future. The current behavior is equivalent to passing `weights=ResNet18_Weights.IMAGENET1K_V1`. You can also use `weights=ResNet18_Weights.DEFAULT` to get the most up-to-date weights.\n",
      "  warnings.warn(msg)\n"
     ]
    },
    {
     "data": {
      "text/plain": [
       "ResNet(\n",
       "  (conv1): Conv2d(3, 64, kernel_size=(7, 7), stride=(2, 2), padding=(3, 3), bias=False)\n",
       "  (bn1): BatchNorm2d(64, eps=1e-05, momentum=0.1, affine=True, track_running_stats=True)\n",
       "  (relu): ReLU(inplace=True)\n",
       "  (maxpool): MaxPool2d(kernel_size=3, stride=2, padding=1, dilation=1, ceil_mode=False)\n",
       "  (layer1): Sequential(\n",
       "    (0): BasicBlock(\n",
       "      (conv1): Conv2d(64, 64, kernel_size=(3, 3), stride=(1, 1), padding=(1, 1), bias=False)\n",
       "      (bn1): BatchNorm2d(64, eps=1e-05, momentum=0.1, affine=True, track_running_stats=True)\n",
       "      (relu): ReLU(inplace=True)\n",
       "      (conv2): Conv2d(64, 64, kernel_size=(3, 3), stride=(1, 1), padding=(1, 1), bias=False)\n",
       "      (bn2): BatchNorm2d(64, eps=1e-05, momentum=0.1, affine=True, track_running_stats=True)\n",
       "    )\n",
       "    (1): BasicBlock(\n",
       "      (conv1): Conv2d(64, 64, kernel_size=(3, 3), stride=(1, 1), padding=(1, 1), bias=False)\n",
       "      (bn1): BatchNorm2d(64, eps=1e-05, momentum=0.1, affine=True, track_running_stats=True)\n",
       "      (relu): ReLU(inplace=True)\n",
       "      (conv2): Conv2d(64, 64, kernel_size=(3, 3), stride=(1, 1), padding=(1, 1), bias=False)\n",
       "      (bn2): BatchNorm2d(64, eps=1e-05, momentum=0.1, affine=True, track_running_stats=True)\n",
       "    )\n",
       "  )\n",
       "  (layer2): Sequential(\n",
       "    (0): BasicBlock(\n",
       "      (conv1): Conv2d(64, 128, kernel_size=(3, 3), stride=(2, 2), padding=(1, 1), bias=False)\n",
       "      (bn1): BatchNorm2d(128, eps=1e-05, momentum=0.1, affine=True, track_running_stats=True)\n",
       "      (relu): ReLU(inplace=True)\n",
       "      (conv2): Conv2d(128, 128, kernel_size=(3, 3), stride=(1, 1), padding=(1, 1), bias=False)\n",
       "      (bn2): BatchNorm2d(128, eps=1e-05, momentum=0.1, affine=True, track_running_stats=True)\n",
       "      (downsample): Sequential(\n",
       "        (0): Conv2d(64, 128, kernel_size=(1, 1), stride=(2, 2), bias=False)\n",
       "        (1): BatchNorm2d(128, eps=1e-05, momentum=0.1, affine=True, track_running_stats=True)\n",
       "      )\n",
       "    )\n",
       "    (1): BasicBlock(\n",
       "      (conv1): Conv2d(128, 128, kernel_size=(3, 3), stride=(1, 1), padding=(1, 1), bias=False)\n",
       "      (bn1): BatchNorm2d(128, eps=1e-05, momentum=0.1, affine=True, track_running_stats=True)\n",
       "      (relu): ReLU(inplace=True)\n",
       "      (conv2): Conv2d(128, 128, kernel_size=(3, 3), stride=(1, 1), padding=(1, 1), bias=False)\n",
       "      (bn2): BatchNorm2d(128, eps=1e-05, momentum=0.1, affine=True, track_running_stats=True)\n",
       "    )\n",
       "  )\n",
       "  (layer3): Sequential(\n",
       "    (0): BasicBlock(\n",
       "      (conv1): Conv2d(128, 256, kernel_size=(3, 3), stride=(2, 2), padding=(1, 1), bias=False)\n",
       "      (bn1): BatchNorm2d(256, eps=1e-05, momentum=0.1, affine=True, track_running_stats=True)\n",
       "      (relu): ReLU(inplace=True)\n",
       "      (conv2): Conv2d(256, 256, kernel_size=(3, 3), stride=(1, 1), padding=(1, 1), bias=False)\n",
       "      (bn2): BatchNorm2d(256, eps=1e-05, momentum=0.1, affine=True, track_running_stats=True)\n",
       "      (downsample): Sequential(\n",
       "        (0): Conv2d(128, 256, kernel_size=(1, 1), stride=(2, 2), bias=False)\n",
       "        (1): BatchNorm2d(256, eps=1e-05, momentum=0.1, affine=True, track_running_stats=True)\n",
       "      )\n",
       "    )\n",
       "    (1): BasicBlock(\n",
       "      (conv1): Conv2d(256, 256, kernel_size=(3, 3), stride=(1, 1), padding=(1, 1), bias=False)\n",
       "      (bn1): BatchNorm2d(256, eps=1e-05, momentum=0.1, affine=True, track_running_stats=True)\n",
       "      (relu): ReLU(inplace=True)\n",
       "      (conv2): Conv2d(256, 256, kernel_size=(3, 3), stride=(1, 1), padding=(1, 1), bias=False)\n",
       "      (bn2): BatchNorm2d(256, eps=1e-05, momentum=0.1, affine=True, track_running_stats=True)\n",
       "    )\n",
       "  )\n",
       "  (layer4): Sequential(\n",
       "    (0): BasicBlock(\n",
       "      (conv1): Conv2d(256, 512, kernel_size=(3, 3), stride=(2, 2), padding=(1, 1), bias=False)\n",
       "      (bn1): BatchNorm2d(512, eps=1e-05, momentum=0.1, affine=True, track_running_stats=True)\n",
       "      (relu): ReLU(inplace=True)\n",
       "      (conv2): Conv2d(512, 512, kernel_size=(3, 3), stride=(1, 1), padding=(1, 1), bias=False)\n",
       "      (bn2): BatchNorm2d(512, eps=1e-05, momentum=0.1, affine=True, track_running_stats=True)\n",
       "      (downsample): Sequential(\n",
       "        (0): Conv2d(256, 512, kernel_size=(1, 1), stride=(2, 2), bias=False)\n",
       "        (1): BatchNorm2d(512, eps=1e-05, momentum=0.1, affine=True, track_running_stats=True)\n",
       "      )\n",
       "    )\n",
       "    (1): BasicBlock(\n",
       "      (conv1): Conv2d(512, 512, kernel_size=(3, 3), stride=(1, 1), padding=(1, 1), bias=False)\n",
       "      (bn1): BatchNorm2d(512, eps=1e-05, momentum=0.1, affine=True, track_running_stats=True)\n",
       "      (relu): ReLU(inplace=True)\n",
       "      (conv2): Conv2d(512, 512, kernel_size=(3, 3), stride=(1, 1), padding=(1, 1), bias=False)\n",
       "      (bn2): BatchNorm2d(512, eps=1e-05, momentum=0.1, affine=True, track_running_stats=True)\n",
       "    )\n",
       "  )\n",
       "  (avgpool): AdaptiveAvgPool2d(output_size=(1, 1))\n",
       "  (fc): Linear(in_features=512, out_features=1000, bias=True)\n",
       ")"
      ]
     },
     "execution_count": 4,
     "metadata": {},
     "output_type": "execute_result"
    }
   ],
   "source": [
    "net = torchvision.models.resnet18(pretrained=True)\n",
    "device = torch.device('cuda:0' if torch.cuda.is_available() else 'cpu')\n",
    "net = net.cuda() if device else net\n",
    "net"
   ]
  },
  {
   "cell_type": "markdown",
   "id": "beefd313",
   "metadata": {},
   "source": [
    "Scaling\n"
   ]
  },
  {
   "cell_type": "code",
   "execution_count": 5,
   "id": "dc8a891b",
   "metadata": {},
   "outputs": [],
   "source": [
    "def normalize_img(tensor):\n",
    "    v_min, v_max = tensor.min(), tensor.max()\n",
    "    new_min, new_max = 0, 1\n",
    "    v_p = (tensor - v_min)/(v_max - v_min)*(new_max - new_min) + new_min\n",
    "    return v_p"
   ]
  },
  {
   "cell_type": "markdown",
   "id": "7f533fea",
   "metadata": {},
   "source": [
    "Training"
   ]
  },
  {
   "cell_type": "code",
   "execution_count": 6,
   "id": "992a3786",
   "metadata": {},
   "outputs": [],
   "source": [
    "criterion = nn.MSELoss()\n",
    "optimizer = optim.SGD(net.parameters(), lr=0.0001, momentum=0.9)\n",
    "\n",
    "num_ftrs = net.fc.in_features\n",
    "\n",
    "net.fc = nn.Sequential(\n",
    "    nn.Linear(num_ftrs, 3), #nbr of outputs\n",
    "    nn.Tanh()\n",
    ")\n",
    "net.fc = net.fc.cuda() if device else net.fc"
   ]
  },
  {
   "cell_type": "code",
   "execution_count": 7,
   "id": "86634a45",
   "metadata": {},
   "outputs": [],
   "source": [
    "import time"
   ]
  },
  {
   "cell_type": "code",
   "execution_count": 8,
   "id": "be704bbb",
   "metadata": {},
   "outputs": [],
   "source": [
    "# ohne preprocessing ca 16-17 sekunden. Mit preprocessing ca 35 sekunden\n",
    "train_dataloader = DataLoader(train_dataset, batch_size=batch_size, shuffle=True)\n",
    "at = time.time()\n",
    "for batch_idx, data in enumerate(train_dataloader):\n",
    "    data_ = normalize_img(data[\"rgb\"].transpose(1,4)[:,:,:,:,0]).float()\n",
    "    target_ = torch.stack([data[\"speed\"],data[\"steer\"],data[\"throttle\"],data[\"brake\"]])[:,:,0].transpose(0,1).float()\n",
    "et = time.time()"
   ]
  },
  {
   "cell_type": "code",
   "execution_count": 9,
   "id": "d1cc604a",
   "metadata": {},
   "outputs": [
    {
     "name": "stdout",
     "output_type": "stream",
     "text": [
      "44.541213035583496\n"
     ]
    }
   ],
   "source": [
    "print(et-at)"
   ]
  },
  {
   "cell_type": "code",
   "execution_count": 26,
   "id": "e39590c3",
   "metadata": {
    "scrolled": true
   },
   "outputs": [
    {
     "name": "stdout",
     "output_type": "stream",
     "text": [
      "Epoch 1\n",
      "\n",
      "Epoch [1/3], Step [0/126], Loss: 0.4166\n",
      "Epoch [1/3], Step [16/126], Loss: 0.3593\n",
      "Epoch [1/3], Step [32/126], Loss: 0.3781\n",
      "Epoch [1/3], Step [48/126], Loss: 0.5881\n",
      "Epoch [1/3], Step [64/126], Loss: 0.4094\n",
      "Epoch [1/3], Step [80/126], Loss: 0.4436\n",
      "Epoch [1/3], Step [96/126], Loss: 0.3413\n",
      "Epoch [1/3], Step [112/126], Loss: 0.5100\n",
      "Epoch 2\n",
      "\n",
      "Epoch [2/3], Step [0/126], Loss: 0.5273\n",
      "Epoch [2/3], Step [16/126], Loss: 0.5232\n",
      "Epoch [2/3], Step [32/126], Loss: 0.3299\n",
      "Epoch [2/3], Step [48/126], Loss: 0.3520\n",
      "Epoch [2/3], Step [64/126], Loss: 0.3762\n",
      "Epoch [2/3], Step [80/126], Loss: 0.5340\n",
      "Epoch [2/3], Step [96/126], Loss: 0.2448\n",
      "Epoch [2/3], Step [112/126], Loss: 0.4219\n",
      "Epoch 3\n",
      "\n",
      "Epoch [3/3], Step [0/126], Loss: 0.3867\n",
      "Epoch [3/3], Step [16/126], Loss: 0.3404\n",
      "Epoch [3/3], Step [32/126], Loss: 0.5966\n",
      "Epoch [3/3], Step [48/126], Loss: 0.4310\n",
      "Epoch [3/3], Step [64/126], Loss: 0.4956\n",
      "Epoch [3/3], Step [80/126], Loss: 0.5454\n",
      "Epoch [3/3], Step [96/126], Loss: 0.3740\n",
      "Epoch [3/3], Step [112/126], Loss: 0.3683\n",
      "Wall time: 11min 44s\n"
     ]
    }
   ],
   "source": [
    "%%time\n",
    "\n",
    "n_epochs = 3\n",
    "#print_every = 10\n",
    "valid_loss_min = np.Inf\n",
    "val_loss = []\n",
    "train_loss = []\n",
    "total_step = len(train_dataloader)\n",
    "\n",
    "run = True\n",
    "\n",
    "for epoch in range(1, n_epochs+1):\n",
    "    \n",
    "    running_loss = 0.0\n",
    "    print(f'Epoch {epoch}\\n')\n",
    "    \n",
    "    #data: (['idx', 'rgb', 'speed', 'steer', 'throttle', 'brake'])\n",
    "    \n",
    "    # Work through batches\n",
    "    for batch_idx, data in enumerate(train_dataloader):\n",
    "\n",
    "        # further preprocessing\n",
    "        data_ = normalize_img(data[\"rgb\"].transpose(1,4)[:,:,:,:,0]).float() # HOTFIX\n",
    "        target_ = torch.stack([data[\"steer\"],data[\"throttle\"],data[\"brake\"]])[:,:,0].transpose(0,1).float() # HOTFIX\n",
    "        \n",
    "        #print(target_.shape)\n",
    "        #print(target_.shape[0])\n",
    "        if target_.shape[0] != 16: # HOTFIX\n",
    "            run = False\n",
    "            break\n",
    "\n",
    "        # move to GPU\n",
    "        data_, target_ = data_.to(device), target_.to(device)\n",
    "        \n",
    "        # compute outputs\n",
    "        optimizer.zero_grad()\n",
    "        outputs = net(data_)\n",
    "        loss = criterion(outputs, target_)\n",
    "        \n",
    "        # Backprop\n",
    "        loss.backward()\n",
    "        optimizer.step()\n",
    "\n",
    "        running_loss += loss.item()\n",
    "        if (batch_idx) % batch_size == 0:\n",
    "            print ('Epoch [{}/{}], Step [{}/{}], Loss: {:.4f}' \n",
    "                   .format(epoch, n_epochs, batch_idx, total_step, loss.item()))\n",
    "\n",
    "    if not run: # HOTFIX\n",
    "        continue\n",
    "        \n",
    "    # Epoch finished, evaluate network and save if network_learned\n",
    "    train_loss.append(running_loss/total_step)\n",
    "    print(f'\\ntrain-loss: {np.mean(train_loss):.4f},')\n",
    "    batch_loss = 0\n",
    "    total_t=0\n",
    "    correct_t=0\n",
    "    with torch.no_grad():\n",
    "        net.eval()\n",
    "        for data_t, target_t in (test_dataloader):\n",
    "            data_t, target_t = data_t.to(device), target_t.to(device)\n",
    "            outputs_t = net(data_t)\n",
    "            loss_t = criterion(outputs_t, target_t)\n",
    "            batch_loss += loss_t.item()\n",
    "        val_loss.append(batch_loss/len(test_dataloader))\n",
    "        #network_learned = batch_loss < valid_loss_min\n",
    "        print(f'validation loss: {np.mean(val_loss):.4f}, \\n')\n",
    "\n",
    "        \n",
    "        if False:#network_learned:\n",
    "            valid_loss_min = batch_loss\n",
    "            torch.save(net.state_dict(), 'resnet.pt')\n",
    "            print('Improvement-Detected, save-model')\n",
    "\n",
    "    net.train()\n",
    "    "
   ]
  },
  {
   "cell_type": "markdown",
   "id": "a85942e9",
   "metadata": {},
   "source": [
    "Test predictions"
   ]
  },
  {
   "cell_type": "code",
   "execution_count": 29,
   "id": "09ecda41",
   "metadata": {},
   "outputs": [
    {
     "name": "stdout",
     "output_type": "stream",
     "text": [
      "dict_keys(['idx', 'rgb', 'speed', 'steer', 'throttle', 'brake'])\n"
     ]
    }
   ],
   "source": [
    "test_dataloader = DataLoader(train_dataset, batch_size=batch_size, shuffle=True)\n",
    "print(next(iter(test_dataloader)).keys())\n",
    "idx, X = next(enumerate(test_dataloader))"
   ]
  },
  {
   "cell_type": "code",
   "execution_count": 37,
   "id": "7b96dc55",
   "metadata": {},
   "outputs": [],
   "source": [
    "data_ = normalize_img(X[\"rgb\"].transpose(1,4)[:,:,:,:,0]).float().to(device)\n",
    "target_ = torch.stack([X[\"steer\"],X[\"throttle\"],X[\"brake\"]])[:,:,0].transpose(0,1).float()"
   ]
  },
  {
   "cell_type": "code",
   "execution_count": 38,
   "id": "44845cb5",
   "metadata": {},
   "outputs": [],
   "source": [
    "outputs_ = net(data_)"
   ]
  },
  {
   "cell_type": "code",
   "execution_count": 39,
   "id": "88953edc",
   "metadata": {
    "scrolled": true
   },
   "outputs": [
    {
     "name": "stdout",
     "output_type": "stream",
     "text": [
      "tensor([[ 0.3560,  0.1775, -0.5901],\n",
      "        [ 0.2650,  0.2957, -0.5650],\n",
      "        [ 0.3745,  0.2124, -0.3028],\n",
      "        [ 0.3368,  0.2746, -0.5516],\n",
      "        [-0.0524,  0.2554, -0.4258],\n",
      "        [ 0.0546,  0.1692, -0.2963],\n",
      "        [ 0.1007,  0.1127, -0.7916],\n",
      "        [ 0.3547,  0.1560, -0.6911],\n",
      "        [ 0.3118,  0.4575, -0.1918],\n",
      "        [ 0.3185,  0.4312, -0.7122],\n",
      "        [ 0.2761,  0.4939, -0.5897],\n",
      "        [ 0.3806,  0.3001, -0.6844],\n",
      "        [-0.0239,  0.3490, -0.7448],\n",
      "        [ 0.1096,  0.1025, -0.7726],\n",
      "        [ 0.3418,  0.3548, -0.6831],\n",
      "        [ 0.1886,  0.3523, -0.5829]], device='cuda:0',\n",
      "       grad_fn=<SliceBackward0>)\n"
     ]
    }
   ],
   "source": [
    "print(outputs_[:,:])"
   ]
  },
  {
   "cell_type": "code",
   "execution_count": 40,
   "id": "779c9eec",
   "metadata": {},
   "outputs": [
    {
     "name": "stdout",
     "output_type": "stream",
     "text": [
      "tensor([[ 0.0000e+00,  0.0000e+00,  1.0000e+00],\n",
      "        [-3.0000e-03,  5.3349e-02,  0.0000e+00],\n",
      "        [-0.0000e+00,  0.0000e+00,  1.0000e+00],\n",
      "        [-5.0000e-03,  7.5000e-01,  0.0000e+00],\n",
      "        [-1.0000e-03,  4.8775e-02,  0.0000e+00],\n",
      "        [-0.0000e+00,  0.0000e+00,  1.0000e+00],\n",
      "        [-0.0000e+00,  0.0000e+00,  1.0000e+00],\n",
      "        [-0.0000e+00,  0.0000e+00,  1.0000e+00],\n",
      "        [-5.0000e-04,  0.0000e+00,  1.0000e+00],\n",
      "        [ 0.0000e+00,  4.8888e-01,  0.0000e+00],\n",
      "        [ 2.3600e-01,  7.5000e-01,  0.0000e+00],\n",
      "        [ 0.0000e+00,  0.0000e+00,  1.0000e+00],\n",
      "        [ 0.0000e+00,  0.0000e+00,  1.0000e+00],\n",
      "        [-0.0000e+00,  0.0000e+00,  1.0000e+00],\n",
      "        [-4.0000e-03,  7.5000e-01,  0.0000e+00],\n",
      "        [-0.0000e+00,  1.0734e-01,  0.0000e+00]])\n"
     ]
    }
   ],
   "source": [
    "print(target_)"
   ]
  },
  {
   "cell_type": "markdown",
   "id": "bd0f44f0",
   "metadata": {},
   "source": [
    "save & load"
   ]
  },
  {
   "cell_type": "code",
   "execution_count": 27,
   "id": "f516f764",
   "metadata": {},
   "outputs": [],
   "source": [
    "torch.save(net, 'rgb_resnet.pth')"
   ]
  },
  {
   "cell_type": "code",
   "execution_count": 28,
   "id": "3b2c730b",
   "metadata": {
    "scrolled": true
   },
   "outputs": [],
   "source": [
    "net = torch.load('rgb_resnet.pth')"
   ]
  }
 ],
 "metadata": {
  "kernelspec": {
   "display_name": "Python 3 (ipykernel)",
   "language": "python",
   "name": "python3"
  },
  "language_info": {
   "codemirror_mode": {
    "name": "ipython",
    "version": 3
   },
   "file_extension": ".py",
   "mimetype": "text/x-python",
   "name": "python",
   "nbconvert_exporter": "python",
   "pygments_lexer": "ipython3",
   "version": "3.9.13"
  }
 },
 "nbformat": 4,
 "nbformat_minor": 5
}
