{
 "cells": [
  {
   "cell_type": "code",
   "execution_count": 1,
   "id": "84575681",
   "metadata": {},
   "outputs": [],
   "source": [
    "# MODEL STUFF\n",
    "import torch\n",
    "import torch.nn as nn\n",
    "import torch.optim as optim\n",
    "#import torch.nn.functional as F\n",
    "import numpy as np\n",
    "import torchvision\n",
    "from torchvision import *\n",
    "from torch.utils.data import Dataset, DataLoader\n",
    "from PIL import Image\n",
    "from torchvision import transforms\n",
    "\n",
    "# GENERAL STUFF\n",
    "import time\n",
    "import copy\n",
    "import os\n",
    "import sys\n",
    "#sys.path.insert(1, 'C:\\\\Users\\\\morit\\\\OneDrive\\\\UNI\\\\Master\\\\WS22\\\\APP-RAS\\\\Programming\\\\data_pipeline') # TODO\n",
    "\n",
    "# DATA ENGINEERING\n",
    "from data_pipeline.dataset_xy import CARLADatasetXY\n",
    "from data_pipeline.dataset import CARLADataset\n",
    "from data_pipeline.utils import train_test_split, create_metadata_df, measurements_to_df, render_example_video_from_folder_name\n",
    "\n",
    "import pandas as pd\n",
    "from tqdm import tqdm"
   ]
  },
  {
   "cell_type": "code",
   "execution_count": 43,
   "id": "07a401d2",
   "metadata": {},
   "outputs": [
    {
     "data": {
      "text/plain": [
       "tensor([0.0000, 0.8103, 0.9976, 1.0084, 0.1499, 2.0169, 2.0169],\n",
       "       dtype=torch.float64)"
      ]
     },
     "execution_count": 43,
     "metadata": {},
     "output_type": "execute_result"
    }
   ],
   "source": [
    "class_counts = np.array([29312,23808,23552,158400,11776,11776])\n",
    "\n",
    "class_counts = class_counts/sum(class_counts)\n",
    "\n",
    "inverse = 1/(class_counts)\n",
    "\n",
    "inverse_scaled = inverse/sum(inverse)*7\n",
    "\n",
    "inverse_scaled = torch.from_numpy(inverse_scaled)\n",
    "\n",
    "inverse_scaled = torch.cat((torch.unsqueeze(torch.tensor(0),0),inverse_scaled),axis=0)\n",
    "\n",
    "inverse_scaled"
   ]
  },
  {
   "cell_type": "code",
   "execution_count": 31,
   "id": "a10ca713",
   "metadata": {},
   "outputs": [
    {
     "name": "stdout",
     "output_type": "stream",
     "text": [
      "torch.Size([5])\n",
      "torch.Size([5, 6])\n",
      "\n"
     ]
    }
   ],
   "source": [
    "loss = torch.tensor([2,4,5,5,5])\n",
    "one_hot = torch.tensor([[1,0,0,0,0,0],[0,0,0,1,0,0],[0,0,1,0,0,0],[0,0,1,0,0,0],[0,0,1,0,0,0]])\n",
    "\n",
    "print(loss.shape)\n",
    "print(one_hot.shape)\n",
    "print()"
   ]
  },
  {
   "cell_type": "code",
   "execution_count": 35,
   "id": "db61349a",
   "metadata": {
    "scrolled": true
   },
   "outputs": [],
   "source": [
    "test = torch.mul(one_hot,inverse_scaled)"
   ]
  },
  {
   "cell_type": "code",
   "execution_count": 38,
   "id": "7e92f49c",
   "metadata": {},
   "outputs": [
    {
     "data": {
      "text/plain": [
       "tensor([0.8103, 0.1499, 1.0084, 1.0084, 1.0084], dtype=torch.float64)"
      ]
     },
     "execution_count": 38,
     "metadata": {},
     "output_type": "execute_result"
    }
   ],
   "source": [
    "summe = torch.sum(test, dim=1)"
   ]
  }
 ],
 "metadata": {
  "kernelspec": {
   "display_name": "Python 3 (ipykernel)",
   "language": "python",
   "name": "python3"
  },
  "language_info": {
   "codemirror_mode": {
    "name": "ipython",
    "version": 3
   },
   "file_extension": ".py",
   "mimetype": "text/x-python",
   "name": "python",
   "nbconvert_exporter": "python",
   "pygments_lexer": "ipython3",
   "version": "3.9.13"
  }
 },
 "nbformat": 4,
 "nbformat_minor": 5
}
