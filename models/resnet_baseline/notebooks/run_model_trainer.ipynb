{
 "cells": [
  {
   "cell_type": "code",
   "execution_count": 1,
   "metadata": {},
   "outputs": [
    {
     "name": "stderr",
     "output_type": "stream",
     "text": [
      "/Users/julianvonklitzing/miniforge3/envs/carla/lib/python3.8/site-packages/tqdm/auto.py:22: TqdmWarning: IProgress not found. Please update jupyter and ipywidgets. See https://ipywidgets.readthedocs.io/en/stable/user_install.html\n",
      "  from .autonotebook import tqdm as notebook_tqdm\n"
     ]
    }
   ],
   "source": [
    "import sys\n",
    "import numpy as np\n",
    "import pandas as pd\n",
    "import os\n",
    "from torch.utils.data import DataLoader\n",
    "from torch.utils.data.dataloader import default_collate\n",
    "import torch.nn as nn\n",
    "import torch.optim as optim\n",
    "from torchsummary import summary\n",
    "import torch\n",
    "sys.path.append(\"../../../data_pipeline\")\n",
    "sys.path.append(\"../..\")\n",
    "sys.path.append(\"..\")\n",
    "\n",
    "from utils import train_test_split, create_metadata_df\n",
    "from dataset_xy import CARLADatasetXY\n",
    "from dataset_xy_opt import CARLADatasetXYOpt\n",
    "from data_preprocessing import preprocessing\n",
    "\n",
    "from baseline_v1 import Baseline_V1\n",
    "from baseline_v2 import Baseline_V2\n",
    "from baseline_v3 import Baseline_V3\n",
    "\n",
    "from model_trainer import ModelTrainer"
   ]
  },
  {
   "attachments": {},
   "cell_type": "markdown",
   "metadata": {},
   "source": [
    "# Create Dataset and DataLoader"
   ]
  },
  {
   "cell_type": "code",
   "execution_count": 2,
   "metadata": {},
   "outputs": [],
   "source": [
    "path_data = os.path.join(\"..\", \"..\", \"..\", \"data\", \"data\")\n",
    "# path_data = os.path.join(\"..\", \"..\", \"..\", \"data\", \"data_prep\")\n",
    "\n",
    "config_xy = {\"used_inputs\": [\"rgb\", \"measurements\"], \n",
    "        \"used_measurements\": [\"speed\", \"steer\", \"throttle\", \"brake\", \"command\"],\n",
    "        \"y\": [\"brake\", \"steer\", \"throttle\"],\n",
    "        \"seq_len\": 1\n",
    "        }"
   ]
  },
  {
   "cell_type": "code",
   "execution_count": 10,
   "metadata": {},
   "outputs": [],
   "source": [
    "device = torch.device('cuda:0' if torch.cuda.is_available() else 'mps' if torch.has_mps else 'cpu')\n",
    "batch_size = 64\n",
    "\n",
    "# Create df_meta \n",
    "df_meta_data = create_metadata_df(path_data, config_xy[\"used_inputs\"])\n",
    "df_meta_data_train, df_meta_data_test = train_test_split(df_meta_data, towns={\"train\": [\"Town04\"], \"test\": [\"Town05\"]}) # \"Town06\"\n",
    "# Make test set the 15% of the size of the train set\n",
    "df_meta_data_test = df_meta_data_test.sample(n=int(df_meta_data_train.shape[0] * 0.15), random_state=3)\n",
    "\n",
    "# df_meta_data_train = df_meta_data # test whole set for nan values\n",
    "# df_meta_data_test = df_meta_data.sample(n=int(df_meta_data_train.shape[0] * 0.15), random_state=3)\n",
    "# df_meta_data_train = df_meta_data_train.head(5 * batch_size)\n",
    "# df_meta_data_test = df_meta_data_test.sample(n=int(df_meta_data_train.shape[0] * 0.15), random_state=3)\n",
    "\n",
    "# Create Dataset & DataLoader\n",
    "dataset_train = CARLADatasetXY(root_dir=path_data, df_meta_data=df_meta_data_train, config=config_xy)\n",
    "dataset_test = CARLADatasetXY(root_dir=path_data, df_meta_data=df_meta_data_test, config=config_xy)\n",
    "# dataset_train.x_sample.to(device)\n",
    "# dataset_train.y_sample.to(device)\n",
    "# dataset_test.x_sample.to(device)\n",
    "# dataset_test.y_sample.to(device)\n",
    "# dataset_train = CARLADatasetXYOpt(df_meta_data_train)\n",
    "# dataset_test = CARLADatasetXYOpt(df_meta_data_test)\n",
    "\n",
    "dataloader_train = DataLoader(dataset_train, batch_size=batch_size, num_workers=0, shuffle=True, collate_fn=lambda x: list(map(lambda x: x.to(device), default_collate(x))))\n",
    "dataloader_test = DataLoader(dataset_test, batch_size=batch_size, num_workers=0, shuffle=False, collate_fn=lambda x: tuple(x_.to(device) for x_ in default_collate(x)))\n",
    "# collate_fn=lambda x: tuple(x_.to(device) for x_ in default_collate(x))"
   ]
  },
  {
   "cell_type": "code",
   "execution_count": 11,
   "metadata": {},
   "outputs": [
    {
     "data": {
      "text/plain": [
       "952"
      ]
     },
     "execution_count": 11,
     "metadata": {},
     "output_type": "execute_result"
    }
   ],
   "source": [
    "len(dataloader_train)"
   ]
  },
  {
   "cell_type": "code",
   "execution_count": 12,
   "metadata": {},
   "outputs": [
    {
     "data": {
      "text/plain": [
       "143"
      ]
     },
     "execution_count": 12,
     "metadata": {},
     "output_type": "execute_result"
    }
   ],
   "source": [
    "len(dataloader_test)"
   ]
  },
  {
   "attachments": {},
   "cell_type": "markdown",
   "metadata": {},
   "source": [
    "# Create ModelTrainer & run it"
   ]
  },
  {
   "cell_type": "code",
   "execution_count": 13,
   "metadata": {},
   "outputs": [
    {
     "name": "stderr",
     "output_type": "stream",
     "text": [
      "/Users/julianvonklitzing/miniforge3/envs/carla/lib/python3.8/site-packages/torchvision/models/_utils.py:223: UserWarning: Arguments other than a weight enum or `None` for 'weights' are deprecated since 0.13 and may be removed in the future. The current behavior is equivalent to passing `weights=None`.\n",
      "  warnings.warn(msg)\n"
     ]
    }
   ],
   "source": [
    "model = Baseline_V3()\n",
    "#model.load_state_dict(torch.load(\"Baseline_V1_6_hours.pt\"))"
   ]
  },
  {
   "cell_type": "code",
   "execution_count": 14,
   "metadata": {},
   "outputs": [],
   "source": [
    "# see fix for multiple inputs: https://github.com/sksq96/pytorch-summary/issues/90\n",
    "# summary(model, input_size=[(3, 160, 960), (7,), (1,)], batch_size=32)"
   ]
  },
  {
   "cell_type": "code",
   "execution_count": 15,
   "metadata": {},
   "outputs": [
    {
     "name": "stdout",
     "output_type": "stream",
     "text": [
      "Model will be trained on: mps\n"
     ]
    }
   ],
   "source": [
    "model_trainer = ModelTrainer(\n",
    "    model=model,\n",
    "    optimizer=optim.Adam(model.parameters(), lr=0.0001),\n",
    "    loss_fn=nn.L1Loss(),\n",
    "    n_epochs=10,\n",
    "    dataloader_train=dataloader_train,\n",
    "    dataloader_test=dataloader_test,\n",
    "    preprocessing=preprocessing,\n",
    "    upload_tensorboard=True\n",
    "    )"
   ]
  },
  {
   "cell_type": "code",
   "execution_count": 16,
   "metadata": {},
   "outputs": [
    {
     "name": "stdout",
     "output_type": "stream",
     "text": [
      "Epoch 1\n",
      "\n"
     ]
    },
    {
     "ename": "AttributeError",
     "evalue": "'dict' object has no attribute 'to'",
     "output_type": "error",
     "traceback": [
      "\u001b[0;31m---------------------------------------------------------------------------\u001b[0m",
      "\u001b[0;31mAttributeError\u001b[0m                            Traceback (most recent call last)",
      "Cell \u001b[0;32mIn[16], line 1\u001b[0m\n\u001b[0;32m----> 1\u001b[0m model_trainer\u001b[39m.\u001b[39;49mrun()\n",
      "File \u001b[0;32m~/Documents/GitHub/end2endappras/models/resnet_baseline/notebooks/../../model_trainer.py:73\u001b[0m, in \u001b[0;36mModelTrainer.run\u001b[0;34m(self)\u001b[0m\n\u001b[1;32m     70\u001b[0m \u001b[39mprint\u001b[39m(\u001b[39mf\u001b[39m\u001b[39m'\u001b[39m\u001b[39mEpoch \u001b[39m\u001b[39m{\u001b[39;00mepoch\u001b[39m}\u001b[39;00m\u001b[39m\\n\u001b[39;00m\u001b[39m'\u001b[39m)\n\u001b[1;32m     72\u001b[0m \u001b[39m# Work through batches\u001b[39;00m\n\u001b[0;32m---> 73\u001b[0m \u001b[39mfor\u001b[39;00m batch_idx, (X_true, y_true) \u001b[39min\u001b[39;00m \u001b[39menumerate\u001b[39m(\u001b[39mself\u001b[39m\u001b[39m.\u001b[39mdataloader_train):\n\u001b[1;32m     74\u001b[0m     \u001b[39m# forward\u001b[39;00m\n\u001b[1;32m     75\u001b[0m     start_forward \u001b[39m=\u001b[39m time\u001b[39m.\u001b[39mtime()\n\u001b[1;32m     76\u001b[0m     loss_list \u001b[39m=\u001b[39m \u001b[39mself\u001b[39m\u001b[39m.\u001b[39mforward_pass(X_true, y_true)\n",
      "File \u001b[0;32m~/miniforge3/envs/carla/lib/python3.8/site-packages/torch/utils/data/dataloader.py:628\u001b[0m, in \u001b[0;36m_BaseDataLoaderIter.__next__\u001b[0;34m(self)\u001b[0m\n\u001b[1;32m    625\u001b[0m \u001b[39mif\u001b[39;00m \u001b[39mself\u001b[39m\u001b[39m.\u001b[39m_sampler_iter \u001b[39mis\u001b[39;00m \u001b[39mNone\u001b[39;00m:\n\u001b[1;32m    626\u001b[0m     \u001b[39m# TODO(https://github.com/pytorch/pytorch/issues/76750)\u001b[39;00m\n\u001b[1;32m    627\u001b[0m     \u001b[39mself\u001b[39m\u001b[39m.\u001b[39m_reset()  \u001b[39m# type: ignore[call-arg]\u001b[39;00m\n\u001b[0;32m--> 628\u001b[0m data \u001b[39m=\u001b[39m \u001b[39mself\u001b[39;49m\u001b[39m.\u001b[39;49m_next_data()\n\u001b[1;32m    629\u001b[0m \u001b[39mself\u001b[39m\u001b[39m.\u001b[39m_num_yielded \u001b[39m+\u001b[39m\u001b[39m=\u001b[39m \u001b[39m1\u001b[39m\n\u001b[1;32m    630\u001b[0m \u001b[39mif\u001b[39;00m \u001b[39mself\u001b[39m\u001b[39m.\u001b[39m_dataset_kind \u001b[39m==\u001b[39m _DatasetKind\u001b[39m.\u001b[39mIterable \u001b[39mand\u001b[39;00m \\\n\u001b[1;32m    631\u001b[0m         \u001b[39mself\u001b[39m\u001b[39m.\u001b[39m_IterableDataset_len_called \u001b[39mis\u001b[39;00m \u001b[39mnot\u001b[39;00m \u001b[39mNone\u001b[39;00m \u001b[39mand\u001b[39;00m \\\n\u001b[1;32m    632\u001b[0m         \u001b[39mself\u001b[39m\u001b[39m.\u001b[39m_num_yielded \u001b[39m>\u001b[39m \u001b[39mself\u001b[39m\u001b[39m.\u001b[39m_IterableDataset_len_called:\n",
      "File \u001b[0;32m~/miniforge3/envs/carla/lib/python3.8/site-packages/torch/utils/data/dataloader.py:671\u001b[0m, in \u001b[0;36m_SingleProcessDataLoaderIter._next_data\u001b[0;34m(self)\u001b[0m\n\u001b[1;32m    669\u001b[0m \u001b[39mdef\u001b[39;00m \u001b[39m_next_data\u001b[39m(\u001b[39mself\u001b[39m):\n\u001b[1;32m    670\u001b[0m     index \u001b[39m=\u001b[39m \u001b[39mself\u001b[39m\u001b[39m.\u001b[39m_next_index()  \u001b[39m# may raise StopIteration\u001b[39;00m\n\u001b[0;32m--> 671\u001b[0m     data \u001b[39m=\u001b[39m \u001b[39mself\u001b[39;49m\u001b[39m.\u001b[39;49m_dataset_fetcher\u001b[39m.\u001b[39;49mfetch(index)  \u001b[39m# may raise StopIteration\u001b[39;00m\n\u001b[1;32m    672\u001b[0m     \u001b[39mif\u001b[39;00m \u001b[39mself\u001b[39m\u001b[39m.\u001b[39m_pin_memory:\n\u001b[1;32m    673\u001b[0m         data \u001b[39m=\u001b[39m _utils\u001b[39m.\u001b[39mpin_memory\u001b[39m.\u001b[39mpin_memory(data, \u001b[39mself\u001b[39m\u001b[39m.\u001b[39m_pin_memory_device)\n",
      "File \u001b[0;32m~/miniforge3/envs/carla/lib/python3.8/site-packages/torch/utils/data/_utils/fetch.py:61\u001b[0m, in \u001b[0;36m_MapDatasetFetcher.fetch\u001b[0;34m(self, possibly_batched_index)\u001b[0m\n\u001b[1;32m     59\u001b[0m \u001b[39melse\u001b[39;00m:\n\u001b[1;32m     60\u001b[0m     data \u001b[39m=\u001b[39m \u001b[39mself\u001b[39m\u001b[39m.\u001b[39mdataset[possibly_batched_index]\n\u001b[0;32m---> 61\u001b[0m \u001b[39mreturn\u001b[39;00m \u001b[39mself\u001b[39;49m\u001b[39m.\u001b[39;49mcollate_fn(data)\n",
      "Cell \u001b[0;32mIn[10], line 25\u001b[0m, in \u001b[0;36m<lambda>\u001b[0;34m(x)\u001b[0m\n\u001b[1;32m     17\u001b[0m dataset_test \u001b[39m=\u001b[39m CARLADatasetXY(root_dir\u001b[39m=\u001b[39mpath_data, df_meta_data\u001b[39m=\u001b[39mdf_meta_data_test, config\u001b[39m=\u001b[39mconfig_xy)\n\u001b[1;32m     18\u001b[0m \u001b[39m# dataset_train.x_sample.to(device)\u001b[39;00m\n\u001b[1;32m     19\u001b[0m \u001b[39m# dataset_train.y_sample.to(device)\u001b[39;00m\n\u001b[1;32m     20\u001b[0m \u001b[39m# dataset_test.x_sample.to(device)\u001b[39;00m\n\u001b[1;32m     21\u001b[0m \u001b[39m# dataset_test.y_sample.to(device)\u001b[39;00m\n\u001b[1;32m     22\u001b[0m \u001b[39m# dataset_train = CARLADatasetXYOpt(df_meta_data_train)\u001b[39;00m\n\u001b[1;32m     23\u001b[0m \u001b[39m# dataset_test = CARLADatasetXYOpt(df_meta_data_test)\u001b[39;00m\n\u001b[0;32m---> 25\u001b[0m dataloader_train \u001b[39m=\u001b[39m DataLoader(dataset_train, batch_size\u001b[39m=\u001b[39mbatch_size, num_workers\u001b[39m=\u001b[39m\u001b[39m0\u001b[39m, shuffle\u001b[39m=\u001b[39m\u001b[39mTrue\u001b[39;00m, collate_fn\u001b[39m=\u001b[39m\u001b[39mlambda\u001b[39;00m x: \u001b[39mlist\u001b[39;49m(\u001b[39mmap\u001b[39;49m(\u001b[39mlambda\u001b[39;49;00m x: x\u001b[39m.\u001b[39;49mto(device), default_collate(x))))\n\u001b[1;32m     26\u001b[0m dataloader_test \u001b[39m=\u001b[39m DataLoader(dataset_test, batch_size\u001b[39m=\u001b[39mbatch_size, num_workers\u001b[39m=\u001b[39m\u001b[39m0\u001b[39m, shuffle\u001b[39m=\u001b[39m\u001b[39mFalse\u001b[39;00m, collate_fn\u001b[39m=\u001b[39m\u001b[39mlambda\u001b[39;00m x: \u001b[39mtuple\u001b[39m(x_\u001b[39m.\u001b[39mto(device) \u001b[39mfor\u001b[39;00m x_ \u001b[39min\u001b[39;00m default_collate(x)))\n\u001b[1;32m     27\u001b[0m \u001b[39m# collate_fn=lambda x: tuple(x_.to(device) for x_ in default_collate(x))\u001b[39;00m\n",
      "Cell \u001b[0;32mIn[10], line 25\u001b[0m, in \u001b[0;36m<lambda>\u001b[0;34m(x)\u001b[0m\n\u001b[1;32m     17\u001b[0m dataset_test \u001b[39m=\u001b[39m CARLADatasetXY(root_dir\u001b[39m=\u001b[39mpath_data, df_meta_data\u001b[39m=\u001b[39mdf_meta_data_test, config\u001b[39m=\u001b[39mconfig_xy)\n\u001b[1;32m     18\u001b[0m \u001b[39m# dataset_train.x_sample.to(device)\u001b[39;00m\n\u001b[1;32m     19\u001b[0m \u001b[39m# dataset_train.y_sample.to(device)\u001b[39;00m\n\u001b[1;32m     20\u001b[0m \u001b[39m# dataset_test.x_sample.to(device)\u001b[39;00m\n\u001b[1;32m     21\u001b[0m \u001b[39m# dataset_test.y_sample.to(device)\u001b[39;00m\n\u001b[1;32m     22\u001b[0m \u001b[39m# dataset_train = CARLADatasetXYOpt(df_meta_data_train)\u001b[39;00m\n\u001b[1;32m     23\u001b[0m \u001b[39m# dataset_test = CARLADatasetXYOpt(df_meta_data_test)\u001b[39;00m\n\u001b[0;32m---> 25\u001b[0m dataloader_train \u001b[39m=\u001b[39m DataLoader(dataset_train, batch_size\u001b[39m=\u001b[39mbatch_size, num_workers\u001b[39m=\u001b[39m\u001b[39m0\u001b[39m, shuffle\u001b[39m=\u001b[39m\u001b[39mTrue\u001b[39;00m, collate_fn\u001b[39m=\u001b[39m\u001b[39mlambda\u001b[39;00m x: \u001b[39mlist\u001b[39m(\u001b[39mmap\u001b[39m(\u001b[39mlambda\u001b[39;00m x: x\u001b[39m.\u001b[39;49mto(device), default_collate(x))))\n\u001b[1;32m     26\u001b[0m dataloader_test \u001b[39m=\u001b[39m DataLoader(dataset_test, batch_size\u001b[39m=\u001b[39mbatch_size, num_workers\u001b[39m=\u001b[39m\u001b[39m0\u001b[39m, shuffle\u001b[39m=\u001b[39m\u001b[39mFalse\u001b[39;00m, collate_fn\u001b[39m=\u001b[39m\u001b[39mlambda\u001b[39;00m x: \u001b[39mtuple\u001b[39m(x_\u001b[39m.\u001b[39mto(device) \u001b[39mfor\u001b[39;00m x_ \u001b[39min\u001b[39;00m default_collate(x)))\n\u001b[1;32m     27\u001b[0m \u001b[39m# collate_fn=lambda x: tuple(x_.to(device) for x_ in default_collate(x))\u001b[39;00m\n",
      "\u001b[0;31mAttributeError\u001b[0m: 'dict' object has no attribute 'to'"
     ]
    }
   ],
   "source": [
    "model_trainer.run()"
   ]
  },
  {
   "attachments": {},
   "cell_type": "markdown",
   "metadata": {},
   "source": [
    "# Investigating model predictions (errors)\n",
    "To be moved in an extra module at some time ..."
   ]
  },
  {
   "cell_type": "code",
   "execution_count": 10,
   "metadata": {},
   "outputs": [
    {
     "name": "stderr",
     "output_type": "stream",
     "text": [
      "143it [02:14,  1.06it/s]\n"
     ]
    }
   ],
   "source": [
    "y_true_list, y_pred_list = model_trainer.get_dataset_predictions()"
   ]
  },
  {
   "cell_type": "code",
   "execution_count": 25,
   "metadata": {},
   "outputs": [],
   "source": [
    "df_true = pd.DataFrame(np.transpose(y_true_list), columns=dataset_test.y)\n",
    "df_pred = pd.DataFrame(np.transpose(y_pred_list), columns=dataset_test.y)"
   ]
  },
  {
   "cell_type": "code",
   "execution_count": 29,
   "metadata": {},
   "outputs": [
    {
     "data": {
      "text/plain": [
       "array([[<AxesSubplot: title={'center': 'brake'}>,\n",
       "        <AxesSubplot: title={'center': 'steer'}>],\n",
       "       [<AxesSubplot: title={'center': 'throttle'}>, <AxesSubplot: >]],\n",
       "      dtype=object)"
      ]
     },
     "execution_count": 29,
     "metadata": {},
     "output_type": "execute_result"
    },
    {
     "data": {
      "image/png": "[encoded data removed]",
      "text/plain": [
       "<Figure size 640x480 with 4 Axes>"
      ]
     },
     "metadata": {},
     "output_type": "display_data"
    }
   ],
   "source": [
    "df_pred.hist(bins=20)"
   ]
  },
  {
   "cell_type": "code",
   "execution_count": 30,
   "metadata": {},
   "outputs": [],
   "source": [
    "df_residuals = df_true - df_pred"
   ]
  },
  {
   "cell_type": "code",
   "execution_count": 33,
   "metadata": {},
   "outputs": [
    {
     "data": {
      "text/plain": [
       "array([[<AxesSubplot: title={'center': 'brake'}>,\n",
       "        <AxesSubplot: title={'center': 'steer'}>],\n",
       "       [<AxesSubplot: title={'center': 'throttle'}>, <AxesSubplot: >]],\n",
       "      dtype=object)"
      ]
     },
     "execution_count": 33,
     "metadata": {},
     "output_type": "execute_result"
    },
    {
     "data": {
      "image/png": "[encoded data removed]",
      "text/plain": [
       "<Figure size 640x480 with 4 Axes>"
      ]
     },
     "metadata": {},
     "output_type": "display_data"
    }
   ],
   "source": [
    "df_residuals.hist(bins=20)"
   ]
  },
  {
   "cell_type": "code",
   "execution_count": null,
   "metadata": {},
   "outputs": [],
   "source": []
  }
 ],
 "metadata": {
  "kernelspec": {
   "display_name": "carla",
   "language": "python",
   "name": "python3"
  },
  "language_info": {
   "codemirror_mode": {
    "name": "ipython",
    "version": 3
   },
   "file_extension": ".py",
   "mimetype": "text/x-python",
   "name": "python",
   "nbconvert_exporter": "python",
   "pygments_lexer": "ipython3",
   "version": "3.8.13"
  },
  "orig_nbformat": 4,
  "vscode": {
   "interpreter": {
    "hash": "bc80d0638afb8ec7c43f4b834002a598fcddbd6e8bf5db40ad8cba47e68e6a97"
   }
  }
 },
 "nbformat": 4,
 "nbformat_minor": 2
}
