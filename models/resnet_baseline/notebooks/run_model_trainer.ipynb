{
 "cells": [
  {
   "cell_type": "code",
   "execution_count": 2,
   "metadata": {},
   "outputs": [
    {
     "name": "stderr",
     "output_type": "stream",
     "text": [
      "/Users/julianvonklitzing/miniforge3/envs/carla/lib/python3.8/site-packages/tqdm/auto.py:22: TqdmWarning: IProgress not found. Please update jupyter and ipywidgets. See https://ipywidgets.readthedocs.io/en/stable/user_install.html\n",
      "  from .autonotebook import tqdm as notebook_tqdm\n"
     ]
    }
   ],
   "source": [
    "import sys\n",
    "import numpy as np\n",
    "import pandas as pd\n",
    "import os\n",
    "from torch.utils.data import DataLoader, WeightedRandomSampler\n",
    "from torch.utils.data.dataloader import default_collate\n",
    "import torch.nn as nn\n",
    "import torch.optim as optim\n",
    "from torchsummary import summary\n",
    "import torch\n",
    "import pickle\n",
    "\n",
    "# Append the project dir to path\n",
    "sys.path.append(os.path.join(\"..\", \"..\", \"..\"))\n",
    "from data_pipeline.utils import train_test_split, create_metadata_df, get_sample_weights_of_dataset, measurements_to_df\n",
    "from data_pipeline.dataset_xy import CARLADatasetXY\n",
    "from data_pipeline.dataset_xy_opt import CARLADatasetXYOpt\n",
    "from data_pipeline.data_preprocessing import preprocessing\n",
    "from models.resnet_baseline.architectures_v3 import Resnet_Baseline_V3\n",
    "from models.model_trainer import ModelTrainer"
   ]
  },
  {
   "attachments": {},
   "cell_type": "markdown",
   "metadata": {},
   "source": [
    "## Choose training settings"
   ]
  },
  {
   "cell_type": "code",
   "execution_count": 3,
   "metadata": {},
   "outputs": [],
   "source": [
    "# Set data balancing options (if both false, then no balancing is applied)\n",
    "use_balance_by_loss_weighting = False\n",
    "use_balance_by_over_under_sampling = True\n",
    "\n",
    "assert not use_balance_by_loss_weighting or not use_balance_by_over_under_sampling"
   ]
  },
  {
   "cell_type": "code",
   "execution_count": 4,
   "metadata": {},
   "outputs": [],
   "source": [
    "# Train additionally on the noisy data\n",
    "use_data_noisy = True\n",
    "\n",
    "path_data_noisy = None\n",
    "if use_data_noisy:\n",
    "    path_data_noisy = os.path.join(\"..\", \"..\", \"..\", \"data\", \"Noise-Dataset\")"
   ]
  },
  {
   "attachments": {},
   "cell_type": "markdown",
   "metadata": {},
   "source": [
    "## Create Datasets"
   ]
  },
  {
   "cell_type": "code",
   "execution_count": 5,
   "metadata": {},
   "outputs": [],
   "source": [
    "path_data = os.path.join(\"..\", \"..\", \"..\", \"data\", \"data\")\n",
    "\n",
    "config_xy = {\"used_inputs\": [\"rgb\", \"measurements\"], \n",
    "        \"used_measurements\": [\"speed\", \"steer\", \"throttle\", \"brake\", \"command\"],\n",
    "        \"y\": [\"brake\", \"steer\", \"throttle\"],\n",
    "        \"seq_len\": 1\n",
    "        }"
   ]
  },
  {
   "cell_type": "code",
   "execution_count": 6,
   "metadata": {},
   "outputs": [
    {
     "name": "stdout",
     "output_type": "stream",
     "text": [
      "Varying number files among input types: ../../../data/data/rl_dataset_23_11/Routes_clipped_Town05_rl_Seed0/clipped_Town05_rl_route30_11_23_17_42_15/lidar_trans\n"
     ]
    }
   ],
   "source": [
    "device = torch.device('cuda:0' if torch.cuda.is_available() else 'mps' if torch.has_mps else 'cpu')\n",
    "batch_size = 64\n",
    "\n",
    "# Create df_meta \n",
    "df_meta_data = create_metadata_df(path_data, config_xy[\"used_inputs\"])\n",
    "df_meta_data_noisy = None\n",
    "if use_data_noisy:\n",
    "    df_meta_data_noisy = create_metadata_df(path_data_noisy, config_xy[\"used_inputs\"])\n",
    "\n",
    "# Train/test split\n",
    "train_test_config = {\n",
    "    \"train\": ['Town00', 'Town01', 'Town02', 'Town03', 'Town04', 'Town05', 'Town07', 'Town08', 'Town09', 'Town10'],\n",
    "    \"test\": ['Town06']\n",
    "}\n",
    "df_meta_data_train, df_meta_data_test_1, df_meta_data_test_2 = train_test_split(df_meta_data, towns_intersect=train_test_config, df_meta_data_noisy=df_meta_data_noisy)\n",
    "\n",
    "# Decrease train/test size for quick test run\n",
    "#df_meta_data_train = df_meta_data_train.head(5 * batch_size)\n",
    "#df_meta_data_test_1 = df_meta_data_test_1.head(5 * batch_size)\n",
    "\n",
    "# Create Dataset & DataLoader\n",
    "dataset_train = CARLADatasetXY(root_dir=path_data, df_meta_data=df_meta_data_train, config=config_xy)\n",
    "dataset_test_1 = CARLADatasetXY(root_dir=path_data, df_meta_data=df_meta_data_test_1, config=config_xy)\n",
    "dataset_test_2 = CARLADatasetXY(root_dir=path_data, df_meta_data=df_meta_data_test_2, config=config_xy)"
   ]
  },
  {
   "cell_type": "code",
   "execution_count": 38,
   "metadata": {},
   "outputs": [
    {
     "data": {
      "text/html": [
       "<div>\n",
       "<style scoped>\n",
       "    .dataframe tbody tr th:only-of-type {\n",
       "        vertical-align: middle;\n",
       "    }\n",
       "\n",
       "    .dataframe tbody tr th {\n",
       "        vertical-align: top;\n",
       "    }\n",
       "\n",
       "    .dataframe thead th {\n",
       "        text-align: right;\n",
       "    }\n",
       "</style>\n",
       "<table border=\"1\" class=\"dataframe\">\n",
       "  <thead>\n",
       "    <tr style=\"text-align: right;\">\n",
       "      <th></th>\n",
       "      <th>dir</th>\n",
       "      <th>rgb</th>\n",
       "      <th>measurements</th>\n",
       "    </tr>\n",
       "  </thead>\n",
       "  <tbody>\n",
       "    <tr>\n",
       "      <th>0</th>\n",
       "      <td>../../../data/data/coke_dataset_23_11/Routes_S...</td>\n",
       "      <td>0000.png</td>\n",
       "      <td>0000.json</td>\n",
       "    </tr>\n",
       "    <tr>\n",
       "      <th>1</th>\n",
       "      <td>../../../data/data/coke_dataset_23_11/Routes_S...</td>\n",
       "      <td>0001.png</td>\n",
       "      <td>0001.json</td>\n",
       "    </tr>\n",
       "    <tr>\n",
       "      <th>2</th>\n",
       "      <td>../../../data/data/coke_dataset_23_11/Routes_S...</td>\n",
       "      <td>0002.png</td>\n",
       "      <td>0002.json</td>\n",
       "    </tr>\n",
       "    <tr>\n",
       "      <th>3</th>\n",
       "      <td>../../../data/data/coke_dataset_23_11/Routes_S...</td>\n",
       "      <td>0003.png</td>\n",
       "      <td>0003.json</td>\n",
       "    </tr>\n",
       "    <tr>\n",
       "      <th>4</th>\n",
       "      <td>../../../data/data/coke_dataset_23_11/Routes_S...</td>\n",
       "      <td>0004.png</td>\n",
       "      <td>0004.json</td>\n",
       "    </tr>\n",
       "    <tr>\n",
       "      <th>...</th>\n",
       "      <td>...</td>\n",
       "      <td>...</td>\n",
       "      <td>...</td>\n",
       "    </tr>\n",
       "    <tr>\n",
       "      <th>217370</th>\n",
       "      <td>../../../data/Noise-Dataset/Noise-Dataset2/Tow...</td>\n",
       "      <td>0035.png</td>\n",
       "      <td>0035.json</td>\n",
       "    </tr>\n",
       "    <tr>\n",
       "      <th>217371</th>\n",
       "      <td>../../../data/Noise-Dataset/Noise-Dataset2/Tow...</td>\n",
       "      <td>0036.png</td>\n",
       "      <td>0036.json</td>\n",
       "    </tr>\n",
       "    <tr>\n",
       "      <th>217372</th>\n",
       "      <td>../../../data/Noise-Dataset/Noise-Dataset2/Tow...</td>\n",
       "      <td>0037.png</td>\n",
       "      <td>0037.json</td>\n",
       "    </tr>\n",
       "    <tr>\n",
       "      <th>217373</th>\n",
       "      <td>../../../data/Noise-Dataset/Noise-Dataset2/Tow...</td>\n",
       "      <td>0038.png</td>\n",
       "      <td>0038.json</td>\n",
       "    </tr>\n",
       "    <tr>\n",
       "      <th>217374</th>\n",
       "      <td>../../../data/Noise-Dataset/Noise-Dataset2/Tow...</td>\n",
       "      <td>0039.png</td>\n",
       "      <td>0039.json</td>\n",
       "    </tr>\n",
       "  </tbody>\n",
       "</table>\n",
       "<p>217375 rows × 3 columns</p>\n",
       "</div>"
      ],
      "text/plain": [
       "                                                      dir       rgb  \\\n",
       "0       ../../../data/data/coke_dataset_23_11/Routes_S...  0000.png   \n",
       "1       ../../../data/data/coke_dataset_23_11/Routes_S...  0001.png   \n",
       "2       ../../../data/data/coke_dataset_23_11/Routes_S...  0002.png   \n",
       "3       ../../../data/data/coke_dataset_23_11/Routes_S...  0003.png   \n",
       "4       ../../../data/data/coke_dataset_23_11/Routes_S...  0004.png   \n",
       "...                                                   ...       ...   \n",
       "217370  ../../../data/Noise-Dataset/Noise-Dataset2/Tow...  0035.png   \n",
       "217371  ../../../data/Noise-Dataset/Noise-Dataset2/Tow...  0036.png   \n",
       "217372  ../../../data/Noise-Dataset/Noise-Dataset2/Tow...  0037.png   \n",
       "217373  ../../../data/Noise-Dataset/Noise-Dataset2/Tow...  0038.png   \n",
       "217374  ../../../data/Noise-Dataset/Noise-Dataset2/Tow...  0039.png   \n",
       "\n",
       "       measurements  \n",
       "0         0000.json  \n",
       "1         0001.json  \n",
       "2         0002.json  \n",
       "3         0003.json  \n",
       "4         0004.json  \n",
       "...             ...  \n",
       "217370    0035.json  \n",
       "217371    0036.json  \n",
       "217372    0037.json  \n",
       "217373    0038.json  \n",
       "217374    0039.json  \n",
       "\n",
       "[217375 rows x 3 columns]"
      ]
     },
     "execution_count": 38,
     "metadata": {},
     "output_type": "execute_result"
    }
   ],
   "source": [
    "df_meta_data_train"
   ]
  },
  {
   "cell_type": "markdown",
   "metadata": {},
   "source": [
    "## Generate sample weights to be passed to ModelTrainer"
   ]
  },
  {
   "cell_type": "code",
   "execution_count": 7,
   "metadata": {},
   "outputs": [],
   "source": [
    "def save_sample_weights(sample_weights):\n",
    "    with open('sample_weights.pickle', 'wb') as handle:\n",
    "        pickle.dump(sample_weights, handle, protocol=pickle.HIGHEST_PROTOCOL)\n",
    "\n",
    "def load_sample_weights():\n",
    "    with open('sample_weights.pickle', 'rb') as handle:\n",
    "        b = pickle.load(handle)\n",
    "    return b"
   ]
  },
  {
   "cell_type": "code",
   "execution_count": 11,
   "metadata": {},
   "outputs": [
    {
     "name": "stderr",
     "output_type": "stream",
     "text": [
      "100%|██████████| 217375/217375 [01:28<00:00, 2465.60it/s]\n"
     ]
    },
    {
     "name": "stdout",
     "output_type": "stream",
     "text": [
      "dict_keys(['multilabel'])\n"
     ]
    },
    {
     "name": "stderr",
     "output_type": "stream",
     "text": [
      "/Users/julianvonklitzing/Documents/GitHub/end2endappras/models/resnet_baseline/notebooks/../../../data_pipeline/utils.py:144: FutureWarning: arrays to stack must be passed as a \"sequence\" type such as list or tuple. Support for non-sequence iterables such as generators is deprecated as of NumPy 1.16 and will raise an error in the future.\n",
      "  sample_weights = np.prod(np.vstack(sample_weights.values()).T, axis=1)\n"
     ]
    }
   ],
   "source": [
    "sample_weights = None\n",
    "if use_balance_by_loss_weighting or use_balance_by_over_under_sampling:\n",
    "    # Dictionary that saves all weights to all y variables \n",
    "    sample_weights = get_sample_weights_of_dataset(dataset_train, num_bins=10, multilabel_option=use_balance_by_over_under_sampling)\n",
    "    # sample_weights = load_sample_weights()\n",
    "    print(sample_weights.keys())"
   ]
  },
  {
   "attachments": {},
   "cell_type": "markdown",
   "metadata": {},
   "source": [
    "## Create DataLoaders"
   ]
  },
  {
   "cell_type": "code",
   "execution_count": 13,
   "metadata": {},
   "outputs": [
    {
     "name": "stderr",
     "output_type": "stream",
     "text": [
      "100%|██████████| 217375/217375 [01:26<00:00, 2515.99it/s]\n"
     ]
    }
   ],
   "source": [
    "df_meas_train = measurements_to_df(df_meta_data_train)\n",
    "df_meas_train[\"probs\"] = sample_weights[\"multilabel\"]"
   ]
  },
  {
   "cell_type": "code",
   "execution_count": 35,
   "metadata": {},
   "outputs": [
    {
     "data": {
      "text/plain": [
       "<AxesSubplot: xlabel='throttle', ylabel='probs'>"
      ]
     },
     "execution_count": 35,
     "metadata": {},
     "output_type": "execute_result"
    },
    {
     "data": {
      "image/png": "[encoded data removed]",
      "text/plain": [
       "<Figure size 640x480 with 1 Axes>"
      ]
     },
     "metadata": {},
     "output_type": "display_data"
    }
   ],
   "source": [
    "df_meas_train.plot.scatter(x=\"throttle\", y=\"probs\")"
   ]
  },
  {
   "cell_type": "code",
   "execution_count": 36,
   "metadata": {},
   "outputs": [
    {
     "data": {
      "text/plain": [
       "<AxesSubplot: xlabel='steer', ylabel='throttle'>"
      ]
     },
     "execution_count": 36,
     "metadata": {},
     "output_type": "execute_result"
    },
    {
     "data": {
      "image/png": "[encoded data removed]",
      "text/plain": [
       "<Figure size 640x480 with 1 Axes>"
      ]
     },
     "metadata": {},
     "output_type": "display_data"
    }
   ],
   "source": [
    "df_meas_train.plot.scatter(x=\"steer\", y=\"throttle\")"
   ]
  },
  {
   "cell_type": "code",
   "execution_count": 37,
   "metadata": {},
   "outputs": [
    {
     "data": {
      "text/html": [
       "<div>\n",
       "<style scoped>\n",
       "    .dataframe tbody tr th:only-of-type {\n",
       "        vertical-align: middle;\n",
       "    }\n",
       "\n",
       "    .dataframe tbody tr th {\n",
       "        vertical-align: top;\n",
       "    }\n",
       "\n",
       "    .dataframe thead th {\n",
       "        text-align: right;\n",
       "    }\n",
       "</style>\n",
       "<table border=\"1\" class=\"dataframe\">\n",
       "  <thead>\n",
       "    <tr style=\"text-align: right;\">\n",
       "      <th></th>\n",
       "      <th>steer</th>\n",
       "      <th>throttle</th>\n",
       "    </tr>\n",
       "  </thead>\n",
       "  <tbody>\n",
       "    <tr>\n",
       "      <th>steer</th>\n",
       "      <td>1.000000</td>\n",
       "      <td>-0.014496</td>\n",
       "    </tr>\n",
       "    <tr>\n",
       "      <th>throttle</th>\n",
       "      <td>-0.014496</td>\n",
       "      <td>1.000000</td>\n",
       "    </tr>\n",
       "  </tbody>\n",
       "</table>\n",
       "</div>"
      ],
      "text/plain": [
       "             steer  throttle\n",
       "steer     1.000000 -0.014496\n",
       "throttle -0.014496  1.000000"
      ]
     },
     "execution_count": 37,
     "metadata": {},
     "output_type": "execute_result"
    }
   ],
   "source": [
    "df_meas_train[[\"steer\", \"throttle\"]].corr()"
   ]
  },
  {
   "cell_type": "code",
   "execution_count": 26,
   "metadata": {},
   "outputs": [],
   "source": [
    "weighted_random_sampler = None\n",
    "shuffle = True\n",
    "if use_balance_by_over_under_sampling:\n",
    "    weighted_random_sampler = WeightedRandomSampler(weights=sample_weights[\"multilabel\"], num_samples=dataset_train.__len__(), replacement=True)\n",
    "    shuffle = False\n",
    "\n",
    "dataloader_train = DataLoader(dataset_train, batch_size=batch_size, num_workers=0, shuffle=shuffle, sampler=weighted_random_sampler)\n",
    "dataloader_test_1 = DataLoader(dataset_test_1, batch_size=batch_size, num_workers=0, shuffle=False, )\n",
    "dataloader_test_2 = DataLoader(dataset_test_2, batch_size=batch_size, num_workers=0, shuffle=False, )\n",
    "\n",
    "# Attempt to directly initialize tensors on device in the DataLoader\n",
    "# collate_fn=lambda x: tuple(x_.to(device) for x_ in default_collate(x))\n",
    "# collate_fn=lambda x: list(map(lambda x: x.to(device), default_collate(x))"
   ]
  },
  {
   "cell_type": "code",
   "execution_count": 27,
   "metadata": {},
   "outputs": [
    {
     "data": {
      "text/plain": [
       "3397"
      ]
     },
     "execution_count": 27,
     "metadata": {},
     "output_type": "execute_result"
    }
   ],
   "source": [
    "len(dataloader_train)"
   ]
  },
  {
   "cell_type": "code",
   "execution_count": 28,
   "metadata": {},
   "outputs": [
    {
     "data": {
      "text/plain": [
       "271"
      ]
     },
     "execution_count": 28,
     "metadata": {},
     "output_type": "execute_result"
    }
   ],
   "source": [
    "len(dataloader_test_1)"
   ]
  },
  {
   "cell_type": "markdown",
   "metadata": {},
   "source": [
    "# Create ModelTrainer & run it"
   ]
  },
  {
   "cell_type": "code",
   "execution_count": 29,
   "metadata": {},
   "outputs": [
    {
     "name": "stderr",
     "output_type": "stream",
     "text": [
      "/Users/julianvonklitzing/miniforge3/envs/carla/lib/python3.8/site-packages/torchvision/models/_utils.py:223: UserWarning: Arguments other than a weight enum or `None` for 'weights' are deprecated since 0.13 and may be removed in the future. The current behavior is equivalent to passing `weights=ResNet18_Weights.IMAGENET1K_V1`. You can also use `weights=ResNet18_Weights.DEFAULT` to get the most up-to-date weights.\n",
      "  warnings.warn(msg)\n"
     ]
    }
   ],
   "source": [
    "model = Resnet_Baseline_V3()\n",
    "#model.load_state_dict(torch.load(\"resnet_baseline_v3.pt\"))\n",
    "\n",
    "if not use_balance_by_loss_weighting:\n",
    "    sample_weights = None"
   ]
  },
  {
   "cell_type": "code",
   "execution_count": 33,
   "metadata": {},
   "outputs": [],
   "source": [
    "model = model_trainer.model.to(torch.device(\"cpu\"))\n",
    "torch.save(model.state_dict(), f\"resnet_baseline_v3_4_10_epochs_prob_balanced_noisy_2.pt\".lower())"
   ]
  },
  {
   "cell_type": "code",
   "execution_count": 31,
   "metadata": {},
   "outputs": [
    {
     "name": "stdout",
     "output_type": "stream",
     "text": [
      "Model will be trained on: mps\n"
     ]
    }
   ],
   "source": [
    "# Must be ordered alphabetically (i.e. the same like sample_weights keys)\n",
    "loss_fns_dict = {\"brake\": nn.L1Loss(reduction='none'), \"steer\": nn.L1Loss(reduction='none'), \"throttle\": nn.L1Loss(reduction='none')}\n",
    "loss_fn_weights = {\"brake\": 0.05, \"steer\": 0.45, \"throttle\": 0.5}\n",
    "\n",
    "model_trainer = ModelTrainer(\n",
    "    model=model,\n",
    "    optimizer=optim.Adam(model.parameters(), lr=0.0001),\n",
    "    loss_fns=loss_fns_dict,\n",
    "    loss_fn_weights=loss_fn_weights,\n",
    "    n_epochs=10,\n",
    "    dataloader_train=dataloader_train,\n",
    "    dataloader_test=dataloader_test_1,\n",
    "    sample_weights=sample_weights,\n",
    "    preprocessing=preprocessing,\n",
    "    upload_tensorboard=True\n",
    "    )"
   ]
  },
  {
   "cell_type": "code",
   "execution_count": 32,
   "metadata": {},
   "outputs": [
    {
     "name": "stdout",
     "output_type": "stream",
     "text": [
      "Epoch 1\n",
      "\n"
     ]
    },
    {
     "name": "stderr",
     "output_type": "stream",
     "text": [
      "/Users/julianvonklitzing/miniforge3/envs/carla/lib/python3.8/site-packages/torch/autograd/__init__.py:197: UserWarning: The operator 'aten::sgn.out' is not currently supported on the MPS backend and will fall back to run on the CPU. This may have performance implications. (Triggered internally at /Users/runner/work/pytorch/pytorch/pytorch/aten/src/ATen/mps/MPSFallback.mm:11.)\n",
      "  Variable._execution_engine.run_backward(  # Calls into the C++ engine to run the backward pass\n"
     ]
    },
    {
     "name": "stdout",
     "output_type": "stream",
     "text": [
      "Epoch [1/10], Step [0/3397], Loss: 0.3102\n",
      "Epoch [1/10], Step [200/3397], Loss: 0.1316\n",
      "Epoch [1/10], Step [400/3397], Loss: 0.1518\n",
      "Epoch [1/10], Step [600/3397], Loss: 0.1480\n",
      "Epoch [1/10], Step [800/3397], Loss: 0.1088\n",
      "Epoch [1/10], Step [1000/3397], Loss: 0.1088\n",
      "Epoch [1/10], Step [1200/3397], Loss: 0.1093\n",
      "Epoch [1/10], Step [1400/3397], Loss: 0.1024\n",
      "Epoch [1/10], Step [1600/3397], Loss: 0.0920\n",
      "Epoch [1/10], Step [1800/3397], Loss: 0.0884\n",
      "Epoch [1/10], Step [2000/3397], Loss: 0.0895\n",
      "Epoch [1/10], Step [2200/3397], Loss: 0.0733\n",
      "Epoch [1/10], Step [2400/3397], Loss: 0.0978\n",
      "Epoch [1/10], Step [2600/3397], Loss: 0.0539\n",
      "Epoch [1/10], Step [2800/3397], Loss: 0.0844\n",
      "Epoch [1/10], Step [3000/3397], Loss: 0.0598\n",
      "Epoch [1/10], Step [3200/3397], Loss: 0.0747\n",
      "\n",
      "train-loss: 0.0334,\n",
      "Validation Loss: 0.0598, \n",
      "\n",
      "Epoch took:  1:04:35\n",
      "Epoch 2\n",
      "\n",
      "Epoch [2/10], Step [0/3397], Loss: 0.0605\n",
      "Epoch [2/10], Step [200/3397], Loss: 0.0614\n",
      "Epoch [2/10], Step [400/3397], Loss: 0.0507\n",
      "Epoch [2/10], Step [600/3397], Loss: 0.0673\n",
      "Epoch [2/10], Step [800/3397], Loss: 0.0504\n",
      "Epoch [2/10], Step [1000/3397], Loss: 0.0596\n",
      "Epoch [2/10], Step [1200/3397], Loss: 0.0434\n",
      "Epoch [2/10], Step [1400/3397], Loss: 0.0524\n",
      "Epoch [2/10], Step [1600/3397], Loss: 0.0502\n",
      "Epoch [2/10], Step [1800/3397], Loss: 0.0510\n",
      "Epoch [2/10], Step [2000/3397], Loss: 0.0407\n",
      "Epoch [2/10], Step [2200/3397], Loss: 0.0602\n",
      "Epoch [2/10], Step [2400/3397], Loss: 0.0593\n",
      "Epoch [2/10], Step [2600/3397], Loss: 0.0551\n",
      "Epoch [2/10], Step [2800/3397], Loss: 0.0504\n",
      "Epoch [2/10], Step [3000/3397], Loss: 0.0439\n",
      "Epoch [2/10], Step [3200/3397], Loss: 0.0528\n",
      "\n",
      "train-loss: 0.0261,\n",
      "Validation Loss: 0.0577, \n",
      "\n",
      "Epoch took:  1:01:35\n",
      "Epoch 3\n",
      "\n",
      "Epoch [3/10], Step [0/3397], Loss: 0.0439\n",
      "Epoch [3/10], Step [200/3397], Loss: 0.0361\n",
      "Epoch [3/10], Step [400/3397], Loss: 0.0444\n",
      "Epoch [3/10], Step [600/3397], Loss: 0.0396\n",
      "Epoch [3/10], Step [800/3397], Loss: 0.0514\n",
      "Epoch [3/10], Step [1000/3397], Loss: 0.0655\n",
      "Epoch [3/10], Step [1200/3397], Loss: 0.0441\n",
      "Epoch [3/10], Step [1400/3397], Loss: 0.0365\n",
      "Epoch [3/10], Step [1600/3397], Loss: 0.0417\n",
      "Epoch [3/10], Step [1800/3397], Loss: 0.0490\n",
      "Epoch [3/10], Step [2000/3397], Loss: 0.0309\n",
      "Epoch [3/10], Step [2200/3397], Loss: 0.0475\n",
      "Epoch [3/10], Step [2400/3397], Loss: 0.0301\n",
      "Epoch [3/10], Step [2600/3397], Loss: 0.0488\n",
      "Epoch [3/10], Step [2800/3397], Loss: 0.0372\n",
      "Epoch [3/10], Step [3000/3397], Loss: 0.0499\n",
      "Epoch [3/10], Step [3200/3397], Loss: 0.0519\n",
      "\n",
      "train-loss: 0.0226,\n",
      "Validation Loss: 0.0566, \n",
      "\n",
      "Epoch took:  1:00:37\n",
      "Epoch 4\n",
      "\n",
      "Epoch [4/10], Step [0/3397], Loss: 0.0345\n",
      "Epoch [4/10], Step [200/3397], Loss: 0.0446\n",
      "Epoch [4/10], Step [400/3397], Loss: 0.0367\n",
      "Epoch [4/10], Step [600/3397], Loss: 0.0473\n",
      "Epoch [4/10], Step [800/3397], Loss: 0.0502\n",
      "Epoch [4/10], Step [1000/3397], Loss: 0.0458\n",
      "Epoch [4/10], Step [1200/3397], Loss: 0.0328\n",
      "Epoch [4/10], Step [1400/3397], Loss: 0.0506\n",
      "Epoch [4/10], Step [1600/3397], Loss: 0.0436\n",
      "Epoch [4/10], Step [1800/3397], Loss: 0.0431\n",
      "Epoch [4/10], Step [2000/3397], Loss: 0.0459\n",
      "Epoch [4/10], Step [2200/3397], Loss: 0.0522\n",
      "Epoch [4/10], Step [2400/3397], Loss: 0.0390\n",
      "Epoch [4/10], Step [2600/3397], Loss: 0.0475\n",
      "Epoch [4/10], Step [2800/3397], Loss: 0.0493\n",
      "Epoch [4/10], Step [3000/3397], Loss: 0.0330\n",
      "Epoch [4/10], Step [3200/3397], Loss: 0.0358\n",
      "\n",
      "train-loss: 0.0202,\n",
      "Validation Loss: 0.0561, \n",
      "\n",
      "Epoch took:  1:03:41\n",
      "Epoch 5\n",
      "\n",
      "Epoch [5/10], Step [0/3397], Loss: 0.0408\n",
      "Epoch [5/10], Step [200/3397], Loss: 0.0457\n",
      "Epoch [5/10], Step [400/3397], Loss: 0.0425\n",
      "Epoch [5/10], Step [600/3397], Loss: 0.0433\n",
      "Epoch [5/10], Step [800/3397], Loss: 0.0342\n",
      "Epoch [5/10], Step [1000/3397], Loss: 0.0271\n",
      "Epoch [5/10], Step [1200/3397], Loss: 0.0475\n",
      "Epoch [5/10], Step [1400/3397], Loss: 0.0361\n",
      "Epoch [5/10], Step [1600/3397], Loss: 0.0348\n",
      "Epoch [5/10], Step [1800/3397], Loss: 0.0288\n",
      "Epoch [5/10], Step [2000/3397], Loss: 0.0382\n",
      "Epoch [5/10], Step [2200/3397], Loss: 0.0476\n",
      "Epoch [5/10], Step [2400/3397], Loss: 0.0367\n",
      "Epoch [5/10], Step [2600/3397], Loss: 0.0336\n",
      "Epoch [5/10], Step [2800/3397], Loss: 0.0284\n",
      "Epoch [5/10], Step [3000/3397], Loss: 0.0199\n",
      "Epoch [5/10], Step [3200/3397], Loss: 0.0289\n",
      "\n",
      "train-loss: 0.0186,\n",
      "Validation Loss: 0.0552, \n",
      "\n",
      "Epoch took:  1:02:35\n",
      "Epoch 6\n",
      "\n",
      "Epoch [6/10], Step [0/3397], Loss: 0.0275\n",
      "Epoch [6/10], Step [200/3397], Loss: 0.0274\n",
      "Epoch [6/10], Step [400/3397], Loss: 0.0333\n",
      "Epoch [6/10], Step [600/3397], Loss: 0.0403\n",
      "Epoch [6/10], Step [800/3397], Loss: 0.0257\n",
      "Epoch [6/10], Step [1000/3397], Loss: 0.0446\n",
      "Epoch [6/10], Step [1200/3397], Loss: 0.0302\n",
      "Epoch [6/10], Step [1400/3397], Loss: 0.0307\n",
      "Epoch [6/10], Step [1600/3397], Loss: 0.0468\n",
      "Epoch [6/10], Step [1800/3397], Loss: 0.0443\n",
      "Epoch [6/10], Step [2000/3397], Loss: 0.0374\n",
      "Epoch [6/10], Step [2200/3397], Loss: 0.0246\n",
      "Epoch [6/10], Step [2400/3397], Loss: 0.0230\n",
      "Epoch [6/10], Step [2600/3397], Loss: 0.0333\n",
      "Epoch [6/10], Step [2800/3397], Loss: 0.0364\n",
      "Epoch [6/10], Step [3000/3397], Loss: 0.0320\n",
      "Epoch [6/10], Step [3200/3397], Loss: 0.0249\n",
      "\n",
      "train-loss: 0.0173,\n",
      "Validation Loss: 0.0545, \n",
      "\n",
      "Epoch took:  1:01:40\n",
      "Epoch 7\n",
      "\n",
      "Epoch [7/10], Step [0/3397], Loss: 0.0231\n",
      "Epoch [7/10], Step [200/3397], Loss: 0.0260\n",
      "Epoch [7/10], Step [400/3397], Loss: 0.0388\n",
      "Epoch [7/10], Step [600/3397], Loss: 0.0327\n",
      "Epoch [7/10], Step [800/3397], Loss: 0.0402\n",
      "Epoch [7/10], Step [1000/3397], Loss: 0.0246\n",
      "Epoch [7/10], Step [1200/3397], Loss: 0.0374\n",
      "Epoch [7/10], Step [1400/3397], Loss: 0.0429\n",
      "Epoch [7/10], Step [1600/3397], Loss: 0.0357\n",
      "Epoch [7/10], Step [1800/3397], Loss: 0.0322\n",
      "Epoch [7/10], Step [2000/3397], Loss: 0.0390\n",
      "Epoch [7/10], Step [2200/3397], Loss: 0.0271\n",
      "Epoch [7/10], Step [2400/3397], Loss: 0.0307\n",
      "Epoch [7/10], Step [2600/3397], Loss: 0.0351\n",
      "Epoch [7/10], Step [2800/3397], Loss: 0.0248\n",
      "Epoch [7/10], Step [3000/3397], Loss: 0.0290\n",
      "Epoch [7/10], Step [3200/3397], Loss: 0.0219\n",
      "\n",
      "train-loss: 0.0163,\n",
      "Validation Loss: 0.0537, \n",
      "\n",
      "Epoch took:  1:01:32\n",
      "Epoch 8\n",
      "\n",
      "Epoch [8/10], Step [0/3397], Loss: 0.0186\n",
      "Epoch [8/10], Step [200/3397], Loss: 0.0312\n",
      "Epoch [8/10], Step [400/3397], Loss: 0.0283\n",
      "Epoch [8/10], Step [600/3397], Loss: 0.0218\n",
      "Epoch [8/10], Step [800/3397], Loss: 0.0220\n",
      "Epoch [8/10], Step [1000/3397], Loss: 0.0339\n",
      "Epoch [8/10], Step [1200/3397], Loss: 0.0202\n",
      "Epoch [8/10], Step [1400/3397], Loss: 0.0368\n",
      "Epoch [8/10], Step [1600/3397], Loss: 0.0245\n",
      "Epoch [8/10], Step [1800/3397], Loss: 0.0258\n",
      "Epoch [8/10], Step [2000/3397], Loss: 0.0196\n",
      "Epoch [8/10], Step [2200/3397], Loss: 0.0272\n",
      "Epoch [8/10], Step [2400/3397], Loss: 0.0235\n",
      "Epoch [8/10], Step [2600/3397], Loss: 0.0519\n",
      "Epoch [8/10], Step [2800/3397], Loss: 0.0195\n",
      "Epoch [8/10], Step [3000/3397], Loss: 0.0302\n",
      "Epoch [8/10], Step [3200/3397], Loss: 0.0273\n",
      "\n",
      "train-loss: 0.0154,\n",
      "Validation Loss: 0.0530, \n",
      "\n",
      "Epoch took:  1:01:40\n",
      "Epoch 9\n",
      "\n",
      "Epoch [9/10], Step [0/3397], Loss: 0.0347\n",
      "Epoch [9/10], Step [200/3397], Loss: 0.0281\n",
      "Epoch [9/10], Step [400/3397], Loss: 0.0407\n",
      "Epoch [9/10], Step [600/3397], Loss: 0.0328\n",
      "Epoch [9/10], Step [800/3397], Loss: 0.0379\n",
      "Epoch [9/10], Step [1000/3397], Loss: 0.0230\n",
      "Epoch [9/10], Step [1200/3397], Loss: 0.0178\n",
      "Epoch [9/10], Step [1400/3397], Loss: 0.0392\n",
      "Epoch [9/10], Step [1600/3397], Loss: 0.0455\n",
      "Epoch [9/10], Step [1800/3397], Loss: 0.0265\n",
      "Epoch [9/10], Step [2000/3397], Loss: 0.0367\n",
      "Epoch [9/10], Step [2200/3397], Loss: 0.0364\n",
      "Epoch [9/10], Step [2400/3397], Loss: 0.0258\n",
      "Epoch [9/10], Step [2600/3397], Loss: 0.0156\n",
      "Epoch [9/10], Step [2800/3397], Loss: 0.0221\n",
      "Epoch [9/10], Step [3000/3397], Loss: 0.0202\n",
      "Epoch [9/10], Step [3200/3397], Loss: 0.0355\n",
      "\n",
      "train-loss: 0.0147,\n",
      "Validation Loss: 0.0518, \n",
      "\n",
      "Epoch took:  1:01:34\n",
      "Epoch 10\n",
      "\n",
      "Epoch [10/10], Step [0/3397], Loss: 0.0367\n",
      "Epoch [10/10], Step [200/3397], Loss: 0.0242\n",
      "Epoch [10/10], Step [400/3397], Loss: 0.0262\n",
      "Epoch [10/10], Step [600/3397], Loss: 0.0186\n",
      "Epoch [10/10], Step [800/3397], Loss: 0.0276\n",
      "Epoch [10/10], Step [1000/3397], Loss: 0.0329\n",
      "Epoch [10/10], Step [1200/3397], Loss: 0.0207\n",
      "Epoch [10/10], Step [1400/3397], Loss: 0.0204\n",
      "Epoch [10/10], Step [1600/3397], Loss: 0.0153\n",
      "Epoch [10/10], Step [1800/3397], Loss: 0.0170\n",
      "Epoch [10/10], Step [2000/3397], Loss: 0.0221\n",
      "Epoch [10/10], Step [2200/3397], Loss: 0.0220\n",
      "Epoch [10/10], Step [2400/3397], Loss: 0.0188\n",
      "Epoch [10/10], Step [2600/3397], Loss: 0.0306\n",
      "Epoch [10/10], Step [2800/3397], Loss: 0.0214\n",
      "Epoch [10/10], Step [3000/3397], Loss: 0.0146\n",
      "Epoch [10/10], Step [3200/3397], Loss: 0.0243\n",
      "\n",
      "train-loss: 0.0140,\n",
      "Validation Loss: 0.0504, \n",
      "\n",
      "Epoch took:  1:01:39\n"
     ]
    },
    {
     "name": "stderr",
     "output_type": "stream",
     "text": [
      "TensorFlow installation not found - running with reduced feature set.\n"
     ]
    },
    {
     "name": "stdout",
     "output_type": "stream",
     "text": [
      "\n",
      "New experiment created. View your TensorBoard at: https://tensorboard.dev/experiment/I8wXoLM7TWSJvOfvvJln2Q/\n",
      "\n",
      "\u001b[1m[2023-02-09T08:58:34]\u001b[0m Started scanning logdir.\n",
      "\u001b[1m[2023-02-09T08:58:34]\u001b[0m Total uploaded: 60 scalars, 0 tensors, 0 binary objects\n",
      "\u001b[1m[2023-02-09T08:58:34]\u001b[0m Done scanning logdir.\n",
      "\n",
      "\n",
      "Done. View your TensorBoard at https://tensorboard.dev/experiment/I8wXoLM7TWSJvOfvvJln2Q/\n"
     ]
    }
   ],
   "source": [
    "model_trainer.run()"
   ]
  },
  {
   "cell_type": "code",
   "execution_count": 34,
   "metadata": {},
   "outputs": [
    {
     "data": {
      "text/plain": [
       "0    0.059835\n",
       "1    0.055580\n",
       "2    0.054325\n",
       "3    0.054581\n",
       "4    0.051669\n",
       "5    0.050750\n",
       "6    0.048903\n",
       "7    0.047978\n",
       "8    0.042961\n",
       "9    0.037833\n",
       "dtype: float64"
      ]
     },
     "execution_count": 34,
     "metadata": {},
     "output_type": "execute_result"
    }
   ],
   "source": [
    "model_trainer.df_performance_stats[[\"val_brake_loss\",\t\"val_steer_loss\",\t\"val_throttle_loss\"]].mean(axis=1)"
   ]
  },
  {
   "cell_type": "markdown",
   "metadata": {},
   "source": [
    "# Investigating model predictions (errors)\n",
    "To be moved in an extra module at some time ..."
   ]
  },
  {
   "cell_type": "markdown",
   "metadata": {},
   "source": []
  },
  {
   "cell_type": "code",
   "execution_count": null,
   "metadata": {},
   "outputs": [
    {
     "name": "stderr",
     "output_type": "stream",
     "text": [
      "/Users/julianvonklitzing/miniforge3/envs/carla/lib/python3.8/site-packages/torchvision/models/_utils.py:223: UserWarning: Arguments other than a weight enum or `None` for 'weights' are deprecated since 0.13 and may be removed in the future. The current behavior is equivalent to passing `weights=None`.\n",
      "  warnings.warn(msg)\n"
     ]
    },
    {
     "data": {
      "text/plain": [
       "<All keys matched successfully>"
      ]
     },
     "execution_count": 4,
     "metadata": {},
     "output_type": "execute_result"
    }
   ],
   "source": [
    "model = Baseline_V3()\n",
    "model.load_state_dict(torch.load(\"baseline_v3_7_hours.pt\"))"
   ]
  },
  {
   "cell_type": "code",
   "execution_count": 71,
   "metadata": {},
   "outputs": [],
   "source": [
    "model = model_trainer.model.to(torch.device(\"cpu\"))\n",
    "torch.save(model.state_dict(), \"resnet_baseline_v3_4_10_epochs_loss_balanced_noisy_2.pt\")"
   ]
  },
  {
   "cell_type": "code",
   "execution_count": null,
   "metadata": {},
   "outputs": [
    {
     "name": "stdout",
     "output_type": "stream",
     "text": [
      "Model will be trained on: mps\n"
     ]
    }
   ],
   "source": [
    "model_trainer = ModelTrainer(\n",
    "    model=model,\n",
    "    optimizer=optim.Adam(model.parameters(), lr=0.0001),\n",
    "    loss_fn=nn.L1Loss(),\n",
    "    n_epochs=10,\n",
    "    dataloader_train=dataloader_train,\n",
    "    dataloader_test=dataloader_test,\n",
    "    preprocessing=preprocessing,\n",
    "    upload_tensorboard=True\n",
    "    )"
   ]
  },
  {
   "cell_type": "code",
   "execution_count": null,
   "metadata": {},
   "outputs": [
    {
     "name": "stderr",
     "output_type": "stream",
     "text": [
      "143it [02:30,  1.06s/it]\n"
     ]
    }
   ],
   "source": [
    "y_true_list, y_pred_list = model_trainer.get_dataset_predictions()"
   ]
  },
  {
   "cell_type": "code",
   "execution_count": null,
   "metadata": {},
   "outputs": [],
   "source": [
    "df_true = pd.DataFrame(np.transpose(y_true_list), columns=dataset_test.y)\n",
    "df_pred = pd.DataFrame(np.transpose(y_pred_list), columns=dataset_test.y)"
   ]
  },
  {
   "cell_type": "code",
   "execution_count": null,
   "metadata": {},
   "outputs": [
    {
     "data": {
      "text/plain": [
       "array([[<AxesSubplot: title={'center': 'brake'}>,\n",
       "        <AxesSubplot: title={'center': 'steer'}>],\n",
       "       [<AxesSubplot: title={'center': 'throttle'}>, <AxesSubplot: >]],\n",
       "      dtype=object)"
      ]
     },
     "execution_count": 8,
     "metadata": {},
     "output_type": "execute_result"
    },
    {
     "data": {
      "image/png": "[encoded data removed]",
      "text/plain": [
       "<Figure size 640x480 with 4 Axes>"
      ]
     },
     "metadata": {},
     "output_type": "display_data"
    }
   ],
   "source": [
    "df_pred.hist(bins=20)"
   ]
  },
  {
   "cell_type": "code",
   "execution_count": null,
   "metadata": {},
   "outputs": [],
   "source": [
    "df_residuals = df_true - df_pred"
   ]
  },
  {
   "cell_type": "code",
   "execution_count": null,
   "metadata": {},
   "outputs": [
    {
     "data": {
      "text/plain": [
       "array([[<AxesSubplot: title={'center': 'brake'}>,\n",
       "        <AxesSubplot: title={'center': 'steer'}>],\n",
       "       [<AxesSubplot: title={'center': 'throttle'}>, <AxesSubplot: >]],\n",
       "      dtype=object)"
      ]
     },
     "execution_count": 10,
     "metadata": {},
     "output_type": "execute_result"
    },
    {
     "data": {
      "image/png": "[encoded data removed]",
      "text/plain": [
       "<Figure size 640x480 with 4 Axes>"
      ]
     },
     "metadata": {},
     "output_type": "display_data"
    }
   ],
   "source": [
    "df_residuals.hist(bins=20)"
   ]
  },
  {
   "attachments": {},
   "cell_type": "markdown",
   "metadata": {},
   "source": [
    "## Experiment which operators/function can be executed on device"
   ]
  },
  {
   "cell_type": "code",
   "execution_count": null,
   "metadata": {},
   "outputs": [
    {
     "data": {
      "text/plain": [
       "tensor([2, 4], device='mps:0')"
      ]
     },
     "execution_count": 25,
     "metadata": {},
     "output_type": "execute_result"
    }
   ],
   "source": [
    "sum([torch.tensor([1, 2], device=torch.device(\"mps\")), torch.tensor([1, 2], device=torch.device(\"mps\"))])"
   ]
  },
  {
   "cell_type": "code",
   "execution_count": null,
   "metadata": {},
   "outputs": [
    {
     "data": {
      "text/plain": [
       "tensor([[[-1.5880, -1.5818, -1.5906,  ..., -1.5935, -1.5822, -1.5898],\n",
       "         [-1.5930, -1.5885, -1.5856,  ..., -1.5849, -1.5842, -1.5823],\n",
       "         [-1.5916, -1.5824, -1.5912,  ..., -1.5888, -1.5918, -1.5912],\n",
       "         ...,\n",
       "         [-1.5876, -1.5815, -1.5863,  ..., -1.5863, -1.5891, -1.5891],\n",
       "         [-1.5907, -1.5873, -1.5811,  ..., -1.5932, -1.5911, -1.5855],\n",
       "         [-1.5811, -1.5949, -1.5936,  ..., -1.5817, -1.5894, -1.5840]],\n",
       "\n",
       "        [[-1.3437, -1.3457, -1.3556,  ..., -1.3549, -1.3420, -1.3563],\n",
       "         [-1.3516, -1.3566, -1.3536,  ..., -1.3507, -1.3517, -1.3536],\n",
       "         [-1.3434, -1.3525, -1.3566,  ..., -1.3443, -1.3414, -1.3515],\n",
       "         ...,\n",
       "         [-1.3487, -1.3424, -1.3464,  ..., -1.3550, -1.3503, -1.3463],\n",
       "         [-1.3541, -1.3570, -1.3488,  ..., -1.3472, -1.3501, -1.3563],\n",
       "         [-1.3416, -1.3412, -1.3502,  ..., -1.3461, -1.3422, -1.3530]],\n",
       "\n",
       "        [[-1.1878, -1.1793, -1.1850,  ..., -1.1920, -1.1868, -1.1808],\n",
       "         [-1.1811, -1.1790, -1.1906,  ..., -1.1918, -1.1796, -1.1800],\n",
       "         [-1.1826, -1.1874, -1.1900,  ..., -1.1771, -1.1879, -1.1862],\n",
       "         ...,\n",
       "         [-1.1798, -1.1849, -1.1783,  ..., -1.1805, -1.1901, -1.1903],\n",
       "         [-1.1858, -1.1860, -1.1869,  ..., -1.1803, -1.1808, -1.1867],\n",
       "         [-1.1863, -1.1896, -1.1774,  ..., -1.1896, -1.1817, -1.1899]]],\n",
       "       device='mps:0')"
      ]
     },
     "execution_count": 36,
     "metadata": {},
     "output_type": "execute_result"
    }
   ],
   "source": [
    "# Preprocessing could be done on GPU but not on MPS (Apple)\n",
    "preprocessing[\"rgb\"](torch.rand((3, 160, 960), device=torch.device(\"mps\")))"
   ]
  },
  {
   "cell_type": "code",
   "execution_count": null,
   "metadata": {},
   "outputs": [
    {
     "data": {
      "text/plain": [
       "device(type='mps', index=0)"
      ]
     },
     "execution_count": 38,
     "metadata": {},
     "output_type": "execute_result"
    }
   ],
   "source": [
    "torch.tensor([1, 2], device=torch.device(\"mps\")).device"
   ]
  },
  {
   "cell_type": "code",
   "execution_count": null,
   "metadata": {},
   "outputs": [],
   "source": [
    "test_dict = {\"t1\": torch.tensor([1, 2, 3])}\n",
    "# [test_dict[key].to(torch.device(\"mps\")) for key in test_dict]\n",
    "for key in test_dict:\n",
    "    test_dict[key] = test_dict[key].to(torch.device(\"mps\"))"
   ]
  },
  {
   "cell_type": "code",
   "execution_count": 21,
   "metadata": {},
   "outputs": [],
   "source": [
    "torch_values = torch.tensor([0, 1, 2, 3, 4], device=torch.device(\"mps\"))\n",
    "torch_IDX = torch.tensor([0, 2])"
   ]
  },
  {
   "cell_type": "code",
   "execution_count": 22,
   "metadata": {},
   "outputs": [
    {
     "data": {
      "text/plain": [
       "tensor([0, 2], device='mps:0')"
      ]
     },
     "execution_count": 22,
     "metadata": {},
     "output_type": "execute_result"
    }
   ],
   "source": [
    "torch_values[torch_IDX]"
   ]
  },
  {
   "cell_type": "code",
   "execution_count": 21,
   "metadata": {},
   "outputs": [],
   "source": [
    "dirs = os.listdir(\"runs\")\n",
    "dirs_creation_time = [os.path.getctime(os.path.join(\"runs\", dir)) for dir in dirs]\n"
   ]
  },
  {
   "cell_type": "code",
   "execution_count": 26,
   "metadata": {},
   "outputs": [
    {
     "data": {
      "text/plain": [
       "'Feb03_18-24-31_MBPvonJulian2.fritz.box'"
      ]
     },
     "execution_count": 26,
     "metadata": {},
     "output_type": "execute_result"
    }
   ],
   "source": [
    "[el[0] for el in sorted(zip(dirs, dirs_creation_time), key=lambda x: x[1])][-1]"
   ]
  },
  {
   "cell_type": "code",
   "execution_count": 19,
   "metadata": {},
   "outputs": [
    {
     "data": {
      "text/plain": [
       "1675434169.053314"
      ]
     },
     "execution_count": 19,
     "metadata": {},
     "output_type": "execute_result"
    }
   ],
   "source": [
    "os.path.getctime('runs/Feb03_15-22-49_MBPvonJulian2.fritz.box')"
   ]
  },
  {
   "cell_type": "code",
   "execution_count": null,
   "metadata": {},
   "outputs": [],
   "source": []
  }
 ],
 "metadata": {
  "kernelspec": {
   "display_name": "carla",
   "language": "python",
   "name": "python3"
  },
  "language_info": {
   "codemirror_mode": {
    "name": "ipython",
    "version": 3
   },
   "file_extension": ".py",
   "mimetype": "text/x-python",
   "name": "python",
   "nbconvert_exporter": "python",
   "pygments_lexer": "ipython3",
   "version": "3.8.13"
  },
  "vscode": {
   "interpreter": {
    "hash": "bc80d0638afb8ec7c43f4b834002a598fcddbd6e8bf5db40ad8cba47e68e6a97"
   }
  }
 },
 "nbformat": 4,
 "nbformat_minor": 2
}
