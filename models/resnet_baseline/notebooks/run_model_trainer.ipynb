{
 "cells": [
  {
   "cell_type": "code",
   "execution_count": 2,
   "metadata": {},
   "outputs": [
    {
     "name": "stderr",
     "output_type": "stream",
     "text": [
      "/Users/julianvonklitzing/miniforge3/envs/carla/lib/python3.8/site-packages/tqdm/auto.py:22: TqdmWarning: IProgress not found. Please update jupyter and ipywidgets. See https://ipywidgets.readthedocs.io/en/stable/user_install.html\n",
      "  from .autonotebook import tqdm as notebook_tqdm\n"
     ]
    }
   ],
   "source": [
    "import sys\n",
    "import numpy as np\n",
    "import pandas as pd\n",
    "import os\n",
    "from torch.utils.data import DataLoader, WeightedRandomSampler\n",
    "from torch.utils.data.dataloader import default_collate\n",
    "import torch.nn as nn\n",
    "import torch.optim as optim\n",
    "from torchsummary import summary\n",
    "import torch\n",
    "import pickle\n",
    "\n",
    "# Append the project dir to path\n",
    "sys.path.append(os.path.join(\"..\", \"..\", \"..\"))\n",
    "from data_pipeline.utils import train_test_split, create_metadata_df, get_sample_weights_of_dataset, measurements_to_df\n",
    "from data_pipeline.dataset_xy import CARLADatasetXY\n",
    "from data_pipeline.dataset_xy_opt import CARLADatasetXYOpt\n",
    "from data_pipeline.data_preprocessing import preprocessing\n",
    "from models.resnet_baseline.architectures_v3 import Resnet_Baseline_V3\n",
    "from models.model_trainer import ModelTrainer"
   ]
  },
  {
   "attachments": {},
   "cell_type": "markdown",
   "metadata": {},
   "source": [
    "## Choose training settings"
   ]
  },
  {
   "cell_type": "code",
   "execution_count": 3,
   "metadata": {},
   "outputs": [],
   "source": [
    "# Set data balancing options (if both false, then no balancing is applied)\n",
    "use_balance_by_loss_weighting = False\n",
    "use_balance_by_over_under_sampling = True\n",
    "\n",
    "assert not use_balance_by_loss_weighting or not use_balance_by_over_under_sampling"
   ]
  },
  {
   "cell_type": "code",
   "execution_count": 4,
   "metadata": {},
   "outputs": [],
   "source": [
    "# Train additionally on the noisy data\n",
    "use_data_noisy = True\n",
    "\n",
    "path_data_noisy = None\n",
    "if use_data_noisy:\n",
    "    path_data_noisy = os.path.join(\"..\", \"..\", \"..\", \"data\", \"Noise-Dataset\")"
   ]
  },
  {
   "attachments": {},
   "cell_type": "markdown",
   "metadata": {},
   "source": [
    "## Create Datasets"
   ]
  },
  {
   "cell_type": "code",
   "execution_count": 5,
   "metadata": {},
   "outputs": [],
   "source": [
    "path_data = os.path.join(\"..\", \"..\", \"..\", \"data\", \"data\")\n",
    "\n",
    "config_xy = {\"used_inputs\": [\"rgb\", \"measurements\"], \n",
    "        \"used_measurements\": [\"speed\", \"steer\", \"throttle\", \"brake\", \"command\"],\n",
    "        \"y\": [\"brake\", \"steer\", \"throttle\"],\n",
    "        \"seq_len\": 1\n",
    "        }"
   ]
  },
  {
   "cell_type": "code",
   "execution_count": 41,
   "metadata": {},
   "outputs": [
    {
     "name": "stdout",
     "output_type": "stream",
     "text": [
      "Varying number files among input types: ../../../data/data/rl_dataset_23_11/Routes_clipped_Town05_rl_Seed0/clipped_Town05_rl_route30_11_23_17_42_15/lidar_trans\n"
     ]
    }
   ],
   "source": [
    "device = torch.device('cuda:0' if torch.cuda.is_available() else 'mps' if torch.has_mps else 'cpu')\n",
    "batch_size = 64\n",
    "\n",
    "# Create df_meta \n",
    "df_meta_data = create_metadata_df(path_data, config_xy[\"used_inputs\"])\n",
    "df_meta_data_noisy = None\n",
    "if use_data_noisy:\n",
    "    df_meta_data_noisy = create_metadata_df(path_data_noisy, config_xy[\"used_inputs\"])\n",
    "\n",
    "# Train/test split\n",
    "train_test_config = {\n",
    "    \"train\": ['Town00', 'Town01', 'Town02', 'Town03', 'Town04', 'Town05', 'Town07', 'Town08', 'Town09', 'Town10'],\n",
    "    \"test\": ['Town06']\n",
    "}\n",
    "df_meta_data_train, df_meta_data_test_1, df_meta_data_test_2 = train_test_split(df_meta_data, towns_intersect=train_test_config, df_meta_data_noisy=df_meta_data_noisy)\n",
    "\n",
    "# Decrease train/test size for quick test run\n",
    "#df_meta_data_train = df_meta_data_train.head(5 * batch_size)\n",
    "#df_meta_data_test_1 = df_meta_data_test_1.head(5 * batch_size)\n",
    "\n",
    "# Create Dataset & DataLoader\n",
    "dataset_train = CARLADatasetXY(root_dir=path_data, df_meta_data=df_meta_data_train, config=config_xy)\n",
    "dataset_test_1 = CARLADatasetXY(root_dir=path_data, df_meta_data=df_meta_data_test_1, config=config_xy)\n",
    "dataset_test_2 = CARLADatasetXY(root_dir=path_data, df_meta_data=df_meta_data_test_2, config=config_xy)"
   ]
  },
  {
   "cell_type": "code",
   "execution_count": 42,
   "metadata": {},
   "outputs": [
    {
     "data": {
      "text/html": [
       "<div>\n",
       "<style scoped>\n",
       "    .dataframe tbody tr th:only-of-type {\n",
       "        vertical-align: middle;\n",
       "    }\n",
       "\n",
       "    .dataframe tbody tr th {\n",
       "        vertical-align: top;\n",
       "    }\n",
       "\n",
       "    .dataframe thead th {\n",
       "        text-align: right;\n",
       "    }\n",
       "</style>\n",
       "<table border=\"1\" class=\"dataframe\">\n",
       "  <thead>\n",
       "    <tr style=\"text-align: right;\">\n",
       "      <th></th>\n",
       "      <th>dir</th>\n",
       "      <th>rgb</th>\n",
       "      <th>measurements</th>\n",
       "    </tr>\n",
       "  </thead>\n",
       "  <tbody>\n",
       "    <tr>\n",
       "      <th>0</th>\n",
       "      <td>../../../data/data/coke_dataset_23_11/Routes_S...</td>\n",
       "      <td>0000.png</td>\n",
       "      <td>0000.json</td>\n",
       "    </tr>\n",
       "    <tr>\n",
       "      <th>1</th>\n",
       "      <td>../../../data/data/coke_dataset_23_11/Routes_S...</td>\n",
       "      <td>0001.png</td>\n",
       "      <td>0001.json</td>\n",
       "    </tr>\n",
       "    <tr>\n",
       "      <th>2</th>\n",
       "      <td>../../../data/data/coke_dataset_23_11/Routes_S...</td>\n",
       "      <td>0002.png</td>\n",
       "      <td>0002.json</td>\n",
       "    </tr>\n",
       "    <tr>\n",
       "      <th>3</th>\n",
       "      <td>../../../data/data/coke_dataset_23_11/Routes_S...</td>\n",
       "      <td>0003.png</td>\n",
       "      <td>0003.json</td>\n",
       "    </tr>\n",
       "    <tr>\n",
       "      <th>4</th>\n",
       "      <td>../../../data/data/coke_dataset_23_11/Routes_S...</td>\n",
       "      <td>0004.png</td>\n",
       "      <td>0004.json</td>\n",
       "    </tr>\n",
       "    <tr>\n",
       "      <th>...</th>\n",
       "      <td>...</td>\n",
       "      <td>...</td>\n",
       "      <td>...</td>\n",
       "    </tr>\n",
       "    <tr>\n",
       "      <th>217370</th>\n",
       "      <td>../../../data/Noise-Dataset/Noise-Dataset2/Tow...</td>\n",
       "      <td>0035.png</td>\n",
       "      <td>0035.json</td>\n",
       "    </tr>\n",
       "    <tr>\n",
       "      <th>217371</th>\n",
       "      <td>../../../data/Noise-Dataset/Noise-Dataset2/Tow...</td>\n",
       "      <td>0036.png</td>\n",
       "      <td>0036.json</td>\n",
       "    </tr>\n",
       "    <tr>\n",
       "      <th>217372</th>\n",
       "      <td>../../../data/Noise-Dataset/Noise-Dataset2/Tow...</td>\n",
       "      <td>0037.png</td>\n",
       "      <td>0037.json</td>\n",
       "    </tr>\n",
       "    <tr>\n",
       "      <th>217373</th>\n",
       "      <td>../../../data/Noise-Dataset/Noise-Dataset2/Tow...</td>\n",
       "      <td>0038.png</td>\n",
       "      <td>0038.json</td>\n",
       "    </tr>\n",
       "    <tr>\n",
       "      <th>217374</th>\n",
       "      <td>../../../data/Noise-Dataset/Noise-Dataset2/Tow...</td>\n",
       "      <td>0039.png</td>\n",
       "      <td>0039.json</td>\n",
       "    </tr>\n",
       "  </tbody>\n",
       "</table>\n",
       "<p>217375 rows × 3 columns</p>\n",
       "</div>"
      ],
      "text/plain": [
       "                                                      dir       rgb  \\\n",
       "0       ../../../data/data/coke_dataset_23_11/Routes_S...  0000.png   \n",
       "1       ../../../data/data/coke_dataset_23_11/Routes_S...  0001.png   \n",
       "2       ../../../data/data/coke_dataset_23_11/Routes_S...  0002.png   \n",
       "3       ../../../data/data/coke_dataset_23_11/Routes_S...  0003.png   \n",
       "4       ../../../data/data/coke_dataset_23_11/Routes_S...  0004.png   \n",
       "...                                                   ...       ...   \n",
       "217370  ../../../data/Noise-Dataset/Noise-Dataset2/Tow...  0035.png   \n",
       "217371  ../../../data/Noise-Dataset/Noise-Dataset2/Tow...  0036.png   \n",
       "217372  ../../../data/Noise-Dataset/Noise-Dataset2/Tow...  0037.png   \n",
       "217373  ../../../data/Noise-Dataset/Noise-Dataset2/Tow...  0038.png   \n",
       "217374  ../../../data/Noise-Dataset/Noise-Dataset2/Tow...  0039.png   \n",
       "\n",
       "       measurements  \n",
       "0         0000.json  \n",
       "1         0001.json  \n",
       "2         0002.json  \n",
       "3         0003.json  \n",
       "4         0004.json  \n",
       "...             ...  \n",
       "217370    0035.json  \n",
       "217371    0036.json  \n",
       "217372    0037.json  \n",
       "217373    0038.json  \n",
       "217374    0039.json  \n",
       "\n",
       "[217375 rows x 3 columns]"
      ]
     },
     "execution_count": 42,
     "metadata": {},
     "output_type": "execute_result"
    }
   ],
   "source": [
    "df_meta_data_train"
   ]
  },
  {
   "cell_type": "markdown",
   "metadata": {},
   "source": [
    "## Generate sample weights to be passed to ModelTrainer"
   ]
  },
  {
   "cell_type": "code",
   "execution_count": 43,
   "metadata": {},
   "outputs": [],
   "source": [
    "def save_sample_weights(sample_weights):\n",
    "    with open('sample_weights.pickle', 'wb') as handle:\n",
    "        pickle.dump(sample_weights, handle, protocol=pickle.HIGHEST_PROTOCOL)\n",
    "\n",
    "def load_sample_weights():\n",
    "    with open('sample_weights.pickle', 'rb') as handle:\n",
    "        b = pickle.load(handle)\n",
    "    return b"
   ]
  },
  {
   "cell_type": "code",
   "execution_count": 44,
   "metadata": {},
   "outputs": [
    {
     "name": "stderr",
     "output_type": "stream",
     "text": [
      "100%|██████████| 217375/217375 [01:26<00:00, 2527.14it/s]\n"
     ]
    },
    {
     "name": "stdout",
     "output_type": "stream",
     "text": [
      "dict_keys(['brake', 'steer', 'throttle'])\n"
     ]
    }
   ],
   "source": [
    "sample_weights = None\n",
    "if use_balance_by_loss_weighting or use_balance_by_over_under_sampling:\n",
    "    # Dictionary that saves all weights to all y variables \n",
    "    sample_weights = get_sample_weights_of_dataset(dataset_train, num_bins=10, multilabel_option=False) # TODO: Hacky False to try prob balacing only on steer\n",
    "    # sample_weights = load_sample_weights()\n",
    "    print(sample_weights.keys())"
   ]
  },
  {
   "cell_type": "code",
   "execution_count": 47,
   "metadata": {},
   "outputs": [],
   "source": [
    "# TODO: Hacky False to try prob balacing only on steer\n",
    "sample_weights = {\"multilabel\": sample_weights[\"steer\"]}"
   ]
  },
  {
   "attachments": {},
   "cell_type": "markdown",
   "metadata": {},
   "source": [
    "## Create DataLoaders"
   ]
  },
  {
   "cell_type": "code",
   "execution_count": 50,
   "metadata": {},
   "outputs": [
    {
     "name": "stderr",
     "output_type": "stream",
     "text": [
      "100%|██████████| 217375/217375 [01:24<00:00, 2573.71it/s]\n"
     ]
    }
   ],
   "source": [
    "df_meas_train = measurements_to_df(df_meta_data_train)\n",
    "df_meas_train[\"probs\"] = sample_weights[\"multilabel\"]"
   ]
  },
  {
   "cell_type": "code",
   "execution_count": 71,
   "metadata": {},
   "outputs": [
    {
     "data": {
      "text/plain": [
       "array([<AxesSubplot: title={'center': '1'}, ylabel='Frequency'>,\n",
       "       <AxesSubplot: title={'center': '2'}, ylabel='Frequency'>,\n",
       "       <AxesSubplot: title={'center': '3'}, ylabel='Frequency'>,\n",
       "       <AxesSubplot: title={'center': '4'}, ylabel='Frequency'>,\n",
       "       <AxesSubplot: title={'center': '5'}, ylabel='Frequency'>,\n",
       "       <AxesSubplot: title={'center': '6'}, ylabel='Frequency'>],\n",
       "      dtype=object)"
      ]
     },
     "execution_count": 71,
     "metadata": {},
     "output_type": "execute_result"
    },
    {
     "data": {
      "image/png": "[encoded data removed]",
      "text/plain": [
       "<Figure size 500x1000 with 6 Axes>"
      ]
     },
     "metadata": {},
     "output_type": "display_data"
    }
   ],
   "source": [
    "df_meas_train[[\"command\", \"steer\"]].plot.hist(by=\"command\", bins=10, figsize=(5, 10))"
   ]
  },
  {
   "cell_type": "code",
   "execution_count": 52,
   "metadata": {},
   "outputs": [
    {
     "data": {
      "text/plain": [
       "<AxesSubplot: xlabel='steer', ylabel='probs'>"
      ]
     },
     "execution_count": 52,
     "metadata": {},
     "output_type": "execute_result"
    },
    {
     "data": {
      "image/png": "[encoded data removed]",
      "text/plain": [
       "<Figure size 640x480 with 1 Axes>"
      ]
     },
     "metadata": {},
     "output_type": "display_data"
    }
   ],
   "source": [
    "df_meas_train.plot.scatter(x=\"steer\", y=\"probs\")"
   ]
  },
  {
   "cell_type": "code",
   "execution_count": 53,
   "metadata": {},
   "outputs": [],
   "source": [
    "weighted_random_sampler = None\n",
    "shuffle = True\n",
    "if use_balance_by_over_under_sampling:\n",
    "    weighted_random_sampler = WeightedRandomSampler(weights=sample_weights[\"multilabel\"], num_samples=dataset_train.__len__(), replacement=True)\n",
    "    shuffle = False\n",
    "\n",
    "dataloader_train = DataLoader(dataset_train, batch_size=batch_size, num_workers=0, shuffle=shuffle, sampler=weighted_random_sampler)\n",
    "dataloader_test_1 = DataLoader(dataset_test_1, batch_size=batch_size, num_workers=0, shuffle=False, )\n",
    "dataloader_test_2 = DataLoader(dataset_test_2, batch_size=batch_size, num_workers=0, shuffle=False, )\n",
    "\n",
    "# Attempt to directly initialize tensors on device in the DataLoader\n",
    "# collate_fn=lambda x: tuple(x_.to(device) for x_ in default_collate(x))\n",
    "# collate_fn=lambda x: list(map(lambda x: x.to(device), default_collate(x))"
   ]
  },
  {
   "cell_type": "code",
   "execution_count": 54,
   "metadata": {},
   "outputs": [
    {
     "data": {
      "text/plain": [
       "3397"
      ]
     },
     "execution_count": 54,
     "metadata": {},
     "output_type": "execute_result"
    }
   ],
   "source": [
    "len(dataloader_train)"
   ]
  },
  {
   "cell_type": "code",
   "execution_count": 55,
   "metadata": {},
   "outputs": [
    {
     "data": {
      "text/plain": [
       "271"
      ]
     },
     "execution_count": 55,
     "metadata": {},
     "output_type": "execute_result"
    }
   ],
   "source": [
    "len(dataloader_test_1)"
   ]
  },
  {
   "cell_type": "markdown",
   "metadata": {},
   "source": [
    "# Create ModelTrainer & run it"
   ]
  },
  {
   "cell_type": "code",
   "execution_count": 60,
   "metadata": {},
   "outputs": [],
   "source": [
    "model = Resnet_Baseline_V3()\n",
    "#model.load_state_dict(torch.load(\"resnet_baseline_v3.pt\"))\n",
    "\n",
    "if not use_balance_by_loss_weighting:\n",
    "    sample_weights = None"
   ]
  },
  {
   "cell_type": "code",
   "execution_count": 65,
   "metadata": {},
   "outputs": [],
   "source": [
    "model = model_trainer.model.to(torch.device(\"cpu\"))\n",
    "torch.save(model.state_dict(), f\"resnet_baseline_v3_6_10_epochs_prob_balanced_steer_only_noisy_2.pt\".lower())"
   ]
  },
  {
   "cell_type": "code",
   "execution_count": 63,
   "metadata": {},
   "outputs": [
    {
     "name": "stdout",
     "output_type": "stream",
     "text": [
      "Model will be trained on: mps\n"
     ]
    }
   ],
   "source": [
    "# Must be ordered alphabetically (i.e. the same like sample_weights keys)\n",
    "loss_fns_dict = {\"brake\": nn.L1Loss(reduction='none'), \"steer\": nn.L1Loss(reduction='none'), \"throttle\": nn.L1Loss(reduction='none')}\n",
    "loss_fn_weights = {\"brake\": 0.05, \"steer\": 0.45, \"throttle\": 0.5}\n",
    "\n",
    "model_trainer = ModelTrainer(\n",
    "    model=model,\n",
    "    optimizer=optim.Adam(model.parameters(), lr=0.0001),\n",
    "    loss_fns=loss_fns_dict,\n",
    "    loss_fn_weights=loss_fn_weights,\n",
    "    n_epochs=10,\n",
    "    dataloader_train=dataloader_train,\n",
    "    dataloader_test=dataloader_test_1,\n",
    "    sample_weights=sample_weights,\n",
    "    preprocessing=preprocessing,\n",
    "    upload_tensorboard=True\n",
    "    )"
   ]
  },
  {
   "cell_type": "code",
   "execution_count": 64,
   "metadata": {},
   "outputs": [
    {
     "name": "stdout",
     "output_type": "stream",
     "text": [
      "Epoch 1\n",
      "\n",
      "Epoch [1/10], Step [0/3397], Loss: 0.4113\n",
      "Epoch [1/10], Step [200/3397], Loss: 0.2067\n",
      "Epoch [1/10], Step [400/3397], Loss: 0.2013\n",
      "Epoch [1/10], Step [600/3397], Loss: 0.1730\n",
      "Epoch [1/10], Step [800/3397], Loss: 0.1368\n",
      "Epoch [1/10], Step [1000/3397], Loss: 0.1181\n",
      "Epoch [1/10], Step [1200/3397], Loss: 0.1275\n",
      "Epoch [1/10], Step [1400/3397], Loss: 0.1194\n",
      "Epoch [1/10], Step [1600/3397], Loss: 0.1107\n",
      "Epoch [1/10], Step [1800/3397], Loss: 0.0975\n",
      "Epoch [1/10], Step [2000/3397], Loss: 0.1019\n",
      "Epoch [1/10], Step [2200/3397], Loss: 0.1152\n",
      "Epoch [1/10], Step [2400/3397], Loss: 0.0970\n",
      "Epoch [1/10], Step [2600/3397], Loss: 0.0827\n",
      "Epoch [1/10], Step [2800/3397], Loss: 0.0889\n",
      "Epoch [1/10], Step [3000/3397], Loss: 0.1018\n",
      "Epoch [1/10], Step [3200/3397], Loss: 0.0751\n",
      "\n",
      "train-loss: 0.0404,\n",
      "Validation Loss: 0.0613, \n",
      "\n",
      "Epoch took:  1:10:46\n",
      "Epoch 2\n",
      "\n",
      "Epoch [2/10], Step [0/3397], Loss: 0.0617\n",
      "Epoch [2/10], Step [200/3397], Loss: 0.0868\n",
      "Epoch [2/10], Step [400/3397], Loss: 0.0738\n",
      "Epoch [2/10], Step [600/3397], Loss: 0.0792\n",
      "Epoch [2/10], Step [800/3397], Loss: 0.0688\n",
      "Epoch [2/10], Step [1000/3397], Loss: 0.0626\n",
      "Epoch [2/10], Step [1200/3397], Loss: 0.0599\n",
      "Epoch [2/10], Step [1400/3397], Loss: 0.0666\n",
      "Epoch [2/10], Step [1600/3397], Loss: 0.0820\n",
      "Epoch [2/10], Step [1800/3397], Loss: 0.0635\n",
      "Epoch [2/10], Step [2000/3397], Loss: 0.0525\n",
      "Epoch [2/10], Step [2200/3397], Loss: 0.0677\n",
      "Epoch [2/10], Step [2400/3397], Loss: 0.0503\n",
      "Epoch [2/10], Step [2600/3397], Loss: 0.0733\n",
      "Epoch [2/10], Step [2800/3397], Loss: 0.0522\n",
      "Epoch [2/10], Step [3000/3397], Loss: 0.0522\n",
      "Epoch [2/10], Step [3200/3397], Loss: 0.0405\n",
      "\n",
      "train-loss: 0.0315,\n",
      "Validation Loss: 0.0541, \n",
      "\n",
      "Epoch took:  1:39:10\n",
      "Epoch 3\n",
      "\n",
      "Epoch [3/10], Step [0/3397], Loss: 0.0486\n",
      "Epoch [3/10], Step [200/3397], Loss: 0.0655\n",
      "Epoch [3/10], Step [400/3397], Loss: 0.0515\n",
      "Epoch [3/10], Step [600/3397], Loss: 0.0594\n",
      "Epoch [3/10], Step [800/3397], Loss: 0.0735\n",
      "Epoch [3/10], Step [1000/3397], Loss: 0.0432\n",
      "Epoch [3/10], Step [1200/3397], Loss: 0.0723\n",
      "Epoch [3/10], Step [1400/3397], Loss: 0.0384\n",
      "Epoch [3/10], Step [1600/3397], Loss: 0.0792\n",
      "Epoch [3/10], Step [1800/3397], Loss: 0.0510\n",
      "Epoch [3/10], Step [2000/3397], Loss: 0.0442\n",
      "Epoch [3/10], Step [2200/3397], Loss: 0.0374\n",
      "Epoch [3/10], Step [2400/3397], Loss: 0.0526\n",
      "Epoch [3/10], Step [2600/3397], Loss: 0.0396\n",
      "Epoch [3/10], Step [2800/3397], Loss: 0.0379\n",
      "Epoch [3/10], Step [3000/3397], Loss: 0.0519\n",
      "Epoch [3/10], Step [3200/3397], Loss: 0.0341\n",
      "\n",
      "train-loss: 0.0263,\n",
      "Validation Loss: 0.0482, \n",
      "\n",
      "Epoch took:  1:03:57\n",
      "Epoch 4\n",
      "\n",
      "Epoch [4/10], Step [0/3397], Loss: 0.0385\n",
      "Epoch [4/10], Step [200/3397], Loss: 0.0579\n",
      "Epoch [4/10], Step [400/3397], Loss: 0.0352\n",
      "Epoch [4/10], Step [600/3397], Loss: 0.0415\n",
      "Epoch [4/10], Step [800/3397], Loss: 0.0277\n",
      "Epoch [4/10], Step [1000/3397], Loss: 0.0239\n",
      "Epoch [4/10], Step [1200/3397], Loss: 0.0344\n",
      "Epoch [4/10], Step [1400/3397], Loss: 0.0583\n",
      "Epoch [4/10], Step [1600/3397], Loss: 0.0404\n",
      "Epoch [4/10], Step [1800/3397], Loss: 0.0459\n",
      "Epoch [4/10], Step [2000/3397], Loss: 0.0358\n",
      "Epoch [4/10], Step [2200/3397], Loss: 0.0353\n",
      "Epoch [4/10], Step [2400/3397], Loss: 0.0236\n",
      "Epoch [4/10], Step [2600/3397], Loss: 0.0370\n",
      "Epoch [4/10], Step [2800/3397], Loss: 0.0374\n",
      "Epoch [4/10], Step [3000/3397], Loss: 0.0279\n",
      "Epoch [4/10], Step [3200/3397], Loss: 0.0366\n",
      "\n",
      "train-loss: 0.0228,\n",
      "Validation Loss: 0.0444, \n",
      "\n",
      "Epoch took:  1:05:31\n",
      "Epoch 5\n",
      "\n",
      "Epoch [5/10], Step [0/3397], Loss: 0.0326\n",
      "Epoch [5/10], Step [200/3397], Loss: 0.0397\n",
      "Epoch [5/10], Step [400/3397], Loss: 0.0354\n",
      "Epoch [5/10], Step [600/3397], Loss: 0.0174\n",
      "Epoch [5/10], Step [800/3397], Loss: 0.0386\n",
      "Epoch [5/10], Step [1000/3397], Loss: 0.0351\n",
      "Epoch [5/10], Step [1200/3397], Loss: 0.0233\n",
      "Epoch [5/10], Step [1400/3397], Loss: 0.0297\n",
      "Epoch [5/10], Step [1600/3397], Loss: 0.0218\n",
      "Epoch [5/10], Step [1800/3397], Loss: 0.0332\n",
      "Epoch [5/10], Step [2000/3397], Loss: 0.0187\n",
      "Epoch [5/10], Step [2200/3397], Loss: 0.0184\n",
      "Epoch [5/10], Step [2400/3397], Loss: 0.0345\n",
      "Epoch [5/10], Step [2600/3397], Loss: 0.0308\n",
      "Epoch [5/10], Step [2800/3397], Loss: 0.0347\n",
      "Epoch [5/10], Step [3000/3397], Loss: 0.0280\n",
      "Epoch [5/10], Step [3200/3397], Loss: 0.0293\n",
      "\n",
      "train-loss: 0.0204,\n",
      "Validation Loss: 0.0419, \n",
      "\n",
      "Epoch took:  1:03:37\n",
      "Epoch 6\n",
      "\n",
      "Epoch [6/10], Step [0/3397], Loss: 0.0406\n",
      "Epoch [6/10], Step [200/3397], Loss: 0.0240\n",
      "Epoch [6/10], Step [400/3397], Loss: 0.0242\n",
      "Epoch [6/10], Step [600/3397], Loss: 0.0295\n",
      "Epoch [6/10], Step [800/3397], Loss: 0.0158\n",
      "Epoch [6/10], Step [1000/3397], Loss: 0.0184\n",
      "Epoch [6/10], Step [1200/3397], Loss: 0.0165\n",
      "Epoch [6/10], Step [1400/3397], Loss: 0.0231\n",
      "Epoch [6/10], Step [1600/3397], Loss: 0.0272\n",
      "Epoch [6/10], Step [1800/3397], Loss: 0.0298\n",
      "Epoch [6/10], Step [2000/3397], Loss: 0.0306\n",
      "Epoch [6/10], Step [2200/3397], Loss: 0.0233\n",
      "Epoch [6/10], Step [2400/3397], Loss: 0.0178\n",
      "Epoch [6/10], Step [2600/3397], Loss: 0.0303\n",
      "Epoch [6/10], Step [2800/3397], Loss: 0.0443\n",
      "Epoch [6/10], Step [3000/3397], Loss: 0.0356\n",
      "Epoch [6/10], Step [3200/3397], Loss: 0.0303\n",
      "\n",
      "train-loss: 0.0186,\n",
      "Validation Loss: 0.0399, \n",
      "\n",
      "Epoch took:  1:04:19\n",
      "Epoch 7\n",
      "\n",
      "Epoch [7/10], Step [0/3397], Loss: 0.0327\n",
      "Epoch [7/10], Step [200/3397], Loss: 0.0244\n",
      "Epoch [7/10], Step [400/3397], Loss: 0.0316\n",
      "Epoch [7/10], Step [600/3397], Loss: 0.0275\n",
      "Epoch [7/10], Step [800/3397], Loss: 0.0215\n",
      "Epoch [7/10], Step [1000/3397], Loss: 0.0315\n",
      "Epoch [7/10], Step [1200/3397], Loss: 0.0290\n",
      "Epoch [7/10], Step [1400/3397], Loss: 0.0391\n",
      "Epoch [7/10], Step [1600/3397], Loss: 0.0279\n",
      "Epoch [7/10], Step [1800/3397], Loss: 0.0253\n",
      "Epoch [7/10], Step [2000/3397], Loss: 0.0190\n",
      "Epoch [7/10], Step [2200/3397], Loss: 0.0288\n",
      "Epoch [7/10], Step [2400/3397], Loss: 0.0206\n",
      "Epoch [7/10], Step [2600/3397], Loss: 0.0236\n",
      "Epoch [7/10], Step [2800/3397], Loss: 0.0283\n",
      "Epoch [7/10], Step [3000/3397], Loss: 0.0259\n",
      "Epoch [7/10], Step [3200/3397], Loss: 0.0195\n",
      "\n",
      "train-loss: 0.0172,\n",
      "Validation Loss: 0.0384, \n",
      "\n",
      "Epoch took:  1:07:34\n",
      "Epoch 8\n",
      "\n",
      "Epoch [8/10], Step [0/3397], Loss: 0.0224\n",
      "Epoch [8/10], Step [200/3397], Loss: 0.0156\n",
      "Epoch [8/10], Step [400/3397], Loss: 0.0223\n",
      "Epoch [8/10], Step [600/3397], Loss: 0.0182\n",
      "Epoch [8/10], Step [800/3397], Loss: 0.0350\n",
      "Epoch [8/10], Step [1000/3397], Loss: 0.0451\n",
      "Epoch [8/10], Step [1200/3397], Loss: 0.0210\n",
      "Epoch [8/10], Step [1400/3397], Loss: 0.0155\n",
      "Epoch [8/10], Step [1600/3397], Loss: 0.0227\n",
      "Epoch [8/10], Step [1800/3397], Loss: 0.0182\n",
      "Epoch [8/10], Step [2000/3397], Loss: 0.0256\n",
      "Epoch [8/10], Step [2200/3397], Loss: 0.0224\n",
      "Epoch [8/10], Step [2400/3397], Loss: 0.0271\n",
      "Epoch [8/10], Step [2600/3397], Loss: 0.0160\n",
      "Epoch [8/10], Step [2800/3397], Loss: 0.0329\n",
      "Epoch [8/10], Step [3000/3397], Loss: 0.0265\n",
      "Epoch [8/10], Step [3200/3397], Loss: 0.0209\n",
      "\n",
      "train-loss: 0.0160,\n",
      "Validation Loss: 0.0369, \n",
      "\n",
      "Epoch took:  1:08:54\n",
      "Epoch 9\n",
      "\n",
      "Epoch [9/10], Step [0/3397], Loss: 0.0133\n",
      "Epoch [9/10], Step [200/3397], Loss: 0.0271\n",
      "Epoch [9/10], Step [400/3397], Loss: 0.0262\n",
      "Epoch [9/10], Step [600/3397], Loss: 0.0269\n",
      "Epoch [9/10], Step [800/3397], Loss: 0.0190\n",
      "Epoch [9/10], Step [1000/3397], Loss: 0.0246\n",
      "Epoch [9/10], Step [1200/3397], Loss: 0.0147\n",
      "Epoch [9/10], Step [1400/3397], Loss: 0.0410\n",
      "Epoch [9/10], Step [1600/3397], Loss: 0.0279\n",
      "Epoch [9/10], Step [1800/3397], Loss: 0.0328\n",
      "Epoch [9/10], Step [2000/3397], Loss: 0.0225\n",
      "Epoch [9/10], Step [2200/3397], Loss: 0.0113\n",
      "Epoch [9/10], Step [2400/3397], Loss: 0.0320\n",
      "Epoch [9/10], Step [2600/3397], Loss: 0.0211\n",
      "Epoch [9/10], Step [2800/3397], Loss: 0.0268\n",
      "Epoch [9/10], Step [3000/3397], Loss: 0.0105\n",
      "Epoch [9/10], Step [3200/3397], Loss: 0.0173\n",
      "\n",
      "train-loss: 0.0150,\n",
      "Validation Loss: 0.0356, \n",
      "\n",
      "Epoch took:  1:08:58\n",
      "Epoch 10\n",
      "\n",
      "Epoch [10/10], Step [0/3397], Loss: 0.0159\n",
      "Epoch [10/10], Step [200/3397], Loss: 0.0168\n",
      "Epoch [10/10], Step [400/3397], Loss: 0.0142\n",
      "Epoch [10/10], Step [600/3397], Loss: 0.0228\n",
      "Epoch [10/10], Step [800/3397], Loss: 0.0185\n",
      "Epoch [10/10], Step [1000/3397], Loss: 0.0280\n",
      "Epoch [10/10], Step [1200/3397], Loss: 0.0179\n",
      "Epoch [10/10], Step [1400/3397], Loss: 0.0148\n",
      "Epoch [10/10], Step [1600/3397], Loss: 0.0121\n",
      "Epoch [10/10], Step [1800/3397], Loss: 0.0303\n",
      "Epoch [10/10], Step [2000/3397], Loss: 0.0124\n",
      "Epoch [10/10], Step [2200/3397], Loss: 0.0267\n",
      "Epoch [10/10], Step [2400/3397], Loss: 0.0111\n",
      "Epoch [10/10], Step [2600/3397], Loss: 0.0255\n",
      "Epoch [10/10], Step [2800/3397], Loss: 0.0107\n",
      "Epoch [10/10], Step [3000/3397], Loss: 0.0122\n",
      "Epoch [10/10], Step [3200/3397], Loss: 0.0186\n",
      "\n",
      "train-loss: 0.0142,\n",
      "Validation Loss: 0.0345, \n",
      "\n",
      "Epoch took:  1:07:36\n"
     ]
    },
    {
     "name": "stderr",
     "output_type": "stream",
     "text": [
      "TensorFlow installation not found - running with reduced feature set.\n"
     ]
    },
    {
     "name": "stdout",
     "output_type": "stream",
     "text": [
      "\n",
      "New experiment created. View your TensorBoard at: https://tensorboard.dev/experiment/GV8NLlARQ825IzGzmkJWpg/\n",
      "\n",
      "\u001b[1m[2023-02-10T04:30:54]\u001b[0m Started scanning logdir.\n",
      "\u001b[1m[2023-02-10T04:30:55]\u001b[0m Total uploaded: 60 scalars, 0 tensors, 0 binary objects\n",
      "\u001b[1m[2023-02-10T04:30:55]\u001b[0m Done scanning logdir.\n",
      "\n",
      "\n",
      "Done. View your TensorBoard at https://tensorboard.dev/experiment/GV8NLlARQ825IzGzmkJWpg/\n"
     ]
    }
   ],
   "source": [
    "model_trainer.run()"
   ]
  },
  {
   "cell_type": "code",
   "execution_count": 34,
   "metadata": {},
   "outputs": [
    {
     "data": {
      "text/plain": [
       "0    0.059835\n",
       "1    0.055580\n",
       "2    0.054325\n",
       "3    0.054581\n",
       "4    0.051669\n",
       "5    0.050750\n",
       "6    0.048903\n",
       "7    0.047978\n",
       "8    0.042961\n",
       "9    0.037833\n",
       "dtype: float64"
      ]
     },
     "execution_count": 34,
     "metadata": {},
     "output_type": "execute_result"
    }
   ],
   "source": [
    "model_trainer.df_performance_stats[[\"val_brake_loss\",\t\"val_steer_loss\",\t\"val_throttle_loss\"]].mean(axis=1)"
   ]
  },
  {
   "cell_type": "markdown",
   "metadata": {},
   "source": [
    "# Investigating model predictions (errors)\n",
    "To be moved in an extra module at some time ..."
   ]
  },
  {
   "cell_type": "markdown",
   "metadata": {},
   "source": []
  },
  {
   "cell_type": "code",
   "execution_count": null,
   "metadata": {},
   "outputs": [
    {
     "name": "stderr",
     "output_type": "stream",
     "text": [
      "/Users/julianvonklitzing/miniforge3/envs/carla/lib/python3.8/site-packages/torchvision/models/_utils.py:223: UserWarning: Arguments other than a weight enum or `None` for 'weights' are deprecated since 0.13 and may be removed in the future. The current behavior is equivalent to passing `weights=None`.\n",
      "  warnings.warn(msg)\n"
     ]
    },
    {
     "data": {
      "text/plain": [
       "<All keys matched successfully>"
      ]
     },
     "execution_count": 4,
     "metadata": {},
     "output_type": "execute_result"
    }
   ],
   "source": [
    "model = Baseline_V3()\n",
    "model.load_state_dict(torch.load(\"baseline_v3_7_hours.pt\"))"
   ]
  },
  {
   "cell_type": "code",
   "execution_count": 71,
   "metadata": {},
   "outputs": [],
   "source": [
    "model = model_trainer.model.to(torch.device(\"cpu\"))\n",
    "torch.save(model.state_dict(), \"resnet_baseline_v3_4_10_epochs_loss_balanced_noisy_2.pt\")"
   ]
  },
  {
   "cell_type": "code",
   "execution_count": null,
   "metadata": {},
   "outputs": [
    {
     "name": "stdout",
     "output_type": "stream",
     "text": [
      "Model will be trained on: mps\n"
     ]
    }
   ],
   "source": [
    "model_trainer = ModelTrainer(\n",
    "    model=model,\n",
    "    optimizer=optim.Adam(model.parameters(), lr=0.0001),\n",
    "    loss_fn=nn.L1Loss(),\n",
    "    n_epochs=10,\n",
    "    dataloader_train=dataloader_train,\n",
    "    dataloader_test=dataloader_test,\n",
    "    preprocessing=preprocessing,\n",
    "    upload_tensorboard=True\n",
    "    )"
   ]
  },
  {
   "cell_type": "code",
   "execution_count": null,
   "metadata": {},
   "outputs": [
    {
     "name": "stderr",
     "output_type": "stream",
     "text": [
      "143it [02:30,  1.06s/it]\n"
     ]
    }
   ],
   "source": [
    "y_true_list, y_pred_list = model_trainer.get_dataset_predictions()"
   ]
  },
  {
   "cell_type": "code",
   "execution_count": null,
   "metadata": {},
   "outputs": [],
   "source": [
    "df_true = pd.DataFrame(np.transpose(y_true_list), columns=dataset_test.y)\n",
    "df_pred = pd.DataFrame(np.transpose(y_pred_list), columns=dataset_test.y)"
   ]
  },
  {
   "cell_type": "code",
   "execution_count": null,
   "metadata": {},
   "outputs": [
    {
     "data": {
      "text/plain": [
       "array([[<AxesSubplot: title={'center': 'brake'}>,\n",
       "        <AxesSubplot: title={'center': 'steer'}>],\n",
       "       [<AxesSubplot: title={'center': 'throttle'}>, <AxesSubplot: >]],\n",
       "      dtype=object)"
      ]
     },
     "execution_count": 8,
     "metadata": {},
     "output_type": "execute_result"
    },
    {
     "data": {
      "image/png": "[encoded data removed]",
      "text/plain": [
       "<Figure size 640x480 with 4 Axes>"
      ]
     },
     "metadata": {},
     "output_type": "display_data"
    }
   ],
   "source": [
    "df_pred.hist(bins=20)"
   ]
  },
  {
   "cell_type": "code",
   "execution_count": null,
   "metadata": {},
   "outputs": [],
   "source": [
    "df_residuals = df_true - df_pred"
   ]
  },
  {
   "cell_type": "code",
   "execution_count": null,
   "metadata": {},
   "outputs": [
    {
     "data": {
      "text/plain": [
       "array([[<AxesSubplot: title={'center': 'brake'}>,\n",
       "        <AxesSubplot: title={'center': 'steer'}>],\n",
       "       [<AxesSubplot: title={'center': 'throttle'}>, <AxesSubplot: >]],\n",
       "      dtype=object)"
      ]
     },
     "execution_count": 10,
     "metadata": {},
     "output_type": "execute_result"
    },
    {
     "data": {
      "image/png": "[encoded data removed]",
      "text/plain": [
       "<Figure size 640x480 with 4 Axes>"
      ]
     },
     "metadata": {},
     "output_type": "display_data"
    }
   ],
   "source": [
    "df_residuals.hist(bins=20)"
   ]
  },
  {
   "attachments": {},
   "cell_type": "markdown",
   "metadata": {},
   "source": [
    "## Experiment which operators/function can be executed on device"
   ]
  },
  {
   "cell_type": "code",
   "execution_count": null,
   "metadata": {},
   "outputs": [
    {
     "data": {
      "text/plain": [
       "tensor([2, 4], device='mps:0')"
      ]
     },
     "execution_count": 25,
     "metadata": {},
     "output_type": "execute_result"
    }
   ],
   "source": [
    "sum([torch.tensor([1, 2], device=torch.device(\"mps\")), torch.tensor([1, 2], device=torch.device(\"mps\"))])"
   ]
  },
  {
   "cell_type": "code",
   "execution_count": null,
   "metadata": {},
   "outputs": [
    {
     "data": {
      "text/plain": [
       "tensor([[[-1.5880, -1.5818, -1.5906,  ..., -1.5935, -1.5822, -1.5898],\n",
       "         [-1.5930, -1.5885, -1.5856,  ..., -1.5849, -1.5842, -1.5823],\n",
       "         [-1.5916, -1.5824, -1.5912,  ..., -1.5888, -1.5918, -1.5912],\n",
       "         ...,\n",
       "         [-1.5876, -1.5815, -1.5863,  ..., -1.5863, -1.5891, -1.5891],\n",
       "         [-1.5907, -1.5873, -1.5811,  ..., -1.5932, -1.5911, -1.5855],\n",
       "         [-1.5811, -1.5949, -1.5936,  ..., -1.5817, -1.5894, -1.5840]],\n",
       "\n",
       "        [[-1.3437, -1.3457, -1.3556,  ..., -1.3549, -1.3420, -1.3563],\n",
       "         [-1.3516, -1.3566, -1.3536,  ..., -1.3507, -1.3517, -1.3536],\n",
       "         [-1.3434, -1.3525, -1.3566,  ..., -1.3443, -1.3414, -1.3515],\n",
       "         ...,\n",
       "         [-1.3487, -1.3424, -1.3464,  ..., -1.3550, -1.3503, -1.3463],\n",
       "         [-1.3541, -1.3570, -1.3488,  ..., -1.3472, -1.3501, -1.3563],\n",
       "         [-1.3416, -1.3412, -1.3502,  ..., -1.3461, -1.3422, -1.3530]],\n",
       "\n",
       "        [[-1.1878, -1.1793, -1.1850,  ..., -1.1920, -1.1868, -1.1808],\n",
       "         [-1.1811, -1.1790, -1.1906,  ..., -1.1918, -1.1796, -1.1800],\n",
       "         [-1.1826, -1.1874, -1.1900,  ..., -1.1771, -1.1879, -1.1862],\n",
       "         ...,\n",
       "         [-1.1798, -1.1849, -1.1783,  ..., -1.1805, -1.1901, -1.1903],\n",
       "         [-1.1858, -1.1860, -1.1869,  ..., -1.1803, -1.1808, -1.1867],\n",
       "         [-1.1863, -1.1896, -1.1774,  ..., -1.1896, -1.1817, -1.1899]]],\n",
       "       device='mps:0')"
      ]
     },
     "execution_count": 36,
     "metadata": {},
     "output_type": "execute_result"
    }
   ],
   "source": [
    "# Preprocessing could be done on GPU but not on MPS (Apple)\n",
    "preprocessing[\"rgb\"](torch.rand((3, 160, 960), device=torch.device(\"mps\")))"
   ]
  },
  {
   "cell_type": "code",
   "execution_count": null,
   "metadata": {},
   "outputs": [
    {
     "data": {
      "text/plain": [
       "device(type='mps', index=0)"
      ]
     },
     "execution_count": 38,
     "metadata": {},
     "output_type": "execute_result"
    }
   ],
   "source": [
    "torch.tensor([1, 2], device=torch.device(\"mps\")).device"
   ]
  },
  {
   "cell_type": "code",
   "execution_count": null,
   "metadata": {},
   "outputs": [],
   "source": [
    "test_dict = {\"t1\": torch.tensor([1, 2, 3])}\n",
    "# [test_dict[key].to(torch.device(\"mps\")) for key in test_dict]\n",
    "for key in test_dict:\n",
    "    test_dict[key] = test_dict[key].to(torch.device(\"mps\"))"
   ]
  },
  {
   "cell_type": "code",
   "execution_count": 21,
   "metadata": {},
   "outputs": [],
   "source": [
    "torch_values = torch.tensor([0, 1, 2, 3, 4], device=torch.device(\"mps\"))\n",
    "torch_IDX = torch.tensor([0, 2])"
   ]
  },
  {
   "cell_type": "code",
   "execution_count": 22,
   "metadata": {},
   "outputs": [
    {
     "data": {
      "text/plain": [
       "tensor([0, 2], device='mps:0')"
      ]
     },
     "execution_count": 22,
     "metadata": {},
     "output_type": "execute_result"
    }
   ],
   "source": [
    "torch_values[torch_IDX]"
   ]
  },
  {
   "cell_type": "code",
   "execution_count": 21,
   "metadata": {},
   "outputs": [],
   "source": [
    "dirs = os.listdir(\"runs\")\n",
    "dirs_creation_time = [os.path.getctime(os.path.join(\"runs\", dir)) for dir in dirs]\n"
   ]
  },
  {
   "cell_type": "code",
   "execution_count": 26,
   "metadata": {},
   "outputs": [
    {
     "data": {
      "text/plain": [
       "'Feb03_18-24-31_MBPvonJulian2.fritz.box'"
      ]
     },
     "execution_count": 26,
     "metadata": {},
     "output_type": "execute_result"
    }
   ],
   "source": [
    "[el[0] for el in sorted(zip(dirs, dirs_creation_time), key=lambda x: x[1])][-1]"
   ]
  },
  {
   "cell_type": "code",
   "execution_count": 19,
   "metadata": {},
   "outputs": [
    {
     "data": {
      "text/plain": [
       "1675434169.053314"
      ]
     },
     "execution_count": 19,
     "metadata": {},
     "output_type": "execute_result"
    }
   ],
   "source": [
    "os.path.getctime('runs/Feb03_15-22-49_MBPvonJulian2.fritz.box')"
   ]
  },
  {
   "cell_type": "code",
   "execution_count": null,
   "metadata": {},
   "outputs": [],
   "source": []
  }
 ],
 "metadata": {
  "kernelspec": {
   "display_name": "carla",
   "language": "python",
   "name": "python3"
  },
  "language_info": {
   "codemirror_mode": {
    "name": "ipython",
    "version": 3
   },
   "file_extension": ".py",
   "mimetype": "text/x-python",
   "name": "python",
   "nbconvert_exporter": "python",
   "pygments_lexer": "ipython3",
   "version": "3.8.13"
  },
  "vscode": {
   "interpreter": {
    "hash": "bc80d0638afb8ec7c43f4b834002a598fcddbd6e8bf5db40ad8cba47e68e6a97"
   }
  }
 },
 "nbformat": 4,
 "nbformat_minor": 2
}
