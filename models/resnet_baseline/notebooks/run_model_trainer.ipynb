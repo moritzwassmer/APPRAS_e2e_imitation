{
 "cells": [
  {
   "cell_type": "code",
   "execution_count": 1,
   "metadata": {},
   "outputs": [
    {
     "name": "stderr",
     "output_type": "stream",
     "text": [
      "/Users/julianvonklitzing/miniforge3/envs/carla/lib/python3.8/site-packages/tqdm/auto.py:22: TqdmWarning: IProgress not found. Please update jupyter and ipywidgets. See https://ipywidgets.readthedocs.io/en/stable/user_install.html\n",
      "  from .autonotebook import tqdm as notebook_tqdm\n"
     ]
    }
   ],
   "source": [
    "import sys\n",
    "import numpy as np\n",
    "import pandas as pd\n",
    "import os\n",
    "from torch.utils.data import DataLoader, WeightedRandomSampler\n",
    "from torch.utils.data.dataloader import default_collate\n",
    "import torch.nn as nn\n",
    "import torch.optim as optim\n",
    "from torchsummary import summary\n",
    "import torch\n",
    "import pickle\n",
    "\n",
    "# Append the project dir to path\n",
    "sys.path.append(os.path.join(\"..\", \"..\", \"..\"))\n",
    "from data_pipeline.utils import train_test_split, create_metadata_df, get_sample_weights_of_dataset\n",
    "from data_pipeline.dataset_xy import CARLADatasetXY\n",
    "from data_pipeline.dataset_xy_opt import CARLADatasetXYOpt\n",
    "from data_pipeline.data_preprocessing import preprocessing\n",
    "from models.resnet_baseline.architectures_v3 import Resnet_Baseline_V3\n",
    "from models.model_trainer import ModelTrainer"
   ]
  },
  {
   "attachments": {},
   "cell_type": "markdown",
   "metadata": {},
   "source": [
    "## Choose training settings"
   ]
  },
  {
   "cell_type": "code",
   "execution_count": 2,
   "metadata": {},
   "outputs": [],
   "source": [
    "# Set data balancing options (if both false, then no balancing is applied)\n",
    "use_balance_by_loss_weighting = False\n",
    "use_balance_by_over_under_sampling = False\n",
    "\n",
    "assert not use_balance_by_loss_weighting or not use_balance_by_over_under_sampling"
   ]
  },
  {
   "cell_type": "code",
   "execution_count": 3,
   "metadata": {},
   "outputs": [],
   "source": [
    "# Train additionally on the noisy data\n",
    "use_data_noisy = True\n",
    "\n",
    "path_data_noisy = None\n",
    "if use_data_noisy:\n",
    "    path_data_noisy = os.path.join(\"..\", \"..\", \"..\", \"data\", \"Noise-Dataset\")"
   ]
  },
  {
   "attachments": {},
   "cell_type": "markdown",
   "metadata": {},
   "source": [
    "## Create Datasets"
   ]
  },
  {
   "cell_type": "code",
   "execution_count": 4,
   "metadata": {},
   "outputs": [],
   "source": [
    "path_data = os.path.join(\"..\", \"..\", \"..\", \"data\", \"data\")\n",
    "\n",
    "config_xy = {\"used_inputs\": [\"rgb\", \"measurements\"], \n",
    "        \"used_measurements\": [\"speed\", \"steer\", \"throttle\", \"brake\", \"command\"],\n",
    "        \"y\": [\"brake\", \"steer\", \"throttle\"],\n",
    "        \"seq_len\": 1\n",
    "        }"
   ]
  },
  {
   "cell_type": "code",
   "execution_count": 5,
   "metadata": {},
   "outputs": [],
   "source": [
    "device = torch.device('cuda:0' if torch.cuda.is_available() else 'mps' if torch.has_mps else 'cpu')\n",
    "batch_size = 64\n",
    "\n",
    "# Create df_meta \n",
    "df_meta_data = create_metadata_df(path_data, config_xy[\"used_inputs\"])\n",
    "df_meta_data_noisy = None\n",
    "if use_data_noisy:\n",
    "    df_meta_data_noisy = create_metadata_df(path_data_noisy, config_xy[\"used_inputs\"])\n",
    "\n",
    "# Train/test split\n",
    "train_test_config = {\n",
    "    \"train\": ['Town00', 'Town01', 'Town02', 'Town03', 'Town04', 'Town05', 'Town07', 'Town08', 'Town09', 'Town10'],\n",
    "    \"test\": ['Town06']\n",
    "}\n",
    "df_meta_data_train, df_meta_data_test_1, df_meta_data_test_2 = train_test_split(df_meta_data, towns_intersect=train_test_config, df_meta_data_noisy=df_meta_data_noisy)\n",
    "\n",
    "# Decrease train/test size for quick test run\n",
    "#df_meta_data_train = df_meta_data_train.head(5 * batch_size)\n",
    "#df_meta_data_test_1 = df_meta_data_test_1.head(5 * batch_size)\n",
    "\n",
    "# Create Dataset & DataLoader\n",
    "dataset_train = CARLADatasetXY(root_dir=path_data, df_meta_data=df_meta_data_train, config=config_xy)\n",
    "dataset_test_1 = CARLADatasetXY(root_dir=path_data, df_meta_data=df_meta_data_test_1, config=config_xy)\n",
    "dataset_test_2 = CARLADatasetXY(root_dir=path_data, df_meta_data=df_meta_data_test_2, config=config_xy)"
   ]
  },
  {
   "cell_type": "markdown",
   "metadata": {},
   "source": [
    "## Generate sample weights to be passed to ModelTrainer"
   ]
  },
  {
   "cell_type": "code",
   "execution_count": 6,
   "metadata": {},
   "outputs": [],
   "source": [
    "def save_sample_weights(sample_weights):\n",
    "    with open('sample_weights.pickle', 'wb') as handle:\n",
    "        pickle.dump(sample_weights, handle, protocol=pickle.HIGHEST_PROTOCOL)\n",
    "\n",
    "def load_sample_weights():\n",
    "    with open('sample_weights.pickle', 'rb') as handle:\n",
    "        b = pickle.load(handle)\n",
    "    return b"
   ]
  },
  {
   "cell_type": "code",
   "execution_count": 7,
   "metadata": {},
   "outputs": [],
   "source": [
    "sample_weights = None\n",
    "if use_balance_by_loss_weighting or use_balance_by_over_under_sampling:\n",
    "    # Dictionary that saves all weights to all y variables \n",
    "    sample_weights = get_sample_weights_of_dataset(dataset_train, num_bins=10)\n",
    "    # sample_weights = load_sample_weights()\n",
    "    print(sample_weights.keys())"
   ]
  },
  {
   "attachments": {},
   "cell_type": "markdown",
   "metadata": {},
   "source": [
    "## Create DataLoaders"
   ]
  },
  {
   "cell_type": "code",
   "execution_count": 8,
   "metadata": {},
   "outputs": [],
   "source": [
    "weighted_random_sampler = None\n",
    "if use_balance_by_over_under_sampling:\n",
    "    weighted_random_sampler = WeightedRandomSampler(weights=sample_weights, num_samples=dataset_train.__len__(), replacement=True)\n",
    "\n",
    "dataloader_train = DataLoader(dataset_train, batch_size=batch_size, num_workers=0, shuffle=True, sampler=weighted_random_sampler)\n",
    "dataloader_test_1 = DataLoader(dataset_test_1, batch_size=batch_size, num_workers=0, shuffle=False, )\n",
    "dataloader_test_2 = DataLoader(dataset_test_2, batch_size=batch_size, num_workers=0, shuffle=False, )\n",
    "\n",
    "# Attempt to directly initialize tensors on device in the DataLoader\n",
    "# collate_fn=lambda x: tuple(x_.to(device) for x_ in default_collate(x))\n",
    "# collate_fn=lambda x: list(map(lambda x: x.to(device), default_collate(x))"
   ]
  },
  {
   "cell_type": "code",
   "execution_count": 9,
   "metadata": {},
   "outputs": [
    {
     "data": {
      "text/plain": [
       "3270"
      ]
     },
     "execution_count": 9,
     "metadata": {},
     "output_type": "execute_result"
    }
   ],
   "source": [
    "len(dataloader_train)"
   ]
  },
  {
   "cell_type": "code",
   "execution_count": 10,
   "metadata": {},
   "outputs": [
    {
     "data": {
      "text/plain": [
       "271"
      ]
     },
     "execution_count": 10,
     "metadata": {},
     "output_type": "execute_result"
    }
   ],
   "source": [
    "len(dataloader_test_1)"
   ]
  },
  {
   "cell_type": "markdown",
   "metadata": {},
   "source": [
    "# Create ModelTrainer & run it"
   ]
  },
  {
   "cell_type": "code",
   "execution_count": 16,
   "metadata": {},
   "outputs": [
    {
     "name": "stderr",
     "output_type": "stream",
     "text": [
      "/Users/julianvonklitzing/miniforge3/envs/carla/lib/python3.8/site-packages/torchvision/models/_utils.py:223: UserWarning: Arguments other than a weight enum or `None` for 'weights' are deprecated since 0.13 and may be removed in the future. The current behavior is equivalent to passing `weights=ResNet18_Weights.IMAGENET1K_V1`. You can also use `weights=ResNet18_Weights.DEFAULT` to get the most up-to-date weights.\n",
      "  warnings.warn(msg)\n"
     ]
    }
   ],
   "source": [
    "model = Resnet_Baseline_V3()\n",
    "#model.load_state_dict(torch.load(\"resnet_baseline_v3.pt\"))\n",
    "\n",
    "if not use_balance_by_loss_weighting:\n",
    "    sample_weights = None"
   ]
  },
  {
   "cell_type": "code",
   "execution_count": 13,
   "metadata": {},
   "outputs": [
    {
     "name": "stdout",
     "output_type": "stream",
     "text": [
      "Model will be trained on: mps\n"
     ]
    }
   ],
   "source": [
    "# Must be ordered alphabetically (i.e. the same like sample_weights keys)\n",
    "loss_fns_dict = {\"brake\": nn.L1Loss(reduction='none'), \"steer\": nn.L1Loss(reduction='none'), \"throttle\": nn.L1Loss(reduction='none')}\n",
    "loss_fn_weights = {\"brake\": 0.05, \"steer\": 0.45, \"throttle\": 0.5}\n",
    "\n",
    "model_trainer = ModelTrainer(\n",
    "    model=model,\n",
    "    optimizer=optim.Adam(model.parameters(), lr=0.0001),\n",
    "    loss_fns=loss_fns_dict,\n",
    "    loss_fn_weights=loss_fn_weights,\n",
    "    n_epochs=5,\n",
    "    dataloader_train=dataloader_train,\n",
    "    dataloader_test=dataloader_test_1,\n",
    "    sample_weights=sample_weights,\n",
    "    preprocessing=preprocessing,\n",
    "    upload_tensorboard=True\n",
    "    )"
   ]
  },
  {
   "cell_type": "code",
   "execution_count": 14,
   "metadata": {},
   "outputs": [
    {
     "name": "stdout",
     "output_type": "stream",
     "text": [
      "Epoch 1\n",
      "\n"
     ]
    },
    {
     "name": "stderr",
     "output_type": "stream",
     "text": [
      "/Users/julianvonklitzing/miniforge3/envs/carla/lib/python3.8/site-packages/torch/autograd/__init__.py:197: UserWarning: The operator 'aten::sgn.out' is not currently supported on the MPS backend and will fall back to run on the CPU. This may have performance implications. (Triggered internally at /Users/runner/work/pytorch/pytorch/pytorch/aten/src/ATen/mps/MPSFallback.mm:11.)\n",
      "  Variable._execution_engine.run_backward(  # Calls into the C++ engine to run the backward pass\n"
     ]
    },
    {
     "name": "stdout",
     "output_type": "stream",
     "text": [
      "Epoch [1/5], Step [0/3270], Loss: 16.0972\n",
      "Epoch [1/5], Step [200/3270], Loss: 10.5594\n",
      "Epoch [1/5], Step [400/3270], Loss: 12.0870\n",
      "Epoch [1/5], Step [600/3270], Loss: 8.8062\n",
      "Epoch [1/5], Step [800/3270], Loss: 11.6851\n",
      "Epoch [1/5], Step [1000/3270], Loss: 8.1405\n",
      "Epoch [1/5], Step [1200/3270], Loss: 8.3460\n",
      "Epoch [1/5], Step [1400/3270], Loss: 9.3872\n",
      "Epoch [1/5], Step [1600/3270], Loss: 9.7975\n",
      "Epoch [1/5], Step [1800/3270], Loss: 6.8477\n",
      "Epoch [1/5], Step [2000/3270], Loss: 9.6370\n",
      "Epoch [1/5], Step [2200/3270], Loss: 7.3207\n",
      "Epoch [1/5], Step [2400/3270], Loss: 7.9788\n",
      "Epoch [1/5], Step [2600/3270], Loss: 8.5886\n",
      "Epoch [1/5], Step [2800/3270], Loss: 5.0653\n",
      "Epoch [1/5], Step [3000/3270], Loss: 8.4367\n",
      "Epoch [1/5], Step [3200/3270], Loss: 4.4955\n",
      "\n",
      "train-loss: 2.8297,\n",
      "Validation Loss: 0.0357, \n",
      "\n",
      "Epoch took:  1:22:43\n",
      "Epoch 2\n",
      "\n",
      "Epoch [2/5], Step [0/3270], Loss: 5.6187\n",
      "Epoch [2/5], Step [200/3270], Loss: 7.0917\n",
      "Epoch [2/5], Step [400/3270], Loss: 5.7004\n",
      "Epoch [2/5], Step [600/3270], Loss: 4.7871\n",
      "Epoch [2/5], Step [800/3270], Loss: 4.0250\n",
      "Epoch [2/5], Step [1000/3270], Loss: 3.2296\n",
      "Epoch [2/5], Step [1200/3270], Loss: 5.3981\n",
      "Epoch [2/5], Step [1400/3270], Loss: 4.6265\n",
      "Epoch [2/5], Step [1600/3270], Loss: 4.3541\n",
      "Epoch [2/5], Step [1800/3270], Loss: 5.7569\n",
      "Epoch [2/5], Step [2000/3270], Loss: 5.2839\n",
      "Epoch [2/5], Step [2200/3270], Loss: 7.7805\n",
      "Epoch [2/5], Step [2400/3270], Loss: 4.8420\n",
      "Epoch [2/5], Step [2600/3270], Loss: 3.6167\n",
      "Epoch [2/5], Step [2800/3270], Loss: 3.3227\n",
      "Epoch [2/5], Step [3000/3270], Loss: 4.8595\n",
      "Epoch [2/5], Step [3200/3270], Loss: 4.7551\n",
      "\n",
      "train-loss: 2.2415,\n",
      "Validation Loss: 0.0323, \n",
      "\n",
      "Epoch took:  1:27:44\n",
      "Epoch 3\n",
      "\n",
      "Epoch [3/5], Step [0/3270], Loss: 4.6354\n",
      "Epoch [3/5], Step [200/3270], Loss: 4.0659\n",
      "Epoch [3/5], Step [400/3270], Loss: 3.3794\n",
      "Epoch [3/5], Step [600/3270], Loss: 5.7256\n",
      "Epoch [3/5], Step [800/3270], Loss: 4.1251\n",
      "Epoch [3/5], Step [1000/3270], Loss: 4.2725\n",
      "Epoch [3/5], Step [1200/3270], Loss: 4.8935\n",
      "Epoch [3/5], Step [1400/3270], Loss: 3.4443\n",
      "Epoch [3/5], Step [1600/3270], Loss: 4.1074\n",
      "Epoch [3/5], Step [1800/3270], Loss: 3.2351\n",
      "Epoch [3/5], Step [2000/3270], Loss: 2.5688\n",
      "Epoch [3/5], Step [2200/3270], Loss: 4.6726\n",
      "Epoch [3/5], Step [2400/3270], Loss: 4.9125\n",
      "Epoch [3/5], Step [2600/3270], Loss: 3.9372\n",
      "Epoch [3/5], Step [2800/3270], Loss: 4.5184\n",
      "Epoch [3/5], Step [3000/3270], Loss: 4.3331\n",
      "Epoch [3/5], Step [3200/3270], Loss: 4.9787\n",
      "\n",
      "train-loss: 1.9754,\n",
      "Validation Loss: 0.0309, \n",
      "\n",
      "Epoch took:  1:10:25\n",
      "Epoch 4\n",
      "\n",
      "Epoch [4/5], Step [0/3270], Loss: 3.3314\n",
      "Epoch [4/5], Step [200/3270], Loss: 4.2961\n",
      "Epoch [4/5], Step [400/3270], Loss: 4.4872\n",
      "Epoch [4/5], Step [600/3270], Loss: 2.6857\n",
      "Epoch [4/5], Step [800/3270], Loss: 5.2671\n",
      "Epoch [4/5], Step [1000/3270], Loss: 6.0071\n",
      "Epoch [4/5], Step [1200/3270], Loss: 4.0157\n",
      "Epoch [4/5], Step [1400/3270], Loss: 3.2439\n",
      "Epoch [4/5], Step [1600/3270], Loss: 2.7441\n",
      "Epoch [4/5], Step [1800/3270], Loss: 4.8715\n",
      "Epoch [4/5], Step [2000/3270], Loss: 4.2027\n",
      "Epoch [4/5], Step [2200/3270], Loss: 3.2521\n",
      "Epoch [4/5], Step [2400/3270], Loss: 4.2126\n",
      "Epoch [4/5], Step [2600/3270], Loss: 4.0642\n",
      "Epoch [4/5], Step [2800/3270], Loss: 2.9285\n",
      "Epoch [4/5], Step [3000/3270], Loss: 4.0533\n",
      "Epoch [4/5], Step [3200/3270], Loss: 3.4313\n",
      "\n",
      "train-loss: 1.8101,\n",
      "Validation Loss: 0.0298, \n",
      "\n",
      "Epoch took:  1:17:05\n",
      "Epoch 5\n",
      "\n",
      "Epoch [5/5], Step [0/3270], Loss: 3.7410\n",
      "Epoch [5/5], Step [200/3270], Loss: 4.2564\n",
      "Epoch [5/5], Step [400/3270], Loss: 3.8293\n",
      "Epoch [5/5], Step [600/3270], Loss: 3.4819\n",
      "Epoch [5/5], Step [800/3270], Loss: 1.9372\n",
      "Epoch [5/5], Step [1000/3270], Loss: 3.9256\n",
      "Epoch [5/5], Step [1200/3270], Loss: 3.5568\n",
      "Epoch [5/5], Step [1400/3270], Loss: 4.6668\n",
      "Epoch [5/5], Step [1600/3270], Loss: 3.4213\n",
      "Epoch [5/5], Step [1800/3270], Loss: 3.0488\n",
      "Epoch [5/5], Step [2000/3270], Loss: 3.2700\n",
      "Epoch [5/5], Step [2200/3270], Loss: 4.2200\n",
      "Epoch [5/5], Step [2400/3270], Loss: 5.6037\n",
      "Epoch [5/5], Step [2600/3270], Loss: 3.3331\n",
      "Epoch [5/5], Step [2800/3270], Loss: 3.3308\n",
      "Epoch [5/5], Step [3000/3270], Loss: 3.3485\n",
      "Epoch [5/5], Step [3200/3270], Loss: 4.6359\n",
      "\n",
      "train-loss: 1.6925,\n",
      "Validation Loss: 0.0288, \n",
      "\n",
      "Epoch took:  1:11:22\n"
     ]
    },
    {
     "name": "stderr",
     "output_type": "stream",
     "text": [
      "TensorFlow installation not found - running with reduced feature set.\n"
     ]
    },
    {
     "name": "stdout",
     "output_type": "stream",
     "text": [
      "\n",
      "New experiment created. View your TensorBoard at: https://tensorboard.dev/experiment/Nlk9uGcoRoeAJtlc7Jblcg/\n",
      "\n",
      "\u001b[1m[2023-02-06T21:01:25]\u001b[0m Started scanning logdir.\n",
      "\u001b[1m[2023-02-06T21:01:25]\u001b[0m Total uploaded: 30 scalars, 0 tensors, 0 binary objects\n",
      "\u001b[1m[2023-02-06T21:01:25]\u001b[0m Done scanning logdir.\n",
      "\n",
      "\n",
      "Done. View your TensorBoard at https://tensorboard.dev/experiment/Nlk9uGcoRoeAJtlc7Jblcg/\n"
     ]
    }
   ],
   "source": [
    "model_trainer.run()"
   ]
  },
  {
   "cell_type": "code",
   "execution_count": 15,
   "metadata": {},
   "outputs": [
    {
     "data": {
      "text/plain": [
       "0    0.041198\n",
       "1    0.027980\n",
       "2    0.028040\n",
       "3    0.026404\n",
       "4    0.025307\n",
       "5    0.023879\n",
       "6    0.023644\n",
       "7    0.023115\n",
       "8    0.022446\n",
       "9    0.021892\n",
       "dtype: float64"
      ]
     },
     "execution_count": 15,
     "metadata": {},
     "output_type": "execute_result"
    }
   ],
   "source": [
    "model_trainer.df_performance_stats[[\"val_brake_loss\",\t\"val_steer_loss\",\t\"val_throttle_loss\"]].mean(axis=1)"
   ]
  },
  {
   "cell_type": "markdown",
   "metadata": {},
   "source": [
    "# Investigating model predictions (errors)\n",
    "To be moved in an extra module at some time ..."
   ]
  },
  {
   "cell_type": "markdown",
   "metadata": {},
   "source": []
  },
  {
   "cell_type": "code",
   "execution_count": null,
   "metadata": {},
   "outputs": [
    {
     "name": "stderr",
     "output_type": "stream",
     "text": [
      "/Users/julianvonklitzing/miniforge3/envs/carla/lib/python3.8/site-packages/torchvision/models/_utils.py:223: UserWarning: Arguments other than a weight enum or `None` for 'weights' are deprecated since 0.13 and may be removed in the future. The current behavior is equivalent to passing `weights=None`.\n",
      "  warnings.warn(msg)\n"
     ]
    },
    {
     "data": {
      "text/plain": [
       "<All keys matched successfully>"
      ]
     },
     "execution_count": 4,
     "metadata": {},
     "output_type": "execute_result"
    }
   ],
   "source": [
    "model = Baseline_V3()\n",
    "model.load_state_dict(torch.load(\"baseline_v3_7_hours.pt\"))"
   ]
  },
  {
   "cell_type": "code",
   "execution_count": null,
   "metadata": {},
   "outputs": [
    {
     "name": "stdout",
     "output_type": "stream",
     "text": [
      "Model will be trained on: mps\n"
     ]
    }
   ],
   "source": [
    "model_trainer = ModelTrainer(\n",
    "    model=model,\n",
    "    optimizer=optim.Adam(model.parameters(), lr=0.0001),\n",
    "    loss_fn=nn.L1Loss(),\n",
    "    n_epochs=10,\n",
    "    dataloader_train=dataloader_train,\n",
    "    dataloader_test=dataloader_test,\n",
    "    preprocessing=preprocessing,\n",
    "    upload_tensorboard=True\n",
    "    )"
   ]
  },
  {
   "cell_type": "code",
   "execution_count": null,
   "metadata": {},
   "outputs": [
    {
     "name": "stderr",
     "output_type": "stream",
     "text": [
      "143it [02:30,  1.06s/it]\n"
     ]
    }
   ],
   "source": [
    "y_true_list, y_pred_list = model_trainer.get_dataset_predictions()"
   ]
  },
  {
   "cell_type": "code",
   "execution_count": null,
   "metadata": {},
   "outputs": [],
   "source": [
    "df_true = pd.DataFrame(np.transpose(y_true_list), columns=dataset_test.y)\n",
    "df_pred = pd.DataFrame(np.transpose(y_pred_list), columns=dataset_test.y)"
   ]
  },
  {
   "cell_type": "code",
   "execution_count": null,
   "metadata": {},
   "outputs": [
    {
     "data": {
      "text/plain": [
       "array([[<AxesSubplot: title={'center': 'brake'}>,\n",
       "        <AxesSubplot: title={'center': 'steer'}>],\n",
       "       [<AxesSubplot: title={'center': 'throttle'}>, <AxesSubplot: >]],\n",
       "      dtype=object)"
      ]
     },
     "execution_count": 8,
     "metadata": {},
     "output_type": "execute_result"
    },
    {
     "data": {
      "image/png": "[encoded data removed]",
      "text/plain": [
       "<Figure size 640x480 with 4 Axes>"
      ]
     },
     "metadata": {},
     "output_type": "display_data"
    }
   ],
   "source": [
    "df_pred.hist(bins=20)"
   ]
  },
  {
   "cell_type": "code",
   "execution_count": null,
   "metadata": {},
   "outputs": [],
   "source": [
    "df_residuals = df_true - df_pred"
   ]
  },
  {
   "cell_type": "code",
   "execution_count": null,
   "metadata": {},
   "outputs": [
    {
     "data": {
      "text/plain": [
       "array([[<AxesSubplot: title={'center': 'brake'}>,\n",
       "        <AxesSubplot: title={'center': 'steer'}>],\n",
       "       [<AxesSubplot: title={'center': 'throttle'}>, <AxesSubplot: >]],\n",
       "      dtype=object)"
      ]
     },
     "execution_count": 10,
     "metadata": {},
     "output_type": "execute_result"
    },
    {
     "data": {
      "image/png": "[encoded data removed]",
      "text/plain": [
       "<Figure size 640x480 with 4 Axes>"
      ]
     },
     "metadata": {},
     "output_type": "display_data"
    }
   ],
   "source": [
    "df_residuals.hist(bins=20)"
   ]
  },
  {
   "attachments": {},
   "cell_type": "markdown",
   "metadata": {},
   "source": [
    "## Experiment which operators/function can be executed on device"
   ]
  },
  {
   "cell_type": "code",
   "execution_count": null,
   "metadata": {},
   "outputs": [
    {
     "data": {
      "text/plain": [
       "tensor([2, 4], device='mps:0')"
      ]
     },
     "execution_count": 25,
     "metadata": {},
     "output_type": "execute_result"
    }
   ],
   "source": [
    "sum([torch.tensor([1, 2], device=torch.device(\"mps\")), torch.tensor([1, 2], device=torch.device(\"mps\"))])"
   ]
  },
  {
   "cell_type": "code",
   "execution_count": null,
   "metadata": {},
   "outputs": [
    {
     "data": {
      "text/plain": [
       "tensor([[[-1.5880, -1.5818, -1.5906,  ..., -1.5935, -1.5822, -1.5898],\n",
       "         [-1.5930, -1.5885, -1.5856,  ..., -1.5849, -1.5842, -1.5823],\n",
       "         [-1.5916, -1.5824, -1.5912,  ..., -1.5888, -1.5918, -1.5912],\n",
       "         ...,\n",
       "         [-1.5876, -1.5815, -1.5863,  ..., -1.5863, -1.5891, -1.5891],\n",
       "         [-1.5907, -1.5873, -1.5811,  ..., -1.5932, -1.5911, -1.5855],\n",
       "         [-1.5811, -1.5949, -1.5936,  ..., -1.5817, -1.5894, -1.5840]],\n",
       "\n",
       "        [[-1.3437, -1.3457, -1.3556,  ..., -1.3549, -1.3420, -1.3563],\n",
       "         [-1.3516, -1.3566, -1.3536,  ..., -1.3507, -1.3517, -1.3536],\n",
       "         [-1.3434, -1.3525, -1.3566,  ..., -1.3443, -1.3414, -1.3515],\n",
       "         ...,\n",
       "         [-1.3487, -1.3424, -1.3464,  ..., -1.3550, -1.3503, -1.3463],\n",
       "         [-1.3541, -1.3570, -1.3488,  ..., -1.3472, -1.3501, -1.3563],\n",
       "         [-1.3416, -1.3412, -1.3502,  ..., -1.3461, -1.3422, -1.3530]],\n",
       "\n",
       "        [[-1.1878, -1.1793, -1.1850,  ..., -1.1920, -1.1868, -1.1808],\n",
       "         [-1.1811, -1.1790, -1.1906,  ..., -1.1918, -1.1796, -1.1800],\n",
       "         [-1.1826, -1.1874, -1.1900,  ..., -1.1771, -1.1879, -1.1862],\n",
       "         ...,\n",
       "         [-1.1798, -1.1849, -1.1783,  ..., -1.1805, -1.1901, -1.1903],\n",
       "         [-1.1858, -1.1860, -1.1869,  ..., -1.1803, -1.1808, -1.1867],\n",
       "         [-1.1863, -1.1896, -1.1774,  ..., -1.1896, -1.1817, -1.1899]]],\n",
       "       device='mps:0')"
      ]
     },
     "execution_count": 36,
     "metadata": {},
     "output_type": "execute_result"
    }
   ],
   "source": [
    "# Preprocessing could be done on GPU but not on MPS (Apple)\n",
    "preprocessing[\"rgb\"](torch.rand((3, 160, 960), device=torch.device(\"mps\")))"
   ]
  },
  {
   "cell_type": "code",
   "execution_count": null,
   "metadata": {},
   "outputs": [
    {
     "data": {
      "text/plain": [
       "device(type='mps', index=0)"
      ]
     },
     "execution_count": 38,
     "metadata": {},
     "output_type": "execute_result"
    }
   ],
   "source": [
    "torch.tensor([1, 2], device=torch.device(\"mps\")).device"
   ]
  },
  {
   "cell_type": "code",
   "execution_count": null,
   "metadata": {},
   "outputs": [],
   "source": [
    "test_dict = {\"t1\": torch.tensor([1, 2, 3])}\n",
    "# [test_dict[key].to(torch.device(\"mps\")) for key in test_dict]\n",
    "for key in test_dict:\n",
    "    test_dict[key] = test_dict[key].to(torch.device(\"mps\"))"
   ]
  },
  {
   "cell_type": "code",
   "execution_count": 21,
   "metadata": {},
   "outputs": [],
   "source": [
    "torch_values = torch.tensor([0, 1, 2, 3, 4], device=torch.device(\"mps\"))\n",
    "torch_IDX = torch.tensor([0, 2])"
   ]
  },
  {
   "cell_type": "code",
   "execution_count": 22,
   "metadata": {},
   "outputs": [
    {
     "data": {
      "text/plain": [
       "tensor([0, 2], device='mps:0')"
      ]
     },
     "execution_count": 22,
     "metadata": {},
     "output_type": "execute_result"
    }
   ],
   "source": [
    "torch_values[torch_IDX]"
   ]
  },
  {
   "cell_type": "code",
   "execution_count": 21,
   "metadata": {},
   "outputs": [],
   "source": [
    "dirs = os.listdir(\"runs\")\n",
    "dirs_creation_time = [os.path.getctime(os.path.join(\"runs\", dir)) for dir in dirs]\n"
   ]
  },
  {
   "cell_type": "code",
   "execution_count": 26,
   "metadata": {},
   "outputs": [
    {
     "data": {
      "text/plain": [
       "'Feb03_18-24-31_MBPvonJulian2.fritz.box'"
      ]
     },
     "execution_count": 26,
     "metadata": {},
     "output_type": "execute_result"
    }
   ],
   "source": [
    "[el[0] for el in sorted(zip(dirs, dirs_creation_time), key=lambda x: x[1])][-1]"
   ]
  },
  {
   "cell_type": "code",
   "execution_count": 19,
   "metadata": {},
   "outputs": [
    {
     "data": {
      "text/plain": [
       "1675434169.053314"
      ]
     },
     "execution_count": 19,
     "metadata": {},
     "output_type": "execute_result"
    }
   ],
   "source": [
    "os.path.getctime('runs/Feb03_15-22-49_MBPvonJulian2.fritz.box')"
   ]
  },
  {
   "cell_type": "code",
   "execution_count": null,
   "metadata": {},
   "outputs": [],
   "source": []
  }
 ],
 "metadata": {
  "kernelspec": {
   "display_name": "carla",
   "language": "python",
   "name": "python3"
  },
  "language_info": {
   "codemirror_mode": {
    "name": "ipython",
    "version": 3
   },
   "file_extension": ".py",
   "mimetype": "text/x-python",
   "name": "python",
   "nbconvert_exporter": "python",
   "pygments_lexer": "ipython3",
   "version": "3.8.13"
  },
  "vscode": {
   "interpreter": {
    "hash": "bc80d0638afb8ec7c43f4b834002a598fcddbd6e8bf5db40ad8cba47e68e6a97"
   }
  }
 },
 "nbformat": 4,
 "nbformat_minor": 2
}
