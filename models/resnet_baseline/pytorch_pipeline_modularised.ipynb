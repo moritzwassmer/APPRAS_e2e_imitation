{
 "cells": [
  {
   "cell_type": "markdown",
   "id": "3c4750c0",
   "metadata": {},
   "source": [
    "Model ResNet\n",
    "\n",
    "https://www.pluralsight.com/guides/introduction-to-resnet"
   ]
  },
  {
   "cell_type": "markdown",
   "id": "f7e8eff3",
   "metadata": {},
   "source": [
    "## TODOS\n",
    "1. DONE Debugging, does output make sense?\n",
    "    1. Resize images\n",
    "    2. preprocessing fixes\n",
    "    5. replace scaling by proper function\n",
    "2. try on leaderboard\n",
    "3. Include Odometry and fuse into heads\n",
    "    - Speed\n",
    "    - Location\n",
    "4. navigation\n",
    "5. controller\n",
    "\n"
   ]
  },
  {
   "cell_type": "code",
   "execution_count": 1,
   "id": "2969a3fd",
   "metadata": {},
   "outputs": [],
   "source": [
    "import torch\n",
    "import torch.nn as nn\n",
    "import torch.optim as optim\n",
    "import torch.nn.functional as F\n",
    "import numpy as np\n",
    "import torchvision\n",
    "from torchvision import *\n",
    "from torch.utils.data import Dataset, DataLoader\n",
    "\n",
    "import matplotlib.pyplot as plt\n",
    "import time\n",
    "import copy\n",
    "\n",
    "import os\n",
    "import sys\n",
    "sys.path.insert(1, 'C:/Users/morit/OneDrive/UNI/Master/WS22/APP-RAS/Programming/data_pipeline')\n",
    "import os\n",
    "from data_sampler import WeightedSampler\n",
    "from dataset import CARLADataset#, CARLADatasetMultiProcessing\n",
    "from torch.utils.data import DataLoader"
   ]
  },
  {
   "cell_type": "code",
   "execution_count": 38,
   "id": "f4066654",
   "metadata": {},
   "outputs": [],
   "source": [
    "class MyResnet(nn.Module):\n",
    "    def __init__(self):\n",
    "        super().__init__()\n",
    "        self.net = torchvision.models.resnet18(weights=True)\n",
    "        num_ftrs = self.net.fc.in_features\n",
    "        \"\"\"\n",
    "        self.net.fc = nn.Sequential(\n",
    "            nn.Linear(512, 3), #nbr of outputs self.net.fc.in_features\n",
    "            nn.Tanh()\n",
    "        )\n",
    "        \"\"\"\n",
    "        self.net.fc = nn.Identity()\n",
    "        \n",
    "        self.thr_head = nn.Sequential(\n",
    "            nn.Linear(num_ftrs, 50),\n",
    "            nn.Tanh(),\n",
    "            nn.Linear(50, 1),\n",
    "            nn.Sigmoid() # TODO BU\n",
    "        )\n",
    "        \n",
    "        self.brk_head = nn.Sequential(\n",
    "            nn.Linear(num_ftrs, 50),\n",
    "            nn.Tanh(),\n",
    "            nn.Linear(50, 1),\n",
    "            nn.Sigmoid()\n",
    "        )\n",
    "        \n",
    "        self.str_head = nn.Sequential(\n",
    "            nn.Linear(num_ftrs, 50),\n",
    "            nn.Tanh(),\n",
    "            nn.Linear(50, 1),\n",
    "            nn.Tanh()\n",
    "        )\n",
    "        \"\"\"\n",
    "        self.net = self.net.cuda() if device else self.net\n",
    "        self.net.fc = self.net.fc.cuda() if device else self.net.fc\n",
    "        \n",
    "        self.thr_head = self.thr_head.cuda() if device else self.thr_head\n",
    "        self.brk_head = self.brk_head.cuda() if device else self.brk_head\n",
    "        self.str_head = self.str_head.cuda() if device else self.str_head\n",
    "        \"\"\"\n",
    "\n",
    "    def forward(self, data_):\n",
    "        x = self.net(data_)\n",
    "        x = self.net.fc(x)\n",
    "        return self.thr_head(x), self.str_head(x), self.brk_head(x)"
   ]
  },
  {
   "cell_type": "code",
   "execution_count": 47,
   "id": "50fbc137",
   "metadata": {},
   "outputs": [
    {
     "name": "stderr",
     "output_type": "stream",
     "text": [
      "C:\\Users\\morit\\anaconda3\\lib\\site-packages\\torchvision\\models\\_utils.py:223: UserWarning: Arguments other than a weight enum or `None` for 'weights' are deprecated since 0.13 and may be removed in the future. The current behavior is equivalent to passing `weights=ResNet18_Weights.IMAGENET1K_V1`. You can also use `weights=ResNet18_Weights.DEFAULT` to get the most up-to-date weights.\n",
      "  warnings.warn(msg)\n"
     ]
    },
    {
     "data": {
      "text/plain": [
       "MyResnet(\n",
       "  (net): ResNet(\n",
       "    (conv1): Conv2d(3, 64, kernel_size=(7, 7), stride=(2, 2), padding=(3, 3), bias=False)\n",
       "    (bn1): BatchNorm2d(64, eps=1e-05, momentum=0.1, affine=True, track_running_stats=True)\n",
       "    (relu): ReLU(inplace=True)\n",
       "    (maxpool): MaxPool2d(kernel_size=3, stride=2, padding=1, dilation=1, ceil_mode=False)\n",
       "    (layer1): Sequential(\n",
       "      (0): BasicBlock(\n",
       "        (conv1): Conv2d(64, 64, kernel_size=(3, 3), stride=(1, 1), padding=(1, 1), bias=False)\n",
       "        (bn1): BatchNorm2d(64, eps=1e-05, momentum=0.1, affine=True, track_running_stats=True)\n",
       "        (relu): ReLU(inplace=True)\n",
       "        (conv2): Conv2d(64, 64, kernel_size=(3, 3), stride=(1, 1), padding=(1, 1), bias=False)\n",
       "        (bn2): BatchNorm2d(64, eps=1e-05, momentum=0.1, affine=True, track_running_stats=True)\n",
       "      )\n",
       "      (1): BasicBlock(\n",
       "        (conv1): Conv2d(64, 64, kernel_size=(3, 3), stride=(1, 1), padding=(1, 1), bias=False)\n",
       "        (bn1): BatchNorm2d(64, eps=1e-05, momentum=0.1, affine=True, track_running_stats=True)\n",
       "        (relu): ReLU(inplace=True)\n",
       "        (conv2): Conv2d(64, 64, kernel_size=(3, 3), stride=(1, 1), padding=(1, 1), bias=False)\n",
       "        (bn2): BatchNorm2d(64, eps=1e-05, momentum=0.1, affine=True, track_running_stats=True)\n",
       "      )\n",
       "    )\n",
       "    (layer2): Sequential(\n",
       "      (0): BasicBlock(\n",
       "        (conv1): Conv2d(64, 128, kernel_size=(3, 3), stride=(2, 2), padding=(1, 1), bias=False)\n",
       "        (bn1): BatchNorm2d(128, eps=1e-05, momentum=0.1, affine=True, track_running_stats=True)\n",
       "        (relu): ReLU(inplace=True)\n",
       "        (conv2): Conv2d(128, 128, kernel_size=(3, 3), stride=(1, 1), padding=(1, 1), bias=False)\n",
       "        (bn2): BatchNorm2d(128, eps=1e-05, momentum=0.1, affine=True, track_running_stats=True)\n",
       "        (downsample): Sequential(\n",
       "          (0): Conv2d(64, 128, kernel_size=(1, 1), stride=(2, 2), bias=False)\n",
       "          (1): BatchNorm2d(128, eps=1e-05, momentum=0.1, affine=True, track_running_stats=True)\n",
       "        )\n",
       "      )\n",
       "      (1): BasicBlock(\n",
       "        (conv1): Conv2d(128, 128, kernel_size=(3, 3), stride=(1, 1), padding=(1, 1), bias=False)\n",
       "        (bn1): BatchNorm2d(128, eps=1e-05, momentum=0.1, affine=True, track_running_stats=True)\n",
       "        (relu): ReLU(inplace=True)\n",
       "        (conv2): Conv2d(128, 128, kernel_size=(3, 3), stride=(1, 1), padding=(1, 1), bias=False)\n",
       "        (bn2): BatchNorm2d(128, eps=1e-05, momentum=0.1, affine=True, track_running_stats=True)\n",
       "      )\n",
       "    )\n",
       "    (layer3): Sequential(\n",
       "      (0): BasicBlock(\n",
       "        (conv1): Conv2d(128, 256, kernel_size=(3, 3), stride=(2, 2), padding=(1, 1), bias=False)\n",
       "        (bn1): BatchNorm2d(256, eps=1e-05, momentum=0.1, affine=True, track_running_stats=True)\n",
       "        (relu): ReLU(inplace=True)\n",
       "        (conv2): Conv2d(256, 256, kernel_size=(3, 3), stride=(1, 1), padding=(1, 1), bias=False)\n",
       "        (bn2): BatchNorm2d(256, eps=1e-05, momentum=0.1, affine=True, track_running_stats=True)\n",
       "        (downsample): Sequential(\n",
       "          (0): Conv2d(128, 256, kernel_size=(1, 1), stride=(2, 2), bias=False)\n",
       "          (1): BatchNorm2d(256, eps=1e-05, momentum=0.1, affine=True, track_running_stats=True)\n",
       "        )\n",
       "      )\n",
       "      (1): BasicBlock(\n",
       "        (conv1): Conv2d(256, 256, kernel_size=(3, 3), stride=(1, 1), padding=(1, 1), bias=False)\n",
       "        (bn1): BatchNorm2d(256, eps=1e-05, momentum=0.1, affine=True, track_running_stats=True)\n",
       "        (relu): ReLU(inplace=True)\n",
       "        (conv2): Conv2d(256, 256, kernel_size=(3, 3), stride=(1, 1), padding=(1, 1), bias=False)\n",
       "        (bn2): BatchNorm2d(256, eps=1e-05, momentum=0.1, affine=True, track_running_stats=True)\n",
       "      )\n",
       "    )\n",
       "    (layer4): Sequential(\n",
       "      (0): BasicBlock(\n",
       "        (conv1): Conv2d(256, 512, kernel_size=(3, 3), stride=(2, 2), padding=(1, 1), bias=False)\n",
       "        (bn1): BatchNorm2d(512, eps=1e-05, momentum=0.1, affine=True, track_running_stats=True)\n",
       "        (relu): ReLU(inplace=True)\n",
       "        (conv2): Conv2d(512, 512, kernel_size=(3, 3), stride=(1, 1), padding=(1, 1), bias=False)\n",
       "        (bn2): BatchNorm2d(512, eps=1e-05, momentum=0.1, affine=True, track_running_stats=True)\n",
       "        (downsample): Sequential(\n",
       "          (0): Conv2d(256, 512, kernel_size=(1, 1), stride=(2, 2), bias=False)\n",
       "          (1): BatchNorm2d(512, eps=1e-05, momentum=0.1, affine=True, track_running_stats=True)\n",
       "        )\n",
       "      )\n",
       "      (1): BasicBlock(\n",
       "        (conv1): Conv2d(512, 512, kernel_size=(3, 3), stride=(1, 1), padding=(1, 1), bias=False)\n",
       "        (bn1): BatchNorm2d(512, eps=1e-05, momentum=0.1, affine=True, track_running_stats=True)\n",
       "        (relu): ReLU(inplace=True)\n",
       "        (conv2): Conv2d(512, 512, kernel_size=(3, 3), stride=(1, 1), padding=(1, 1), bias=False)\n",
       "        (bn2): BatchNorm2d(512, eps=1e-05, momentum=0.1, affine=True, track_running_stats=True)\n",
       "      )\n",
       "    )\n",
       "    (avgpool): AdaptiveAvgPool2d(output_size=(1, 1))\n",
       "    (fc): Identity()\n",
       "  )\n",
       "  (thr_head): Sequential(\n",
       "    (0): Linear(in_features=512, out_features=50, bias=True)\n",
       "    (1): Tanh()\n",
       "    (2): Linear(in_features=50, out_features=1, bias=True)\n",
       "    (3): Sigmoid()\n",
       "  )\n",
       "  (brk_head): Sequential(\n",
       "    (0): Linear(in_features=512, out_features=50, bias=True)\n",
       "    (1): Tanh()\n",
       "    (2): Linear(in_features=50, out_features=1, bias=True)\n",
       "    (3): Sigmoid()\n",
       "  )\n",
       "  (str_head): Sequential(\n",
       "    (0): Linear(in_features=512, out_features=50, bias=True)\n",
       "    (1): Tanh()\n",
       "    (2): Linear(in_features=50, out_features=1, bias=True)\n",
       "    (3): Tanh()\n",
       "  )\n",
       ")"
      ]
     },
     "execution_count": 47,
     "metadata": {},
     "output_type": "execute_result"
    }
   ],
   "source": [
    "device = torch.device('cuda:0' if torch.cuda.is_available() else 'cpu')\n",
    "net = MyResnet()\n",
    "net = net.cuda() if device else net\n",
    "net"
   ]
  },
  {
   "cell_type": "markdown",
   "id": "beefd313",
   "metadata": {},
   "source": [
    "Data Loaders etc\n"
   ]
  },
  {
   "cell_type": "code",
   "execution_count": 48,
   "id": "2a3c0c7d",
   "metadata": {},
   "outputs": [
    {
     "name": "stdout",
     "output_type": "stream",
     "text": [
      "Town10HD_Scenario10_route9_11_28_17_59_39 has varying number of data files among input folders. It got discarded from the dataset.\n"
     ]
    }
   ],
   "source": [
    "path_ege_data = os.path.join(\"..\", \"data\", \"Dataset Ege\")\n",
    "\n",
    "config = {\"used_inputs\": [\"rgb\",\"measurements\"], \n",
    "        \"used_measurements\": [\"speed\", \"steer\", \"throttle\", \"brake\"],\n",
    "        \"seq_len\": 1\n",
    "        }\n",
    "\n",
    "train_dataset = CARLADataset(root_dir=path_ege_data, config=config, transform=None)\n",
    "weighted_sampler = WeightedSampler(dataset=train_dataset)\n",
    "\n",
    "batch_size = 64\n",
    "train_dataloader = DataLoader(train_dataset, batch_size=batch_size, shuffle=True)\n",
    "test_dataloader = DataLoader(train_dataset, batch_size=batch_size, shuffle=True)"
   ]
  },
  {
   "cell_type": "code",
   "execution_count": 49,
   "id": "dc8a891b",
   "metadata": {},
   "outputs": [
    {
     "data": {
      "text/plain": [
       "'\\ndef normalize_img(tensor):\\n    v_min, v_max = tensor.min(), tensor.max()\\n    new_min, new_max = 0, 1\\n    v_p = (tensor - v_min)/(v_max - v_min)*(new_max - new_min) + new_min\\n    return v_p\\n'"
      ]
     },
     "execution_count": 49,
     "metadata": {},
     "output_type": "execute_result"
    }
   ],
   "source": [
    "\"\"\"\n",
    "def normalize_img(tensor):\n",
    "    v_min, v_max = tensor.min(), tensor.max()\n",
    "    new_min, new_max = 0, 1\n",
    "    v_p = (tensor - v_min)/(v_max - v_min)*(new_max - new_min) + new_min\n",
    "    return v_p\n",
    "\"\"\""
   ]
  },
  {
   "cell_type": "code",
   "execution_count": 50,
   "id": "75c5c021",
   "metadata": {},
   "outputs": [],
   "source": [
    "def normalize_batch(tensors):\n",
    "    liste = []\n",
    "    for tensor in tensors:\n",
    "        tensor = preprocess(tensor ) #* 1/255\n",
    "        liste.append(tensor)\n",
    "    return torch.stack(liste)     "
   ]
  },
  {
   "cell_type": "code",
   "execution_count": 51,
   "id": "8ddfb061",
   "metadata": {
    "scrolled": true
   },
   "outputs": [
    {
     "data": {
      "text/plain": [
       "torch.Size([64, 3, 160, 960])"
      ]
     },
     "execution_count": 51,
     "metadata": {},
     "output_type": "execute_result"
    }
   ],
   "source": [
    "from PIL import Image\n",
    "from torchvision import transforms\n",
    "#input_image = Image.open(filename)\n",
    "preprocess = transforms.Compose([\n",
    "    transforms.ToPILImage(),\n",
    "    #transforms.Resize(256),\n",
    "    #transforms.CenterCrop(224),\n",
    "    transforms.ToTensor(),\n",
    "    transforms.Normalize(mean=[0.485, 0.456, 0.406], std=[0.229, 0.224, 0.225]),\n",
    "])\n",
    "\n",
    "train_dataloader = DataLoader(train_dataset, batch_size=batch_size, shuffle=True)\n",
    "\n",
    "img = next(iter(train_dataloader))[\"rgb\"].transpose(1,4)[:,:,:,:,0].float()\n",
    "img.shape"
   ]
  },
  {
   "cell_type": "code",
   "execution_count": 52,
   "id": "82b616d0",
   "metadata": {},
   "outputs": [
    {
     "data": {
      "text/plain": [
       "torch.Size([64, 3, 160, 960])"
      ]
     },
     "execution_count": 52,
     "metadata": {},
     "output_type": "execute_result"
    }
   ],
   "source": [
    "normalize_batch(img).shape#[0,:,:,:]"
   ]
  },
  {
   "cell_type": "markdown",
   "id": "7f533fea",
   "metadata": {},
   "source": [
    "Training"
   ]
  },
  {
   "cell_type": "code",
   "execution_count": 53,
   "id": "992a3786",
   "metadata": {},
   "outputs": [],
   "source": [
    "criterion = nn.L1Loss()#nn.MSELoss()\n",
    "optimizer = optim.Adam(net.parameters(), lr=0.001)#optim.SGD(net.parameters(), lr=0.001, momentum=0.9)"
   ]
  },
  {
   "cell_type": "code",
   "execution_count": 54,
   "id": "e39590c3",
   "metadata": {
    "scrolled": true
   },
   "outputs": [
    {
     "name": "stdout",
     "output_type": "stream",
     "text": [
      "Epoch 1\n",
      "\n",
      "Epoch [1/5], Step [0/32], Loss: 0.3565\n",
      "\n",
      "train-loss: 0.2811,\n",
      "Epoch 2\n",
      "\n",
      "Epoch [2/5], Step [0/32], Loss: 0.1683\n",
      "\n",
      "train-loss: 0.2176,\n",
      "Epoch 3\n",
      "\n",
      "Epoch [3/5], Step [0/32], Loss: 0.1119\n",
      "\n",
      "train-loss: 0.1876,\n",
      "Epoch 4\n",
      "\n",
      "Epoch [4/5], Step [0/32], Loss: 0.1607\n",
      "\n",
      "train-loss: 0.1704,\n",
      "Epoch 5\n",
      "\n",
      "Epoch [5/5], Step [0/32], Loss: 0.0882\n",
      "\n",
      "train-loss: 0.1585,\n",
      "Wall time: 5min 32s\n"
     ]
    }
   ],
   "source": [
    "%%time\n",
    "\n",
    "n_epochs = 5\n",
    "#print_every = 10\n",
    "valid_loss_min = np.Inf\n",
    "val_loss = []\n",
    "train_loss = []\n",
    "total_step = len(train_dataloader)\n",
    "\n",
    "run = True\n",
    "\n",
    "for epoch in range(1, n_epochs+1):\n",
    "    \n",
    "    running_loss = 0.0\n",
    "    print(f'Epoch {epoch}\\n')\n",
    "    \n",
    "    #data: (['idx', 'rgb', 'speed', 'steer', 'throttle', 'brake'])\n",
    "    \n",
    "    # Work through batches\n",
    "    for batch_idx, data in enumerate(train_dataloader):\n",
    "\n",
    "        # further preprocessing\n",
    "        data_ = normalize_batch(data[\"rgb\"].transpose(1,4)[:,:,:,:,0]).float() # HOTFIX\n",
    "        #data[\"rgb\"].transpose(1,4)[:,:,:,:,0]\n",
    "        data[\"throttle\"]=data[\"throttle\"].float()\n",
    "        data[\"steer\"]=data[\"steer\"].float()\n",
    "        data[\"brake\"]=data[\"brake\"].float()\n",
    "        \n",
    "        #print(target_.shape)\n",
    "        #print(target_.shape[0])\n",
    "        \"\"\"\n",
    "        if data[\"throttle\"].shape[0] != batch_size: # HOTFIX\n",
    "            run = False\n",
    "            break\n",
    "        \"\"\"\n",
    "\n",
    "        # move to GPU\n",
    "        data_ = data_.to(device)\n",
    "        \n",
    "        data[\"throttle\"] = data[\"throttle\"].to(device)\n",
    "        data[\"steer\"] = data[\"steer\"].to(device)\n",
    "        data[\"brake\"] = data[\"brake\"].to(device)\n",
    "        \n",
    "        # compute outputs\n",
    "        optimizer.zero_grad()\n",
    "        \n",
    "        outputs = net(data_)\n",
    "        output_throttle = outputs[0].to(device)\n",
    "        output_steer = outputs[1].to(device)\n",
    "        output_brake = outputs[2].to(device)\n",
    "        \n",
    "        loss_throttle = criterion(output_throttle, data[\"throttle\"].float())\n",
    "        loss_steer = criterion(output_steer, data[\"steer\"].float())\n",
    "        loss_brake = criterion(output_brake, data[\"brake\"].float())\n",
    "        \n",
    "        \n",
    "        loss = sum([loss_throttle, loss_steer, loss_brake])/3\n",
    "        \n",
    "        # Backprop\n",
    "        loss.backward()\n",
    "        \n",
    "        optimizer.step()\n",
    "\n",
    "        running_loss += loss.item()\n",
    "        if (batch_idx) % batch_size == 0:\n",
    "            print ('Epoch [{}/{}], Step [{}/{}], Loss: {:.4f}' \n",
    "                   .format(epoch, n_epochs, batch_idx, total_step, loss.item()))\n",
    "    \"\"\"\n",
    "    if not run: # HOTFIX\n",
    "        continue\n",
    "    \"\"\"\n",
    "        \n",
    "    # Epoch finished, evaluate network and save if network_learned\n",
    "    train_loss.append(running_loss/total_step)\n",
    "    print(f'\\ntrain-loss: {np.mean(train_loss):.4f},')\n",
    "    batch_loss = 0\n",
    "\n",
    "    \n",
    "    \"\"\"\n",
    "    with torch.no_grad():\n",
    "        net.eval()\n",
    "        for data_t, target_t in (test_dataloader):\n",
    "            data_t, target_t = data_t.to(device), target_t.to(device)\n",
    "            outputs_t = net(data_t)\n",
    "            loss_t = criterion(outputs_t, target_t)\n",
    "            batch_loss += loss_t.item()\n",
    "        val_loss.append(batch_loss/len(test_dataloader))\n",
    "        #network_learned = batch_loss < valid_loss_min\n",
    "        print(f'validation loss: {np.mean(val_loss):.4f}, \\n')\n",
    "\n",
    "        \n",
    "        if False:#network_learned:\n",
    "            valid_loss_min = batch_loss\n",
    "            torch.save(net.state_dict(), 'resnet.pt')\n",
    "            print('Improvement-Detected, save-model')\n",
    "    \"\"\"\n",
    "\n",
    "    net.train()\n",
    "    "
   ]
  },
  {
   "cell_type": "markdown",
   "id": "a85942e9",
   "metadata": {},
   "source": [
    "Test predictions"
   ]
  },
  {
   "cell_type": "code",
   "execution_count": 55,
   "id": "09ecda41",
   "metadata": {},
   "outputs": [
    {
     "name": "stdout",
     "output_type": "stream",
     "text": [
      "dict_keys(['idx', 'rgb', 'speed', 'steer', 'throttle', 'brake'])\n"
     ]
    }
   ],
   "source": [
    "test_dataloader = DataLoader(train_dataset, batch_size=batch_size, shuffle=True)\n",
    "print(next(iter(test_dataloader)).keys())\n"
   ]
  },
  {
   "cell_type": "code",
   "execution_count": 56,
   "id": "8b3361c7",
   "metadata": {},
   "outputs": [],
   "source": [
    "idx, X = next(enumerate(test_dataloader))"
   ]
  },
  {
   "cell_type": "code",
   "execution_count": 57,
   "id": "7b96dc55",
   "metadata": {},
   "outputs": [],
   "source": [
    "data_ = normalize_batch(X[\"rgb\"].transpose(1,4)[:,:,:,:,0]).float().to(device)\n",
    "target_ = (X[\"throttle\"],X[\"steer\"],X[\"brake\"])"
   ]
  },
  {
   "cell_type": "code",
   "execution_count": 58,
   "id": "44845cb5",
   "metadata": {},
   "outputs": [],
   "source": [
    "with torch.no_grad():\n",
    "    outputs_ = net(data_)"
   ]
  },
  {
   "cell_type": "code",
   "execution_count": 59,
   "id": "88953edc",
   "metadata": {
    "scrolled": true
   },
   "outputs": [
    {
     "name": "stdout",
     "output_type": "stream",
     "text": [
      "tensor([[0.0070],\n",
      "        [0.1184],\n",
      "        [0.6570],\n",
      "        [0.6668],\n",
      "        [0.0070],\n",
      "        [0.6541],\n",
      "        [0.6750],\n",
      "        [0.5240],\n",
      "        [0.5926],\n",
      "        [0.6023],\n",
      "        [0.6734],\n",
      "        [0.6724],\n",
      "        [0.6352],\n",
      "        [0.0072],\n",
      "        [0.6737],\n",
      "        [0.6748],\n",
      "        [0.6696],\n",
      "        [0.6708],\n",
      "        [0.6707],\n",
      "        [0.6326],\n",
      "        [0.6653],\n",
      "        [0.0070],\n",
      "        [0.6729],\n",
      "        [0.0591],\n",
      "        [0.4483],\n",
      "        [0.6686],\n",
      "        [0.5509],\n",
      "        [0.0071],\n",
      "        [0.6688],\n",
      "        [0.0071],\n",
      "        [0.6639],\n",
      "        [0.0084],\n",
      "        [0.6711],\n",
      "        [0.6575],\n",
      "        [0.0074],\n",
      "        [0.0070],\n",
      "        [0.6737],\n",
      "        [0.0077],\n",
      "        [0.6663],\n",
      "        [0.0072],\n",
      "        [0.0078],\n",
      "        [0.6567],\n",
      "        [0.6712],\n",
      "        [0.0121],\n",
      "        [0.0071],\n",
      "        [0.6749],\n",
      "        [0.6362],\n",
      "        [0.6602],\n",
      "        [0.0073],\n",
      "        [0.6715],\n",
      "        [0.6643],\n",
      "        [0.6461],\n",
      "        [0.1179],\n",
      "        [0.6380],\n",
      "        [0.6764],\n",
      "        [0.6011],\n",
      "        [0.0070],\n",
      "        [0.1178],\n",
      "        [0.0186],\n",
      "        [0.6745],\n",
      "        [0.6679],\n",
      "        [0.6754],\n",
      "        [0.2400],\n",
      "        [0.0070]], device='cuda:0')\n"
     ]
    }
   ],
   "source": [
    "print(outputs_[0])"
   ]
  },
  {
   "cell_type": "code",
   "execution_count": 60,
   "id": "779c9eec",
   "metadata": {},
   "outputs": [
    {
     "name": "stdout",
     "output_type": "stream",
     "text": [
      "tensor([[0.0000],\n",
      "        [0.7500],\n",
      "        [0.7500],\n",
      "        [0.7500],\n",
      "        [0.0000],\n",
      "        [0.2800],\n",
      "        [0.7500],\n",
      "        [0.0603],\n",
      "        [0.0734],\n",
      "        [0.0461],\n",
      "        [0.7500],\n",
      "        [0.7500],\n",
      "        [0.7500],\n",
      "        [0.0000],\n",
      "        [0.0222],\n",
      "        [0.7500],\n",
      "        [0.7500],\n",
      "        [0.7500],\n",
      "        [0.0547],\n",
      "        [0.3725],\n",
      "        [0.0000],\n",
      "        [0.0000],\n",
      "        [0.7500],\n",
      "        [0.0000],\n",
      "        [0.7500],\n",
      "        [0.3926],\n",
      "        [0.7500],\n",
      "        [0.0000],\n",
      "        [0.7500],\n",
      "        [0.0000],\n",
      "        [0.3043],\n",
      "        [0.0000],\n",
      "        [0.7500],\n",
      "        [0.7500],\n",
      "        [0.0000],\n",
      "        [0.0000],\n",
      "        [0.3934],\n",
      "        [0.0000],\n",
      "        [0.6199],\n",
      "        [0.0000],\n",
      "        [0.7500],\n",
      "        [0.7500],\n",
      "        [0.3571],\n",
      "        [0.0000],\n",
      "        [0.0000],\n",
      "        [0.7500],\n",
      "        [0.7500],\n",
      "        [0.0501],\n",
      "        [0.0000],\n",
      "        [0.7500],\n",
      "        [0.0000],\n",
      "        [0.4280],\n",
      "        [0.0497],\n",
      "        [0.7500],\n",
      "        [0.7500],\n",
      "        [0.0976],\n",
      "        [0.0000],\n",
      "        [0.0468],\n",
      "        [0.0000],\n",
      "        [0.7500],\n",
      "        [0.0687],\n",
      "        [0.7500],\n",
      "        [0.7500],\n",
      "        [0.0000]], dtype=torch.float64)\n"
     ]
    }
   ],
   "source": [
    "print(target_[0])"
   ]
  },
  {
   "cell_type": "markdown",
   "id": "bd0f44f0",
   "metadata": {},
   "source": [
    "save & load"
   ]
  },
  {
   "cell_type": "code",
   "execution_count": 61,
   "id": "f516f764",
   "metadata": {},
   "outputs": [],
   "source": [
    "#torch.save(net, 'rgb_resnet.pth')"
   ]
  },
  {
   "cell_type": "code",
   "execution_count": 18,
   "id": "3b2c730b",
   "metadata": {
    "scrolled": true
   },
   "outputs": [],
   "source": [
    "#net = torch.load('rgb_resnet.pth')"
   ]
  },
  {
   "cell_type": "markdown",
   "id": "f8568190",
   "metadata": {},
   "source": [
    "Time test"
   ]
  },
  {
   "cell_type": "code",
   "execution_count": 19,
   "id": "2e33ce4e",
   "metadata": {},
   "outputs": [
    {
     "name": "stdout",
     "output_type": "stream",
     "text": [
      "29.58383321762085\n"
     ]
    }
   ],
   "source": [
    "# ohne preprocessing ca 16-17 sekunden. Mit preprocessing ca 37 sekunden\n",
    "train_dataloader = DataLoader(train_dataset, batch_size=batch_size, shuffle=True)\n",
    "at = time.time()\n",
    "for batch_idx, data in enumerate(train_dataloader):\n",
    "    data_ = normalize_batch(data[\"rgb\"].transpose(1,4)[:,:,:,:,0]).float()\n",
    "et = time.time()\n",
    "print(et-at)\n"
   ]
  }
 ],
 "metadata": {
  "kernelspec": {
   "display_name": "Python 3 (ipykernel)",
   "language": "python",
   "name": "python3"
  },
  "language_info": {
   "codemirror_mode": {
    "name": "ipython",
    "version": 3
   },
   "file_extension": ".py",
   "mimetype": "text/x-python",
   "name": "python",
   "nbconvert_exporter": "python",
   "pygments_lexer": "ipython3",
   "version": "3.9.13"
  }
 },
 "nbformat": 4,
 "nbformat_minor": 5
}
