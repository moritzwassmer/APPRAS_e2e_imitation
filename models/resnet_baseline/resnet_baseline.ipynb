{
 "cells": [
  {
   "cell_type": "markdown",
   "id": "3c4750c0",
   "metadata": {},
   "source": [
    "# Model ResNet\n",
    "\n",
    "https://www.pluralsight.com/guides/introduction-to-resnet"
   ]
  },
  {
   "cell_type": "markdown",
   "id": "f7e8eff3",
   "metadata": {},
   "source": [
    "#### TODOS\n",
    "1. DONE Debugging, does output make sense?\n",
    "    1. Resize images\n",
    "    2. preprocessing fixes\n",
    "    5. replace scaling by proper function\n",
    "2. try on leaderboard\n",
    "3. Include Odometry and fuse into heads\n",
    "    - Speed\n",
    "    - Location\n",
    "4. navigation\n",
    "5. controller\n",
    "6. Evaluation on Test set, Modularization\n",
    "\n"
   ]
  },
  {
   "cell_type": "markdown",
   "id": "96a254eb",
   "metadata": {},
   "source": [
    "## Dependencies"
   ]
  },
  {
   "cell_type": "code",
   "execution_count": 1,
   "id": "2969a3fd",
   "metadata": {},
   "outputs": [],
   "source": [
    "# MODEL STUFF\n",
    "import torch\n",
    "import torch.nn as nn\n",
    "import torch.optim as optim\n",
    "#import torch.nn.functional as F\n",
    "import numpy as np\n",
    "import torchvision\n",
    "from torchvision import *\n",
    "from torch.utils.data import Dataset, DataLoader\n",
    "from PIL import Image\n",
    "from torchvision import transforms\n",
    "\n",
    "# GENERAL STUFF\n",
    "import time\n",
    "import copy\n",
    "import os\n",
    "import sys\n",
    "sys.path.insert(1, 'C:/Users/morit/OneDrive/UNI/Master/WS22/APP-RAS/Programming/data_pipeline') # TODO\n",
    "\n",
    "# DATA ENGINEERING\n",
    "from data_sampler import WeightedSampler\n",
    "from dataset import CARLADataset#, CARLADatasetMultiProcessing"
   ]
  },
  {
   "cell_type": "markdown",
   "id": "0ce60a27",
   "metadata": {},
   "source": [
    "## Model"
   ]
  },
  {
   "cell_type": "code",
   "execution_count": 2,
   "id": "f4066654",
   "metadata": {},
   "outputs": [],
   "source": [
    "class MyResnet(nn.Module):\n",
    "    \n",
    "    def __init__(self):\n",
    "        super().__init__()\n",
    "        \n",
    "        # ResNet Architecture with pretrained weights, also bigger resnets available\n",
    "        self.net = torchvision.models.resnet18(weights=True)\n",
    "        num_ftrs = self.net.fc.in_features\n",
    "\n",
    "        # Top layer of ResNet which you can modify. We choose Identity to use it as Input for all the heads\n",
    "        self.net.fc = nn.Identity()\n",
    "        \n",
    "        \n",
    "        # Regression Heads for Throttle, Brake and Steering\n",
    "        self.thr_head = nn.Sequential(\n",
    "            nn.Linear(num_ftrs, 50),\n",
    "            nn.Tanh(),\n",
    "            nn.Linear(50, 1),\n",
    "            nn.Sigmoid() # [0,1] Range Output\n",
    "        )\n",
    "        \n",
    "        self.brk_head = nn.Sequential(\n",
    "            nn.Linear(num_ftrs, 50),\n",
    "            nn.Tanh(),\n",
    "            nn.Linear(50, 1),\n",
    "            nn.Sigmoid() # [0,1] Range Output\n",
    "        )\n",
    "        \n",
    "        self.str_head = nn.Sequential(\n",
    "            nn.Linear(num_ftrs, 50),\n",
    "            nn.Tanh(),\n",
    "            nn.Linear(50, 1),\n",
    "            nn.Tanh() # [-1,1] Range Output\n",
    "        )\n",
    "\n",
    "    # Forward Pass of the Model\n",
    "    def forward(self, x):\n",
    "        x = self.net(x)\n",
    "        x = self.net.fc(x)\n",
    "        return self.thr_head(x), self.str_head(x), self.brk_head(x) # 3 Outputs since we have 3 Heads"
   ]
  },
  {
   "cell_type": "markdown",
   "id": "beefd313",
   "metadata": {},
   "source": [
    "## Data Loaders, Data Sets"
   ]
  },
  {
   "cell_type": "code",
   "execution_count": 3,
   "id": "2a3c0c7d",
   "metadata": {},
   "outputs": [
    {
     "name": "stdout",
     "output_type": "stream",
     "text": [
      "Town10HD_Scenario10_route9_11_28_17_59_39 has varying number of data files among input folders. It got discarded from the dataset.\n"
     ]
    }
   ],
   "source": [
    "path_ege_data = os.path.join(\"..\", \"data\", \"Dataset Ege\")\n",
    "\n",
    "config = {\"used_inputs\": [\"rgb\",\"measurements\"], \n",
    "        \"used_measurements\": [\"speed\", \"steer\", \"throttle\", \"brake\"],\n",
    "        \"seq_len\": 1\n",
    "        }\n",
    "\n",
    "train_dataset = CARLADataset(root_dir=path_ege_data, config=config, transform=None)\n",
    "weighted_sampler = WeightedSampler(dataset=train_dataset)\n",
    "\n",
    "batch_size = 64\n",
    "train_dataloader = DataLoader(train_dataset, batch_size=batch_size, shuffle=True)\n",
    "test_dataloader = DataLoader(train_dataset, batch_size=batch_size, shuffle=True)"
   ]
  },
  {
   "cell_type": "markdown",
   "id": "72802f3d",
   "metadata": {},
   "source": [
    "### Perprocessing Workarounds"
   ]
  },
  {
   "cell_type": "code",
   "execution_count": 4,
   "id": "75c5c021",
   "metadata": {},
   "outputs": [],
   "source": [
    "def normalize_batch(tensors):\n",
    "    liste = []\n",
    "    for tensor in tensors:\n",
    "        tensor = preprocess(tensor ) #* 1/255\n",
    "        liste.append(tensor)\n",
    "    return torch.stack(liste)     "
   ]
  },
  {
   "cell_type": "code",
   "execution_count": 5,
   "id": "8ddfb061",
   "metadata": {
    "scrolled": true
   },
   "outputs": [
    {
     "data": {
      "text/plain": [
       "torch.Size([64, 3, 160, 960])"
      ]
     },
     "execution_count": 5,
     "metadata": {},
     "output_type": "execute_result"
    }
   ],
   "source": [
    "preprocess = transforms.Compose([\n",
    "    transforms.ToPILImage(),\n",
    "    transforms.ToTensor(),\n",
    "    transforms.Normalize(mean=[0.485, 0.456, 0.406], std=[0.229, 0.224, 0.225]),\n",
    "])\n",
    "\n",
    "train_dataloader = DataLoader(train_dataset, batch_size=batch_size, shuffle=True)\n",
    "\n",
    "img = next(iter(train_dataloader))[\"rgb\"].transpose(1,4)[:,:,:,:,0].float()\n",
    "img.shape"
   ]
  },
  {
   "cell_type": "code",
   "execution_count": 6,
   "id": "82b616d0",
   "metadata": {},
   "outputs": [
    {
     "data": {
      "text/plain": [
       "torch.Size([64, 3, 160, 960])"
      ]
     },
     "execution_count": 6,
     "metadata": {},
     "output_type": "execute_result"
    }
   ],
   "source": [
    "normalize_batch(img).shape#[0,:,:,:]"
   ]
  },
  {
   "cell_type": "markdown",
   "id": "cd1c77c4",
   "metadata": {},
   "source": [
    "## Training"
   ]
  },
  {
   "cell_type": "code",
   "execution_count": 7,
   "id": "f57432c1",
   "metadata": {},
   "outputs": [
    {
     "name": "stderr",
     "output_type": "stream",
     "text": [
      "C:\\Users\\morit\\anaconda3\\lib\\site-packages\\torchvision\\models\\_utils.py:223: UserWarning: Arguments other than a weight enum or `None` for 'weights' are deprecated since 0.13 and may be removed in the future. The current behavior is equivalent to passing `weights=ResNet18_Weights.IMAGENET1K_V1`. You can also use `weights=ResNet18_Weights.DEFAULT` to get the most up-to-date weights.\n",
      "  warnings.warn(msg)\n"
     ]
    }
   ],
   "source": [
    "# Initialise Model (GPU or CPU)\n",
    "global device = torch.device('cuda:0' if torch.cuda.is_available() else 'cpu')\n",
    "net = MyResnet().cuda() if device else net\n",
    "net"
   ]
  },
  {
   "cell_type": "code",
   "execution_count": 21,
   "id": "505b9074",
   "metadata": {},
   "outputs": [],
   "source": [
    "def to_cuda_if_possible(data):\n",
    "    return data.to(device) if device else data"
   ]
  },
  {
   "cell_type": "code",
   "execution_count": 8,
   "id": "992a3786",
   "metadata": {},
   "outputs": [],
   "source": [
    "# Loss and Optimizer\n",
    "criterion = nn.L1Loss() # Easy to interpret #nn.MSELoss()\n",
    "optimizer = optim.Adam(net.parameters(), lr=0.001) #optim.SGD(net.parameters(), lr=0.001, momentum=0.9)"
   ]
  },
  {
   "cell_type": "code",
   "execution_count": 23,
   "id": "e39590c3",
   "metadata": {
    "scrolled": true
   },
   "outputs": [
    {
     "name": "stdout",
     "output_type": "stream",
     "text": [
      "Epoch 1\n",
      "\n",
      "Epoch [1/1], Step [0/32], Loss: 0.2456\n",
      "\n",
      "train-loss: 0.2400,\n",
      "Wall time: 59 s\n"
     ]
    }
   ],
   "source": [
    "%%time\n",
    "\n",
    "n_epochs = 1\n",
    "#print_every = 10\n",
    "valid_loss_min = np.Inf\n",
    "val_loss = []\n",
    "train_loss = []\n",
    "total_step = len(train_dataloader)\n",
    "\n",
    "run = True\n",
    "\n",
    "for epoch in range(1, n_epochs+1):\n",
    "    \n",
    "    running_loss = 0.0\n",
    "    print(f'Epoch {epoch}\\n')\n",
    "    \n",
    "    # Work through batches\n",
    "    for batch_idx, data in enumerate(train_dataloader): #data: (['idx', 'rgb', 'speed', 'steer', 'throttle', 'brake'])\n",
    "\n",
    "        # further preprocessing\n",
    "        data_ = normalize_batch(data[\"rgb\"].transpose(1,4)[:,:,:,:,0]).float() # HOTFIX\n",
    "        data[\"throttle\"]=data[\"throttle\"].float()\n",
    "        data[\"steer\"]=data[\"steer\"].float()\n",
    "        data[\"brake\"]=data[\"brake\"].float()\n",
    "\n",
    "        # move to GPU\n",
    "        data_ = data_.to(device)\n",
    "        \n",
    "        data[\"throttle\"] = to_cuda_if_possible(data[\"throttle\"])\n",
    "        data[\"steer\"] = to_cuda_if_possible(data[\"steer\"])\n",
    "        data[\"brake\"] = to_cuda_if_possible(data[\"brake\"])\n",
    "        \n",
    "        # compute outputs\n",
    "        optimizer.zero_grad()\n",
    "        \n",
    "        outputs = net(data_)\n",
    "        output_throttle = to_cuda_if_possible(outputs[0])\n",
    "        output_steer = to_cuda_if_possible(outputs[1])\n",
    "        output_brake = to_cuda_if_possible(outputs[2])\n",
    "        \n",
    "        loss_throttle = criterion(output_throttle, data[\"throttle\"].float())\n",
    "        loss_steer = criterion(output_steer, data[\"steer\"].float())\n",
    "        loss_brake = criterion(output_brake, data[\"brake\"].float())\n",
    "        \n",
    "        \n",
    "        loss = sum([loss_throttle, loss_steer, loss_brake])/3\n",
    "        \n",
    "        # Backprop\n",
    "        loss.backward()\n",
    "        \n",
    "        optimizer.step()\n",
    "\n",
    "        running_loss += loss.item()\n",
    "        if (batch_idx) % batch_size == 0:\n",
    "            print ('Epoch [{}/{}], Step [{}/{}], Loss: {:.4f}' \n",
    "                   .format(epoch, n_epochs, batch_idx, total_step, loss.item()))\n",
    "        \n",
    "    # Epoch finished, evaluate network and save if network_learned\n",
    "    train_loss.append(running_loss/total_step)\n",
    "    print(f'\\ntrain-loss: {np.mean(train_loss):.4f},')\n",
    "    batch_loss = 0\n",
    "\n",
    "    \n",
    "    # Evaluation on Test set, skipped for now\n",
    "    \"\"\"\n",
    "    with torch.no_grad():\n",
    "        net.eval()\n",
    "        for data_t, target_t in (test_dataloader):\n",
    "            data_t, target_t = data_t.to(device), target_t.to(device)\n",
    "            outputs_t = net(data_t)\n",
    "            loss_t = criterion(outputs_t, target_t)\n",
    "            batch_loss += loss_t.item()\n",
    "        val_loss.append(batch_loss/len(test_dataloader))\n",
    "        #network_learned = batch_loss < valid_loss_min\n",
    "        print(f'validation loss: {np.mean(val_loss):.4f}, \\n')\n",
    "\n",
    "        \n",
    "        if False:#network_learned:\n",
    "            valid_loss_min = batch_loss\n",
    "            torch.save(net.state_dict(), 'resnet.pt')\n",
    "            print('Improvement-Detected, save-model')\n",
    "    \"\"\"\n",
    "\n",
    "    net.train()\n",
    "    "
   ]
  },
  {
   "cell_type": "markdown",
   "id": "a85942e9",
   "metadata": {},
   "source": [
    "### Test predictions"
   ]
  },
  {
   "cell_type": "code",
   "execution_count": 10,
   "id": "09ecda41",
   "metadata": {},
   "outputs": [
    {
     "name": "stdout",
     "output_type": "stream",
     "text": [
      "dict_keys(['idx', 'rgb', 'speed', 'steer', 'throttle', 'brake'])\n"
     ]
    }
   ],
   "source": [
    "test_dataloader = DataLoader(train_dataset, batch_size=batch_size, shuffle=True)\n",
    "print(next(iter(test_dataloader)).keys())\n"
   ]
  },
  {
   "cell_type": "code",
   "execution_count": 11,
   "id": "8b3361c7",
   "metadata": {},
   "outputs": [],
   "source": [
    "idx, X = next(enumerate(test_dataloader))"
   ]
  },
  {
   "cell_type": "code",
   "execution_count": 12,
   "id": "7b96dc55",
   "metadata": {},
   "outputs": [],
   "source": [
    "data_ = normalize_batch(X[\"rgb\"].transpose(1,4)[:,:,:,:,0]).float().to(device)\n",
    "target_ = (X[\"throttle\"],X[\"steer\"],X[\"brake\"])"
   ]
  },
  {
   "cell_type": "code",
   "execution_count": 13,
   "id": "44845cb5",
   "metadata": {},
   "outputs": [],
   "source": [
    "with torch.no_grad():\n",
    "    outputs_ = net(data_)"
   ]
  },
  {
   "cell_type": "code",
   "execution_count": 14,
   "id": "88953edc",
   "metadata": {
    "scrolled": true
   },
   "outputs": [
    {
     "name": "stdout",
     "output_type": "stream",
     "text": [
      "tensor([[0.0671],\n",
      "        [0.0655],\n",
      "        [0.0528],\n",
      "        [0.0503],\n",
      "        [0.0285],\n",
      "        [0.0661],\n",
      "        [0.0591],\n",
      "        [0.0555],\n",
      "        [0.0719],\n",
      "        [0.0553],\n",
      "        [0.0588],\n",
      "        [0.0556],\n",
      "        [0.0645],\n",
      "        [0.0612],\n",
      "        [0.0267],\n",
      "        [0.0593],\n",
      "        [0.0654],\n",
      "        [0.0540],\n",
      "        [0.0619],\n",
      "        [0.0535],\n",
      "        [0.0604],\n",
      "        [0.0575],\n",
      "        [0.0295],\n",
      "        [0.0549],\n",
      "        [0.0598],\n",
      "        [0.0544],\n",
      "        [0.0582],\n",
      "        [0.0604],\n",
      "        [0.0580],\n",
      "        [0.0638],\n",
      "        [0.0651],\n",
      "        [0.0572],\n",
      "        [0.0544],\n",
      "        [0.0592],\n",
      "        [0.0550],\n",
      "        [0.0576],\n",
      "        [0.0555],\n",
      "        [0.0611],\n",
      "        [0.0608],\n",
      "        [0.0607],\n",
      "        [0.0649],\n",
      "        [0.0540],\n",
      "        [0.0583],\n",
      "        [0.0575],\n",
      "        [0.0265],\n",
      "        [0.0305],\n",
      "        [0.0535],\n",
      "        [0.0675],\n",
      "        [0.0502],\n",
      "        [0.0782],\n",
      "        [0.0321],\n",
      "        [0.0636],\n",
      "        [0.0613],\n",
      "        [0.0553],\n",
      "        [0.0615],\n",
      "        [0.0688],\n",
      "        [0.0556],\n",
      "        [0.0677],\n",
      "        [0.0295],\n",
      "        [0.0538],\n",
      "        [0.0583],\n",
      "        [0.0534],\n",
      "        [0.0328],\n",
      "        [0.0539]], device='cuda:0')\n"
     ]
    }
   ],
   "source": [
    "print(outputs_[0])"
   ]
  },
  {
   "cell_type": "code",
   "execution_count": 15,
   "id": "779c9eec",
   "metadata": {},
   "outputs": [
    {
     "name": "stdout",
     "output_type": "stream",
     "text": [
      "tensor([[0.7500],\n",
      "        [0.0000],\n",
      "        [0.7500],\n",
      "        [0.6121],\n",
      "        [0.0000],\n",
      "        [0.7500],\n",
      "        [0.7500],\n",
      "        [0.0000],\n",
      "        [0.7500],\n",
      "        [0.0000],\n",
      "        [0.0440],\n",
      "        [0.0000],\n",
      "        [0.6607],\n",
      "        [0.0000],\n",
      "        [0.0000],\n",
      "        [0.0000],\n",
      "        [0.7500],\n",
      "        [0.0000],\n",
      "        [0.7500],\n",
      "        [0.0000],\n",
      "        [0.6547],\n",
      "        [0.0000],\n",
      "        [0.0000],\n",
      "        [0.7500],\n",
      "        [0.0000],\n",
      "        [0.0000],\n",
      "        [0.7500],\n",
      "        [0.7500],\n",
      "        [0.7500],\n",
      "        [0.3236],\n",
      "        [0.0000],\n",
      "        [0.0000],\n",
      "        [0.7500],\n",
      "        [0.7500],\n",
      "        [0.1073],\n",
      "        [0.0000],\n",
      "        [0.0468],\n",
      "        [0.7500],\n",
      "        [0.0916],\n",
      "        [0.0000],\n",
      "        [0.7500],\n",
      "        [0.7500],\n",
      "        [0.0581],\n",
      "        [0.7500],\n",
      "        [0.0000],\n",
      "        [0.0000],\n",
      "        [0.0621],\n",
      "        [0.2774],\n",
      "        [0.0000],\n",
      "        [0.7500],\n",
      "        [0.0000],\n",
      "        [0.0615],\n",
      "        [0.0000],\n",
      "        [0.2965],\n",
      "        [0.0000],\n",
      "        [0.1097],\n",
      "        [0.7500],\n",
      "        [0.0000],\n",
      "        [0.7500],\n",
      "        [0.7500],\n",
      "        [0.0501],\n",
      "        [0.0000],\n",
      "        [0.0000],\n",
      "        [0.0000]], dtype=torch.float64)\n"
     ]
    }
   ],
   "source": [
    "print(target_[0])"
   ]
  },
  {
   "cell_type": "markdown",
   "id": "bd0f44f0",
   "metadata": {},
   "source": [
    "## Saving and Loading"
   ]
  },
  {
   "cell_type": "code",
   "execution_count": 16,
   "id": "f516f764",
   "metadata": {},
   "outputs": [],
   "source": [
    "#torch.save(net, 'rgb_resnet.pth')"
   ]
  },
  {
   "cell_type": "code",
   "execution_count": 17,
   "id": "86a81a8e",
   "metadata": {},
   "outputs": [],
   "source": [
    "#net = torch.load('rgb_resnet.pth')"
   ]
  },
  {
   "cell_type": "code",
   "execution_count": 18,
   "id": "3b2c730b",
   "metadata": {
    "scrolled": true
   },
   "outputs": [],
   "source": [
    "#net = torch.load('rgb_resnet.pth')"
   ]
  },
  {
   "cell_type": "markdown",
   "id": "f8568190",
   "metadata": {},
   "source": [
    "## Testing Time"
   ]
  },
  {
   "cell_type": "code",
   "execution_count": 19,
   "id": "2e33ce4e",
   "metadata": {},
   "outputs": [
    {
     "name": "stdout",
     "output_type": "stream",
     "text": [
      "26.166688680648804\n"
     ]
    }
   ],
   "source": [
    "# ohne preprocessing ca 16-17 sekunden. Mit preprocessing ca 37 sekunden\n",
    "train_dataloader = DataLoader(train_dataset, batch_size=batch_size, shuffle=True)\n",
    "at = time.time()\n",
    "for batch_idx, data in enumerate(train_dataloader):\n",
    "    data_ = normalize_batch(data[\"rgb\"].transpose(1,4)[:,:,:,:,0]).float()\n",
    "et = time.time()\n",
    "print(et-at)\n"
   ]
  }
 ],
 "metadata": {
  "kernelspec": {
   "display_name": "Python 3 (ipykernel)",
   "language": "python",
   "name": "python3"
  },
  "language_info": {
   "codemirror_mode": {
    "name": "ipython",
    "version": 3
   },
   "file_extension": ".py",
   "mimetype": "text/x-python",
   "name": "python",
   "nbconvert_exporter": "python",
   "pygments_lexer": "ipython3",
   "version": "3.9.13"
  }
 },
 "nbformat": 4,
 "nbformat_minor": 5
}
