{
 "cells": [
  {
   "cell_type": "code",
   "execution_count": null,
   "id": "ed6af1fd",
   "metadata": {},
   "outputs": [],
   "source": [
    "#pip install opencv-python"
   ]
  },
  {
   "cell_type": "code",
   "execution_count": 1,
   "id": "330b619d",
   "metadata": {},
   "outputs": [],
   "source": [
    "#from PIL import Image\n",
    "import cv2 as cv\n",
    "import os\n",
    "import sys\n",
    "import numpy as np\n",
    "import json"
   ]
  },
  {
   "cell_type": "markdown",
   "id": "bf4a0eaf",
   "metadata": {},
   "source": [
    "Directory"
   ]
  },
  {
   "cell_type": "code",
   "execution_count": 2,
   "id": "1622e5bc",
   "metadata": {},
   "outputs": [
    {
     "data": {
      "text/plain": [
       "'C:/Users/morit/OneDrive/UNI/Master/WS22/APP-RAS/Programming/data/sample_trainingsdata'"
      ]
     },
     "execution_count": 2,
     "metadata": {},
     "output_type": "execute_result"
    }
   ],
   "source": [
    "#root_dir = os.environ.get('GITLAB_ROOT', None)\n",
    "directory = os.path.dirname(\"C:/Users/morit/OneDrive/UNI/Master/WS22/APP-RAS/Programming/data/sample_trainingsdata/\")\n",
    "directory"
   ]
  },
  {
   "cell_type": "markdown",
   "id": "c6ac2f9b",
   "metadata": {},
   "source": [
    "Preprocess data"
   ]
  },
  {
   "cell_type": "code",
   "execution_count": 3,
   "id": "31c1829e",
   "metadata": {},
   "outputs": [
    {
     "data": {
      "text/plain": [
       "(53, 160, 960, 3)"
      ]
     },
     "execution_count": 3,
     "metadata": {},
     "output_type": "execute_result"
    }
   ],
   "source": [
    "rgb_liste = list()\n",
    "#test = np.zeros(shape = (51,160,960,3))\n",
    "\n",
    "rgb_dir=directory+\"/rgb/\"\n",
    "\n",
    "for subdir, dirs, files in os.walk(rgb_dir):\n",
    "    for f in files:\n",
    "        img = cv.imread(rgb_dir+f,cv.IMREAD_COLOR) # Greyscale\n",
    "        img_norm = cv.normalize(img,  None, 0, 1, cv.NORM_MINMAX, dtype=cv.CV_32F)\n",
    "\n",
    "        \n",
    "        rgb_liste.append(img_norm)\n",
    "np.shape(rgb_liste)"
   ]
  },
  {
   "cell_type": "code",
   "execution_count": null,
   "id": "77837c3e",
   "metadata": {},
   "outputs": [],
   "source": [
    "# TODO research on normalization\n",
    "#norm_img = np.zeros((160,960))\n",
    "#cv.normalize(test,  None, 0, 1, cv.NORM_MINMAX, dtype=cv2.CV_32F)"
   ]
  },
  {
   "cell_type": "code",
   "execution_count": 4,
   "id": "ee29a19d",
   "metadata": {},
   "outputs": [
    {
     "data": {
      "text/plain": [
       "(53, 3)"
      ]
     },
     "execution_count": 4,
     "metadata": {},
     "output_type": "execute_result"
    }
   ],
   "source": [
    "measurements_liste = list()\n",
    "\n",
    "vc_dir=directory+\"/measurements/\"\n",
    "\n",
    "z = 0\n",
    "for subdir, dirs, files in os.walk(vc_dir):\n",
    "    #print(files)\n",
    "    for f in files:\n",
    "        #print(z)\n",
    "        z+=1\n",
    "        #print(f)\n",
    "        file_name = vc_dir+f\n",
    "\n",
    "        with open(file_name, 'r') as f:\n",
    "            measurements = json.load(f)\n",
    "        \n",
    "        #dictionary = {\"steer\":measurements[\"steer\"],\"throttle\":measurements[\"throttle\"],\"brake\":measurements[\"brake\"]}\n",
    "        array = np.array([measurements[\"steer\"],measurements[\"throttle\"],measurements[\"brake\"]])\n",
    "        \n",
    "        measurements_liste.append(array)\n",
    "np.shape(measurements_liste)"
   ]
  },
  {
   "cell_type": "markdown",
   "id": "7dcfa30c",
   "metadata": {},
   "source": [
    "models"
   ]
  },
  {
   "cell_type": "code",
   "execution_count": 5,
   "id": "f87eacfa",
   "metadata": {
    "scrolled": false
   },
   "outputs": [],
   "source": [
    "import tensorflow as tf\n",
    "import keras\n",
    "from tensorflow.keras.models import Sequential\n",
    "from tensorflow.keras.layers import Dense, Conv2D, Flatten, MaxPool2D "
   ]
  },
  {
   "cell_type": "code",
   "execution_count": 6,
   "id": "b83c9ba1",
   "metadata": {},
   "outputs": [],
   "source": [
    "#pip install tensorflow\n",
    "#pip install keras"
   ]
  },
  {
   "cell_type": "code",
   "execution_count": 6,
   "id": "238e2bfd",
   "metadata": {},
   "outputs": [
    {
     "name": "stdout",
     "output_type": "stream",
     "text": [
      "(53, 160, 960, 3)\n",
      "<class 'numpy.ndarray'>\n",
      "<class 'numpy.ndarray'>\n",
      "(53, 3)\n"
     ]
    }
   ],
   "source": [
    "#rename\n",
    "X = np.asarray(rgb_liste)\n",
    "print(np.shape(X))\n",
    "print(type(X))\n",
    "Y = np.asarray(measurements_liste)\n",
    "print(type(Y))\n",
    "print(np.shape(Y))"
   ]
  },
  {
   "cell_type": "code",
   "execution_count": 7,
   "id": "e3e95e9c",
   "metadata": {},
   "outputs": [
    {
     "name": "stdout",
     "output_type": "stream",
     "text": [
      "Model: \"sequential\"\n",
      "_________________________________________________________________\n",
      " Layer (type)                Output Shape              Param #   \n",
      "=================================================================\n",
      " conv2d (Conv2D)             (None, 156, 956, 24)      1824      \n",
      "                                                                 \n",
      " max_pooling2d (MaxPooling2D  (None, 31, 191, 24)      0         \n",
      " )                                                               \n",
      "                                                                 \n",
      " conv2d_1 (Conv2D)           (None, 27, 187, 36)       21636     \n",
      "                                                                 \n",
      " max_pooling2d_1 (MaxPooling  (None, 13, 93, 36)       0         \n",
      " 2D)                                                             \n",
      "                                                                 \n",
      " conv2d_2 (Conv2D)           (None, 12, 92, 48)        6960      \n",
      "                                                                 \n",
      " max_pooling2d_2 (MaxPooling  (None, 6, 46, 48)        0         \n",
      " 2D)                                                             \n",
      "                                                                 \n",
      " conv2d_3 (Conv2D)           (None, 5, 45, 64)         12352     \n",
      "                                                                 \n",
      " max_pooling2d_3 (MaxPooling  (None, 2, 22, 64)        0         \n",
      " 2D)                                                             \n",
      "                                                                 \n",
      " flatten (Flatten)           (None, 2816)              0         \n",
      "                                                                 \n",
      " dense (Dense)               (None, 1000)              2817000   \n",
      "                                                                 \n",
      " dense_1 (Dense)             (None, 100)               100100    \n",
      "                                                                 \n",
      " dense_2 (Dense)             (None, 50)                5050      \n",
      "                                                                 \n",
      " dense_3 (Dense)             (None, 10)                510       \n",
      "                                                                 \n",
      " dense_4 (Dense)             (None, 3)                 33        \n",
      "                                                                 \n",
      "=================================================================\n",
      "Total params: 2,965,465\n",
      "Trainable params: 2,965,465\n",
      "Non-trainable params: 0\n",
      "_________________________________________________________________\n"
     ]
    }
   ],
   "source": [
    "model = Sequential()\n",
    "\n",
    "model.add(Conv2D(filters = 24,  input_shape=(160,960,3), kernel_size= (5,5), activation='relu'))\n",
    "model.add(MaxPool2D(pool_size = (5,5)))\n",
    "\n",
    "model.add(Conv2D(filters = 36, kernel_size= (5,5), activation='relu'))\n",
    "model.add(MaxPool2D(pool_size = (2,2)))\n",
    "\n",
    "model.add(Conv2D(filters = 48, kernel_size= (2,2), activation='relu'))\n",
    "model.add(MaxPool2D(pool_size = (2,2)))\n",
    "\n",
    "model.add(Conv2D(filters = 64, kernel_size= (2,2), activation='relu'))\n",
    "model.add(MaxPool2D(pool_size = (2,2)))\n",
    "\n",
    "model.add(Flatten())\n",
    "model.add(Dense(1000,activation=\"tanh\"))\n",
    "model.add(Dense(100,activation=\"tanh\"))\n",
    "model.add(Dense(50,activation=\"tanh\"))\n",
    "model.add(Dense(10,activation=\"tanh\"))\n",
    "\n",
    "model.add(Dense(3,activation=\"tanh\"))\n",
    "\n",
    "model.summary()"
   ]
  },
  {
   "cell_type": "code",
   "execution_count": 8,
   "id": "e9c3c724",
   "metadata": {},
   "outputs": [],
   "source": [
    "model.compile(loss='mse', optimizer='adam', metrics=['mse'])"
   ]
  },
  {
   "cell_type": "code",
   "execution_count": 10,
   "id": "7f1e4c1a",
   "metadata": {
    "scrolled": true
   },
   "outputs": [
    {
     "name": "stdout",
     "output_type": "stream",
     "text": [
      "Epoch 1/5\n",
      "11/11 [==============================] - 5s 480ms/step - loss: 0.0367 - mse: 0.0367\n",
      "Epoch 2/5\n",
      "11/11 [==============================] - 5s 427ms/step - loss: 0.0383 - mse: 0.0383\n",
      "Epoch 3/5\n",
      "11/11 [==============================] - 5s 448ms/step - loss: 0.0350 - mse: 0.0350\n",
      "Epoch 4/5\n",
      "11/11 [==============================] - 5s 478ms/step - loss: 0.0315 - mse: 0.0315\n",
      "Epoch 5/5\n",
      "11/11 [==============================] - 5s 446ms/step - loss: 0.0302 - mse: 0.0302\n"
     ]
    },
    {
     "data": {
      "text/plain": [
       "<keras.callbacks.History at 0x28300b5d490>"
      ]
     },
     "execution_count": 10,
     "metadata": {},
     "output_type": "execute_result"
    }
   ],
   "source": [
    "model.fit(X, Y, epochs=5, batch_size=5)"
   ]
  },
  {
   "cell_type": "code",
   "execution_count": 11,
   "id": "5f395294",
   "metadata": {},
   "outputs": [
    {
     "name": "stdout",
     "output_type": "stream",
     "text": [
      "2/2 [==============================] - 1s 393ms/step\n"
     ]
    }
   ],
   "source": [
    "preds = model.predict(X)"
   ]
  },
  {
   "cell_type": "code",
   "execution_count": 12,
   "id": "15a619f4",
   "metadata": {},
   "outputs": [
    {
     "data": {
      "text/plain": [
       "array([[ 0.8651305 ,  0.6959351 , -0.14525102],\n",
       "       [ 0.89290786,  0.6700313 ,  0.01170527],\n",
       "       [ 0.86162406,  0.728245  , -0.13304362],\n",
       "       [ 0.8747903 ,  0.72002167,  0.01343961],\n",
       "       [ 0.8811029 ,  0.6954565 , -0.09331099],\n",
       "       [ 0.8753763 ,  0.71308833, -0.10437395],\n",
       "       [ 0.48870286,  0.6267498 ,  0.08001167],\n",
       "       [ 0.00103457,  0.3308744 , -0.08891624],\n",
       "       [-0.3193466 ,  0.67673385,  0.09002932],\n",
       "       [-0.3161947 ,  0.6505206 ,  0.01314062],\n",
       "       [ 0.01290829,  0.3640797 , -0.04907243],\n",
       "       [ 0.09898337,  0.33642548, -0.0570787 ],\n",
       "       [ 0.4433836 ,  0.6079135 , -0.09417185],\n",
       "       [-0.02240603,  0.41482764, -0.01170446],\n",
       "       [-0.03357119,  0.45627826, -0.0137134 ],\n",
       "       [ 0.05938533,  0.7408738 ,  0.01834868],\n",
       "       [-0.07225623,  0.47849068,  0.03525016],\n",
       "       [ 0.21965721,  0.08671294, -0.00775516],\n",
       "       [-0.14527525,  0.55279726,  0.0506571 ],\n",
       "       [-0.02469465,  0.40625492,  0.02098302],\n",
       "       [ 0.202409  ,  0.2522208 , -0.01930513],\n",
       "       [ 0.04723768,  0.34806472, -0.04958706],\n",
       "       [ 0.20603262,  0.382617  , -0.04856399],\n",
       "       [ 0.04245562,  0.6340916 , -0.03434122],\n",
       "       [ 0.03215189,  0.39461145, -0.00900296],\n",
       "       [ 0.00725395,  0.41649032, -0.03591039],\n",
       "       [ 0.15008602,  0.5098364 , -0.0289288 ],\n",
       "       [-0.08922899,  0.6520626 ,  0.02515591],\n",
       "       [ 0.09246321,  0.43532732, -0.0228691 ],\n",
       "       [ 0.26312476,  0.71144277,  0.01720484],\n",
       "       [ 0.49683264,  0.08335301, -0.00092904],\n",
       "       [ 0.6134184 ,  0.81868017, -0.16727075],\n",
       "       [ 0.27761412,  0.80835366, -0.00346106],\n",
       "       [ 0.18015742,  0.2352383 ,  0.00703391],\n",
       "       [-0.11790071,  0.5283904 ,  0.06058448],\n",
       "       [ 0.17798944,  0.45378658, -0.031309  ],\n",
       "       [ 0.0478256 ,  0.3533337 , -0.02670256],\n",
       "       [-0.27726704,  0.76794106, -0.0183408 ],\n",
       "       [ 0.04030101,  0.318981  , -0.04731547],\n",
       "       [-0.04532661,  0.4255142 , -0.01531759],\n",
       "       [-0.0110669 ,  0.826562  , -0.00263167],\n",
       "       [ 0.14162643,  0.29596913, -0.03407307],\n",
       "       [ 0.05069476,  0.8148526 , -0.00523558],\n",
       "       [ 0.03666441,  0.69498515, -0.0021211 ],\n",
       "       [ 0.31304115,  0.08391126,  0.00945455],\n",
       "       [ 0.02160941,  0.37035257, -0.01689563],\n",
       "       [ 0.0821076 ,  0.31218922, -0.03363036],\n",
       "       [-0.02663565,  0.6240839 , -0.02375315],\n",
       "       [-0.02891329,  0.38688484, -0.02682323],\n",
       "       [ 0.07432451,  0.17614603, -0.06998618],\n",
       "       [ 0.01076568,  0.38675   , -0.0173622 ],\n",
       "       [-0.08312364,  0.46099898, -0.01512076],\n",
       "       [-0.00350645,  0.40145826, -0.0106304 ]], dtype=float32)"
      ]
     },
     "execution_count": 12,
     "metadata": {},
     "output_type": "execute_result"
    }
   ],
   "source": [
    "preds"
   ]
  },
  {
   "cell_type": "code",
   "execution_count": 13,
   "id": "f61e5022",
   "metadata": {
    "scrolled": true
   },
   "outputs": [
    {
     "data": {
      "text/plain": [
       "array([[ 1.        ,  0.75      ,  0.        ],\n",
       "       [ 1.        ,  0.75      ,  0.        ],\n",
       "       [ 1.        ,  0.75      ,  0.        ],\n",
       "       [ 1.        ,  0.75      ,  0.        ],\n",
       "       [ 1.        ,  0.75      ,  0.        ],\n",
       "       [ 1.        ,  0.75      ,  0.        ],\n",
       "       [ 0.763     ,  0.75      ,  0.        ],\n",
       "       [-0.156     ,  0.10045608,  0.        ],\n",
       "       [-0.521     ,  0.75      ,  0.        ],\n",
       "       [-0.608     ,  0.6692466 ,  0.        ],\n",
       "       [-0.35      ,  0.05414442,  0.        ],\n",
       "       [-0.006     ,  0.04743834,  0.        ],\n",
       "       [ 0.177     ,  0.55628823,  0.        ],\n",
       "       [ 0.207     ,  0.4905683 ,  0.        ],\n",
       "       [ 0.126     ,  0.75      ,  0.        ],\n",
       "       [ 0.019     ,  0.61852375,  0.        ],\n",
       "       [-0.057     ,  0.75      ,  0.        ],\n",
       "       [-0.071     ,  0.06669305,  0.        ],\n",
       "       [-0.047     ,  0.75      ,  0.        ],\n",
       "       [-0.009     ,  0.26315889,  0.        ],\n",
       "       [ 0.016     ,  0.02535246,  0.        ],\n",
       "       [ 0.024     ,  0.75      ,  0.        ],\n",
       "       [ 0.015     ,  0.05084149,  0.        ],\n",
       "       [ 0.003     ,  0.51122415,  0.        ],\n",
       "       [-0.005     ,  0.75      ,  0.        ],\n",
       "       [-0.008     ,  0.05555731,  0.        ],\n",
       "       [-0.006     ,  0.75      ,  0.        ],\n",
       "       [-0.001     ,  0.70442828,  0.        ],\n",
       "       [ 0.002     ,  0.06010188,  0.        ],\n",
       "       [ 0.002     ,  0.75      ,  0.        ],\n",
       "       [ 0.394     ,  0.07534659,  0.        ],\n",
       "       [ 0.26      ,  0.75      ,  0.        ],\n",
       "       [ 0.174     ,  0.75      ,  0.        ],\n",
       "       [ 0.104     ,  0.05716155,  0.        ],\n",
       "       [ 0.097     ,  0.75      ,  0.        ],\n",
       "       [ 0.011     ,  0.65357998,  0.        ],\n",
       "       [-0.026     ,  0.06180869,  0.        ],\n",
       "       [-0.204     ,  0.75      ,  0.        ],\n",
       "       [-0.235     ,  0.04968334,  0.        ],\n",
       "       [-0.186     ,  0.33667479,  0.        ],\n",
       "       [-0.106     ,  0.75      ,  0.        ],\n",
       "       [-0.025     ,  0.05399139,  0.        ],\n",
       "       [ 0.025     ,  0.75      ,  0.        ],\n",
       "       [ 0.034     ,  0.5813203 ,  0.        ],\n",
       "       [ 0.019     ,  0.03242816,  0.        ],\n",
       "       [-0.002     ,  0.75      ,  0.        ],\n",
       "       [-0.015     ,  0.05076155,  0.        ],\n",
       "       [-0.016     ,  0.58793726,  0.        ],\n",
       "       [-0.01      ,  0.75      ,  0.        ],\n",
       "       [-0.001     ,  0.05725455,  0.        ],\n",
       "       [ 0.004     ,  0.75      ,  0.        ],\n",
       "       [ 0.005     ,  0.57520336,  0.        ],\n",
       "       [ 0.003     ,  0.03268476,  0.        ]])"
      ]
     },
     "execution_count": 13,
     "metadata": {},
     "output_type": "execute_result"
    }
   ],
   "source": [
    "Y"
   ]
  },
  {
   "cell_type": "markdown",
   "id": "96d45bec",
   "metadata": {},
   "source": [
    "Saving and loading Model TEST"
   ]
  },
  {
   "cell_type": "code",
   "execution_count": 14,
   "id": "cb5e8966",
   "metadata": {},
   "outputs": [
    {
     "name": "stderr",
     "output_type": "stream",
     "text": [
      "WARNING:absl:Found untraced functions such as _jit_compiled_convolution_op, _jit_compiled_convolution_op, _jit_compiled_convolution_op, _jit_compiled_convolution_op, _update_step_xla while saving (showing 5 of 5). These functions will not be directly callable after loading.\n"
     ]
    },
    {
     "name": "stdout",
     "output_type": "stream",
     "text": [
      "INFO:tensorflow:Assets written to: C:/Users/morit/OneDrive/UNI/Master/WS22/APP-RAS/Programming/models/nvidia_cnn/model\\assets\n"
     ]
    },
    {
     "name": "stderr",
     "output_type": "stream",
     "text": [
      "INFO:tensorflow:Assets written to: C:/Users/morit/OneDrive/UNI/Master/WS22/APP-RAS/Programming/models/nvidia_cnn/model\\assets\n"
     ]
    }
   ],
   "source": [
    "model.save('C:/Users/morit/OneDrive/UNI/Master/WS22/APP-RAS/Programming/models/nvidia_cnn/model')"
   ]
  },
  {
   "cell_type": "code",
   "execution_count": 15,
   "id": "a2f9e7cf",
   "metadata": {},
   "outputs": [],
   "source": [
    "model = keras.models.load_model('C:/Users/morit/OneDrive/UNI/Master/WS22/APP-RAS/Programming/models/nvidia_cnn/model')"
   ]
  },
  {
   "cell_type": "code",
   "execution_count": null,
   "id": "08884691",
   "metadata": {},
   "outputs": [],
   "source": [
    "preds = model.predict(X)\n",
    "print(preds[1])"
   ]
  }
 ],
 "metadata": {
  "kernelspec": {
   "display_name": "Python 3 (ipykernel)",
   "language": "python",
   "name": "python3"
  },
  "language_info": {
   "codemirror_mode": {
    "name": "ipython",
    "version": 3
   },
   "file_extension": ".py",
   "mimetype": "text/x-python",
   "name": "python",
   "nbconvert_exporter": "python",
   "pygments_lexer": "ipython3",
   "version": "3.9.13"
  }
 },
 "nbformat": 4,
 "nbformat_minor": 5
}
