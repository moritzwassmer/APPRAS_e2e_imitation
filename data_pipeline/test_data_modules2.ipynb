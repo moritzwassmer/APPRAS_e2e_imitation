{
 "cells": [
  {
   "cell_type": "code",
   "execution_count": 1,
   "metadata": {},
   "outputs": [],
   "source": [
    "from data_sampler import WeightedSampler\n",
    "from dataset import CARLADataset, CARLADatasetMultiProcessing\n",
    "from data_preprocessing import preprocessing\n",
    "from torch.utils.data import DataLoader\n",
    "from torchvision import transforms\n",
    "import numpy as np\n",
    "import torch\n",
    "import os\n",
    "import pandas as pd\n",
    "import matplotlib.pyplot as plt\n",
    "from tqdm import tqdm"
   ]
  },
  {
   "cell_type": "code",
   "execution_count": 2,
   "metadata": {},
   "outputs": [
    {
     "name": "stdout",
     "output_type": "stream",
     "text": [
      "20394\n",
      "(1, 3, 160, 960)\n"
     ]
    }
   ],
   "source": [
    "## path_ege_data = os.path.join(\"..\", \"data\", \"Dataset Ege\")\n",
    "\n",
    "path_ege_data = \"/Volumes/Ege_External/Town_1_2_Dataset/Training\"\n",
    "\n",
    "config = {\"used_inputs\": [\"rgb\"], \n",
    "        \"used_measurements\": [],    \n",
    "        \"seq_len\": 1\n",
    "        }\n",
    "\n",
    "mean = torch.tensor([79.6657, 81.5673, 105.6161])\n",
    "std = torch.tensor([66.8309, 60.1001, 66.2220])\n",
    "\n",
    "\n",
    "transform_norm = transforms.Compose([\n",
    "    transforms.ToTensor(),\n",
    "    transforms.Normalize(mean, std)\n",
    "])\n",
    "\n",
    "\n",
    "dataset = CARLADataset(root_dir=path_ege_data, config=config )\n",
    "# dataset_mp = CARLADatasetMultiProcessing(root_dir=path_ege_data, config=config)\n",
    "weighted_sampler = WeightedSampler(dataset=dataset)\n",
    "print(dataset.__len__())\n",
    "print((dataset.__getitem__(1)['rgb'].shape))\n",
    "\n",
    "\n"
   ]
  },
  {
   "cell_type": "code",
   "execution_count": 3,
   "metadata": {},
   "outputs": [],
   "source": [
    "dl = DataLoader(dataset=dataset, batch_size=16, num_workers=0, sampler=weighted_sampler)\n",
    "# dl_mp = DataLoader(dataset=dataset_mp, batch_size=16, num_workers=3, sampler=weighted_sampler)"
   ]
  },
  {
   "cell_type": "code",
   "execution_count": null,
   "metadata": {},
   "outputs": [],
   "source": [
    "mean = torch.tensor([79.6657, 81.5673, 105.6161])\n",
    "std = torch.tensor([66.8309, 60.1001, 66.2220])\n",
    "\n",
    "\n",
    "transform_norm = transforms.Compose([\n",
    "    transforms.Normalize(mean, std)\n",
    "])\n",
    "\n",
    "\n",
    "for inputs in tqdm(dl):\n",
    "    inputs[\"rgb\"] = transform_norm(inputs[\"rgb\"])\n",
    "    ## print(inputs[\"rgb\"])\n",
    "    \n",
    "\n"
   ]
  },
  {
   "cell_type": "code",
   "execution_count": 5,
   "metadata": {},
   "outputs": [
    {
     "data": {
      "text/plain": [
       "Text(0.5, 1.0, 'distribution of pixels')"
      ]
     },
     "execution_count": 5,
     "metadata": {},
     "output_type": "execute_result"
    },
    {
     "data": {
      "image/png": "[encoded data removed]",
      "text/plain": [
       "<Figure size 432x288 with 1 Axes>"
      ]
     },
     "metadata": {
      "needs_background": "light"
     },
     "output_type": "display_data"
    }
   ],
   "source": [
    "img_np = np.array(dataset.__getitem__(1)['rgb'])\n",
    " \n",
    "# plot the pixel values\n",
    "plt.hist(img_np.ravel(), bins=50, density=True)\n",
    "plt.xlabel(\"pixel values\")\n",
    "plt.ylabel(\"relative frequency\")\n",
    "plt.title(\"distribution of pixels\")"
   ]
  },
  {
   "attachments": {},
   "cell_type": "markdown",
   "metadata": {},
   "source": [
    "Cell Below calculates the mean and std for the rbg images in the dataset. Make sure to run it only once for calculation, save the total_mean and total_std variables, and input them in the normalization step."
   ]
  },
  {
   "cell_type": "code",
   "execution_count": 7,
   "metadata": {},
   "outputs": [
    {
     "name": "stderr",
     "output_type": "stream",
     "text": [
      "100%|██████████| 1275/1275 [13:31<00:00,  1.57it/s]"
     ]
    },
    {
     "name": "stdout",
     "output_type": "stream",
     "text": [
      "mean: tensor([ 79.6657,  81.5673, 105.6161])\n",
      "std:  tensor([66.8309, 60.1001, 66.2220])\n"
     ]
    },
    {
     "name": "stderr",
     "output_type": "stream",
     "text": [
      "\n"
     ]
    }
   ],
   "source": [
    "psum    = torch.tensor([0.0, 0.0, 0.0])\n",
    "psum_sq = torch.tensor([0.0, 0.0, 0.0])\n",
    "\n",
    "# loop through images\n",
    "for inputs in tqdm(dl):\n",
    "    psum    += inputs[\"rgb\"].sum(axis = [0,1, 3, 4])\n",
    "    psum_sq += (inputs[\"rgb\"] ** 2).sum(axis = [0,1, 3, 4])\n",
    "\n",
    "\n",
    "# pixel count\n",
    "count = dataset.__len__() * 160 * 960\n",
    "\n",
    "# mean and std\n",
    "total_mean = psum / count\n",
    "total_var  = (psum_sq / count) - (total_mean ** 2)\n",
    "total_std  = torch.sqrt(total_var)\n",
    "\n",
    "# output\n",
    "print('mean: '  + str(total_mean))\n",
    "print('std:  '  + str(total_std))"
   ]
  },
  {
   "cell_type": "code",
   "execution_count": null,
   "metadata": {},
   "outputs": [],
   "source": []
  }
 ],
 "metadata": {
  "kernelspec": {
   "display_name": "tfuse",
   "language": "python",
   "name": "python3"
  },
  "language_info": {
   "codemirror_mode": {
    "name": "ipython",
    "version": 3
   },
   "file_extension": ".py",
   "mimetype": "text/x-python",
   "name": "python",
   "nbconvert_exporter": "python",
   "pygments_lexer": "ipython3",
   "version": "3.7.13"
  },
  "orig_nbformat": 4,
  "vscode": {
   "interpreter": {
    "hash": "bc53d4cb72a15c91d5a794a3a59bf329231db4819962859879a4f3a6177a3b9f"
   }
  }
 },
 "nbformat": 4,
 "nbformat_minor": 2
}
