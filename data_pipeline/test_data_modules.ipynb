{
 "cells": [
  {
   "cell_type": "code",
   "execution_count": null,
   "metadata": {},
   "outputs": [],
   "source": [
    "# test commit"
   ]
  },
  {
   "cell_type": "code",
   "execution_count": 1,
   "metadata": {},
   "outputs": [
    {
     "name": "stderr",
     "output_type": "stream",
     "text": [
      "/Users/julianvonklitzing/miniforge3/envs/carla/lib/python3.8/site-packages/tqdm/auto.py:22: TqdmWarning: IProgress not found. Please update jupyter and ipywidgets. See https://ipywidgets.readthedocs.io/en/stable/user_install.html\n",
      "  from .autonotebook import tqdm as notebook_tqdm\n"
     ]
    }
   ],
   "source": [
    "from data_sampler import WeightedSampler\n",
    "from dataset import CARLADataset, CARLADatasetMultiProcessing\n",
    "from data_preprocessing import preprocessing\n",
    "from torch.utils.data import DataLoader\n",
    "from torchvision import transforms\n",
    "import numpy as np\n",
    "import torch\n",
    "import os\n",
    "import pandas as pd\n",
    "import matplotlib.pyplot as plt\n",
    "\n",
    "import cv2"
   ]
  },
  {
   "cell_type": "code",
   "execution_count": 6,
   "metadata": {},
   "outputs": [
    {
     "name": "stdout",
     "output_type": "stream",
     "text": [
      "Varying number files among input types: ../data/Dataset Ege/Town10HD_Scenario10_route3_11_28_17_28_17/topdown\n",
      "Varying number files among input types: ../data/Dataset Ege/Town10HD_Scenario10_route3_11_28_17_28_17/label_raw\n",
      "Varying number files among input types: ../data/Dataset Ege/Town10HD_Scenario10_route3_11_28_17_28_17/depth\n",
      "217\n"
     ]
    }
   ],
   "source": [
    "path_data = os.path.join(\"..\", \"data\", \"Dataset Ege\")\n",
    "# path_data = os.path.join(\"..\", \"data\", \"data\")\n",
    "\n",
    "config = {\"used_inputs\": [\"rgb\", \"measurements\"], \n",
    "        \"used_measurements\": [\"speed\", \"steer\", \"throttle\"],\n",
    "        \"seq_len\": 1\n",
    "        }\n",
    "\n",
    "dataset = CARLADataset(root_dir=path_data, config=config)\n",
    "# dataset_mp = CARLADatasetMultiProcessing(root_dir=path_data, config=config)\n",
    "weighted_sampler = WeightedSampler(dataset=dataset)\n",
    "print(dataset.__len__())"
   ]
  },
  {
   "cell_type": "code",
   "execution_count": 7,
   "metadata": {},
   "outputs": [],
   "source": [
    "dl = DataLoader(dataset=dataset, batch_size=16, num_workers=0, sampler=weighted_sampler)\n",
    "# dl_mp = DataLoader(dataset=dataset_mp, batch_size=16, num_workers=3, sampler=weighted_sampler)"
   ]
  },
  {
   "cell_type": "code",
   "execution_count": 8,
   "metadata": {},
   "outputs": [
    {
     "data": {
      "text/plain": [
       "[[3, 160, 960], None]"
      ]
     },
     "execution_count": 8,
     "metadata": {},
     "output_type": "execute_result"
    }
   ],
   "source": [
    "dataset.data_shapes"
   ]
  },
  {
   "cell_type": "code",
   "execution_count": 9,
   "metadata": {},
   "outputs": [],
   "source": [
    "b = next(iter(dl))"
   ]
  },
  {
   "cell_type": "code",
   "execution_count": 4,
   "metadata": {},
   "outputs": [
    {
     "name": "stdout",
     "output_type": "stream",
     "text": [
      "14\n"
     ]
    }
   ],
   "source": [
    "count = 0\n",
    "for batch in dl:\n",
    "    # preprocessing\n",
    "    for key in preprocessing:\n",
    "        batch[key] = preprocessing[key](batch[key])\n",
    "    count += 1\n",
    "print(count)"
   ]
  },
  {
   "cell_type": "code",
   "execution_count": 5,
   "metadata": {},
   "outputs": [
    {
     "name": "stdout",
     "output_type": "stream",
     "text": [
      "217\n"
     ]
    }
   ],
   "source": [
    "# Derive statistics for our dataset that can be used in Normalize() method to get approx. zero mean & var 1. \n",
    "mean = 0\n",
    "std = 0\n",
    "count = 0\n",
    "for batch in dl:\n",
    "    mean = (count * mean + batch[\"rgb\"].shape[0] * batch[\"rgb\"].mean(axis=[0, 1, 3, 4])) / (count + batch[\"rgb\"].shape[0])\n",
    "    std = (count * std + batch[\"rgb\"].shape[0] * batch[\"rgb\"].std(axis=[0, 1, 3, 4])) / (count + batch[\"rgb\"].shape[0])\n",
    "    count += batch[\"rgb\"].shape[0]\n",
    "print(count)"
   ]
  },
  {
   "cell_type": "code",
   "execution_count": 15,
   "metadata": {},
   "outputs": [
    {
     "ename": "ValueError",
     "evalue": "could not broadcast input array from shape (27352,4) into shape (27498,4)",
     "output_type": "error",
     "traceback": [
      "\u001b[0;31m---------------------------------------------------------------------------\u001b[0m",
      "\u001b[0;31mValueError\u001b[0m                                Traceback (most recent call last)",
      "Cell \u001b[0;32mIn[15], line 1\u001b[0m\n\u001b[0;32m----> 1\u001b[0m dataset\u001b[39m.\u001b[39;49m\u001b[39m__getitem__\u001b[39;49m(\u001b[39m1\u001b[39;49m)\n",
      "File \u001b[0;32m~/Documents/GitHub/end2endappras/data_pipeline/dataset.py:54\u001b[0m, in \u001b[0;36mCARLADataset.__getitem__\u001b[0;34m(self, idx)\u001b[0m\n\u001b[1;32m     52\u001b[0m     file_path \u001b[39m=\u001b[39m \u001b[39mself\u001b[39m\u001b[39m.\u001b[39m__get_file_path_from_df(input_idx, data_point_idx)\n\u001b[1;32m     53\u001b[0m     data_t \u001b[39m=\u001b[39m \u001b[39mself\u001b[39m\u001b[39m.\u001b[39mload_data_from_path(file_path)\n\u001b[0;32m---> 54\u001b[0m     data[idx_array] \u001b[39m=\u001b[39m data_t\n\u001b[1;32m     55\u001b[0m     idx_array \u001b[39m+\u001b[39m\u001b[39m=\u001b[39m \u001b[39m1\u001b[39m\n\u001b[1;32m     56\u001b[0m sensor \u001b[39m=\u001b[39m \u001b[39mself\u001b[39m\u001b[39m.\u001b[39mdf_meta_data\u001b[39m.\u001b[39mcolumns[input_idx]\n",
      "\u001b[0;31mValueError\u001b[0m: could not broadcast input array from shape (27352,4) into shape (27498,4)"
     ]
    }
   ],
   "source": [
    "dataset.__getitem__(1)"
   ]
  },
  {
   "cell_type": "code",
   "execution_count": null,
   "metadata": {},
   "outputs": [],
   "source": []
  }
 ],
 "metadata": {
  "kernelspec": {
   "display_name": "Python 3.8.13 ('carla')",
   "language": "python",
   "name": "python3"
  },
  "language_info": {
   "codemirror_mode": {
    "name": "ipython",
    "version": 3
   },
   "file_extension": ".py",
   "mimetype": "text/x-python",
   "name": "python",
   "nbconvert_exporter": "python",
   "pygments_lexer": "ipython3",
   "version": "3.8.13"
  },
  "orig_nbformat": 4,
  "vscode": {
   "interpreter": {
    "hash": "bc80d0638afb8ec7c43f4b834002a598fcddbd6e8bf5db40ad8cba47e68e6a97"
   }
  }
 },
 "nbformat": 4,
 "nbformat_minor": 2
}
