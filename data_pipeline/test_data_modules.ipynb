{
 "cells": [
  {
   "cell_type": "code",
   "execution_count": 1,
   "metadata": {},
   "outputs": [
    {
     "name": "stderr",
     "output_type": "stream",
     "text": [
      "/Users/julianvonklitzing/miniforge3/envs/carla/lib/python3.8/site-packages/tqdm/auto.py:22: TqdmWarning: IProgress not found. Please update jupyter and ipywidgets. See https://ipywidgets.readthedocs.io/en/stable/user_install.html\n",
      "  from .autonotebook import tqdm as notebook_tqdm\n"
     ]
    }
   ],
   "source": [
    "from data_sampler import WeightedSampler\n",
    "from dataset import CARLADataset, CARLADatasetMultiProcessing\n",
    "from data_preprocessing import preprocessing\n",
    "from torch.utils.data import DataLoader\n",
    "from torchvision import transforms\n",
    "import numpy as np\n",
    "import torch\n",
    "import os\n",
    "import pandas as pd\n",
    "import matplotlib.pyplot as plt"
   ]
  },
  {
   "cell_type": "code",
   "execution_count": 31,
   "metadata": {},
   "outputs": [
    {
     "data": {
      "text/plain": [
       "False"
      ]
     },
     "execution_count": 31,
     "metadata": {},
     "output_type": "execute_result"
    }
   ],
   "source": [
    "not [1]"
   ]
  },
  {
   "cell_type": "code",
   "execution_count": 48,
   "metadata": {},
   "outputs": [],
   "source": [
    "df = pd.DataFrame()"
   ]
  },
  {
   "cell_type": "code",
   "execution_count": 52,
   "metadata": {},
   "outputs": [
    {
     "data": {
      "text/plain": [
       "False"
      ]
     },
     "execution_count": 52,
     "metadata": {},
     "output_type": "execute_result"
    }
   ],
   "source": [
    "df.empty"
   ]
  },
  {
   "cell_type": "code",
   "execution_count": 43,
   "metadata": {},
   "outputs": [
    {
     "data": {
      "text/plain": [
       "True"
      ]
     },
     "execution_count": 43,
     "metadata": {},
     "output_type": "execute_result"
    }
   ],
   "source": [
    "df.columns.__contains__(\"bla\")"
   ]
  },
  {
   "cell_type": "code",
   "execution_count": 51,
   "metadata": {},
   "outputs": [],
   "source": [
    "df[\"bla\"] = [1, 2, 3]"
   ]
  },
  {
   "cell_type": "code",
   "execution_count": 37,
   "metadata": {},
   "outputs": [
    {
     "data": {
      "text/html": [
       "<div>\n",
       "<style scoped>\n",
       "    .dataframe tbody tr th:only-of-type {\n",
       "        vertical-align: middle;\n",
       "    }\n",
       "\n",
       "    .dataframe tbody tr th {\n",
       "        vertical-align: top;\n",
       "    }\n",
       "\n",
       "    .dataframe thead th {\n",
       "        text-align: right;\n",
       "    }\n",
       "</style>\n",
       "<table border=\"1\" class=\"dataframe\">\n",
       "  <thead>\n",
       "    <tr style=\"text-align: right;\">\n",
       "      <th></th>\n",
       "      <th>bla</th>\n",
       "    </tr>\n",
       "  </thead>\n",
       "  <tbody>\n",
       "    <tr>\n",
       "      <th>0</th>\n",
       "      <td>1</td>\n",
       "    </tr>\n",
       "    <tr>\n",
       "      <th>1</th>\n",
       "      <td>2</td>\n",
       "    </tr>\n",
       "    <tr>\n",
       "      <th>2</th>\n",
       "      <td>3</td>\n",
       "    </tr>\n",
       "  </tbody>\n",
       "</table>\n",
       "</div>"
      ],
      "text/plain": [
       "   bla\n",
       "0    1\n",
       "1    2\n",
       "2    3"
      ]
     },
     "execution_count": 37,
     "metadata": {},
     "output_type": "execute_result"
    }
   ],
   "source": [
    "df"
   ]
  },
  {
   "cell_type": "code",
   "execution_count": 45,
   "metadata": {},
   "outputs": [
    {
     "data": {
      "text/plain": [
       "['..', 'data', 'Dataset Ege', 'Town10HD_Scenario10_route16_11_28_18_26_19']"
      ]
     },
     "execution_count": 45,
     "metadata": {},
     "output_type": "execute_result"
    }
   ],
   "source": [
    "\"../data/Dataset Ege/Town10HD_Scenario10_route16_11_28_18_26_19\".split(os.sep)"
   ]
  },
  {
   "cell_type": "code",
   "execution_count": 58,
   "metadata": {},
   "outputs": [],
   "source": [
    "df = pd.DataFrame()\n",
    "df_temp = pd.DataFrame()\n",
    "for (root,dirs,files) in os.walk('../data/Dataset Ege', topdown=True):\n",
    "    # print(\"Root: \", root)\n",
    "    # print(\"Dirs: \", dirs)\n",
    "    # print(\"Files: \", files)\n",
    "    # print('--------------------------------')\n",
    "    \n",
    "    if not dirs:\n",
    "        input_type = root.split(os.sep)[-1]\n",
    "        if df_temp.columns.__contains__(input_type):\n",
    "            if df.empty:\n",
    "                df = df_temp\n",
    "            else:\n",
    "                df = pd.concat([df, df_temp], axis=1, ignore_index=True)\n",
    "            df_temp = pd.DataFrame()\n",
    "        else:\n",
    "            if df_temp.empty:\n",
    "                df_temp[\"dir\"] = [root] * len(files)\n",
    "            df_temp[input_type] = sorted(files)"
   ]
  },
  {
   "cell_type": "code",
   "execution_count": 59,
   "metadata": {},
   "outputs": [
    {
     "data": {
      "text/html": [
       "<div>\n",
       "<style scoped>\n",
       "    .dataframe tbody tr th:only-of-type {\n",
       "        vertical-align: middle;\n",
       "    }\n",
       "\n",
       "    .dataframe tbody tr th {\n",
       "        vertical-align: top;\n",
       "    }\n",
       "\n",
       "    .dataframe thead th {\n",
       "        text-align: right;\n",
       "    }\n",
       "</style>\n",
       "<table border=\"1\" class=\"dataframe\">\n",
       "  <thead>\n",
       "    <tr style=\"text-align: right;\">\n",
       "      <th></th>\n",
       "      <th>dir</th>\n",
       "      <th>topdown</th>\n",
       "      <th>label_raw</th>\n",
       "      <th>depth</th>\n",
       "      <th>rgb</th>\n",
       "      <th>semantics</th>\n",
       "      <th>lidar</th>\n",
       "      <th>measurements</th>\n",
       "    </tr>\n",
       "  </thead>\n",
       "  <tbody>\n",
       "    <tr>\n",
       "      <th>0</th>\n",
       "      <td>../data/Dataset Ege/Town10HD_Scenario10_route1...</td>\n",
       "      <td>encoded_0000.png</td>\n",
       "      <td>0000.json</td>\n",
       "      <td>0000.png</td>\n",
       "      <td>0000.png</td>\n",
       "      <td>0000.png</td>\n",
       "      <td>0000.npy</td>\n",
       "      <td>0000.json</td>\n",
       "    </tr>\n",
       "    <tr>\n",
       "      <th>1</th>\n",
       "      <td>../data/Dataset Ege/Town10HD_Scenario10_route1...</td>\n",
       "      <td>encoded_0001.png</td>\n",
       "      <td>0001.json</td>\n",
       "      <td>0001.png</td>\n",
       "      <td>0001.png</td>\n",
       "      <td>0001.png</td>\n",
       "      <td>0001.npy</td>\n",
       "      <td>0001.json</td>\n",
       "    </tr>\n",
       "    <tr>\n",
       "      <th>2</th>\n",
       "      <td>../data/Dataset Ege/Town10HD_Scenario10_route1...</td>\n",
       "      <td>encoded_0002.png</td>\n",
       "      <td>0002.json</td>\n",
       "      <td>0002.png</td>\n",
       "      <td>0002.png</td>\n",
       "      <td>0002.png</td>\n",
       "      <td>0002.npy</td>\n",
       "      <td>0002.json</td>\n",
       "    </tr>\n",
       "    <tr>\n",
       "      <th>3</th>\n",
       "      <td>../data/Dataset Ege/Town10HD_Scenario10_route1...</td>\n",
       "      <td>encoded_0003.png</td>\n",
       "      <td>0003.json</td>\n",
       "      <td>0003.png</td>\n",
       "      <td>0003.png</td>\n",
       "      <td>0003.png</td>\n",
       "      <td>0003.npy</td>\n",
       "      <td>0003.json</td>\n",
       "    </tr>\n",
       "    <tr>\n",
       "      <th>4</th>\n",
       "      <td>../data/Dataset Ege/Town10HD_Scenario10_route1...</td>\n",
       "      <td>encoded_0004.png</td>\n",
       "      <td>0004.json</td>\n",
       "      <td>0004.png</td>\n",
       "      <td>0004.png</td>\n",
       "      <td>0004.png</td>\n",
       "      <td>0004.npy</td>\n",
       "      <td>0004.json</td>\n",
       "    </tr>\n",
       "    <tr>\n",
       "      <th>...</th>\n",
       "      <td>...</td>\n",
       "      <td>...</td>\n",
       "      <td>...</td>\n",
       "      <td>...</td>\n",
       "      <td>...</td>\n",
       "      <td>...</td>\n",
       "      <td>...</td>\n",
       "      <td>...</td>\n",
       "    </tr>\n",
       "    <tr>\n",
       "      <th>59</th>\n",
       "      <td>../data/Dataset Ege/Town10HD_Scenario10_route1...</td>\n",
       "      <td>encoded_0059.png</td>\n",
       "      <td>0059.json</td>\n",
       "      <td>0059.png</td>\n",
       "      <td>0059.png</td>\n",
       "      <td>0059.png</td>\n",
       "      <td>0059.npy</td>\n",
       "      <td>0059.json</td>\n",
       "    </tr>\n",
       "    <tr>\n",
       "      <th>60</th>\n",
       "      <td>../data/Dataset Ege/Town10HD_Scenario10_route1...</td>\n",
       "      <td>encoded_0060.png</td>\n",
       "      <td>0060.json</td>\n",
       "      <td>0060.png</td>\n",
       "      <td>0060.png</td>\n",
       "      <td>0060.png</td>\n",
       "      <td>0060.npy</td>\n",
       "      <td>0060.json</td>\n",
       "    </tr>\n",
       "    <tr>\n",
       "      <th>61</th>\n",
       "      <td>../data/Dataset Ege/Town10HD_Scenario10_route1...</td>\n",
       "      <td>encoded_0061.png</td>\n",
       "      <td>0061.json</td>\n",
       "      <td>0061.png</td>\n",
       "      <td>0061.png</td>\n",
       "      <td>0061.png</td>\n",
       "      <td>0061.npy</td>\n",
       "      <td>0061.json</td>\n",
       "    </tr>\n",
       "    <tr>\n",
       "      <th>62</th>\n",
       "      <td>../data/Dataset Ege/Town10HD_Scenario10_route1...</td>\n",
       "      <td>encoded_0062.png</td>\n",
       "      <td>0062.json</td>\n",
       "      <td>0062.png</td>\n",
       "      <td>0062.png</td>\n",
       "      <td>0062.png</td>\n",
       "      <td>0062.npy</td>\n",
       "      <td>0062.json</td>\n",
       "    </tr>\n",
       "    <tr>\n",
       "      <th>63</th>\n",
       "      <td>../data/Dataset Ege/Town10HD_Scenario10_route1...</td>\n",
       "      <td>encoded_0063.png</td>\n",
       "      <td>0063.json</td>\n",
       "      <td>0063.png</td>\n",
       "      <td>0063.png</td>\n",
       "      <td>0063.png</td>\n",
       "      <td>0063.npy</td>\n",
       "      <td>0063.json</td>\n",
       "    </tr>\n",
       "  </tbody>\n",
       "</table>\n",
       "<p>64 rows × 8 columns</p>\n",
       "</div>"
      ],
      "text/plain": [
       "                                                  dir           topdown  \\\n",
       "0   ../data/Dataset Ege/Town10HD_Scenario10_route1...  encoded_0000.png   \n",
       "1   ../data/Dataset Ege/Town10HD_Scenario10_route1...  encoded_0001.png   \n",
       "2   ../data/Dataset Ege/Town10HD_Scenario10_route1...  encoded_0002.png   \n",
       "3   ../data/Dataset Ege/Town10HD_Scenario10_route1...  encoded_0003.png   \n",
       "4   ../data/Dataset Ege/Town10HD_Scenario10_route1...  encoded_0004.png   \n",
       "..                                                ...               ...   \n",
       "59  ../data/Dataset Ege/Town10HD_Scenario10_route1...  encoded_0059.png   \n",
       "60  ../data/Dataset Ege/Town10HD_Scenario10_route1...  encoded_0060.png   \n",
       "61  ../data/Dataset Ege/Town10HD_Scenario10_route1...  encoded_0061.png   \n",
       "62  ../data/Dataset Ege/Town10HD_Scenario10_route1...  encoded_0062.png   \n",
       "63  ../data/Dataset Ege/Town10HD_Scenario10_route1...  encoded_0063.png   \n",
       "\n",
       "    label_raw     depth       rgb semantics     lidar measurements  \n",
       "0   0000.json  0000.png  0000.png  0000.png  0000.npy    0000.json  \n",
       "1   0001.json  0001.png  0001.png  0001.png  0001.npy    0001.json  \n",
       "2   0002.json  0002.png  0002.png  0002.png  0002.npy    0002.json  \n",
       "3   0003.json  0003.png  0003.png  0003.png  0003.npy    0003.json  \n",
       "4   0004.json  0004.png  0004.png  0004.png  0004.npy    0004.json  \n",
       "..        ...       ...       ...       ...       ...          ...  \n",
       "59  0059.json  0059.png  0059.png  0059.png  0059.npy    0059.json  \n",
       "60  0060.json  0060.png  0060.png  0060.png  0060.npy    0060.json  \n",
       "61  0061.json  0061.png  0061.png  0061.png  0061.npy    0061.json  \n",
       "62  0062.json  0062.png  0062.png  0062.png  0062.npy    0062.json  \n",
       "63  0063.json  0063.png  0063.png  0063.png  0063.npy    0063.json  \n",
       "\n",
       "[64 rows x 8 columns]"
      ]
     },
     "execution_count": 59,
     "metadata": {},
     "output_type": "execute_result"
    }
   ],
   "source": [
    "df"
   ]
  },
  {
   "cell_type": "code",
   "execution_count": null,
   "metadata": {},
   "outputs": [],
   "source": []
  },
  {
   "cell_type": "code",
   "execution_count": 25,
   "metadata": {},
   "outputs": [
    {
     "data": {
      "text/plain": [
       "['topdown', 'label_raw', 'depth', 'rgb', 'semantics', 'lidar', 'measurements']"
      ]
     },
     "execution_count": 25,
     "metadata": {},
     "output_type": "execute_result"
    }
   ],
   "source": [
    "os.listdir(\"../data/data/cycl_dataset_23_11/Routes_non-straight-junction-Scen4_Town07_junction_Seed2000/non-straight-junction-Scen4_Town07_junction_route28_11_23_22_00_23\")"
   ]
  },
  {
   "cell_type": "code",
   "execution_count": 22,
   "metadata": {},
   "outputs": [
    {
     "data": {
      "text/plain": [
       "False"
      ]
     },
     "execution_count": 22,
     "metadata": {},
     "output_type": "execute_result"
    }
   ],
   "source": [
    "\"measurements\" in os.listdir(\"../data/data/cycl_dataset_23_11\")"
   ]
  },
  {
   "cell_type": "code",
   "execution_count": 13,
   "metadata": {},
   "outputs": [
    {
     "name": "stdout",
     "output_type": "stream",
     "text": [
      "217\n"
     ]
    }
   ],
   "source": [
    "path_ege_data = os.path.join(\"..\", \"data\", \"Dataset Ege\")\n",
    "\n",
    "config = {\"used_inputs\": [\"rgb\", \"lidar\", \"measurements\"], \n",
    "        \"used_measurements\": [\"speed\", \"steer\", \"throttle\"],\n",
    "        \"seq_len\": 1\n",
    "        }\n",
    "\n",
    "dataset = CARLADataset(root_dir=path_ege_data, config=config)\n",
    "dataset_mp = CARLADatasetMultiProcessing(root_dir=path_ege_data, config=config)\n",
    "weighted_sampler = WeightedSampler(dataset=dataset)\n",
    "print(dataset.__len__())"
   ]
  },
  {
   "cell_type": "code",
   "execution_count": 14,
   "metadata": {},
   "outputs": [],
   "source": [
    "dl = DataLoader(dataset=dataset, batch_size=16, num_workers=0, sampler=weighted_sampler)\n",
    "dl_mp = DataLoader(dataset=dataset_mp, batch_size=16, num_workers=3, sampler=weighted_sampler)"
   ]
  },
  {
   "cell_type": "code",
   "execution_count": 4,
   "metadata": {},
   "outputs": [
    {
     "name": "stdout",
     "output_type": "stream",
     "text": [
      "14\n"
     ]
    }
   ],
   "source": [
    "count = 0\n",
    "for batch in dl:\n",
    "    # preprocessing\n",
    "    for key in preprocessing:\n",
    "        batch[key] = preprocessing[key](batch[key])\n",
    "    count += 1\n",
    "print(count)"
   ]
  },
  {
   "cell_type": "code",
   "execution_count": 5,
   "metadata": {},
   "outputs": [
    {
     "name": "stdout",
     "output_type": "stream",
     "text": [
      "217\n"
     ]
    }
   ],
   "source": [
    "# Derive statistics for our dataset that can be used in Normalize() method to get approx. zero mean & var 1. \n",
    "mean = 0\n",
    "std = 0\n",
    "count = 0\n",
    "for batch in dl:\n",
    "    mean = (count * mean + batch[\"rgb\"].shape[0] * batch[\"rgb\"].mean(axis=[0, 1, 3, 4])) / (count + batch[\"rgb\"].shape[0])\n",
    "    std = (count * std + batch[\"rgb\"].shape[0] * batch[\"rgb\"].std(axis=[0, 1, 3, 4])) / (count + batch[\"rgb\"].shape[0])\n",
    "    count += batch[\"rgb\"].shape[0]\n",
    "print(count)"
   ]
  },
  {
   "cell_type": "code",
   "execution_count": 15,
   "metadata": {},
   "outputs": [
    {
     "ename": "ValueError",
     "evalue": "could not broadcast input array from shape (27352,4) into shape (27498,4)",
     "output_type": "error",
     "traceback": [
      "\u001b[0;31m---------------------------------------------------------------------------\u001b[0m",
      "\u001b[0;31mValueError\u001b[0m                                Traceback (most recent call last)",
      "Cell \u001b[0;32mIn[15], line 1\u001b[0m\n\u001b[0;32m----> 1\u001b[0m dataset\u001b[39m.\u001b[39;49m\u001b[39m__getitem__\u001b[39;49m(\u001b[39m1\u001b[39;49m)\n",
      "File \u001b[0;32m~/Documents/GitHub/end2endappras/data_pipeline/dataset.py:54\u001b[0m, in \u001b[0;36mCARLADataset.__getitem__\u001b[0;34m(self, idx)\u001b[0m\n\u001b[1;32m     52\u001b[0m     file_path \u001b[39m=\u001b[39m \u001b[39mself\u001b[39m\u001b[39m.\u001b[39m__get_file_path_from_df(input_idx, data_point_idx)\n\u001b[1;32m     53\u001b[0m     data_t \u001b[39m=\u001b[39m \u001b[39mself\u001b[39m\u001b[39m.\u001b[39mload_data_from_path(file_path)\n\u001b[0;32m---> 54\u001b[0m     data[idx_array] \u001b[39m=\u001b[39m data_t\n\u001b[1;32m     55\u001b[0m     idx_array \u001b[39m+\u001b[39m\u001b[39m=\u001b[39m \u001b[39m1\u001b[39m\n\u001b[1;32m     56\u001b[0m sensor \u001b[39m=\u001b[39m \u001b[39mself\u001b[39m\u001b[39m.\u001b[39mdf_meta_data\u001b[39m.\u001b[39mcolumns[input_idx]\n",
      "\u001b[0;31mValueError\u001b[0m: could not broadcast input array from shape (27352,4) into shape (27498,4)"
     ]
    }
   ],
   "source": [
    "dataset.__getitem__(1)"
   ]
  },
  {
   "cell_type": "code",
   "execution_count": null,
   "metadata": {},
   "outputs": [],
   "source": []
  }
 ],
 "metadata": {
  "kernelspec": {
   "display_name": "Python 3.8.13 ('carla')",
   "language": "python",
   "name": "python3"
  },
  "language_info": {
   "codemirror_mode": {
    "name": "ipython",
    "version": 3
   },
   "file_extension": ".py",
   "mimetype": "text/x-python",
   "name": "python",
   "nbconvert_exporter": "python",
   "pygments_lexer": "ipython3",
   "version": "3.8.13"
  },
  "orig_nbformat": 4,
  "vscode": {
   "interpreter": {
    "hash": "bc80d0638afb8ec7c43f4b834002a598fcddbd6e8bf5db40ad8cba47e68e6a97"
   }
  }
 },
 "nbformat": 4,
 "nbformat_minor": 2
}
