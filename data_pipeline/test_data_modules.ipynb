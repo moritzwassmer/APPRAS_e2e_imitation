{
 "cells": [
  {
   "cell_type": "code",
   "execution_count": 1,
   "metadata": {},
   "outputs": [],
   "source": [
    "from data_sampler import WeightedSampler\n",
    "from dataset import CARLADataset\n",
    "from torch.utils.data import DataLoader\n",
    "from torchvision import transforms\n",
    "import numpy as np\n",
    "import torch\n",
    "import os"
   ]
  },
  {
   "cell_type": "code",
   "execution_count": 2,
   "metadata": {},
   "outputs": [
    {
     "name": "stdout",
     "output_type": "stream",
     "text": [
      "217\n"
     ]
    }
   ],
   "source": [
    "path_ege_data = os.path.join(\"..\", \"data\", \"Dataset Ege\")\n",
    "\n",
    "\n",
    "# test commit\n",
    "config = {\"used_inputs\": [\"rgb\", \"depth\", \"measurements\"], \n",
    "        \"used_measurements\": [\"speed\", \"steer\", \"throttle\"],\n",
    "        \"seq_len\": 2\n",
    "        }\n",
    "\n",
    "def transform(sample):\n",
    "        \"\"\"\n",
    "        This function reshapes every input in a sample to be\n",
    "        shape = [seq_len, data_shape]\n",
    "        \"\"\"\n",
    "        for key in sample:\n",
    "                data_tensor = torch.Tensor(sample[key])\n",
    "                shape = list(data_tensor.shape)\n",
    "                shape.remove(config[\"seq_len\"])\n",
    "                shape_new = [config[\"seq_len\"]] + shape\n",
    "                sample[key] = data_tensor.reshape(shape_new)\n",
    "        return sample\n",
    "\n",
    "# data_transform = transforms.Compose([\n",
    "#         torch.stack()\n",
    "#         # transforms.ToTensor(),\n",
    "#         # torch.reshape(config[\"seq_len\"], ...)\n",
    "#         # transforms.Normalize(mean=[0.485, 0.456, 0.406],\n",
    "#         #                      std=[0.229, 0.224, 0.225])\n",
    "# ])\n",
    "\n",
    "dataset = CARLADataset(root_dir=path_ege_data, config=config, transform=None)\n",
    "weighted_sampler = WeightedSampler(dataset=dataset)\n",
    "print(dataset.__len__())"
   ]
  },
  {
   "cell_type": "code",
   "execution_count": 3,
   "metadata": {},
   "outputs": [
    {
     "data": {
      "text/plain": [
       "[[160, 960, 3], [160, 960, 3], None]"
      ]
     },
     "execution_count": 3,
     "metadata": {},
     "output_type": "execute_result"
    }
   ],
   "source": [
    "dataset.data_shapes"
   ]
  },
  {
   "cell_type": "code",
   "execution_count": 4,
   "metadata": {},
   "outputs": [
    {
     "data": {
      "text/plain": [
       "False"
      ]
     },
     "execution_count": 4,
     "metadata": {},
     "output_type": "execute_result"
    }
   ],
   "source": [
    "dataset.df_meta_data.columns[2] == \"measurementsa\""
   ]
  },
  {
   "cell_type": "code",
   "execution_count": 5,
   "metadata": {},
   "outputs": [
    {
     "data": {
      "text/html": [
       "<div>\n",
       "<style scoped>\n",
       "    .dataframe tbody tr th:only-of-type {\n",
       "        vertical-align: middle;\n",
       "    }\n",
       "\n",
       "    .dataframe tbody tr th {\n",
       "        vertical-align: top;\n",
       "    }\n",
       "\n",
       "    .dataframe thead th {\n",
       "        text-align: right;\n",
       "    }\n",
       "</style>\n",
       "<table border=\"1\" class=\"dataframe\">\n",
       "  <thead>\n",
       "    <tr style=\"text-align: right;\">\n",
       "      <th></th>\n",
       "      <th>route</th>\n",
       "      <th>depth</th>\n",
       "      <th>rgb</th>\n",
       "      <th>measurements</th>\n",
       "    </tr>\n",
       "  </thead>\n",
       "  <tbody>\n",
       "    <tr>\n",
       "      <th>0</th>\n",
       "      <td>Town10HD_Scenario10_route16_11_28_18_26_19</td>\n",
       "      <td>0000.png</td>\n",
       "      <td>0000.png</td>\n",
       "      <td>0000.json</td>\n",
       "    </tr>\n",
       "    <tr>\n",
       "      <th>1</th>\n",
       "      <td>Town10HD_Scenario10_route16_11_28_18_26_19</td>\n",
       "      <td>0001.png</td>\n",
       "      <td>0001.png</td>\n",
       "      <td>0001.json</td>\n",
       "    </tr>\n",
       "    <tr>\n",
       "      <th>2</th>\n",
       "      <td>Town10HD_Scenario10_route16_11_28_18_26_19</td>\n",
       "      <td>0002.png</td>\n",
       "      <td>0002.png</td>\n",
       "      <td>0002.json</td>\n",
       "    </tr>\n",
       "    <tr>\n",
       "      <th>3</th>\n",
       "      <td>Town10HD_Scenario10_route16_11_28_18_26_19</td>\n",
       "      <td>0003.png</td>\n",
       "      <td>0003.png</td>\n",
       "      <td>0003.json</td>\n",
       "    </tr>\n",
       "    <tr>\n",
       "      <th>4</th>\n",
       "      <td>Town10HD_Scenario10_route16_11_28_18_26_19</td>\n",
       "      <td>0004.png</td>\n",
       "      <td>0004.png</td>\n",
       "      <td>0004.json</td>\n",
       "    </tr>\n",
       "    <tr>\n",
       "      <th>...</th>\n",
       "      <td>...</td>\n",
       "      <td>...</td>\n",
       "      <td>...</td>\n",
       "      <td>...</td>\n",
       "    </tr>\n",
       "    <tr>\n",
       "      <th>212</th>\n",
       "      <td>Town10HD_Scenario10_route3_11_28_17_28_17</td>\n",
       "      <td>0148.png</td>\n",
       "      <td>0148.png</td>\n",
       "      <td>0148.json</td>\n",
       "    </tr>\n",
       "    <tr>\n",
       "      <th>213</th>\n",
       "      <td>Town10HD_Scenario10_route3_11_28_17_28_17</td>\n",
       "      <td>0149.png</td>\n",
       "      <td>0149.png</td>\n",
       "      <td>0149.json</td>\n",
       "    </tr>\n",
       "    <tr>\n",
       "      <th>214</th>\n",
       "      <td>Town10HD_Scenario10_route3_11_28_17_28_17</td>\n",
       "      <td>0150.png</td>\n",
       "      <td>0150.png</td>\n",
       "      <td>0150.json</td>\n",
       "    </tr>\n",
       "    <tr>\n",
       "      <th>215</th>\n",
       "      <td>Town10HD_Scenario10_route3_11_28_17_28_17</td>\n",
       "      <td>0151.png</td>\n",
       "      <td>0151.png</td>\n",
       "      <td>0151.json</td>\n",
       "    </tr>\n",
       "    <tr>\n",
       "      <th>216</th>\n",
       "      <td>Town10HD_Scenario10_route3_11_28_17_28_17</td>\n",
       "      <td>0152.png</td>\n",
       "      <td>0152.png</td>\n",
       "      <td>0152.json</td>\n",
       "    </tr>\n",
       "  </tbody>\n",
       "</table>\n",
       "<p>217 rows × 4 columns</p>\n",
       "</div>"
      ],
      "text/plain": [
       "                                          route     depth       rgb  \\\n",
       "0    Town10HD_Scenario10_route16_11_28_18_26_19  0000.png  0000.png   \n",
       "1    Town10HD_Scenario10_route16_11_28_18_26_19  0001.png  0001.png   \n",
       "2    Town10HD_Scenario10_route16_11_28_18_26_19  0002.png  0002.png   \n",
       "3    Town10HD_Scenario10_route16_11_28_18_26_19  0003.png  0003.png   \n",
       "4    Town10HD_Scenario10_route16_11_28_18_26_19  0004.png  0004.png   \n",
       "..                                          ...       ...       ...   \n",
       "212   Town10HD_Scenario10_route3_11_28_17_28_17  0148.png  0148.png   \n",
       "213   Town10HD_Scenario10_route3_11_28_17_28_17  0149.png  0149.png   \n",
       "214   Town10HD_Scenario10_route3_11_28_17_28_17  0150.png  0150.png   \n",
       "215   Town10HD_Scenario10_route3_11_28_17_28_17  0151.png  0151.png   \n",
       "216   Town10HD_Scenario10_route3_11_28_17_28_17  0152.png  0152.png   \n",
       "\n",
       "    measurements  \n",
       "0      0000.json  \n",
       "1      0001.json  \n",
       "2      0002.json  \n",
       "3      0003.json  \n",
       "4      0004.json  \n",
       "..           ...  \n",
       "212    0148.json  \n",
       "213    0149.json  \n",
       "214    0150.json  \n",
       "215    0151.json  \n",
       "216    0152.json  \n",
       "\n",
       "[217 rows x 4 columns]"
      ]
     },
     "execution_count": 5,
     "metadata": {},
     "output_type": "execute_result"
    }
   ],
   "source": [
    "dataset.df_meta_data"
   ]
  },
  {
   "cell_type": "code",
   "execution_count": 6,
   "metadata": {},
   "outputs": [],
   "source": [
    "dl = DataLoader(dataset=dataset, batch_size=16, num_workers=0, sampler=weighted_sampler, collate_fn=None)"
   ]
  },
  {
   "cell_type": "code",
   "execution_count": 7,
   "metadata": {},
   "outputs": [
    {
     "name": "stdout",
     "output_type": "stream",
     "text": [
      "---------HHELLLO------------\n"
     ]
    },
    {
     "ename": "IndexError",
     "evalue": "index 2 is out of bounds for axis 1 with size 2",
     "output_type": "error",
     "traceback": [
      "\u001b[0;31m---------------------------------------------------------------------------\u001b[0m",
      "\u001b[0;31mIndexError\u001b[0m                                Traceback (most recent call last)",
      "Cell \u001b[0;32mIn[7], line 3\u001b[0m\n\u001b[1;32m      1\u001b[0m \u001b[39m# Weird: When num_workers increases (>0) then it takes longer to loop over batches??\u001b[39;00m\n\u001b[1;32m      2\u001b[0m count \u001b[39m=\u001b[39m \u001b[39m0\u001b[39m\n\u001b[0;32m----> 3\u001b[0m \u001b[39mfor\u001b[39;00m batch \u001b[39min\u001b[39;00m dl:\n\u001b[1;32m      4\u001b[0m     count \u001b[39m+\u001b[39m\u001b[39m=\u001b[39m \u001b[39m1\u001b[39m\n\u001b[1;32m      5\u001b[0m \u001b[39mprint\u001b[39m(count)\n",
      "File \u001b[0;32m~/miniforge3/envs/carla/lib/python3.8/site-packages/torch/utils/data/dataloader.py:628\u001b[0m, in \u001b[0;36m_BaseDataLoaderIter.__next__\u001b[0;34m(self)\u001b[0m\n\u001b[1;32m    625\u001b[0m \u001b[39mif\u001b[39;00m \u001b[39mself\u001b[39m\u001b[39m.\u001b[39m_sampler_iter \u001b[39mis\u001b[39;00m \u001b[39mNone\u001b[39;00m:\n\u001b[1;32m    626\u001b[0m     \u001b[39m# TODO(https://github.com/pytorch/pytorch/issues/76750)\u001b[39;00m\n\u001b[1;32m    627\u001b[0m     \u001b[39mself\u001b[39m\u001b[39m.\u001b[39m_reset()  \u001b[39m# type: ignore[call-arg]\u001b[39;00m\n\u001b[0;32m--> 628\u001b[0m data \u001b[39m=\u001b[39m \u001b[39mself\u001b[39;49m\u001b[39m.\u001b[39;49m_next_data()\n\u001b[1;32m    629\u001b[0m \u001b[39mself\u001b[39m\u001b[39m.\u001b[39m_num_yielded \u001b[39m+\u001b[39m\u001b[39m=\u001b[39m \u001b[39m1\u001b[39m\n\u001b[1;32m    630\u001b[0m \u001b[39mif\u001b[39;00m \u001b[39mself\u001b[39m\u001b[39m.\u001b[39m_dataset_kind \u001b[39m==\u001b[39m _DatasetKind\u001b[39m.\u001b[39mIterable \u001b[39mand\u001b[39;00m \\\n\u001b[1;32m    631\u001b[0m         \u001b[39mself\u001b[39m\u001b[39m.\u001b[39m_IterableDataset_len_called \u001b[39mis\u001b[39;00m \u001b[39mnot\u001b[39;00m \u001b[39mNone\u001b[39;00m \u001b[39mand\u001b[39;00m \\\n\u001b[1;32m    632\u001b[0m         \u001b[39mself\u001b[39m\u001b[39m.\u001b[39m_num_yielded \u001b[39m>\u001b[39m \u001b[39mself\u001b[39m\u001b[39m.\u001b[39m_IterableDataset_len_called:\n",
      "File \u001b[0;32m~/miniforge3/envs/carla/lib/python3.8/site-packages/torch/utils/data/dataloader.py:671\u001b[0m, in \u001b[0;36m_SingleProcessDataLoaderIter._next_data\u001b[0;34m(self)\u001b[0m\n\u001b[1;32m    669\u001b[0m \u001b[39mdef\u001b[39;00m \u001b[39m_next_data\u001b[39m(\u001b[39mself\u001b[39m):\n\u001b[1;32m    670\u001b[0m     index \u001b[39m=\u001b[39m \u001b[39mself\u001b[39m\u001b[39m.\u001b[39m_next_index()  \u001b[39m# may raise StopIteration\u001b[39;00m\n\u001b[0;32m--> 671\u001b[0m     data \u001b[39m=\u001b[39m \u001b[39mself\u001b[39;49m\u001b[39m.\u001b[39;49m_dataset_fetcher\u001b[39m.\u001b[39;49mfetch(index)  \u001b[39m# may raise StopIteration\u001b[39;00m\n\u001b[1;32m    672\u001b[0m     \u001b[39mif\u001b[39;00m \u001b[39mself\u001b[39m\u001b[39m.\u001b[39m_pin_memory:\n\u001b[1;32m    673\u001b[0m         data \u001b[39m=\u001b[39m _utils\u001b[39m.\u001b[39mpin_memory\u001b[39m.\u001b[39mpin_memory(data, \u001b[39mself\u001b[39m\u001b[39m.\u001b[39m_pin_memory_device)\n",
      "File \u001b[0;32m~/miniforge3/envs/carla/lib/python3.8/site-packages/torch/utils/data/_utils/fetch.py:58\u001b[0m, in \u001b[0;36m_MapDatasetFetcher.fetch\u001b[0;34m(self, possibly_batched_index)\u001b[0m\n\u001b[1;32m     56\u001b[0m         data \u001b[39m=\u001b[39m \u001b[39mself\u001b[39m\u001b[39m.\u001b[39mdataset\u001b[39m.\u001b[39m__getitems__(possibly_batched_index)\n\u001b[1;32m     57\u001b[0m     \u001b[39melse\u001b[39;00m:\n\u001b[0;32m---> 58\u001b[0m         data \u001b[39m=\u001b[39m [\u001b[39mself\u001b[39m\u001b[39m.\u001b[39mdataset[idx] \u001b[39mfor\u001b[39;00m idx \u001b[39min\u001b[39;00m possibly_batched_index]\n\u001b[1;32m     59\u001b[0m \u001b[39melse\u001b[39;00m:\n\u001b[1;32m     60\u001b[0m     data \u001b[39m=\u001b[39m \u001b[39mself\u001b[39m\u001b[39m.\u001b[39mdataset[possibly_batched_index]\n",
      "File \u001b[0;32m~/miniforge3/envs/carla/lib/python3.8/site-packages/torch/utils/data/_utils/fetch.py:58\u001b[0m, in \u001b[0;36m<listcomp>\u001b[0;34m(.0)\u001b[0m\n\u001b[1;32m     56\u001b[0m         data \u001b[39m=\u001b[39m \u001b[39mself\u001b[39m\u001b[39m.\u001b[39mdataset\u001b[39m.\u001b[39m__getitems__(possibly_batched_index)\n\u001b[1;32m     57\u001b[0m     \u001b[39melse\u001b[39;00m:\n\u001b[0;32m---> 58\u001b[0m         data \u001b[39m=\u001b[39m [\u001b[39mself\u001b[39;49m\u001b[39m.\u001b[39;49mdataset[idx] \u001b[39mfor\u001b[39;00m idx \u001b[39min\u001b[39;00m possibly_batched_index]\n\u001b[1;32m     59\u001b[0m \u001b[39melse\u001b[39;00m:\n\u001b[1;32m     60\u001b[0m     data \u001b[39m=\u001b[39m \u001b[39mself\u001b[39m\u001b[39m.\u001b[39mdataset[possibly_batched_index]\n",
      "File \u001b[0;32m~/Documents/GitHub/end2endappras/data_pipeline/dataset.py:69\u001b[0m, in \u001b[0;36mCARLADataset.__getitem__\u001b[0;34m(self, idx)\u001b[0m\n\u001b[1;32m     67\u001b[0m     data_t \u001b[39m=\u001b[39m \u001b[39mself\u001b[39m\u001b[39m.\u001b[39mload_data_from_path(file_path)\n\u001b[1;32m     68\u001b[0m     \u001b[39mfor\u001b[39;00m meas_idx, meas \u001b[39min\u001b[39;00m \u001b[39menumerate\u001b[39m(\u001b[39mself\u001b[39m\u001b[39m.\u001b[39mused_measurements):\n\u001b[0;32m---> 69\u001b[0m         data[idx_array, meas_idx] \u001b[39m=\u001b[39m data_t[meas]\n\u001b[1;32m     70\u001b[0m     idx_array \u001b[39m+\u001b[39m\u001b[39m=\u001b[39m \u001b[39m1\u001b[39m\n\u001b[1;32m     71\u001b[0m \u001b[39mfor\u001b[39;00m meas_idx, meas \u001b[39min\u001b[39;00m \u001b[39menumerate\u001b[39m(\u001b[39mself\u001b[39m\u001b[39m.\u001b[39mused_measurements):\n",
      "\u001b[0;31mIndexError\u001b[0m: index 2 is out of bounds for axis 1 with size 2"
     ]
    }
   ],
   "source": [
    "# Weird: When num_workers increases (>0) then it takes longer to loop over batches??\n",
    "count = 0\n",
    "for batch in dl:\n",
    "    count += 1\n",
    "print(count)"
   ]
  },
  {
   "cell_type": "code",
   "execution_count": 16,
   "metadata": {},
   "outputs": [
    {
     "name": "stdout",
     "output_type": "stream",
     "text": [
      "0\n",
      "bla\n",
      "1\n",
      "bla\n",
      "2\n",
      "bla\n",
      "3\n",
      "bla\n",
      "4\n",
      "bla\n",
      "ksdfk\n",
      "6\n",
      "bla\n",
      "7\n",
      "bla\n",
      "8\n",
      "bla\n",
      "9\n",
      "bla\n"
     ]
    }
   ],
   "source": [
    "for i in range(10):\n",
    "    if i == 5:\n",
    "        print(\"ksdfk\")\n",
    "        continue\n",
    "    print(i)\n",
    "    print(\"bla\")"
   ]
  },
  {
   "cell_type": "code",
   "execution_count": 18,
   "metadata": {},
   "outputs": [
    {
     "name": "stdout",
     "output_type": "stream",
     "text": [
      "0\n",
      "0\n",
      "1\n",
      "1\n",
      "0\n",
      "1\n",
      "2\n",
      "0\n",
      "1\n",
      "3\n",
      "0\n",
      "1\n",
      "4\n",
      "0\n",
      "1\n",
      "5\n",
      "ksdfk\n",
      "6\n",
      "0\n",
      "1\n",
      "7\n",
      "0\n",
      "1\n",
      "8\n",
      "0\n",
      "1\n",
      "9\n",
      "0\n",
      "1\n"
     ]
    }
   ],
   "source": [
    "for i in range(10):\n",
    "    print(i)\n",
    "    if i == 5:\n",
    "        print(\"ksdfk\")\n",
    "        continue\n",
    "    for a in range(2):\n",
    "        print(a)\n",
    "    "
   ]
  },
  {
   "cell_type": "code",
   "execution_count": null,
   "metadata": {},
   "outputs": [],
   "source": []
  }
 ],
 "metadata": {
  "kernelspec": {
   "display_name": "Python 3.8.13 ('carla')",
   "language": "python",
   "name": "python3"
  },
  "language_info": {
   "codemirror_mode": {
    "name": "ipython",
    "version": 3
   },
   "file_extension": ".py",
   "mimetype": "text/x-python",
   "name": "python",
   "nbconvert_exporter": "python",
   "pygments_lexer": "ipython3",
   "version": "3.8.13"
  },
  "orig_nbformat": 4,
  "vscode": {
   "interpreter": {
    "hash": "bc80d0638afb8ec7c43f4b834002a598fcddbd6e8bf5db40ad8cba47e68e6a97"
   }
  }
 },
 "nbformat": 4,
 "nbformat_minor": 2
}
