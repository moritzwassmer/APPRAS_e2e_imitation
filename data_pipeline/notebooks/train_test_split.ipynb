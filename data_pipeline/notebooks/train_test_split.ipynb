{
 "cells": [
  {
   "cell_type": "code",
   "execution_count": 1,
   "metadata": {},
   "outputs": [
    {
     "name": "stderr",
     "output_type": "stream",
     "text": [
      "/Users/julianvonklitzing/miniforge3/envs/carla/lib/python3.8/site-packages/tqdm/auto.py:22: TqdmWarning: IProgress not found. Please update jupyter and ipywidgets. See https://ipywidgets.readthedocs.io/en/stable/user_install.html\n",
      "  from .autonotebook import tqdm as notebook_tqdm\n"
     ]
    }
   ],
   "source": [
    "import sys\n",
    "import os\n",
    "from torch.utils.data import DataLoader\n",
    "sys.path.append(\"..\")\n",
    "from tqdm import tqdm\n",
    "import shutil\n",
    "import torch\n",
    "import numpy as np\n",
    "import pandas as pd\n",
    "\n",
    "from utils import train_test_split, create_metadata_df, measurements_to_df\n",
    "from dataset_xy import CARLADatasetXY\n",
    "from dataset import CARLADataset\n",
    "from data_preprocessing import preprocessing, transform_lidar_bev\n",
    "\n",
    "import json\n",
    "\n",
    "from PIL import Image"
   ]
  },
  {
   "cell_type": "code",
   "execution_count": 2,
   "metadata": {},
   "outputs": [],
   "source": [
    "path_data = os.path.join(\"..\", \"..\", \"data\", \"data\")\n",
    "# path_data = \"../../data/data/cycl_dataset_23_11/Routes_non-straight-junction-Scen4_Town07_junction_Seed2000/non-straight-junction-Scen4_Town07_junction_route74_11_24_00_29_14\"\n",
    "# path_data = os.path.join(\"..\", \"..\", \"data\", \"data\", \"rr_dataset_23_11\")\n",
    "#path_data = os.path.join(\"..\", \"..\", \"data\", \"data_prep_npy\")\n",
    "\n",
    "config_xy = {\"used_inputs\": [\"rgb\", \"lidar_prep\", \"measurements\"], \n",
    "        \"used_measurements\": [\"speed\", \"steer\", \"throttle\", \"brake\", \"command\"],\n",
    "        \"y\": [\"brake\", \"steer\", \"throttle\"],\n",
    "        \"seq_len\": 1\n",
    "        }\n",
    "\n",
    "# Create df_meta \n",
    "df_meta_data = create_metadata_df(path_data, config_xy[\"used_inputs\"])\n",
    "\n",
    "# Create Dataset & DataLoader\n",
    "dataset = CARLADatasetXY(root_dir=path_data, df_meta_data=df_meta_data, config=config_xy)"
   ]
  },
  {
   "attachments": {},
   "cell_type": "markdown",
   "metadata": {},
   "source": [
    "# Towns frequencies on entire set"
   ]
  },
  {
   "cell_type": "code",
   "execution_count": 3,
   "metadata": {},
   "outputs": [
    {
     "data": {
      "text/plain": [
       "Town04    0.235217\n",
       "Town05    0.215354\n",
       "Town03    0.159882\n",
       "Town06    0.138998\n",
       "Town07    0.087498\n",
       "Town10    0.073697\n",
       "Town01    0.048266\n",
       "Town02    0.041087\n",
       "dtype: float64"
      ]
     },
     "execution_count": 3,
     "metadata": {},
     "output_type": "execute_result"
    }
   ],
   "source": [
    "df_meta_data[\"dir\"].str.extract(\"(Town[0-9][0-9])\").value_counts(normalize=True)"
   ]
  },
  {
   "cell_type": "code",
   "execution_count": 4,
   "metadata": {},
   "outputs": [],
   "source": [
    "df_meta_data_stats = df_meta_data[\"dir\"].apply(lambda x: x.split(os.sep)[4]).to_frame(\"dir_first_level\")\n",
    "df_meta_data_stats[\"town\"] = df_meta_data[\"dir\"].str.extract(\"(Town[0-9][0-9])\")\n",
    "df_meta_data_stats = df_meta_data_stats.groupby(\"dir_first_level\")[\"town\"].value_counts(normalize=True).to_frame(\"freq\")"
   ]
  },
  {
   "cell_type": "code",
   "execution_count": 48,
   "metadata": {},
   "outputs": [
    {
     "data": {
      "text/html": [
       "<div>\n",
       "<style scoped>\n",
       "    .dataframe tbody tr th:only-of-type {\n",
       "        vertical-align: middle;\n",
       "    }\n",
       "\n",
       "    .dataframe tbody tr th {\n",
       "        vertical-align: top;\n",
       "    }\n",
       "\n",
       "    .dataframe thead th {\n",
       "        text-align: right;\n",
       "    }\n",
       "</style>\n",
       "<table border=\"1\" class=\"dataframe\">\n",
       "  <thead>\n",
       "    <tr style=\"text-align: right;\">\n",
       "      <th></th>\n",
       "      <th></th>\n",
       "      <th>freq</th>\n",
       "    </tr>\n",
       "    <tr>\n",
       "      <th>dir_first_level</th>\n",
       "      <th>town</th>\n",
       "      <th></th>\n",
       "    </tr>\n",
       "  </thead>\n",
       "  <tbody>\n",
       "    <tr>\n",
       "      <th rowspan=\"5\" valign=\"top\">coke_dataset_23_11</th>\n",
       "      <th>Town05</th>\n",
       "      <td>0.319508</td>\n",
       "    </tr>\n",
       "    <tr>\n",
       "      <th>Town04</th>\n",
       "      <td>0.280574</td>\n",
       "    </tr>\n",
       "    <tr>\n",
       "      <th>Town06</th>\n",
       "      <td>0.125492</td>\n",
       "    </tr>\n",
       "    <tr>\n",
       "      <th>Town03</th>\n",
       "      <td>0.080123</td>\n",
       "    </tr>\n",
       "    <tr>\n",
       "      <th>Town02</th>\n",
       "      <td>0.061230</td>\n",
       "    </tr>\n",
       "    <tr>\n",
       "      <th>...</th>\n",
       "      <th>...</th>\n",
       "      <td>...</td>\n",
       "    </tr>\n",
       "    <tr>\n",
       "      <th rowspan=\"2\" valign=\"top\">rl_dataset_23_11</th>\n",
       "      <th>Town03</th>\n",
       "      <td>0.083897</td>\n",
       "    </tr>\n",
       "    <tr>\n",
       "      <th>Town10</th>\n",
       "      <td>0.078530</td>\n",
       "    </tr>\n",
       "    <tr>\n",
       "      <th rowspan=\"3\" valign=\"top\">rr_dataset_23_11</th>\n",
       "      <th>Town06</th>\n",
       "      <td>0.515000</td>\n",
       "    </tr>\n",
       "    <tr>\n",
       "      <th>Town04</th>\n",
       "      <td>0.415185</td>\n",
       "    </tr>\n",
       "    <tr>\n",
       "      <th>Town05</th>\n",
       "      <td>0.069815</td>\n",
       "    </tr>\n",
       "  </tbody>\n",
       "</table>\n",
       "<p>86 rows × 1 columns</p>\n",
       "</div>"
      ],
      "text/plain": [
       "                               freq\n",
       "dir_first_level    town            \n",
       "coke_dataset_23_11 Town05  0.319508\n",
       "                   Town04  0.280574\n",
       "                   Town06  0.125492\n",
       "                   Town03  0.080123\n",
       "                   Town02  0.061230\n",
       "...                             ...\n",
       "rl_dataset_23_11   Town03  0.083897\n",
       "                   Town10  0.078530\n",
       "rr_dataset_23_11   Town06  0.515000\n",
       "                   Town04  0.415185\n",
       "                   Town05  0.069815\n",
       "\n",
       "[86 rows x 1 columns]"
      ]
     },
     "execution_count": 48,
     "metadata": {},
     "output_type": "execute_result"
    }
   ],
   "source": [
    "df_meta_data_stats"
   ]
  },
  {
   "cell_type": "code",
   "execution_count": 6,
   "metadata": {},
   "outputs": [
    {
     "name": "stderr",
     "output_type": "stream",
     "text": [
      "100%|██████████| 258816/258816 [10:41<00:00, 403.44it/s]  \n"
     ]
    }
   ],
   "source": [
    "df_measurements = measurements_to_df(dataset)"
   ]
  },
  {
   "cell_type": "code",
   "execution_count": 50,
   "metadata": {},
   "outputs": [
    {
     "data": {
      "image/png": "[encoded data removed]",
      "text/plain": [
       "<Figure size 2000x2000 with 16 Axes>"
      ]
     },
     "metadata": {},
     "output_type": "display_data"
    }
   ],
   "source": [
    "ax = df_measurements.hist(by=\"dir\", column=\"steer\", figsize=(20, 20), legend=True)"
   ]
  },
  {
   "cell_type": "code",
   "execution_count": 21,
   "metadata": {},
   "outputs": [],
   "source": [
    "import cv2"
   ]
  },
  {
   "cell_type": "code",
   "execution_count": 37,
   "metadata": {},
   "outputs": [],
   "source": []
  },
  {
   "cell_type": "code",
   "execution_count": 38,
   "metadata": {},
   "outputs": [
    {
     "data": {
      "text/html": [
       "<div>\n",
       "<style scoped>\n",
       "    .dataframe tbody tr th:only-of-type {\n",
       "        vertical-align: middle;\n",
       "    }\n",
       "\n",
       "    .dataframe tbody tr th {\n",
       "        vertical-align: top;\n",
       "    }\n",
       "\n",
       "    .dataframe thead th {\n",
       "        text-align: right;\n",
       "    }\n",
       "</style>\n",
       "<table border=\"1\" class=\"dataframe\">\n",
       "  <thead>\n",
       "    <tr style=\"text-align: right;\">\n",
       "      <th></th>\n",
       "      <th>dir</th>\n",
       "      <th>rgb</th>\n",
       "      <th>lidar_prep</th>\n",
       "      <th>measurements</th>\n",
       "    </tr>\n",
       "  </thead>\n",
       "  <tbody>\n",
       "    <tr>\n",
       "      <th>110595</th>\n",
       "      <td>../../data/data/int_u_dataset_23_11/Routes_Sce...</td>\n",
       "      <td>0000.png</td>\n",
       "      <td>0000.png</td>\n",
       "      <td>0000.json</td>\n",
       "    </tr>\n",
       "    <tr>\n",
       "      <th>110596</th>\n",
       "      <td>../../data/data/int_u_dataset_23_11/Routes_Sce...</td>\n",
       "      <td>0001.png</td>\n",
       "      <td>0001.png</td>\n",
       "      <td>0001.json</td>\n",
       "    </tr>\n",
       "    <tr>\n",
       "      <th>110597</th>\n",
       "      <td>../../data/data/int_u_dataset_23_11/Routes_Sce...</td>\n",
       "      <td>0002.png</td>\n",
       "      <td>0002.png</td>\n",
       "      <td>0002.json</td>\n",
       "    </tr>\n",
       "    <tr>\n",
       "      <th>110598</th>\n",
       "      <td>../../data/data/int_u_dataset_23_11/Routes_Sce...</td>\n",
       "      <td>0003.png</td>\n",
       "      <td>0003.png</td>\n",
       "      <td>0003.json</td>\n",
       "    </tr>\n",
       "    <tr>\n",
       "      <th>110599</th>\n",
       "      <td>../../data/data/int_u_dataset_23_11/Routes_Sce...</td>\n",
       "      <td>0004.png</td>\n",
       "      <td>0004.png</td>\n",
       "      <td>0004.json</td>\n",
       "    </tr>\n",
       "    <tr>\n",
       "      <th>110600</th>\n",
       "      <td>../../data/data/int_u_dataset_23_11/Routes_Sce...</td>\n",
       "      <td>0005.png</td>\n",
       "      <td>0005.png</td>\n",
       "      <td>0005.json</td>\n",
       "    </tr>\n",
       "    <tr>\n",
       "      <th>110601</th>\n",
       "      <td>../../data/data/int_u_dataset_23_11/Routes_Sce...</td>\n",
       "      <td>0006.png</td>\n",
       "      <td>0006.png</td>\n",
       "      <td>0006.json</td>\n",
       "    </tr>\n",
       "    <tr>\n",
       "      <th>110602</th>\n",
       "      <td>../../data/data/int_u_dataset_23_11/Routes_Sce...</td>\n",
       "      <td>0007.png</td>\n",
       "      <td>0007.png</td>\n",
       "      <td>0007.json</td>\n",
       "    </tr>\n",
       "    <tr>\n",
       "      <th>110603</th>\n",
       "      <td>../../data/data/int_u_dataset_23_11/Routes_Sce...</td>\n",
       "      <td>0008.png</td>\n",
       "      <td>0008.png</td>\n",
       "      <td>0008.json</td>\n",
       "    </tr>\n",
       "    <tr>\n",
       "      <th>110604</th>\n",
       "      <td>../../data/data/int_u_dataset_23_11/Routes_Sce...</td>\n",
       "      <td>0009.png</td>\n",
       "      <td>0009.png</td>\n",
       "      <td>0009.json</td>\n",
       "    </tr>\n",
       "    <tr>\n",
       "      <th>110605</th>\n",
       "      <td>../../data/data/int_u_dataset_23_11/Routes_Sce...</td>\n",
       "      <td>0010.png</td>\n",
       "      <td>0010.png</td>\n",
       "      <td>0010.json</td>\n",
       "    </tr>\n",
       "    <tr>\n",
       "      <th>110606</th>\n",
       "      <td>../../data/data/int_u_dataset_23_11/Routes_Sce...</td>\n",
       "      <td>0011.png</td>\n",
       "      <td>0011.png</td>\n",
       "      <td>0011.json</td>\n",
       "    </tr>\n",
       "    <tr>\n",
       "      <th>110607</th>\n",
       "      <td>../../data/data/int_u_dataset_23_11/Routes_Sce...</td>\n",
       "      <td>0012.png</td>\n",
       "      <td>0012.png</td>\n",
       "      <td>0012.json</td>\n",
       "    </tr>\n",
       "    <tr>\n",
       "      <th>110608</th>\n",
       "      <td>../../data/data/int_u_dataset_23_11/Routes_Sce...</td>\n",
       "      <td>0013.png</td>\n",
       "      <td>0013.png</td>\n",
       "      <td>0013.json</td>\n",
       "    </tr>\n",
       "    <tr>\n",
       "      <th>110609</th>\n",
       "      <td>../../data/data/int_u_dataset_23_11/Routes_Sce...</td>\n",
       "      <td>0014.png</td>\n",
       "      <td>0014.png</td>\n",
       "      <td>0014.json</td>\n",
       "    </tr>\n",
       "    <tr>\n",
       "      <th>110610</th>\n",
       "      <td>../../data/data/int_u_dataset_23_11/Routes_Sce...</td>\n",
       "      <td>0015.png</td>\n",
       "      <td>0015.png</td>\n",
       "      <td>0015.json</td>\n",
       "    </tr>\n",
       "    <tr>\n",
       "      <th>110611</th>\n",
       "      <td>../../data/data/int_u_dataset_23_11/Routes_Sce...</td>\n",
       "      <td>0016.png</td>\n",
       "      <td>0016.png</td>\n",
       "      <td>0016.json</td>\n",
       "    </tr>\n",
       "    <tr>\n",
       "      <th>110612</th>\n",
       "      <td>../../data/data/int_u_dataset_23_11/Routes_Sce...</td>\n",
       "      <td>0017.png</td>\n",
       "      <td>0017.png</td>\n",
       "      <td>0017.json</td>\n",
       "    </tr>\n",
       "    <tr>\n",
       "      <th>110613</th>\n",
       "      <td>../../data/data/int_u_dataset_23_11/Routes_Sce...</td>\n",
       "      <td>0018.png</td>\n",
       "      <td>0018.png</td>\n",
       "      <td>0018.json</td>\n",
       "    </tr>\n",
       "    <tr>\n",
       "      <th>110614</th>\n",
       "      <td>../../data/data/int_u_dataset_23_11/Routes_Sce...</td>\n",
       "      <td>0019.png</td>\n",
       "      <td>0019.png</td>\n",
       "      <td>0019.json</td>\n",
       "    </tr>\n",
       "    <tr>\n",
       "      <th>110615</th>\n",
       "      <td>../../data/data/int_u_dataset_23_11/Routes_Sce...</td>\n",
       "      <td>0020.png</td>\n",
       "      <td>0020.png</td>\n",
       "      <td>0020.json</td>\n",
       "    </tr>\n",
       "    <tr>\n",
       "      <th>110616</th>\n",
       "      <td>../../data/data/int_u_dataset_23_11/Routes_Sce...</td>\n",
       "      <td>0021.png</td>\n",
       "      <td>0021.png</td>\n",
       "      <td>0021.json</td>\n",
       "    </tr>\n",
       "    <tr>\n",
       "      <th>110617</th>\n",
       "      <td>../../data/data/int_u_dataset_23_11/Routes_Sce...</td>\n",
       "      <td>0022.png</td>\n",
       "      <td>0022.png</td>\n",
       "      <td>0022.json</td>\n",
       "    </tr>\n",
       "    <tr>\n",
       "      <th>110618</th>\n",
       "      <td>../../data/data/int_u_dataset_23_11/Routes_Sce...</td>\n",
       "      <td>0023.png</td>\n",
       "      <td>0023.png</td>\n",
       "      <td>0023.json</td>\n",
       "    </tr>\n",
       "    <tr>\n",
       "      <th>110619</th>\n",
       "      <td>../../data/data/int_u_dataset_23_11/Routes_Sce...</td>\n",
       "      <td>0024.png</td>\n",
       "      <td>0024.png</td>\n",
       "      <td>0024.json</td>\n",
       "    </tr>\n",
       "    <tr>\n",
       "      <th>110620</th>\n",
       "      <td>../../data/data/int_u_dataset_23_11/Routes_Sce...</td>\n",
       "      <td>0025.png</td>\n",
       "      <td>0025.png</td>\n",
       "      <td>0025.json</td>\n",
       "    </tr>\n",
       "    <tr>\n",
       "      <th>110621</th>\n",
       "      <td>../../data/data/int_u_dataset_23_11/Routes_Sce...</td>\n",
       "      <td>0026.png</td>\n",
       "      <td>0026.png</td>\n",
       "      <td>0026.json</td>\n",
       "    </tr>\n",
       "    <tr>\n",
       "      <th>110622</th>\n",
       "      <td>../../data/data/int_u_dataset_23_11/Routes_Sce...</td>\n",
       "      <td>0027.png</td>\n",
       "      <td>0027.png</td>\n",
       "      <td>0027.json</td>\n",
       "    </tr>\n",
       "    <tr>\n",
       "      <th>110623</th>\n",
       "      <td>../../data/data/int_u_dataset_23_11/Routes_Sce...</td>\n",
       "      <td>0028.png</td>\n",
       "      <td>0028.png</td>\n",
       "      <td>0028.json</td>\n",
       "    </tr>\n",
       "    <tr>\n",
       "      <th>110624</th>\n",
       "      <td>../../data/data/int_u_dataset_23_11/Routes_Sce...</td>\n",
       "      <td>0029.png</td>\n",
       "      <td>0029.png</td>\n",
       "      <td>0029.json</td>\n",
       "    </tr>\n",
       "    <tr>\n",
       "      <th>110625</th>\n",
       "      <td>../../data/data/int_u_dataset_23_11/Routes_Sce...</td>\n",
       "      <td>0030.png</td>\n",
       "      <td>0030.png</td>\n",
       "      <td>0030.json</td>\n",
       "    </tr>\n",
       "    <tr>\n",
       "      <th>110626</th>\n",
       "      <td>../../data/data/int_u_dataset_23_11/Routes_Sce...</td>\n",
       "      <td>0031.png</td>\n",
       "      <td>0031.png</td>\n",
       "      <td>0031.json</td>\n",
       "    </tr>\n",
       "    <tr>\n",
       "      <th>110627</th>\n",
       "      <td>../../data/data/int_u_dataset_23_11/Routes_Sce...</td>\n",
       "      <td>0032.png</td>\n",
       "      <td>0032.png</td>\n",
       "      <td>0032.json</td>\n",
       "    </tr>\n",
       "    <tr>\n",
       "      <th>110628</th>\n",
       "      <td>../../data/data/int_u_dataset_23_11/Routes_Sce...</td>\n",
       "      <td>0033.png</td>\n",
       "      <td>0033.png</td>\n",
       "      <td>0033.json</td>\n",
       "    </tr>\n",
       "    <tr>\n",
       "      <th>110629</th>\n",
       "      <td>../../data/data/int_u_dataset_23_11/Routes_Sce...</td>\n",
       "      <td>0034.png</td>\n",
       "      <td>0034.png</td>\n",
       "      <td>0034.json</td>\n",
       "    </tr>\n",
       "    <tr>\n",
       "      <th>110630</th>\n",
       "      <td>../../data/data/int_u_dataset_23_11/Routes_Sce...</td>\n",
       "      <td>0035.png</td>\n",
       "      <td>0035.png</td>\n",
       "      <td>0035.json</td>\n",
       "    </tr>\n",
       "    <tr>\n",
       "      <th>110631</th>\n",
       "      <td>../../data/data/int_u_dataset_23_11/Routes_Sce...</td>\n",
       "      <td>0036.png</td>\n",
       "      <td>0036.png</td>\n",
       "      <td>0036.json</td>\n",
       "    </tr>\n",
       "    <tr>\n",
       "      <th>110632</th>\n",
       "      <td>../../data/data/int_u_dataset_23_11/Routes_Sce...</td>\n",
       "      <td>0037.png</td>\n",
       "      <td>0037.png</td>\n",
       "      <td>0037.json</td>\n",
       "    </tr>\n",
       "    <tr>\n",
       "      <th>110633</th>\n",
       "      <td>../../data/data/int_u_dataset_23_11/Routes_Sce...</td>\n",
       "      <td>0038.png</td>\n",
       "      <td>0038.png</td>\n",
       "      <td>0038.json</td>\n",
       "    </tr>\n",
       "    <tr>\n",
       "      <th>110634</th>\n",
       "      <td>../../data/data/int_u_dataset_23_11/Routes_Sce...</td>\n",
       "      <td>0039.png</td>\n",
       "      <td>0039.png</td>\n",
       "      <td>0039.json</td>\n",
       "    </tr>\n",
       "    <tr>\n",
       "      <th>110635</th>\n",
       "      <td>../../data/data/int_u_dataset_23_11/Routes_Sce...</td>\n",
       "      <td>0040.png</td>\n",
       "      <td>0040.png</td>\n",
       "      <td>0040.json</td>\n",
       "    </tr>\n",
       "    <tr>\n",
       "      <th>110636</th>\n",
       "      <td>../../data/data/int_u_dataset_23_11/Routes_Sce...</td>\n",
       "      <td>0041.png</td>\n",
       "      <td>0041.png</td>\n",
       "      <td>0041.json</td>\n",
       "    </tr>\n",
       "    <tr>\n",
       "      <th>110637</th>\n",
       "      <td>../../data/data/int_u_dataset_23_11/Routes_Sce...</td>\n",
       "      <td>0042.png</td>\n",
       "      <td>0042.png</td>\n",
       "      <td>0042.json</td>\n",
       "    </tr>\n",
       "    <tr>\n",
       "      <th>110638</th>\n",
       "      <td>../../data/data/int_u_dataset_23_11/Routes_Sce...</td>\n",
       "      <td>0043.png</td>\n",
       "      <td>0043.png</td>\n",
       "      <td>0043.json</td>\n",
       "    </tr>\n",
       "    <tr>\n",
       "      <th>110639</th>\n",
       "      <td>../../data/data/int_u_dataset_23_11/Routes_Sce...</td>\n",
       "      <td>0044.png</td>\n",
       "      <td>0044.png</td>\n",
       "      <td>0044.json</td>\n",
       "    </tr>\n",
       "    <tr>\n",
       "      <th>110640</th>\n",
       "      <td>../../data/data/int_u_dataset_23_11/Routes_Sce...</td>\n",
       "      <td>0045.png</td>\n",
       "      <td>0045.png</td>\n",
       "      <td>0045.json</td>\n",
       "    </tr>\n",
       "    <tr>\n",
       "      <th>110641</th>\n",
       "      <td>../../data/data/int_u_dataset_23_11/Routes_Sce...</td>\n",
       "      <td>0046.png</td>\n",
       "      <td>0046.png</td>\n",
       "      <td>0046.json</td>\n",
       "    </tr>\n",
       "    <tr>\n",
       "      <th>110642</th>\n",
       "      <td>../../data/data/int_u_dataset_23_11/Routes_Sce...</td>\n",
       "      <td>0047.png</td>\n",
       "      <td>0047.png</td>\n",
       "      <td>0047.json</td>\n",
       "    </tr>\n",
       "    <tr>\n",
       "      <th>110643</th>\n",
       "      <td>../../data/data/int_u_dataset_23_11/Routes_Sce...</td>\n",
       "      <td>0048.png</td>\n",
       "      <td>0048.png</td>\n",
       "      <td>0048.json</td>\n",
       "    </tr>\n",
       "    <tr>\n",
       "      <th>110644</th>\n",
       "      <td>../../data/data/int_u_dataset_23_11/Routes_Sce...</td>\n",
       "      <td>0049.png</td>\n",
       "      <td>0049.png</td>\n",
       "      <td>0049.json</td>\n",
       "    </tr>\n",
       "  </tbody>\n",
       "</table>\n",
       "</div>"
      ],
      "text/plain": [
       "                                                      dir       rgb  \\\n",
       "110595  ../../data/data/int_u_dataset_23_11/Routes_Sce...  0000.png   \n",
       "110596  ../../data/data/int_u_dataset_23_11/Routes_Sce...  0001.png   \n",
       "110597  ../../data/data/int_u_dataset_23_11/Routes_Sce...  0002.png   \n",
       "110598  ../../data/data/int_u_dataset_23_11/Routes_Sce...  0003.png   \n",
       "110599  ../../data/data/int_u_dataset_23_11/Routes_Sce...  0004.png   \n",
       "110600  ../../data/data/int_u_dataset_23_11/Routes_Sce...  0005.png   \n",
       "110601  ../../data/data/int_u_dataset_23_11/Routes_Sce...  0006.png   \n",
       "110602  ../../data/data/int_u_dataset_23_11/Routes_Sce...  0007.png   \n",
       "110603  ../../data/data/int_u_dataset_23_11/Routes_Sce...  0008.png   \n",
       "110604  ../../data/data/int_u_dataset_23_11/Routes_Sce...  0009.png   \n",
       "110605  ../../data/data/int_u_dataset_23_11/Routes_Sce...  0010.png   \n",
       "110606  ../../data/data/int_u_dataset_23_11/Routes_Sce...  0011.png   \n",
       "110607  ../../data/data/int_u_dataset_23_11/Routes_Sce...  0012.png   \n",
       "110608  ../../data/data/int_u_dataset_23_11/Routes_Sce...  0013.png   \n",
       "110609  ../../data/data/int_u_dataset_23_11/Routes_Sce...  0014.png   \n",
       "110610  ../../data/data/int_u_dataset_23_11/Routes_Sce...  0015.png   \n",
       "110611  ../../data/data/int_u_dataset_23_11/Routes_Sce...  0016.png   \n",
       "110612  ../../data/data/int_u_dataset_23_11/Routes_Sce...  0017.png   \n",
       "110613  ../../data/data/int_u_dataset_23_11/Routes_Sce...  0018.png   \n",
       "110614  ../../data/data/int_u_dataset_23_11/Routes_Sce...  0019.png   \n",
       "110615  ../../data/data/int_u_dataset_23_11/Routes_Sce...  0020.png   \n",
       "110616  ../../data/data/int_u_dataset_23_11/Routes_Sce...  0021.png   \n",
       "110617  ../../data/data/int_u_dataset_23_11/Routes_Sce...  0022.png   \n",
       "110618  ../../data/data/int_u_dataset_23_11/Routes_Sce...  0023.png   \n",
       "110619  ../../data/data/int_u_dataset_23_11/Routes_Sce...  0024.png   \n",
       "110620  ../../data/data/int_u_dataset_23_11/Routes_Sce...  0025.png   \n",
       "110621  ../../data/data/int_u_dataset_23_11/Routes_Sce...  0026.png   \n",
       "110622  ../../data/data/int_u_dataset_23_11/Routes_Sce...  0027.png   \n",
       "110623  ../../data/data/int_u_dataset_23_11/Routes_Sce...  0028.png   \n",
       "110624  ../../data/data/int_u_dataset_23_11/Routes_Sce...  0029.png   \n",
       "110625  ../../data/data/int_u_dataset_23_11/Routes_Sce...  0030.png   \n",
       "110626  ../../data/data/int_u_dataset_23_11/Routes_Sce...  0031.png   \n",
       "110627  ../../data/data/int_u_dataset_23_11/Routes_Sce...  0032.png   \n",
       "110628  ../../data/data/int_u_dataset_23_11/Routes_Sce...  0033.png   \n",
       "110629  ../../data/data/int_u_dataset_23_11/Routes_Sce...  0034.png   \n",
       "110630  ../../data/data/int_u_dataset_23_11/Routes_Sce...  0035.png   \n",
       "110631  ../../data/data/int_u_dataset_23_11/Routes_Sce...  0036.png   \n",
       "110632  ../../data/data/int_u_dataset_23_11/Routes_Sce...  0037.png   \n",
       "110633  ../../data/data/int_u_dataset_23_11/Routes_Sce...  0038.png   \n",
       "110634  ../../data/data/int_u_dataset_23_11/Routes_Sce...  0039.png   \n",
       "110635  ../../data/data/int_u_dataset_23_11/Routes_Sce...  0040.png   \n",
       "110636  ../../data/data/int_u_dataset_23_11/Routes_Sce...  0041.png   \n",
       "110637  ../../data/data/int_u_dataset_23_11/Routes_Sce...  0042.png   \n",
       "110638  ../../data/data/int_u_dataset_23_11/Routes_Sce...  0043.png   \n",
       "110639  ../../data/data/int_u_dataset_23_11/Routes_Sce...  0044.png   \n",
       "110640  ../../data/data/int_u_dataset_23_11/Routes_Sce...  0045.png   \n",
       "110641  ../../data/data/int_u_dataset_23_11/Routes_Sce...  0046.png   \n",
       "110642  ../../data/data/int_u_dataset_23_11/Routes_Sce...  0047.png   \n",
       "110643  ../../data/data/int_u_dataset_23_11/Routes_Sce...  0048.png   \n",
       "110644  ../../data/data/int_u_dataset_23_11/Routes_Sce...  0049.png   \n",
       "\n",
       "       lidar_prep measurements  \n",
       "110595   0000.png    0000.json  \n",
       "110596   0001.png    0001.json  \n",
       "110597   0002.png    0002.json  \n",
       "110598   0003.png    0003.json  \n",
       "110599   0004.png    0004.json  \n",
       "110600   0005.png    0005.json  \n",
       "110601   0006.png    0006.json  \n",
       "110602   0007.png    0007.json  \n",
       "110603   0008.png    0008.json  \n",
       "110604   0009.png    0009.json  \n",
       "110605   0010.png    0010.json  \n",
       "110606   0011.png    0011.json  \n",
       "110607   0012.png    0012.json  \n",
       "110608   0013.png    0013.json  \n",
       "110609   0014.png    0014.json  \n",
       "110610   0015.png    0015.json  \n",
       "110611   0016.png    0016.json  \n",
       "110612   0017.png    0017.json  \n",
       "110613   0018.png    0018.json  \n",
       "110614   0019.png    0019.json  \n",
       "110615   0020.png    0020.json  \n",
       "110616   0021.png    0021.json  \n",
       "110617   0022.png    0022.json  \n",
       "110618   0023.png    0023.json  \n",
       "110619   0024.png    0024.json  \n",
       "110620   0025.png    0025.json  \n",
       "110621   0026.png    0026.json  \n",
       "110622   0027.png    0027.json  \n",
       "110623   0028.png    0028.json  \n",
       "110624   0029.png    0029.json  \n",
       "110625   0030.png    0030.json  \n",
       "110626   0031.png    0031.json  \n",
       "110627   0032.png    0032.json  \n",
       "110628   0033.png    0033.json  \n",
       "110629   0034.png    0034.json  \n",
       "110630   0035.png    0035.json  \n",
       "110631   0036.png    0036.json  \n",
       "110632   0037.png    0037.json  \n",
       "110633   0038.png    0038.json  \n",
       "110634   0039.png    0039.json  \n",
       "110635   0040.png    0040.json  \n",
       "110636   0041.png    0041.json  \n",
       "110637   0042.png    0042.json  \n",
       "110638   0043.png    0043.json  \n",
       "110639   0044.png    0044.json  \n",
       "110640   0045.png    0045.json  \n",
       "110641   0046.png    0046.json  \n",
       "110642   0047.png    0047.json  \n",
       "110643   0048.png    0048.json  \n",
       "110644   0049.png    0049.json  "
      ]
     },
     "execution_count": 38,
     "metadata": {},
     "output_type": "execute_result"
    }
   ],
   "source": [
    "df_meta_data[df_meta_data[\"dir\"] == route_rand]"
   ]
  },
  {
   "cell_type": "code",
   "execution_count": 34,
   "metadata": {},
   "outputs": [
    {
     "data": {
      "text/plain": [
       "'../../data/data/int_u_dataset_23_11/Routes_Scenenario10_routes_Town04_junction_Seed6000/Scenenario10_routes_Town04_junction_route27_11_23_23_10_45'"
      ]
     },
     "execution_count": 34,
     "metadata": {},
     "output_type": "execute_result"
    }
   ],
   "source": [
    "route_rand[119107]\n"
   ]
  },
  {
   "cell_type": "code",
   "execution_count": 23,
   "metadata": {},
   "outputs": [
    {
     "data": {
      "text/plain": [
       "'../../data/data/cycl_dataset_23_11/Routes_non-straight-junction-Scen4_Town07_junction_Seed2000/non-straight-junction-Scen4_Town07_junction_route28_11_23_22_00_23'"
      ]
     },
     "execution_count": 23,
     "metadata": {},
     "output_type": "execute_result"
    }
   ],
   "source": [
    "df_meta_data[\"dir\"][0]"
   ]
  },
  {
   "cell_type": "code",
   "execution_count": 45,
   "metadata": {},
   "outputs": [],
   "source": [
    "def render_example_video_from_folder_name(df_meta_data, folder=\"int_u_dataset_23_11\"):\n",
    "    route_rand = df_meta_data[df_meta_data[\"dir\"].str.contains(\"int_u_dataset_23_11\")].sample(1)[\"dir\"].iloc[0]\n",
    "    df_meta_data_filt = df_meta_data[df_meta_data[\"dir\"] == route_rand]\n",
    "\n",
    "    frameSize = (160, 960)\n",
    "    fourcc = cv2.VideoWriter_fourcc(*'MP4V')\n",
    "    out = cv2.VideoWriter(f'{folder}.mp4', fourcc, 2, frameSize) #  cv2.VideoWriter_fourcc(*'DIVX')\n",
    "\n",
    "    for idx in df_meta_data_filt.index.values:\n",
    "        path_load = os.path.join(df_meta_data_filt[\"dir\"][idx], \"rgb\", df_meta_data_filt[\"rgb\"][idx])\n",
    "        img = cv2.imread(path_load)\n",
    "        out.write(img)\n",
    "    out.release()"
   ]
  },
  {
   "cell_type": "code",
   "execution_count": 46,
   "metadata": {},
   "outputs": [],
   "source": [
    "render_example_video_from_folder_name(df_meta_data, folder=\"int_u_dataset_23_11\")"
   ]
  },
  {
   "attachments": {},
   "cell_type": "markdown",
   "metadata": {},
   "source": [
    "# Split"
   ]
  },
  {
   "cell_type": "code",
   "execution_count": 2,
   "metadata": {},
   "outputs": [],
   "source": [
    "def train_test_split(df_meta_data, towns=None, train_size_random=0.8, seed=None):\n",
    "    df_meta_data = df_meta_data.sort_values(by=df_meta_data.columns.values[:2].tolist())\n",
    "    if towns:\n",
    "        df_train = df_meta_data[df_meta_data[\"dir\"].str.contains(\"|\".join(towns[\"train\"]))]\n",
    "        df_test = df_meta_data[df_meta_data[\"dir\"].str.contains(\"|\".join(towns[\"test\"]))]\n",
    "    return df_train, df_test"
   ]
  },
  {
   "cell_type": "code",
   "execution_count": 16,
   "metadata": {},
   "outputs": [],
   "source": [
    "df_meta_data = df_meta_data.sort_values(by=df_meta_data.columns.values[:2].tolist())"
   ]
  },
  {
   "cell_type": "code",
   "execution_count": 51,
   "metadata": {},
   "outputs": [
    {
     "data": {
      "text/plain": [
       "258816"
      ]
     },
     "execution_count": 51,
     "metadata": {},
     "output_type": "execute_result"
    }
   ],
   "source": [
    "len(df_meta_data)"
   ]
  },
  {
   "cell_type": "code",
   "execution_count": null,
   "metadata": {},
   "outputs": [],
   "source": []
  },
  {
   "cell_type": "code",
   "execution_count": 66,
   "metadata": {},
   "outputs": [],
   "source": [
    "df_train = df_meta_data[df_meta_data[\"dir\"].str.contains(\"|\".join([\"Town01\", \"Town02\", \"Town03\", \"Town04\", \"Town05\", \"Town07\", \"Town08\", \"Town09\", \"Town10\"]))]\n",
    "df_test = df_meta_data[df_meta_data[\"dir\"].str.contains(\"|\".join([\"Town06\"]))]"
   ]
  },
  {
   "cell_type": "code",
   "execution_count": 74,
   "metadata": {},
   "outputs": [
    {
     "data": {
      "text/plain": [
       "258816"
      ]
     },
     "execution_count": 74,
     "metadata": {},
     "output_type": "execute_result"
    }
   ],
   "source": [
    "len_total = len(df_train) + len(df_test)\n",
    "len_total"
   ]
  },
  {
   "cell_type": "code",
   "execution_count": 73,
   "metadata": {},
   "outputs": [
    {
     "data": {
      "text/plain": [
       "0.13899836177052424"
      ]
     },
     "execution_count": 73,
     "metadata": {},
     "output_type": "execute_result"
    }
   ],
   "source": [
    "ratio_test = len(df_test) / len_total\n",
    "ratio_test"
   ]
  },
  {
   "cell_type": "code",
   "execution_count": 69,
   "metadata": {},
   "outputs": [
    {
     "data": {
      "text/html": [
       "<div>\n",
       "<style scoped>\n",
       "    .dataframe tbody tr th:only-of-type {\n",
       "        vertical-align: middle;\n",
       "    }\n",
       "\n",
       "    .dataframe tbody tr th {\n",
       "        vertical-align: top;\n",
       "    }\n",
       "\n",
       "    .dataframe thead th {\n",
       "        text-align: right;\n",
       "    }\n",
       "</style>\n",
       "<table border=\"1\" class=\"dataframe\">\n",
       "  <thead>\n",
       "    <tr style=\"text-align: right;\">\n",
       "      <th></th>\n",
       "      <th>dir</th>\n",
       "      <th>rgb</th>\n",
       "      <th>lidar_prep</th>\n",
       "      <th>measurements</th>\n",
       "    </tr>\n",
       "  </thead>\n",
       "  <tbody>\n",
       "    <tr>\n",
       "      <th>9805</th>\n",
       "      <td>../../data/data/cycl_dataset_23_11/Routes_non-...</td>\n",
       "      <td>0000.png</td>\n",
       "      <td>0000.png</td>\n",
       "      <td>0000.json</td>\n",
       "    </tr>\n",
       "    <tr>\n",
       "      <th>9806</th>\n",
       "      <td>../../data/data/cycl_dataset_23_11/Routes_non-...</td>\n",
       "      <td>0001.png</td>\n",
       "      <td>0001.png</td>\n",
       "      <td>0001.json</td>\n",
       "    </tr>\n",
       "    <tr>\n",
       "      <th>9807</th>\n",
       "      <td>../../data/data/cycl_dataset_23_11/Routes_non-...</td>\n",
       "      <td>0002.png</td>\n",
       "      <td>0002.png</td>\n",
       "      <td>0002.json</td>\n",
       "    </tr>\n",
       "    <tr>\n",
       "      <th>9808</th>\n",
       "      <td>../../data/data/cycl_dataset_23_11/Routes_non-...</td>\n",
       "      <td>0003.png</td>\n",
       "      <td>0003.png</td>\n",
       "      <td>0003.json</td>\n",
       "    </tr>\n",
       "    <tr>\n",
       "      <th>9809</th>\n",
       "      <td>../../data/data/cycl_dataset_23_11/Routes_non-...</td>\n",
       "      <td>0004.png</td>\n",
       "      <td>0004.png</td>\n",
       "      <td>0004.json</td>\n",
       "    </tr>\n",
       "    <tr>\n",
       "      <th>...</th>\n",
       "      <td>...</td>\n",
       "      <td>...</td>\n",
       "      <td>...</td>\n",
       "      <td>...</td>\n",
       "    </tr>\n",
       "    <tr>\n",
       "      <th>257906</th>\n",
       "      <td>../../data/data/dirt_dataset_23_11/Routes_Scen...</td>\n",
       "      <td>0056.png</td>\n",
       "      <td>0056.png</td>\n",
       "      <td>0056.json</td>\n",
       "    </tr>\n",
       "    <tr>\n",
       "      <th>257907</th>\n",
       "      <td>../../data/data/dirt_dataset_23_11/Routes_Scen...</td>\n",
       "      <td>0057.png</td>\n",
       "      <td>0057.png</td>\n",
       "      <td>0057.json</td>\n",
       "    </tr>\n",
       "    <tr>\n",
       "      <th>257908</th>\n",
       "      <td>../../data/data/dirt_dataset_23_11/Routes_Scen...</td>\n",
       "      <td>0058.png</td>\n",
       "      <td>0058.png</td>\n",
       "      <td>0058.json</td>\n",
       "    </tr>\n",
       "    <tr>\n",
       "      <th>257909</th>\n",
       "      <td>../../data/data/dirt_dataset_23_11/Routes_Scen...</td>\n",
       "      <td>0059.png</td>\n",
       "      <td>0059.png</td>\n",
       "      <td>0059.json</td>\n",
       "    </tr>\n",
       "    <tr>\n",
       "      <th>257910</th>\n",
       "      <td>../../data/data/dirt_dataset_23_11/Routes_Scen...</td>\n",
       "      <td>0060.png</td>\n",
       "      <td>0060.png</td>\n",
       "      <td>0060.json</td>\n",
       "    </tr>\n",
       "  </tbody>\n",
       "</table>\n",
       "<p>35975 rows × 4 columns</p>\n",
       "</div>"
      ],
      "text/plain": [
       "                                                      dir       rgb  \\\n",
       "9805    ../../data/data/cycl_dataset_23_11/Routes_non-...  0000.png   \n",
       "9806    ../../data/data/cycl_dataset_23_11/Routes_non-...  0001.png   \n",
       "9807    ../../data/data/cycl_dataset_23_11/Routes_non-...  0002.png   \n",
       "9808    ../../data/data/cycl_dataset_23_11/Routes_non-...  0003.png   \n",
       "9809    ../../data/data/cycl_dataset_23_11/Routes_non-...  0004.png   \n",
       "...                                                   ...       ...   \n",
       "257906  ../../data/data/dirt_dataset_23_11/Routes_Scen...  0056.png   \n",
       "257907  ../../data/data/dirt_dataset_23_11/Routes_Scen...  0057.png   \n",
       "257908  ../../data/data/dirt_dataset_23_11/Routes_Scen...  0058.png   \n",
       "257909  ../../data/data/dirt_dataset_23_11/Routes_Scen...  0059.png   \n",
       "257910  ../../data/data/dirt_dataset_23_11/Routes_Scen...  0060.png   \n",
       "\n",
       "       lidar_prep measurements  \n",
       "9805     0000.png    0000.json  \n",
       "9806     0001.png    0001.json  \n",
       "9807     0002.png    0002.json  \n",
       "9808     0003.png    0003.json  \n",
       "9809     0004.png    0004.json  \n",
       "...           ...          ...  \n",
       "257906   0056.png    0056.json  \n",
       "257907   0057.png    0057.json  \n",
       "257908   0058.png    0058.json  \n",
       "257909   0059.png    0059.json  \n",
       "257910   0060.png    0060.json  \n",
       "\n",
       "[35975 rows x 4 columns]"
      ]
     },
     "execution_count": 69,
     "metadata": {},
     "output_type": "execute_result"
    }
   ],
   "source": [
    "df_test"
   ]
  },
  {
   "cell_type": "code",
   "execution_count": 70,
   "metadata": {},
   "outputs": [
    {
     "data": {
      "text/plain": [
       "15788.200000000004"
      ]
     },
     "execution_count": 70,
     "metadata": {},
     "output_type": "execute_result"
    }
   ],
   "source": [
    "# number additional samples needed for df_test to be 20%\n",
    "num_add_needed = 0.2 * len_total - len(df_test)\n",
    "num_add_needed"
   ]
  },
  {
   "cell_type": "code",
   "execution_count": null,
   "metadata": {},
   "outputs": [],
   "source": [
    "# TODO: calculate num_add_needed"
   ]
  },
  {
   "cell_type": "code",
   "execution_count": 71,
   "metadata": {},
   "outputs": [],
   "source": [
    "df_test_additional = pd.concat([df_train, df_train.sample(int(num_add_needed))])"
   ]
  },
  {
   "cell_type": "code",
   "execution_count": 72,
   "metadata": {},
   "outputs": [
    {
     "data": {
      "text/plain": [
       "0.5171062040869395"
      ]
     },
     "execution_count": 72,
     "metadata": {},
     "output_type": "execute_result"
    }
   ],
   "source": [
    "len(df_test_additional) / (len(df_train) + len(df_test_additional))"
   ]
  },
  {
   "attachments": {},
   "cell_type": "markdown",
   "metadata": {},
   "source": [
    "# Check distributions"
   ]
  },
  {
   "cell_type": "code",
   "execution_count": 76,
   "metadata": {},
   "outputs": [],
   "source": []
  },
  {
   "cell_type": "code",
   "execution_count": null,
   "metadata": {},
   "outputs": [],
   "source": []
  }
 ],
 "metadata": {
  "kernelspec": {
   "display_name": "carla",
   "language": "python",
   "name": "python3"
  },
  "language_info": {
   "codemirror_mode": {
    "name": "ipython",
    "version": 3
   },
   "file_extension": ".py",
   "mimetype": "text/x-python",
   "name": "python",
   "nbconvert_exporter": "python",
   "pygments_lexer": "ipython3",
   "version": "3.8.13"
  },
  "orig_nbformat": 4,
  "vscode": {
   "interpreter": {
    "hash": "bc80d0638afb8ec7c43f4b834002a598fcddbd6e8bf5db40ad8cba47e68e6a97"
   }
  }
 },
 "nbformat": 4,
 "nbformat_minor": 2
}
