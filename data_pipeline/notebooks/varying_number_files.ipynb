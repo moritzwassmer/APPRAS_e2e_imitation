{
 "cells": [
  {
   "cell_type": "code",
   "execution_count": 42,
   "metadata": {},
   "outputs": [],
   "source": [
    "import sys\n",
    "import os\n",
    "from torch.utils.data import DataLoader\n",
    "sys.path.append(\"..\")\n",
    "from tqdm import tqdm\n",
    "import shutil\n",
    "import torch\n",
    "import numpy as np\n",
    "\n",
    "from utils import train_test_split, create_metadata_df\n",
    "from dataset_xy import CARLADatasetXY\n",
    "from dataset import CARLADataset\n",
    "from data_preprocessing import preprocessing, transform_lidar_bev\n",
    "\n",
    "from PIL import Image"
   ]
  },
  {
   "cell_type": "code",
   "execution_count": 43,
   "metadata": {},
   "outputs": [],
   "source": [
    "path_data = os.path.join(\"..\", \"..\", \"data\", \"data\")\n",
    "# path_data = \"../../data/data/cycl_dataset_23_11/Routes_non-straight-junction-Scen4_Town07_junction_Seed2000/non-straight-junction-Scen4_Town07_junction_route74_11_24_00_29_14\"\n",
    "# path_data = os.path.join(\"..\", \"..\", \"data\", \"data\", \"rr_dataset_23_11\")\n",
    "#path_data = os.path.join(\"..\", \"..\", \"data\", \"data_prep_npy\")\n",
    "\n",
    "config_xy = {\"used_inputs\": [\"rgb\", \"lidar_prep\", \"measurements\"], \n",
    "        \"used_measurements\": [\"speed\", \"steer\", \"throttle\", \"brake\", \"command\"],\n",
    "        \"y\": [\"brake\", \"steer\", \"throttle\"],\n",
    "        \"seq_len\": 1\n",
    "        }\n",
    "\n",
    "# Create df_meta \n",
    "df_meta_data = create_metadata_df(path_data, config_xy[\"used_inputs\"])\n",
    "\n",
    "# Create Dataset & DataLoader\n",
    "dataset_rgb = CARLADatasetXY(root_dir=path_data, df_meta_data=df_meta_data, config=config_xy)"
   ]
  },
  {
   "cell_type": "code",
   "execution_count": 16,
   "metadata": {},
   "outputs": [
    {
     "data": {
      "text/plain": [
       "dir                0\n",
       "rgb                0\n",
       "rgb_prep        6197\n",
       "lidar_prep         0\n",
       "measurements       0\n",
       "dtype: int64"
      ]
     },
     "execution_count": 16,
     "metadata": {},
     "output_type": "execute_result"
    }
   ],
   "source": [
    "df_meta_data.isna().sum()"
   ]
  },
  {
   "cell_type": "code",
   "execution_count": 11,
   "metadata": {},
   "outputs": [],
   "source": [
    "def check_if_in_every_folder_is_same_number_of_input_folders(path_data, num_expected=5):\n",
    "    sus_paths = []\n",
    "    for (root, dirs, files) in os.walk(path_data, topdown=True):\n",
    "    \n",
    "        # Current folder contains the files\n",
    "        if not dirs:\n",
    "            folder, input = os.path.split(root)\n",
    "            potential_inputs = os.listdir(folder)\n",
    "            potential_inputs = [input for input in potential_inputs if os.path.isdir(os.path.join(folder, input))]\n",
    "            if len(potential_inputs) != num_expected:\n",
    "                sus_paths.append(folder)\n",
    "    return sus_paths"
   ]
  },
  {
   "cell_type": "code",
   "execution_count": 18,
   "metadata": {},
   "outputs": [
    {
     "data": {
      "text/plain": [
       "0"
      ]
     },
     "execution_count": 18,
     "metadata": {},
     "output_type": "execute_result"
    }
   ],
   "source": [
    "sus_paths = check_if_in_every_folder_is_same_number_of_input_folders(path_data, num_expected=5)\n",
    "len(sus_paths)"
   ]
  },
  {
   "cell_type": "code",
   "execution_count": 21,
   "metadata": {},
   "outputs": [
    {
     "data": {
      "text/plain": [
       "<bound method Series.unique of 1678      ../../data/data/cycl_dataset_23_11/Routes_non-...\n",
       "1679      ../../data/data/cycl_dataset_23_11/Routes_non-...\n",
       "1680      ../../data/data/cycl_dataset_23_11/Routes_non-...\n",
       "1681      ../../data/data/cycl_dataset_23_11/Routes_non-...\n",
       "1682      ../../data/data/cycl_dataset_23_11/Routes_non-...\n",
       "                                ...                        \n",
       "256120    ../../data/data/dirt_dataset_23_11/Routes_Scen...\n",
       "256121    ../../data/data/dirt_dataset_23_11/Routes_Scen...\n",
       "256122    ../../data/data/dirt_dataset_23_11/Routes_Scen...\n",
       "256123    ../../data/data/dirt_dataset_23_11/Routes_Scen...\n",
       "256124    ../../data/data/dirt_dataset_23_11/Routes_Scen...\n",
       "Name: dir, Length: 6197, dtype: object>"
      ]
     },
     "execution_count": 21,
     "metadata": {},
     "output_type": "execute_result"
    }
   ],
   "source": [
    "df_meta_data[df_meta_data[\"rgb_prep\"].isna()][\"dir\"].unique"
   ]
  },
  {
   "cell_type": "code",
   "execution_count": null,
   "metadata": {},
   "outputs": [],
   "source": [
    "df_meta_data[df_meta_data[\"rgb_prep\"].isna()][\"dir\"].unique()"
   ]
  },
  {
   "cell_type": "code",
   "execution_count": 38,
   "metadata": {},
   "outputs": [
    {
     "data": {
      "text/plain": [
       "206"
      ]
     },
     "execution_count": 38,
     "metadata": {},
     "output_type": "execute_result"
    }
   ],
   "source": [
    "len(os.listdir('../../data/data/cycl_dataset_23_11/Routes_non-straight-junction-Scen4_Town07_junction_Seed2000/non-straight-junction-Scen4_Town07_junction_route89_11_24_01_07_09/rgb'))"
   ]
  },
  {
   "cell_type": "code",
   "execution_count": 40,
   "metadata": {},
   "outputs": [],
   "source": [
    "files_prob = sorted(os.listdir('../../data/data/cycl_dataset_23_11/Routes_non-straight-junction-Scen4_Town07_junction_Seed2000/non-straight-junction-Scen4_Town07_junction_route89_11_24_01_07_09/rgb_prep'))"
   ]
  },
  {
   "cell_type": "code",
   "execution_count": 41,
   "metadata": {},
   "outputs": [
    {
     "data": {
      "text/plain": [
       "['0110.npz']"
      ]
     },
     "execution_count": 41,
     "metadata": {},
     "output_type": "execute_result"
    }
   ],
   "source": [
    "# Problem found: for some files .npz and .npy are saved --> this makes the difference between the number of files\n",
    "# Solution: delete entire rgb_prep (I don't need it anyways at the moment)\n",
    "[file for file in files_prob if file.endswith(\"npz\")]"
   ]
  },
  {
   "cell_type": "code",
   "execution_count": null,
   "metadata": {},
   "outputs": [],
   "source": []
  }
 ],
 "metadata": {
  "kernelspec": {
   "display_name": "carla",
   "language": "python",
   "name": "python3"
  },
  "language_info": {
   "codemirror_mode": {
    "name": "ipython",
    "version": 3
   },
   "file_extension": ".py",
   "mimetype": "text/x-python",
   "name": "python",
   "nbconvert_exporter": "python",
   "pygments_lexer": "ipython3",
   "version": "3.8.13"
  },
  "orig_nbformat": 4,
  "vscode": {
   "interpreter": {
    "hash": "bc80d0638afb8ec7c43f4b834002a598fcddbd6e8bf5db40ad8cba47e68e6a97"
   }
  }
 },
 "nbformat": 4,
 "nbformat_minor": 2
}
