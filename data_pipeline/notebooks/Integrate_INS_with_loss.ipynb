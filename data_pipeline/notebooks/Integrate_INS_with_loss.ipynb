{
 "cells": [
  {
   "cell_type": "code",
   "execution_count": 5,
   "metadata": {},
   "outputs": [],
   "source": [
    "#data stuff\n",
    "import sys\n",
    "import os\n",
    "from torch.utils.data import DataLoader\n",
    "sys.path.append(\"..\")\n",
    "from tqdm import tqdm\n",
    "import shutil\n",
    "import torch\n",
    "import numpy as np\n",
    "import pandas as pd\n",
    "\n",
    "from utils import train_test_split, create_metadata_df\n",
    "from dataset_xy import CARLADatasetXY\n",
    "from data_preprocessing import preprocessing\n",
    "import json\n",
    "from send2trash import send2trash\n",
    "\n",
    "# MODEL STUFF\n",
    "import torch\n",
    "import torch.nn as nn\n",
    "import torch.optim as optim\n",
    "#import torch.nn.functional as F\n",
    "import torchvision\n",
    "from torchvision import *\n",
    "from torch.utils.data import Dataset, DataLoader\n",
    "from PIL import Image\n",
    "from torchvision import transforms\n",
    "\n",
    "# GENERAL STUFF\n",
    "import time\n",
    "import copy\n",
    "from tqdm import tqdm"
   ]
  },
  {
   "cell_type": "code",
   "execution_count": 6,
   "metadata": {},
   "outputs": [],
   "source": [
    "class MyResnet(nn.Module):\n",
    "    \n",
    "    def __init__(self):\n",
    "        super().__init__()\n",
    "\n",
    "        \n",
    "        # ResNet Architecture with pretrained weights, also bigger resnets available\n",
    "        self.net = torchvision.models.resnet18(pretrained=True) # weights=True\n",
    "        num_ftrs = self.net.fc.in_features\n",
    "\n",
    "        # Top layer of ResNet which you can modify. We choose Identity to use it as Input for all the heads\n",
    "        self.net.fc = nn.Identity()\n",
    "        \n",
    "        self.cmd_input = nn.Sequential(\n",
    "            nn.Linear(7, 7),\n",
    "            nn.LeakyReLU() # TODO\n",
    "        )\n",
    "        \n",
    "        self.spd_input = nn.Sequential(\n",
    "            nn.Linear(1, 1),\n",
    "            nn.LeakyReLU() # TODO\n",
    "        )\n",
    "        self.thr_head = nn.Sequential(\n",
    "            nn.Linear(num_ftrs+8, 1),\n",
    "            nn.Sigmoid() # [0,1] Range Output\n",
    "        )\n",
    "        \n",
    "        self.brk_head = nn.Sequential(\n",
    "            nn.Linear(num_ftrs+8, 1),\n",
    "            nn.Sigmoid() # [0,1] Range Output\n",
    "        )\n",
    "        \n",
    "        self.str_head = nn.Sequential(\n",
    "            nn.Linear(num_ftrs+8, 1),\n",
    "            nn.Tanh() # [-1,1] Range Output\n",
    "        )\n",
    "    def forward(self, rgb, cmd, spd):\n",
    "        rgb = self.net(rgb) # BRG\n",
    "        cmd = self.cmd_input(cmd)\n",
    "        spd = self.spd_input(spd)\n",
    "\n",
    "        x = torch.cat((rgb, cmd, spd),1)\n",
    "\n",
    "        #x = self.net.fc(x)\n",
    "        return self.thr_head(x), self.str_head(x), self.brk_head(x) "
   ]
  },
  {
   "cell_type": "code",
   "execution_count": 7,
   "metadata": {},
   "outputs": [],
   "source": [
    "path_data = os.path.join(\"..\", \"..\", \"data\", \"data\")\n",
    "\n",
    "config_xy = {\"used_inputs\": [\"rgb\", \"measurements\"], \n",
    "        \"used_measurements\": [\"speed\", \"steer\", \"throttle\", \"brake\", \"command\"],\n",
    "        \"y\": [\"brake\", \"steer\", \"throttle\"],\n",
    "        \"seq_len\": 1\n",
    "        }\n",
    "\n",
    "df_meta_data = pd.read_json(\"df_meta_data.json\")\n"
   ]
  },
  {
   "cell_type": "code",
   "execution_count": 8,
   "metadata": {},
   "outputs": [],
   "source": [
    "df_measurements = pd.read_json(\"df_measurements.json\")"
   ]
  },
  {
   "cell_type": "code",
   "execution_count": 10,
   "metadata": {},
   "outputs": [
    {
     "name": "stdout",
     "output_type": "stream",
     "text": [
      "Index(['dir', 'speed', 'command', 'steer', 'throttle', 'brake'], dtype='object')\n",
      "dir         object\n",
      "speed        int32\n",
      "command      int32\n",
      "steer        int32\n",
      "throttle     int32\n",
      "brake        int32\n",
      "dtype: object\n"
     ]
    },
    {
     "data": {
      "text/plain": [
       "array([[<AxesSubplot:title={'center':'speed'}>,\n",
       "        <AxesSubplot:title={'center':'command'}>],\n",
       "       [<AxesSubplot:title={'center':'steer'}>,\n",
       "        <AxesSubplot:title={'center':'throttle'}>],\n",
       "       [<AxesSubplot:title={'center':'brake'}>, <AxesSubplot:>]],\n",
       "      dtype=object)"
      ]
     },
     "execution_count": 10,
     "metadata": {},
     "output_type": "execute_result"
    },
    {
     "data": {
      "image/png": "[encoded data removed]",
      "text/plain": [
       "<Figure size 576x504 with 6 Axes>"
      ]
     },
     "metadata": {},
     "output_type": "display_data"
    }
   ],
   "source": [
    "print(df_measurements.keys())\n",
    "for index in range(1,6):\n",
    "    df_measurements[df_measurements.keys()[index]] = df_measurements[df_measurements.keys()[index]].astype('int32')\n",
    "print(df_measurements.dtypes)\n",
    "df_measurements.hist(figsize=(8, 7), bins=20)\n"
   ]
  },
  {
   "cell_type": "code",
   "execution_count": 11,
   "metadata": {},
   "outputs": [
    {
     "name": "stdout",
     "output_type": "stream",
     "text": [
      "[1.17595870e-06 1.17595870e-06 1.17595870e-06 ... 2.34159135e-06\n",
      " 1.06395429e-06 1.06395429e-06]\n"
     ]
    },
    {
     "data": {
      "text/plain": [
       "array([3.04356927, 3.04356927, 3.04356927, ..., 6.06041306, 2.75368394,\n",
       "       2.75368394])"
      ]
     },
     "execution_count": 11,
     "metadata": {},
     "output_type": "execute_result"
    }
   ],
   "source": [
    "\n",
    "all_measurement_weights_steer =  get_weights_inverse_num_of_samples(\"steer\")\n",
    "all_measurement_weights_throttle =  get_weights_inverse_num_of_samples(\"throttle\")\n",
    "all_measurement_weights_brake =  get_weights_inverse_num_of_samples(\"brake\")\n",
    "\n",
    "\n",
    "\n",
    "def get_weights_inverse_num_of_samples(measurement,bins=10):\n",
    "    hist, bin_edges = np.histogram(df_measurements[measurement], bins) #ten classes \n",
    "    bin_edges[-1] = bin_edges[-1]+0.1\n",
    "    bin_mapping = np.digitize(df_measurements[measurement], bins=bin_edges,)\n",
    "    bin_mapping_count = pd.DataFrame(bin_mapping).value_counts(normalize=True).sort_index()\n",
    "    bin_mapping_weighted = np.zeros(len(bin_mapping))\n",
    "    for idx, bin_map in enumerate(bin_mapping):\n",
    "        bin_mapping_weighted[idx] = bin_mapping_count.loc[bin_map]\n",
    "    bin_mapping_weighted = 1 / bin_mapping_weighted #inverse it\n",
    "    sample_weights_entire = (bin_mapping_weighted / bin_mapping_weighted.sum())\n",
    "    print(sample_weights_entire)\n",
    "    return bin_mapping_weighted\n",
    "\n",
    "def get_batch_weights(batch_nr):\n",
    "    sample_weights_batch_steer = (all_measurement_weights_steer[batch_nr*batch_size:(batch_nr+1)*batch_size] /all_measurement_weights_steer[batch_nr*batch_size:(batch_nr+1)*batch_size].sum())\n",
    "    sample_weights_batch_throttle = (all_measurement_weights_throttle[batch_nr*batch_size:(batch_nr+1)*batch_size] /all_measurement_weights_throttle[batch_nr*batch_size:(batch_nr+1)*batch_size].sum())\n",
    "    sample_weights_batch_brake = (all_measurement_weights_speed[batch_nr*batch_size:(batch_nr+1)*batch_size] /all_measurement_weights_brake[batch_nr*batch_size:(batch_nr+1)*batch_size].sum())\n",
    "    return torch.Tensor(sample_weights_batch_speed), torch.Tensor(sample_weights_batch_throttle), torch.Tensor(sample_weights_batch_brake)\n",
    "    #this should be slower than converting to tensor once and fetching\n",
    "    #but that takes memory \n",
    "    #does it make sense to normalize each batch? Is it not guaranteed 64 frames will have almost same values?\n",
    "    #then this weighting will only make a difference when both extrema are present in the same batch?\n",
    "    \n",
    "#get_weights_inverse_num_of_samples(\"speed\")\n"
   ]
  },
  {
   "cell_type": "code",
   "execution_count": null,
   "metadata": {},
   "outputs": [],
   "source": [
    "def forward_pass(data, weights):\n",
    "    # further preprocessing\n",
    "    steerweight, throttleweight, brakeweight = weights\n",
    "    X_rgb = torch.squeeze(transform_norm(data[\"rgb\"])).float()\n",
    "    labels = data[\"command\"]\n",
    "    # labels = torch.where(labels == -1, torch.tensor(0), labels).to(torch.int64) # Replace by -1 by 0\n",
    "    labels = torch.where(labels == -1, torch.tensor(0, dtype=labels.dtype), labels).to(torch.int64) # Replace by -1 by 0\n",
    "    # Convert the labels to a one hot encoded tensor\n",
    "    one_hot = torch.nn.functional.one_hot(labels, num_classes=7)\n",
    "    X_cmd = torch.squeeze(one_hot).float()\n",
    "    X_spd = ((data[\"speed\"]-speed_mean)/speed_std).float()\n",
    "    \n",
    "    Y_throttle = data[\"throttle\"].float()\n",
    "    Y_steer = data[\"steer\"].float()\n",
    "    Y_brake = data[\"brake\"].float()\n",
    "\n",
    "    # move to GPU\n",
    "    X_rgb = to_cuda_if_possible(X_rgb)\n",
    "    X_cmd = to_cuda_if_possible(X_cmd)\n",
    "    X_spd = to_cuda_if_possible(X_spd)\n",
    "    \n",
    "    Y_throttle = to_cuda_if_possible(Y_throttle)\n",
    "    Y_steer = to_cuda_if_possible(Y_steer)\n",
    "    Y_brake = to_cuda_if_possible(Y_brake)\n",
    "\n",
    "    # compute outputs\n",
    "    optimizer.zero_grad()\n",
    "\n",
    "    Y_hat = net(X_rgb, X_cmd, X_spd)\n",
    "    Y_hat_throttle = to_cuda_if_possible(Y_hat[0])\n",
    "    Y_hat_steer = to_cuda_if_possible(Y_hat[1])\n",
    "    Y_hat_brake = to_cuda_if_possible(Y_hat[2])\n",
    "\n",
    "    # get labels from data\n",
    "    Y_throttle = to_cuda_if_possible(data[\"throttle\"].float())\n",
    "    Y_steer = to_cuda_if_possible(data[\"steer\"].float())\n",
    "    Y_brake = to_cuda_if_possible(data[\"brake\"].float())\n",
    "\n",
    "    # Calculate Loss\n",
    "    loss_throttle = throttleweight*criterion(Y_hat_throttle, Y_throttle)\n",
    "    loss_steer = steerweight*criterion(Y_hat_steer, Y_steer)\n",
    "    loss_brake = brakeweight*criterion(Y_hat_brake, Y_brake)\n",
    "    loss = sum([loss_throttle, loss_steer, loss_brake])\n",
    "    return loss"
   ]
  },
  {
   "cell_type": "code",
   "execution_count": null,
   "metadata": {},
   "outputs": [],
   "source": [
    "criterion = nn.L1Loss() # Easy to interpret #nn.MSELoss()\n",
    "optimizer = optim.Adam(net.parameters(), lr=0.0001) #optim.SGD(net.parameters(), lr=0.001, momentum=0.9)"
   ]
  },
  {
   "cell_type": "code",
   "execution_count": null,
   "metadata": {},
   "outputs": [],
   "source": [
    "%%time\n",
    "\n",
    "n_epochs = 10\n",
    "print_every = 200\n",
    "valid_loss_min = np.Inf\n",
    "val_loss = []\n",
    "train_loss = []\n",
    "total_step = len(train_dataloader)\n",
    "validate = False\n",
    "\n",
    "run = True\n",
    "\n",
    "for epoch in tqdm(range(1, n_epochs+1)):\n",
    "    \n",
    "    running_loss = 0.0\n",
    "    print(f'Epoch {epoch}\\n')\n",
    "    \n",
    "    # Work through batches\n",
    "    for batch_idx, data in enumerate(train_dataloader): #data: (['idx', 'rgb', 'speed', 'steer', 'throttle', 'brake'])\n",
    "        weights = get_batch_weights(batch_idx)\n",
    "        loss = forward_pass(data, weights)\n",
    "        \n",
    "        # Backprop\n",
    "        loss.backward()\n",
    "        optimizer.step()\n",
    "        \n",
    "        # running_loss += loss.item()\n",
    "        if (batch_idx) % print_every == 0:\n",
    "            print ('Epoch [{}/{}], Step [{}/{}], Loss: {:.4f}' \n",
    "                   .format(epoch, n_epochs, batch_idx, total_step, 0.0000)) # loss.item()\n",
    "        \n",
    "    # Epoch finished, evaluate network and save if network_learned\n",
    "    train_loss.append(running_loss/total_step)\n",
    "    print(f'\\ntrain-loss: {np.mean(train_loss):.4f},') # TODO SOLVE NAN ISSUES\n",
    "    batch_loss = 0\n",
    "\n",
    "    \n",
    "    # Evaluation on Test set, skipped for now\n",
    "    if validate:\n",
    "        with torch.no_grad():\n",
    "            net.eval()\n",
    "\n",
    "            for batch_idx, data in enumerate(test_dataloader):\n",
    "\n",
    "                loss = forward_pass(data)\n",
    "\n",
    "                batch_loss += loss.item()\n",
    "            val_loss.append(batch_loss/len(test_dataloader))\n",
    "            #network_learned = batch_loss < valid_loss_min\n",
    "            print(f'validation loss: {np.mean(val_loss):.4f}, \\n') # TODO SOLVE NAN ISSUES\n",
    "\n",
    "\n",
    "            if False:#network_learned:\n",
    "                valid_loss_min = batch_loss\n",
    "                torch.save(net.state_dict(), 'resnet.pt')\n",
    "                print('Improvement-Detected, save-model')\n",
    "\n",
    "        # Back to training\n",
    "        net.train()"
   ]
  }
 ],
 "metadata": {
  "kernelspec": {
   "display_name": "Python 3",
   "language": "python",
   "name": "python3"
  },
  "language_info": {
   "codemirror_mode": {
    "name": "ipython",
    "version": 3
   },
   "file_extension": ".py",
   "mimetype": "text/x-python",
   "name": "python",
   "nbconvert_exporter": "python",
   "pygments_lexer": "ipython3",
   "version": "3.6.9"
  }
 },
 "nbformat": 4,
 "nbformat_minor": 2
}
