{
 "cells": [
  {
   "cell_type": "code",
   "execution_count": 1,
   "metadata": {},
   "outputs": [
    {
     "name": "stderr",
     "output_type": "stream",
     "text": [
      "/Users/julianvonklitzing/miniforge3/envs/carla/lib/python3.8/site-packages/tqdm/auto.py:22: TqdmWarning: IProgress not found. Please update jupyter and ipywidgets. See https://ipywidgets.readthedocs.io/en/stable/user_install.html\n",
      "  from .autonotebook import tqdm as notebook_tqdm\n"
     ]
    }
   ],
   "source": [
    "import sys\n",
    "import os\n",
    "sys.path.append(os.path.join(\"..\", \"..\"))\n",
    "from data_pipeline.dataset import CARLADataset\n",
    "from data_pipeline.dataset_xy import CARLADatasetXY\n",
    "from data_pipeline.data_preprocessing import preprocessing\n",
    "from data_pipeline.utils import create_metadata_df, train_test_split\n",
    "from data_pipeline.data_preprocessing import preprocessing \n",
    "\n",
    "from torch.utils.data import DataLoader\n",
    "from torchvision import transforms as T\n",
    "import numpy as np\n",
    "import torch\n",
    "import pandas as pd\n",
    "import matplotlib.pyplot as plt\n",
    "from tqdm import tqdm"
   ]
  },
  {
   "cell_type": "code",
   "execution_count": 2,
   "metadata": {},
   "outputs": [
    {
     "name": "stdout",
     "output_type": "stream",
     "text": [
      "205560\n",
      "(1, 3, 161, 161)\n"
     ]
    }
   ],
   "source": [
    "## path_ege_data = os.path.join(\"..\", \"data\", \"Dataset Ege\")\n",
    "\n",
    "path_data = \"/Volumes/Ege_External/Town_1_2_Dataset/Training\"\n",
    "path_data = os.path.join(\"..\", \"..\", \"data\", \"data\")\n",
    "\n",
    "config = {\"used_inputs\": [\"rgb\", \"lidar_bev\", \"measurements\"], \n",
    "        \"used_measurements\": [\"command\"],    \n",
    "        \"seq_len\": 1\n",
    "        }\n",
    "\n",
    "train_test_config = {\n",
    "    \"train\": ['Town00', 'Town01', 'Town02', 'Town03', 'Town04', 'Town05', 'Town07', 'Town08', 'Town09', 'Town10'],\n",
    "    \"test\": ['Town06']\n",
    "}\n",
    "\n",
    "mean = torch.tensor([79.6657, 81.5673, 105.6161])\n",
    "std = torch.tensor([66.8309, 60.1001, 66.2220])\n",
    "\n",
    "\n",
    "\n",
    "df_meta_data = create_metadata_df(path_data, config[\"used_inputs\"])\n",
    "df_meta_data_train, df_meta_data_test_1, df_meta_data_test_2 = train_test_split(df_meta_data, towns_intersect=train_test_config, df_meta_data_noisy=None)\n",
    "\n",
    "dataset = CARLADataset(root_dir=path_data, df_meta_data=df_meta_data_train, config=config )\n",
    "\n",
    "print(dataset.__len__())\n",
    "print((dataset.__getitem__(1)['lidar_bev'].shape))"
   ]
  },
  {
   "cell_type": "code",
   "execution_count": 3,
   "metadata": {},
   "outputs": [],
   "source": [
    "dl = DataLoader(dataset=dataset, batch_size=16, num_workers=0)\n",
    "# dl_mp = DataLoader(dataset=dataset_mp, batch_size=16, num_workers=3, sampler=weighted_sampler)"
   ]
  },
  {
   "cell_type": "code",
   "execution_count": 4,
   "metadata": {},
   "outputs": [
    {
     "data": {
      "text/plain": [
       "Text(0.5, 1.0, 'distribution of pixels')"
      ]
     },
     "execution_count": 4,
     "metadata": {},
     "output_type": "execute_result"
    },
    {
     "data": {
      "image/png": "[encoded data removed]",
      "text/plain": [
       "<Figure size 640x480 with 1 Axes>"
      ]
     },
     "metadata": {},
     "output_type": "display_data"
    }
   ],
   "source": [
    "img_np = np.array(dataset.__getitem__(1)['rgb'])\n",
    " \n",
    "# plot the pixel values\n",
    "plt.hist(img_np.ravel(), bins=50, density=True)\n",
    "plt.xlabel(\"pixel values\")\n",
    "plt.ylabel(\"relative frequency\")\n",
    "plt.title(\"distribution of pixels\")"
   ]
  },
  {
   "attachments": {},
   "cell_type": "markdown",
   "metadata": {},
   "source": [
    "Cell Below calculates the mean and std for the rbg images in the dataset. Make sure to run it only once for calculation, save the total_mean and total_std variables, and input them in the normalization step."
   ]
  },
  {
   "cell_type": "code",
   "execution_count": 5,
   "metadata": {},
   "outputs": [
    {
     "name": "stderr",
     "output_type": "stream",
     "text": [
      "100%|██████████| 12848/12848 [43:17<00:00,  4.95it/s]"
     ]
    },
    {
     "name": "stdout",
     "output_type": "stream",
     "text": [
      "mean: tensor([0.3848, 0.3718, 0.3261])\n",
      "std:  tensor([0.2627, 0.2557, 0.2517])\n"
     ]
    },
    {
     "name": "stderr",
     "output_type": "stream",
     "text": [
      "\n"
     ]
    }
   ],
   "source": [
    "transform = T.Compose([\n",
    "    T.Resize([80, 480]),\n",
    "])\n",
    "\n",
    "psum    = torch.tensor([0.0, 0.0, 0.0])\n",
    "psum_sq = torch.tensor([0.0, 0.0, 0.0])\n",
    "\n",
    "# loop through images\n",
    "for inputs in tqdm(dl):\n",
    "    inputs = torch.squeeze(inputs[\"rgb\"])\n",
    "    # inputs = inputs.numpy()\n",
    "    # inputs = inputs.astype(\"uint8\")\n",
    "    inputs = transform(inputs)\n",
    "    inputs = inputs/255\n",
    "    psum    += inputs.sum(axis = [0, 2, 3])\n",
    "    psum_sq += (inputs ** 2).sum(axis = [0, 2, 3])\n",
    "\n",
    "\n",
    "# pixel count\n",
    "count = dataset.__len__() * 80 * 480\n",
    "\n",
    "# mean and std\n",
    "total_mean = psum / count\n",
    "total_var  = (psum_sq / count) - (total_mean ** 2)\n",
    "total_std  = torch.sqrt(total_var)\n",
    "\n",
    "# output\n",
    "print('mean: '  + str(total_mean))\n",
    "print('std:  '  + str(total_std))"
   ]
  },
  {
   "cell_type": "code",
   "execution_count": 11,
   "metadata": {},
   "outputs": [],
   "source": [
    "for batch in dl:\n",
    "    break"
   ]
  },
  {
   "cell_type": "code",
   "execution_count": 14,
   "metadata": {},
   "outputs": [
    {
     "data": {
      "text/plain": [
       "torch.Size([16, 3, 641, 641])"
      ]
     },
     "execution_count": 14,
     "metadata": {},
     "output_type": "execute_result"
    }
   ],
   "source": [
    "torch.squeeze(batch[\"lidar_bev\"]).shape"
   ]
  },
  {
   "cell_type": "code",
   "execution_count": 15,
   "metadata": {},
   "outputs": [
    {
     "name": "stderr",
     "output_type": "stream",
     "text": [
      "100%|██████████| 12848/12848 [1:04:40<00:00,  3.31it/s]"
     ]
    },
    {
     "name": "stdout",
     "output_type": "stream",
     "text": [
      "mean: tensor([0.0015, 0.0015, 0.0015])\n",
      "std:  tensor([0.0236, 0.0236, 0.0236])\n"
     ]
    },
    {
     "name": "stderr",
     "output_type": "stream",
     "text": [
      "\n"
     ]
    }
   ],
   "source": [
    "# LiDAR where transformed to 641x641 --> Resize is necessary\n",
    "\n",
    "psum    = torch.tensor([0.0, 0.0, 0.0])\n",
    "psum_sq = torch.tensor([0.0, 0.0, 0.0])\n",
    "\n",
    "# loop through images\n",
    "for inputs in tqdm(dl):\n",
    "    inputs = torch.squeeze(inputs[\"lidar_bev\"])\n",
    "    inputs = T.Resize([224, 224])(inputs)\n",
    "    inputs = inputs / 255\n",
    "    psum    += inputs.sum(axis = [0, 2, 3])\n",
    "    psum_sq += (inputs ** 2).sum(axis = [0, 2, 3])\n",
    "\n",
    "\n",
    "# pixel count\n",
    "count = dataset.__len__() * 224 * 224\n",
    "\n",
    "# mean and std\n",
    "total_mean = psum / count\n",
    "total_var  = (psum_sq / count) - (total_mean ** 2)\n",
    "total_std  = torch.sqrt(total_var)\n",
    "\n",
    "# output\n",
    "print('mean: '  + str(total_mean))\n",
    "print('std:  '  + str(total_std))"
   ]
  },
  {
   "cell_type": "code",
   "execution_count": 4,
   "metadata": {},
   "outputs": [
    {
     "name": "stderr",
     "output_type": "stream",
     "text": [
      "100%|██████████| 12848/12848 [37:18<00:00,  5.74it/s]"
     ]
    },
    {
     "name": "stdout",
     "output_type": "stream",
     "text": [
      "mean: tensor([0.0605, 0.0605, 0.0605])\n",
      "std:  tensor([0.1498, 0.1498, 0.1498])\n"
     ]
    },
    {
     "name": "stderr",
     "output_type": "stream",
     "text": [
      "\n"
     ]
    }
   ],
   "source": [
    "# LiDAR where transformed to 161*161 --> No resize necessary\n",
    "\n",
    "psum    = torch.tensor([0.0, 0.0, 0.0])\n",
    "psum_sq = torch.tensor([0.0, 0.0, 0.0])\n",
    "\n",
    "# loop through images\n",
    "for inputs in tqdm(dl):\n",
    "    inputs = torch.squeeze(inputs[\"lidar_bev\"])\n",
    "    inputs = inputs / 255\n",
    "    psum    += inputs.sum(axis = [0, 2, 3])\n",
    "    psum_sq += (inputs ** 2).sum(axis = [0, 2, 3])\n",
    "\n",
    "\n",
    "# pixel count\n",
    "count = dataset.__len__() * 161 * 161\n",
    "\n",
    "# mean and std\n",
    "total_mean = psum / count\n",
    "total_var  = (psum_sq / count) - (total_mean ** 2)\n",
    "total_std  = torch.sqrt(total_var)\n",
    "\n",
    "# output\n",
    "print('mean: '  + str(total_mean))\n",
    "print('std:  '  + str(total_std))"
   ]
  },
  {
   "cell_type": "code",
   "execution_count": null,
   "metadata": {},
   "outputs": [],
   "source": []
  }
 ],
 "metadata": {
  "kernelspec": {
   "display_name": "carla",
   "language": "python",
   "name": "python3"
  },
  "language_info": {
   "codemirror_mode": {
    "name": "ipython",
    "version": 3
   },
   "file_extension": ".py",
   "mimetype": "text/x-python",
   "name": "python",
   "nbconvert_exporter": "python",
   "pygments_lexer": "ipython3",
   "version": "3.8.13"
  },
  "orig_nbformat": 4,
  "vscode": {
   "interpreter": {
    "hash": "bc80d0638afb8ec7c43f4b834002a598fcddbd6e8bf5db40ad8cba47e68e6a97"
   }
  }
 },
 "nbformat": 4,
 "nbformat_minor": 2
}
