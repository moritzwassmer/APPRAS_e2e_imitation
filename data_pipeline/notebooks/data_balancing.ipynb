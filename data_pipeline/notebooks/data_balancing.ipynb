{
 "cells": [
  {
   "cell_type": "code",
   "execution_count": 1,
   "metadata": {},
   "outputs": [],
   "source": [
    "# original size 258866 # 258841 # 258816\n",
    "import sys\n",
    "import os\n",
    "from torch.utils.data import DataLoader\n",
    "sys.path.append(\"..\")\n",
    "from tqdm import tqdm\n",
    "import shutil\n",
    "import torch\n",
    "import numpy as np\n",
    "import pandas as pd\n",
    "\n",
    "from utils import train_test_split, create_metadata_df\n",
    "from dataset_xy import CARLADatasetXY\n",
    "from data_preprocessing import preprocessing\n",
    "import json\n",
    "from send2trash import send2trash"
   ]
  },
  {
   "cell_type": "code",
   "execution_count": 2,
   "metadata": {},
   "outputs": [],
   "source": [
    "path_data = os.path.join(\"..\", \"..\", \"data\", \"data\")\n",
    "\n",
    "config_xy = {\"used_inputs\": [\"rgb\", \"measurements\"], \n",
    "        \"used_measurements\": [\"speed\", \"steer\", \"throttle\", \"brake\", \"command\"],\n",
    "        \"y\": [\"brake\", \"steer\", \"throttle\"],\n",
    "        \"seq_len\": 1\n",
    "        }\n",
    "\n",
    "# Create df_meta \n",
    "# df_meta_data = create_metadata_df(path_data, config_xy[\"used_inputs\"])\n",
    "df_meta_data = pd.read_json(\"df_meta_data.json\")\n",
    "\n",
    "\n",
    "# Create Dataset & DataLoader\n",
    "#dataset = CARLADatasetXY(root_dir=path_data, df_meta_data=df_meta_data, config=config_xy)"
   ]
  },
  {
   "cell_type": "code",
   "execution_count": 12,
   "metadata": {},
   "outputs": [],
   "source": [
    "#dl = DataLoader(dataset=dataset, batch_size=64, num_workers=0, sampler=None, shuffle=False)"
   ]
  },
  {
   "cell_type": "code",
   "execution_count": 4,
   "metadata": {},
   "outputs": [],
   "source": [
    "df_measurements = pd.read_json(\"df_measurements.json\")"
   ]
  },
  {
   "cell_type": "markdown",
   "metadata": {},
   "source": [
    "## Create distributions for entire dataset"
   ]
  },
  {
   "cell_type": "code",
   "execution_count": 6,
   "metadata": {},
   "outputs": [
    {
     "name": "stdout",
     "output_type": "stream",
     "text": [
      "Index(['dir', 'speed', 'command', 'steer', 'throttle', 'brake'], dtype='object')\n",
      "dir         object\n",
      "speed        int32\n",
      "command      int32\n",
      "steer        int32\n",
      "throttle     int32\n",
      "brake        int32\n",
      "dtype: object\n"
     ]
    },
    {
     "data": {
      "text/plain": [
       "array([[<AxesSubplot:title={'center':'speed'}>,\n",
       "        <AxesSubplot:title={'center':'command'}>],\n",
       "       [<AxesSubplot:title={'center':'steer'}>,\n",
       "        <AxesSubplot:title={'center':'throttle'}>],\n",
       "       [<AxesSubplot:title={'center':'brake'}>, <AxesSubplot:>]],\n",
       "      dtype=object)"
      ]
     },
     "execution_count": 6,
     "metadata": {},
     "output_type": "execute_result"
    },
    {
     "data": {
      "image/png": "[encoded data removed]",
      "text/plain": [
       "<Figure size 576x504 with 6 Axes>"
      ]
     },
     "metadata": {},
     "output_type": "display_data"
    }
   ],
   "source": [
    "print(df_measurements.keys())\n",
    "for index in range(1,6):\n",
    "    df_measurements[df_measurements.keys()[index]] = df_measurements[df_measurements.keys()[index]].astype('int32')\n",
    "print(df_measurements.dtypes)\n",
    "df_measurements.hist(figsize=(8, 7), bins=20)\n"
   ]
  },
  {
   "cell_type": "markdown",
   "metadata": {},
   "source": [
    "## Create distributions for train and test set separately (they should be similar)"
   ]
  },
  {
   "cell_type": "code",
   "execution_count": 9,
   "metadata": {},
   "outputs": [
    {
     "ename": "TypeError",
     "evalue": "train_test_split() got an unexpected keyword argument 'towns'",
     "output_type": "error",
     "traceback": [
      "\u001b[0;31m---------------------------------------------------------------------------\u001b[0m",
      "\u001b[0;31mTypeError\u001b[0m                                 Traceback (most recent call last)",
      "\u001b[0;32m<ipython-input-9-add2d548ccc9>\u001b[0m in \u001b[0;36m<module>\u001b[0;34m()\u001b[0m\n\u001b[0;32m----> 1\u001b[0;31m \u001b[0mdf_meta_data_train\u001b[0m\u001b[0;34m,\u001b[0m \u001b[0mdf_meta_data_test\u001b[0m \u001b[0;34m=\u001b[0m \u001b[0mtrain_test_split\u001b[0m\u001b[0;34m(\u001b[0m\u001b[0mdf_meta_data\u001b[0m\u001b[0;34m,\u001b[0m \u001b[0mtowns\u001b[0m\u001b[0;34m=\u001b[0m\u001b[0;34m{\u001b[0m\u001b[0;34m\"train\"\u001b[0m\u001b[0;34m:\u001b[0m \u001b[0;34m[\u001b[0m\u001b[0;34m\"Town04\"\u001b[0m\u001b[0;34m]\u001b[0m\u001b[0;34m,\u001b[0m \u001b[0;34m\"test\"\u001b[0m\u001b[0;34m:\u001b[0m \u001b[0;34m[\u001b[0m\u001b[0;34m\"Town05\"\u001b[0m\u001b[0;34m]\u001b[0m\u001b[0;34m}\u001b[0m\u001b[0;34m)\u001b[0m \u001b[0;31m# \"Town06\"\u001b[0m\u001b[0;34m\u001b[0m\u001b[0;34m\u001b[0m\u001b[0m\n\u001b[0m\u001b[1;32m      2\u001b[0m \u001b[0mdf_meta_data_test\u001b[0m \u001b[0;34m=\u001b[0m \u001b[0mdf_meta_data_test\u001b[0m\u001b[0;34m.\u001b[0m\u001b[0msample\u001b[0m\u001b[0;34m(\u001b[0m\u001b[0mn\u001b[0m\u001b[0;34m=\u001b[0m\u001b[0mint\u001b[0m\u001b[0;34m(\u001b[0m\u001b[0mdf_meta_data_train\u001b[0m\u001b[0;34m.\u001b[0m\u001b[0mshape\u001b[0m\u001b[0;34m[\u001b[0m\u001b[0;36m0\u001b[0m\u001b[0;34m]\u001b[0m \u001b[0;34m*\u001b[0m \u001b[0;36m0.15\u001b[0m\u001b[0;34m)\u001b[0m\u001b[0;34m,\u001b[0m \u001b[0mrandom_state\u001b[0m\u001b[0;34m=\u001b[0m\u001b[0;36m3\u001b[0m\u001b[0;34m)\u001b[0m\u001b[0;34m\u001b[0m\u001b[0;34m\u001b[0m\u001b[0m\n",
      "\u001b[0;31mTypeError\u001b[0m: train_test_split() got an unexpected keyword argument 'towns'"
     ]
    }
   ],
   "source": [
    "df_meta_data_train, df_meta_data_test = train_test_split(df_meta_data, towns={\"train\": [\"Town04\"], \"test\": [\"Town05\"]}) # \"Town06\"\n",
    "df_meta_data_test = df_meta_data_test.sample(n=int(df_meta_data_train.shape[0] * 0.15), random_state=3)"
   ]
  },
  {
   "cell_type": "code",
   "execution_count": 17,
   "metadata": {},
   "outputs": [],
   "source": [
    "df_meta_data.to_pickle(\"df_meta_data.pickle\")"
   ]
  },
  {
   "cell_type": "code",
   "execution_count": 37,
   "metadata": {},
   "outputs": [],
   "source": [
    "df_measurements.to_json(\"df_measurements.json\")"
   ]
  },
  {
   "cell_type": "code",
   "execution_count": 39,
   "metadata": {},
   "outputs": [
    {
     "data": {
      "text/html": [
       "<div>\n",
       "<style scoped>\n",
       "    .dataframe tbody tr th:only-of-type {\n",
       "        vertical-align: middle;\n",
       "    }\n",
       "\n",
       "    .dataframe tbody tr th {\n",
       "        vertical-align: top;\n",
       "    }\n",
       "\n",
       "    .dataframe thead th {\n",
       "        text-align: right;\n",
       "    }\n",
       "</style>\n",
       "<table border=\"1\" class=\"dataframe\">\n",
       "  <thead>\n",
       "    <tr style=\"text-align: right;\">\n",
       "      <th></th>\n",
       "      <th>dir</th>\n",
       "      <th>speed</th>\n",
       "      <th>command</th>\n",
       "      <th>steer</th>\n",
       "      <th>throttle</th>\n",
       "      <th>brake</th>\n",
       "    </tr>\n",
       "  </thead>\n",
       "  <tbody>\n",
       "    <tr>\n",
       "      <th>0</th>\n",
       "      <td>../../data/data/cycl_dataset_23_11/Routes_non-...</td>\n",
       "      <td>0.000000e+00</td>\n",
       "      <td>4</td>\n",
       "      <td>0.000</td>\n",
       "      <td>0.000000</td>\n",
       "      <td>True</td>\n",
       "    </tr>\n",
       "    <tr>\n",
       "      <th>1</th>\n",
       "      <td>../../data/data/cycl_dataset_23_11/Routes_non-...</td>\n",
       "      <td>1.304910e-05</td>\n",
       "      <td>4</td>\n",
       "      <td>0.000</td>\n",
       "      <td>0.000000</td>\n",
       "      <td>True</td>\n",
       "    </tr>\n",
       "    <tr>\n",
       "      <th>2</th>\n",
       "      <td>../../data/data/cycl_dataset_23_11/Routes_non-...</td>\n",
       "      <td>0.000000e+00</td>\n",
       "      <td>4</td>\n",
       "      <td>0.000</td>\n",
       "      <td>0.000000</td>\n",
       "      <td>True</td>\n",
       "    </tr>\n",
       "    <tr>\n",
       "      <th>3</th>\n",
       "      <td>../../data/data/cycl_dataset_23_11/Routes_non-...</td>\n",
       "      <td>1.520000e-08</td>\n",
       "      <td>4</td>\n",
       "      <td>0.000</td>\n",
       "      <td>0.000000</td>\n",
       "      <td>True</td>\n",
       "    </tr>\n",
       "    <tr>\n",
       "      <th>4</th>\n",
       "      <td>../../data/data/cycl_dataset_23_11/Routes_non-...</td>\n",
       "      <td>1.490000e-08</td>\n",
       "      <td>4</td>\n",
       "      <td>0.000</td>\n",
       "      <td>0.000000</td>\n",
       "      <td>True</td>\n",
       "    </tr>\n",
       "    <tr>\n",
       "      <th>...</th>\n",
       "      <td>...</td>\n",
       "      <td>...</td>\n",
       "      <td>...</td>\n",
       "      <td>...</td>\n",
       "      <td>...</td>\n",
       "      <td>...</td>\n",
       "    </tr>\n",
       "    <tr>\n",
       "      <th>258811</th>\n",
       "      <td>../../data/data/dirt_dataset_23_11/Routes_Scen...</td>\n",
       "      <td>3.875880e+00</td>\n",
       "      <td>4</td>\n",
       "      <td>0.000</td>\n",
       "      <td>0.608982</td>\n",
       "      <td>False</td>\n",
       "    </tr>\n",
       "    <tr>\n",
       "      <th>258812</th>\n",
       "      <td>../../data/data/dirt_dataset_23_11/Routes_Scen...</td>\n",
       "      <td>3.736651e+00</td>\n",
       "      <td>4</td>\n",
       "      <td>-0.001</td>\n",
       "      <td>0.750000</td>\n",
       "      <td>False</td>\n",
       "    </tr>\n",
       "    <tr>\n",
       "      <th>258813</th>\n",
       "      <td>../../data/data/dirt_dataset_23_11/Routes_Scen...</td>\n",
       "      <td>4.154940e+00</td>\n",
       "      <td>4</td>\n",
       "      <td>0.000</td>\n",
       "      <td>0.056921</td>\n",
       "      <td>False</td>\n",
       "    </tr>\n",
       "    <tr>\n",
       "      <th>258814</th>\n",
       "      <td>../../data/data/dirt_dataset_23_11/Routes_Scen...</td>\n",
       "      <td>3.741420e+00</td>\n",
       "      <td>4</td>\n",
       "      <td>0.000</td>\n",
       "      <td>0.750000</td>\n",
       "      <td>False</td>\n",
       "    </tr>\n",
       "    <tr>\n",
       "      <th>258815</th>\n",
       "      <td>../../data/data/dirt_dataset_23_11/Routes_Scen...</td>\n",
       "      <td>3.909913e+00</td>\n",
       "      <td>4</td>\n",
       "      <td>0.001</td>\n",
       "      <td>0.582521</td>\n",
       "      <td>False</td>\n",
       "    </tr>\n",
       "  </tbody>\n",
       "</table>\n",
       "<p>258816 rows × 6 columns</p>\n",
       "</div>"
      ],
      "text/plain": [
       "                                                      dir         speed  \\\n",
       "0       ../../data/data/cycl_dataset_23_11/Routes_non-...  0.000000e+00   \n",
       "1       ../../data/data/cycl_dataset_23_11/Routes_non-...  1.304910e-05   \n",
       "2       ../../data/data/cycl_dataset_23_11/Routes_non-...  0.000000e+00   \n",
       "3       ../../data/data/cycl_dataset_23_11/Routes_non-...  1.520000e-08   \n",
       "4       ../../data/data/cycl_dataset_23_11/Routes_non-...  1.490000e-08   \n",
       "...                                                   ...           ...   \n",
       "258811  ../../data/data/dirt_dataset_23_11/Routes_Scen...  3.875880e+00   \n",
       "258812  ../../data/data/dirt_dataset_23_11/Routes_Scen...  3.736651e+00   \n",
       "258813  ../../data/data/dirt_dataset_23_11/Routes_Scen...  4.154940e+00   \n",
       "258814  ../../data/data/dirt_dataset_23_11/Routes_Scen...  3.741420e+00   \n",
       "258815  ../../data/data/dirt_dataset_23_11/Routes_Scen...  3.909913e+00   \n",
       "\n",
       "        command  steer  throttle  brake  \n",
       "0             4  0.000  0.000000   True  \n",
       "1             4  0.000  0.000000   True  \n",
       "2             4  0.000  0.000000   True  \n",
       "3             4  0.000  0.000000   True  \n",
       "4             4  0.000  0.000000   True  \n",
       "...         ...    ...       ...    ...  \n",
       "258811        4  0.000  0.608982  False  \n",
       "258812        4 -0.001  0.750000  False  \n",
       "258813        4  0.000  0.056921  False  \n",
       "258814        4  0.000  0.750000  False  \n",
       "258815        4  0.001  0.582521  False  \n",
       "\n",
       "[258816 rows x 6 columns]"
      ]
     },
     "execution_count": 39,
     "metadata": {},
     "output_type": "execute_result"
    }
   ],
   "source": [
    "pd.read_json(\"df_measurements.json\")"
   ]
  },
  {
   "cell_type": "code",
   "execution_count": 38,
   "metadata": {},
   "outputs": [],
   "source": [
    "df_meta_data.to_json(\"df_meta_data.json\")"
   ]
  },
  {
   "cell_type": "code",
   "execution_count": 18,
   "metadata": {},
   "outputs": [
    {
     "data": {
      "text/plain": [
       "array([[<AxesSubplot: title={'center': 'speed'}>,\n",
       "        <AxesSubplot: title={'center': 'command'}>],\n",
       "       [<AxesSubplot: title={'center': 'steer'}>,\n",
       "        <AxesSubplot: title={'center': 'throttle'}>]], dtype=object)"
      ]
     },
     "execution_count": 18,
     "metadata": {},
     "output_type": "execute_result"
    },
    {
     "data": {
      "image/png": "[encoded data removed]",
      "text/plain": [
       "<Figure size 800x700 with 4 Axes>"
      ]
     },
     "metadata": {},
     "output_type": "display_data"
    }
   ],
   "source": [
    "df_measurements_train = df_measurements[df_measurements.index.isin(df_meta_data_train.index)]\n",
    "df_measurements_train.hist(figsize=(8, 7), bins=20)"
   ]
  },
  {
   "cell_type": "code",
   "execution_count": 19,
   "metadata": {},
   "outputs": [
    {
     "data": {
      "text/plain": [
       "array([[<AxesSubplot: title={'center': 'speed'}>,\n",
       "        <AxesSubplot: title={'center': 'command'}>],\n",
       "       [<AxesSubplot: title={'center': 'steer'}>,\n",
       "        <AxesSubplot: title={'center': 'throttle'}>]], dtype=object)"
      ]
     },
     "execution_count": 19,
     "metadata": {},
     "output_type": "execute_result"
    },
    {
     "data": {
      "image/png": "[encoded data removed]",
      "text/plain": [
       "<Figure size 800x700 with 4 Axes>"
      ]
     },
     "metadata": {},
     "output_type": "display_data"
    }
   ],
   "source": [
    "df_measurements_test = df_measurements[df_measurements.index.isin(df_meta_data_test.index)]\n",
    "df_measurements_test.hist(figsize=(8, 7), bins=20)"
   ]
  },
  {
   "cell_type": "code",
   "execution_count": 20,
   "metadata": {},
   "outputs": [
    {
     "data": {
      "text/html": [
       "<div>\n",
       "<style scoped>\n",
       "    .dataframe tbody tr th:only-of-type {\n",
       "        vertical-align: middle;\n",
       "    }\n",
       "\n",
       "    .dataframe tbody tr th {\n",
       "        vertical-align: top;\n",
       "    }\n",
       "\n",
       "    .dataframe thead th {\n",
       "        text-align: right;\n",
       "    }\n",
       "</style>\n",
       "<table border=\"1\" class=\"dataframe\">\n",
       "  <thead>\n",
       "    <tr style=\"text-align: right;\">\n",
       "      <th></th>\n",
       "      <th>speed</th>\n",
       "      <th>command</th>\n",
       "      <th>steer</th>\n",
       "      <th>throttle</th>\n",
       "    </tr>\n",
       "  </thead>\n",
       "  <tbody>\n",
       "    <tr>\n",
       "      <th>count</th>\n",
       "      <td>2.588160e+05</td>\n",
       "      <td>258816.000000</td>\n",
       "      <td>258816.000000</td>\n",
       "      <td>258816.000000</td>\n",
       "    </tr>\n",
       "    <tr>\n",
       "      <th>mean</th>\n",
       "      <td>2.382342e+00</td>\n",
       "      <td>3.521227</td>\n",
       "      <td>0.000917</td>\n",
       "      <td>0.347406</td>\n",
       "    </tr>\n",
       "    <tr>\n",
       "      <th>std</th>\n",
       "      <td>1.724863e+00</td>\n",
       "      <td>1.216411</td>\n",
       "      <td>0.127009</td>\n",
       "      <td>0.346908</td>\n",
       "    </tr>\n",
       "    <tr>\n",
       "      <th>min</th>\n",
       "      <td>-4.490779e+00</td>\n",
       "      <td>1.000000</td>\n",
       "      <td>-1.000000</td>\n",
       "      <td>0.000000</td>\n",
       "    </tr>\n",
       "    <tr>\n",
       "      <th>25%</th>\n",
       "      <td>5.878689e-08</td>\n",
       "      <td>3.000000</td>\n",
       "      <td>-0.005500</td>\n",
       "      <td>0.000000</td>\n",
       "    </tr>\n",
       "    <tr>\n",
       "      <th>50%</th>\n",
       "      <td>3.082393e+00</td>\n",
       "      <td>4.000000</td>\n",
       "      <td>0.000000</td>\n",
       "      <td>0.105180</td>\n",
       "    </tr>\n",
       "    <tr>\n",
       "      <th>75%</th>\n",
       "      <td>3.861653e+00</td>\n",
       "      <td>4.000000</td>\n",
       "      <td>0.002000</td>\n",
       "      <td>0.750000</td>\n",
       "    </tr>\n",
       "    <tr>\n",
       "      <th>max</th>\n",
       "      <td>6.353220e+00</td>\n",
       "      <td>6.000000</td>\n",
       "      <td>1.000000</td>\n",
       "      <td>1.150000</td>\n",
       "    </tr>\n",
       "  </tbody>\n",
       "</table>\n",
       "</div>"
      ],
      "text/plain": [
       "              speed        command          steer       throttle\n",
       "count  2.588160e+05  258816.000000  258816.000000  258816.000000\n",
       "mean   2.382342e+00       3.521227       0.000917       0.347406\n",
       "std    1.724863e+00       1.216411       0.127009       0.346908\n",
       "min   -4.490779e+00       1.000000      -1.000000       0.000000\n",
       "25%    5.878689e-08       3.000000      -0.005500       0.000000\n",
       "50%    3.082393e+00       4.000000       0.000000       0.105180\n",
       "75%    3.861653e+00       4.000000       0.002000       0.750000\n",
       "max    6.353220e+00       6.000000       1.000000       1.150000"
      ]
     },
     "execution_count": 20,
     "metadata": {},
     "output_type": "execute_result"
    }
   ],
   "source": [
    "df_measurements.describe()"
   ]
  },
  {
   "cell_type": "markdown",
   "metadata": {},
   "source": [
    "## Create classes manually (outdated --> rather use histograms --> see below)"
   ]
  },
  {
   "cell_type": "code",
   "execution_count": 21,
   "metadata": {},
   "outputs": [],
   "source": [
    "freq_classes = {\"steer\":{\n",
    "                            \"1\": (lambda ser: ser.between(-1.1, -0.4, inclusive=\"left\")),\n",
    "                            \"2\": (lambda ser: ser.between(-0.4, -0.1, inclusive=\"left\")),\n",
    "                            \"3\": (lambda ser: ser.between(-0.1, 0.1, inclusive=\"left\")),\n",
    "                            \"4\": (lambda ser: ser.between(0.1, 0.4, inclusive=\"left\")),\n",
    "                            \"5\": (lambda ser: ser.between(0.4, 1.1, inclusive=\"left\")),\n",
    "                        }\n",
    "                }               "
   ]
  },
  {
   "cell_type": "code",
   "execution_count": 22,
   "metadata": {},
   "outputs": [],
   "source": [
    "def steer_classifier(steer):\n",
    "    if -1 <= steer < -0.4:\n",
    "        return 1\n",
    "    elif -0.4 <= steer < -0.1:\n",
    "        return 2\n",
    "    elif -0.1 <= steer < 0.1:\n",
    "        return 3\n",
    "    elif 0.1 <= steer < 0.4:\n",
    "        return 4\n",
    "    elif 0.4 <= steer < 1.1:\n",
    "        return 5"
   ]
  },
  {
   "cell_type": "code",
   "execution_count": 23,
   "metadata": {},
   "outputs": [
    {
     "data": {
      "text/plain": [
       "0         3\n",
       "1         3\n",
       "2         3\n",
       "3         3\n",
       "4         3\n",
       "         ..\n",
       "258811    3\n",
       "258812    3\n",
       "258813    3\n",
       "258814    3\n",
       "258815    3\n",
       "Name: steer, Length: 258816, dtype: int64"
      ]
     },
     "execution_count": 23,
     "metadata": {},
     "output_type": "execute_result"
    }
   ],
   "source": [
    "df_measurements[\"steer\"].apply(steer_classifier)# .plot(kind=\"pie\")"
   ]
  },
  {
   "cell_type": "code",
   "execution_count": 24,
   "metadata": {},
   "outputs": [],
   "source": [
    "ser_temp = []\n",
    "for key_class in freq_classes[\"steer\"]:\n",
    "    ser = freq_classes[\"steer\"][key_class](df_measurements[\"steer\"])\n",
    "    ser.name = key_class\n",
    "    ser_temp.append(ser)"
   ]
  },
  {
   "cell_type": "code",
   "execution_count": 25,
   "metadata": {},
   "outputs": [],
   "source": [
    "df_classes = pd.concat(ser_temp, axis=1)\n",
    "df_classes_check = df_classes.sum(axis=1)"
   ]
  },
  {
   "cell_type": "code",
   "execution_count": 26,
   "metadata": {},
   "outputs": [],
   "source": [
    "# df_meta_data.to_pickle(\"meta_data_entire.pickle\")"
   ]
  },
  {
   "cell_type": "markdown",
   "metadata": {},
   "source": [
    "## Creating classes using histograms & first weight calculations"
   ]
  },
  {
   "cell_type": "code",
   "execution_count": 27,
   "metadata": {},
   "outputs": [],
   "source": [
    "hist, bin_edges = np.histogram(df_measurements[\"steer\"], bins=5)\n",
    "bin_edges[-1] = 1.1"
   ]
  },
  {
   "cell_type": "code",
   "execution_count": 28,
   "metadata": {},
   "outputs": [],
   "source": [
    "bin_mapping = np.digitize(df_measurements[\"steer\"], bins=bin_edges,)\n",
    "bin_mapping_count = pd.DataFrame(bin_mapping).value_counts(normalize=True).sort_index()"
   ]
  },
  {
   "cell_type": "code",
   "execution_count": 29,
   "metadata": {},
   "outputs": [],
   "source": [
    "bin_mapping_weighted = np.zeros(len(bin_mapping))\n",
    "for idx, bin_map in enumerate(bin_mapping):\n",
    "    bin_mapping_weighted[idx] = bin_mapping_count.loc[bin_map]"
   ]
  },
  {
   "cell_type": "code",
   "execution_count": 30,
   "metadata": {},
   "outputs": [],
   "source": [
    "bin_mapping_weighted = 1 / bin_mapping_weighted"
   ]
  },
  {
   "cell_type": "code",
   "execution_count": 31,
   "metadata": {},
   "outputs": [],
   "source": [
    "# (bin_mapping_weighted / bin_mapping_weighted.sum()).sum() = 1\n",
    "sample_weights_entire = (bin_mapping_weighted / bin_mapping_weighted.sum())"
   ]
  },
  {
   "cell_type": "code",
   "execution_count": 55,
   "metadata": {},
   "outputs": [],
   "source": [
    "# (bin_mapping_weighted[:64] / bin_mapping_weighted[:64].sum()).sum() = 1\n",
    "sample_weights_first_batch = (bin_mapping_weighted[:64] / bin_mapping_weighted[:64].sum())"
   ]
  },
  {
   "cell_type": "code",
   "execution_count": null,
   "metadata": {},
   "outputs": [],
   "source": []
  }
 ],
 "metadata": {
  "kernelspec": {
   "display_name": "Python 3",
   "language": "python",
   "name": "python3"
  },
  "language_info": {
   "codemirror_mode": {
    "name": "ipython",
    "version": 3
   },
   "file_extension": ".py",
   "mimetype": "text/x-python",
   "name": "python",
   "nbconvert_exporter": "python",
   "pygments_lexer": "ipython3",
   "version": "3.6.9"
  },
  "vscode": {
   "interpreter": {
    "hash": "bc80d0638afb8ec7c43f4b834002a598fcddbd6e8bf5db40ad8cba47e68e6a97"
   }
  }
 },
 "nbformat": 4,
 "nbformat_minor": 2
}
