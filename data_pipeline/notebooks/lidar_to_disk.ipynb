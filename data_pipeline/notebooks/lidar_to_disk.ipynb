{
 "cells": [
  {
   "cell_type": "code",
   "execution_count": 2,
   "metadata": {},
   "outputs": [
    {
     "name": "stderr",
     "output_type": "stream",
     "text": [
      "/Users/julianvonklitzing/miniforge3/envs/carla/lib/python3.8/site-packages/tqdm/auto.py:22: TqdmWarning: IProgress not found. Please update jupyter and ipywidgets. See https://ipywidgets.readthedocs.io/en/stable/user_install.html\n",
      "  from .autonotebook import tqdm as notebook_tqdm\n"
     ]
    }
   ],
   "source": [
    "import sys\n",
    "import os\n",
    "sys.path.append(\"..\")\n",
    "from tqdm import tqdm\n",
    "import numpy as np\n",
    "from utils import create_metadata_df\n",
    "from dataset_xy import CARLADatasetXY\n",
    "from data_preprocessing import preprocessing\n",
    "\n",
    "from PIL import Image\n",
    "import cv2\n"
   ]
  },
  {
   "cell_type": "code",
   "execution_count": 6,
   "metadata": {},
   "outputs": [
    {
     "name": "stdout",
     "output_type": "stream",
     "text": [
      "Varying number files among input types: ../../../end2endappras/data/data/cycl_dataset_23_11/Routes_non-straight-junction-Scen4_Town07_junction_Seed2000/non-straight-junction-Scen4_Town07_junction_route105_11_24_01_59_00/lidar_bev\n",
      "Varying number files among input types: ../../../end2endappras/data/data/rl_dataset_23_11/Routes_clipped_Town05_rl_Seed0/clipped_Town05_rl_route30_11_23_17_42_15/lidar_trans\n"
     ]
    }
   ],
   "source": [
    "path_data = os.path.join(\"..\", \"..\", \"..\", \"end2endappras\",\"data\", \"data\")\n",
    "\n",
    "config_xy = {\"used_inputs\": [\"lidar\", \"measurements\"], \n",
    "        \"used_measurements\": [\"speed\", \"steer\", \"throttle\", \"brake\", \"command\"],\n",
    "        \"y\": [\"brake\", \"steer\", \"throttle\"],\n",
    "        \"seq_len\": 1\n",
    "        }\n",
    "\n",
    "# Create df_meta \n",
    "df_meta_data = create_metadata_df(path_data, config_xy[\"used_inputs\"])\n",
    "df_meta_data = df_meta_data.sort_values(by=[\"dir\"])\n",
    "\n",
    "# Create Dataset & DataLoader\n",
    "dataset = CARLADatasetXY(root_dir=path_data, df_meta_data=df_meta_data, config=config_xy)"
   ]
  },
  {
   "cell_type": "code",
   "execution_count": 7,
   "metadata": {},
   "outputs": [
    {
     "name": "stderr",
     "output_type": "stream",
     "text": [
      "100%|██████████| 258816/258816 [20:53<00:00, 206.55it/s]\n"
     ]
    }
   ],
   "source": [
    "df_meta = dataset.df_meta_data\n",
    "for idx in tqdm(range(len(df_meta))):\n",
    "    dir_new = os.path.join(dataset.df_meta_data[\"dir\"][idx], \"lidar_bev\")\n",
    "    if not os.path.exists(dir_new):\n",
    "        os.makedirs(dir_new)\n",
    "    path_load = os.path.join(df_meta.iloc[idx][0], \"lidar\", df_meta.iloc[idx][\"lidar\"])\n",
    "    lidar_np = dataset.load_data_from_path(path_load)\n",
    "    lidar_transformed_np = preprocessing[\"lidar\"](lidar_np)\n",
    "    lidar_img = Image.fromarray(lidar_transformed_np)\n",
    "    path_save = os.path.join(dir_new, f\"{df_meta.iloc[idx]['lidar'].split('.')[0]}{'.png'}\")\n",
    "    cv2.imwrite(path_save, lidar_transformed_np)"
   ]
  },
  {
   "cell_type": "code",
   "execution_count": null,
   "metadata": {},
   "outputs": [],
   "source": []
  },
  {
   "cell_type": "code",
   "execution_count": null,
   "metadata": {},
   "outputs": [],
   "source": []
  }
 ],
 "metadata": {
  "kernelspec": {
   "display_name": "carla",
   "language": "python",
   "name": "python3"
  },
  "language_info": {
   "codemirror_mode": {
    "name": "ipython",
    "version": 3
   },
   "file_extension": ".py",
   "mimetype": "text/x-python",
   "name": "python",
   "nbconvert_exporter": "python",
   "pygments_lexer": "ipython3",
   "version": "3.8.13"
  },
  "orig_nbformat": 4,
  "vscode": {
   "interpreter": {
    "hash": "bc80d0638afb8ec7c43f4b834002a598fcddbd6e8bf5db40ad8cba47e68e6a97"
   }
  }
 },
 "nbformat": 4,
 "nbformat_minor": 2
}
