{
 "cells": [
  {
   "cell_type": "code",
   "execution_count": 1,
   "metadata": {},
   "outputs": [
    {
     "name": "stderr",
     "output_type": "stream",
     "text": [
      "/Users/julianvonklitzing/miniforge3/envs/carla/lib/python3.8/site-packages/tqdm/auto.py:22: TqdmWarning: IProgress not found. Please update jupyter and ipywidgets. See https://ipywidgets.readthedocs.io/en/stable/user_install.html\n",
      "  from .autonotebook import tqdm as notebook_tqdm\n"
     ]
    }
   ],
   "source": [
    "import sys\n",
    "import os\n",
    "sys.path.append(\"..\")\n",
    "from tqdm import tqdm\n",
    "import numpy as np\n",
    "from utils import create_metadata_df\n",
    "from dataset_xy import CARLADatasetXY\n",
    "from data_preprocessing import transform_lidar_bev\n",
    "\n",
    "from PIL import Image\n",
    "import cv2\n"
   ]
  },
  {
   "cell_type": "code",
   "execution_count": 5,
   "metadata": {},
   "outputs": [],
   "source": [
    "path_data = os.path.join(\"..\", \"..\",\"data\", \"data\")\n",
    "path_data = os.path.join(\"..\", \"..\",\"data\", \"Noise-Dataset\")\n",
    "\n",
    "config_xy = {\"used_inputs\": [\"lidar\", \"measurements\"], \n",
    "        \"used_measurements\": [\"speed\", \"steer\", \"throttle\", \"brake\", \"command\"],\n",
    "        \"y\": [\"brake\", \"steer\", \"throttle\"],\n",
    "        \"seq_len\": 1\n",
    "        }\n",
    "\n",
    "# Create df_meta \n",
    "df_meta_data = create_metadata_df(path_data, config_xy[\"used_inputs\"])\n",
    "df_meta_data = df_meta_data.sort_values(by=[\"dir\", \"measurements\"]).reset_index(drop=True)\n",
    "\n",
    "# Create Dataset & DataLoader\n",
    "dataset = CARLADatasetXY(root_dir=path_data, df_meta_data=df_meta_data, config=config_xy)"
   ]
  },
  {
   "cell_type": "code",
   "execution_count": 6,
   "metadata": {},
   "outputs": [
    {
     "data": {
      "text/html": [
       "<div>\n",
       "<style scoped>\n",
       "    .dataframe tbody tr th:only-of-type {\n",
       "        vertical-align: middle;\n",
       "    }\n",
       "\n",
       "    .dataframe tbody tr th {\n",
       "        vertical-align: top;\n",
       "    }\n",
       "\n",
       "    .dataframe thead th {\n",
       "        text-align: right;\n",
       "    }\n",
       "</style>\n",
       "<table border=\"1\" class=\"dataframe\">\n",
       "  <thead>\n",
       "    <tr style=\"text-align: right;\">\n",
       "      <th></th>\n",
       "      <th>dir</th>\n",
       "      <th>lidar</th>\n",
       "      <th>measurements</th>\n",
       "    </tr>\n",
       "  </thead>\n",
       "  <tbody>\n",
       "    <tr>\n",
       "      <th>0</th>\n",
       "      <td>../../data/Noise-Dataset/Noise-Dataset1/Town01...</td>\n",
       "      <td>0010.npy</td>\n",
       "      <td>0010.json</td>\n",
       "    </tr>\n",
       "    <tr>\n",
       "      <th>1</th>\n",
       "      <td>../../data/Noise-Dataset/Noise-Dataset1/Town01...</td>\n",
       "      <td>0011.npy</td>\n",
       "      <td>0011.json</td>\n",
       "    </tr>\n",
       "    <tr>\n",
       "      <th>2</th>\n",
       "      <td>../../data/Noise-Dataset/Noise-Dataset1/Town01...</td>\n",
       "      <td>0012.npy</td>\n",
       "      <td>0012.json</td>\n",
       "    </tr>\n",
       "    <tr>\n",
       "      <th>3</th>\n",
       "      <td>../../data/Noise-Dataset/Noise-Dataset1/Town01...</td>\n",
       "      <td>0013.npy</td>\n",
       "      <td>0013.json</td>\n",
       "    </tr>\n",
       "    <tr>\n",
       "      <th>4</th>\n",
       "      <td>../../data/Noise-Dataset/Noise-Dataset1/Town01...</td>\n",
       "      <td>0014.npy</td>\n",
       "      <td>0014.json</td>\n",
       "    </tr>\n",
       "    <tr>\n",
       "      <th>...</th>\n",
       "      <td>...</td>\n",
       "      <td>...</td>\n",
       "      <td>...</td>\n",
       "    </tr>\n",
       "    <tr>\n",
       "      <th>11835</th>\n",
       "      <td>../../data/Noise-Dataset/Noise-Dataset2/Town07...</td>\n",
       "      <td>0035.npy</td>\n",
       "      <td>0035.json</td>\n",
       "    </tr>\n",
       "    <tr>\n",
       "      <th>11836</th>\n",
       "      <td>../../data/Noise-Dataset/Noise-Dataset2/Town07...</td>\n",
       "      <td>0036.npy</td>\n",
       "      <td>0036.json</td>\n",
       "    </tr>\n",
       "    <tr>\n",
       "      <th>11837</th>\n",
       "      <td>../../data/Noise-Dataset/Noise-Dataset2/Town07...</td>\n",
       "      <td>0037.npy</td>\n",
       "      <td>0037.json</td>\n",
       "    </tr>\n",
       "    <tr>\n",
       "      <th>11838</th>\n",
       "      <td>../../data/Noise-Dataset/Noise-Dataset2/Town07...</td>\n",
       "      <td>0038.npy</td>\n",
       "      <td>0038.json</td>\n",
       "    </tr>\n",
       "    <tr>\n",
       "      <th>11839</th>\n",
       "      <td>../../data/Noise-Dataset/Noise-Dataset2/Town07...</td>\n",
       "      <td>0039.npy</td>\n",
       "      <td>0039.json</td>\n",
       "    </tr>\n",
       "  </tbody>\n",
       "</table>\n",
       "<p>11840 rows × 3 columns</p>\n",
       "</div>"
      ],
      "text/plain": [
       "                                                     dir     lidar  \\\n",
       "0      ../../data/Noise-Dataset/Noise-Dataset1/Town01...  0010.npy   \n",
       "1      ../../data/Noise-Dataset/Noise-Dataset1/Town01...  0011.npy   \n",
       "2      ../../data/Noise-Dataset/Noise-Dataset1/Town01...  0012.npy   \n",
       "3      ../../data/Noise-Dataset/Noise-Dataset1/Town01...  0013.npy   \n",
       "4      ../../data/Noise-Dataset/Noise-Dataset1/Town01...  0014.npy   \n",
       "...                                                  ...       ...   \n",
       "11835  ../../data/Noise-Dataset/Noise-Dataset2/Town07...  0035.npy   \n",
       "11836  ../../data/Noise-Dataset/Noise-Dataset2/Town07...  0036.npy   \n",
       "11837  ../../data/Noise-Dataset/Noise-Dataset2/Town07...  0037.npy   \n",
       "11838  ../../data/Noise-Dataset/Noise-Dataset2/Town07...  0038.npy   \n",
       "11839  ../../data/Noise-Dataset/Noise-Dataset2/Town07...  0039.npy   \n",
       "\n",
       "      measurements  \n",
       "0        0010.json  \n",
       "1        0011.json  \n",
       "2        0012.json  \n",
       "3        0013.json  \n",
       "4        0014.json  \n",
       "...            ...  \n",
       "11835    0035.json  \n",
       "11836    0036.json  \n",
       "11837    0037.json  \n",
       "11838    0038.json  \n",
       "11839    0039.json  \n",
       "\n",
       "[11840 rows x 3 columns]"
      ]
     },
     "execution_count": 6,
     "metadata": {},
     "output_type": "execute_result"
    }
   ],
   "source": [
    "df_meta_data"
   ]
  },
  {
   "cell_type": "code",
   "execution_count": 7,
   "metadata": {},
   "outputs": [
    {
     "name": "stderr",
     "output_type": "stream",
     "text": [
      "100%|██████████| 11840/11840 [00:58<00:00, 201.02it/s]\n"
     ]
    }
   ],
   "source": [
    "df_meta = dataset.df_meta_data\n",
    "for idx in tqdm(range(len(df_meta))):\n",
    "    dir_new = os.path.join(dataset.df_meta_data[\"dir\"][idx], \"lidar_bev\")\n",
    "    if not os.path.exists(dir_new):\n",
    "        os.makedirs(dir_new)\n",
    "    path_load = os.path.join(df_meta.iloc[idx][0], \"lidar\", df_meta.iloc[idx][\"lidar\"])\n",
    "    lidar_np = dataset.load_data_from_path(path_load)\n",
    "    lidar_transformed_np = transform_lidar_bev(lidar_np)\n",
    "    lidar_img = Image.fromarray(lidar_transformed_np)\n",
    "    path_save = os.path.join(dir_new, f\"{df_meta.iloc[idx]['lidar'].split('.')[0]}{'.png'}\")\n",
    "    cv2.imwrite(path_save, lidar_transformed_np)"
   ]
  },
  {
   "cell_type": "markdown",
   "metadata": {},
   "source": []
  },
  {
   "cell_type": "code",
   "execution_count": null,
   "metadata": {},
   "outputs": [],
   "source": []
  },
  {
   "cell_type": "code",
   "execution_count": null,
   "metadata": {},
   "outputs": [],
   "source": []
  }
 ],
 "metadata": {
  "kernelspec": {
   "display_name": "carla",
   "language": "python",
   "name": "python3"
  },
  "language_info": {
   "codemirror_mode": {
    "name": "ipython",
    "version": 3
   },
   "file_extension": ".py",
   "mimetype": "text/x-python",
   "name": "python",
   "nbconvert_exporter": "python",
   "pygments_lexer": "ipython3",
   "version": "3.8.13"
  },
  "orig_nbformat": 4,
  "vscode": {
   "interpreter": {
    "hash": "bc80d0638afb8ec7c43f4b834002a598fcddbd6e8bf5db40ad8cba47e68e6a97"
   }
  }
 },
 "nbformat": 4,
 "nbformat_minor": 2
}
