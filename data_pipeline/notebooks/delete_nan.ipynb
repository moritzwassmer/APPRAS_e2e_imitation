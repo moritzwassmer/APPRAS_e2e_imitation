{
 "cells": [
  {
   "cell_type": "code",
   "execution_count": 1,
   "metadata": {},
   "outputs": [
    {
     "name": "stderr",
     "output_type": "stream",
     "text": [
      "/Users/julianvonklitzing/miniforge3/envs/carla/lib/python3.8/site-packages/tqdm/auto.py:22: TqdmWarning: IProgress not found. Please update jupyter and ipywidgets. See https://ipywidgets.readthedocs.io/en/stable/user_install.html\n",
      "  from .autonotebook import tqdm as notebook_tqdm\n"
     ]
    }
   ],
   "source": [
    "# original size 258866 # 258841 # 258816\n",
    "import sys\n",
    "import os\n",
    "from torch.utils.data import DataLoader\n",
    "sys.path.append(\"..\")\n",
    "from tqdm import tqdm\n",
    "import numpy as np\n",
    "import pandas as pd\n",
    "\n",
    "from utils import train_test_split, create_metadata_df\n",
    "from dataset_xy import CARLADatasetXY\n",
    "import json\n",
    "from send2trash import send2trash"
   ]
  },
  {
   "cell_type": "code",
   "execution_count": 2,
   "metadata": {},
   "outputs": [],
   "source": [
    "path_data = os.path.join(\"..\", \"..\", \"data\", \"data\")\n",
    "\n",
    "config_xy = {\"used_inputs\": [\"measurements\"], \n",
    "        \"used_measurements\": [\"speed\", \"steer\", \"throttle\", \"brake\", \"command\"],\n",
    "        \"y\": [\"brake\", \"steer\", \"throttle\"],\n",
    "        \"seq_len\": 1\n",
    "        }\n",
    "\n",
    "# Create df_meta \n",
    "df_meta_data = create_metadata_df(path_data, config_xy[\"used_inputs\"])\n",
    "\n",
    "# Create Dataset & DataLoader\n",
    "dataset = CARLADatasetXY(root_dir=path_data, df_meta_data=df_meta_data, config=config_xy)\n",
    "dataloader = DataLoader(dataset=dataset, batch_size=64, num_workers=0, sampler=None, shuffle=False)"
   ]
  },
  {
   "cell_type": "code",
   "execution_count": 3,
   "metadata": {},
   "outputs": [],
   "source": [
    "def measurements_to_df(dataloader):\n",
    "    idxs, speed, steer, throttle, brake, command = [], [], [], [], [], []\n",
    "    for idx, (x, y) in tqdm(enumerate(dataloader)):\n",
    "        idxs.append(idx)\n",
    "        speed += x['speed'].flatten().tolist()\n",
    "        command += x['command'].flatten().tolist()\n",
    "        steer += y['steer'].flatten().tolist()\n",
    "        throttle += y['throttle'].flatten().tolist()\n",
    "        brake += y['brake'].flatten().tolist()\n",
    "\n",
    "    df_measurements = pd.DataFrame({\"speed\": speed, \"command\": command, \"steer\": steer, \"throttle\": throttle, \"brake\": brake}, index=list(range(len(speed))))\n",
    "    df_measurements.to_pickle(\"measurements_.pickle\")\n",
    "    return df_measurements\n",
    "\n",
    "def remove_entries_at_indices(idx_nan_list, df_meta_entire):\n",
    "    count_files_deleted = 0\n",
    "    for idx_nan in idx_nan_list:\n",
    "        path_nan = os.path.join(df_meta_entire.loc[idx_nan][\"dir\"], \"measurements\", df_meta_entire.loc[idx_nan][\"measurements\"])\n",
    "        with open(path_nan, 'r') as f:\n",
    "            measurements = json.load(f)\n",
    "        if not np.isnan(measurements[\"steer\"]):\n",
    "            print(\"Break: indexes do not fit!\")\n",
    "            break\n",
    "        dir = df_meta_entire[\"dir\"].loc[idx_nan]\n",
    "        dirs_sensors = os.listdir(dir)\n",
    "        number_entry = df_meta_entire[\"measurements\"].loc[idx_nan].split(\".\")[0]\n",
    "        for dir_sensor in dirs_sensors:\n",
    "            if not dir_sensor.startswith(\".\"):\n",
    "                files = os.listdir(os.path.join(dir, dir_sensor))\n",
    "                for file in files:\n",
    "                    if file.startswith(number_entry):\n",
    "                        count_files_deleted += 1\n",
    "                        # os.remove(os.path.join(dir, dir_sensor, file))\n",
    "                        send2trash(os.path.join(dir, dir_sensor, file))\n",
    "    return count_files_deleted\n",
    "\n",
    "def remove_steer_nan_entries(df_meta_entire, dataloader):\n",
    "    df_measurements = measurements_to_df(dataloader)\n",
    "    print(\"df_measurements was created\")\n",
    "    indices_nan = df_meta_data[df_measurements[\"steer\"].isna()].index.tolist()\n",
    "    remove_entries_at_indices(indices_nan, df_meta_entire)\n",
    "    return indices_nan"
   ]
  },
  {
   "cell_type": "code",
   "execution_count": 4,
   "metadata": {},
   "outputs": [
    {
     "name": "stderr",
     "output_type": "stream",
     "text": [
      "448it [00:14, 30.92it/s]"
     ]
    }
   ],
   "source": [
    "indices_nan = remove_steer_nan_entries(df_meta_data, dataloader)"
   ]
  },
  {
   "cell_type": "code",
   "execution_count": null,
   "metadata": {},
   "outputs": [],
   "source": [
    "# should be 25\n",
    "len(indices_nan)"
   ]
  }
 ],
 "metadata": {
  "kernelspec": {
   "display_name": "carla",
   "language": "python",
   "name": "python3"
  },
  "language_info": {
   "codemirror_mode": {
    "name": "ipython",
    "version": 3
   },
   "file_extension": ".py",
   "mimetype": "text/x-python",
   "name": "python",
   "nbconvert_exporter": "python",
   "pygments_lexer": "ipython3",
   "version": "3.8.13"
  },
  "orig_nbformat": 4,
  "vscode": {
   "interpreter": {
    "hash": "bc80d0638afb8ec7c43f4b834002a598fcddbd6e8bf5db40ad8cba47e68e6a97"
   }
  }
 },
 "nbformat": 4,
 "nbformat_minor": 2
}
