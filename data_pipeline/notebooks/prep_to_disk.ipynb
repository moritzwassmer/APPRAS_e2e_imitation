{
 "cells": [
  {
   "cell_type": "code",
   "execution_count": 7,
   "metadata": {},
   "outputs": [],
   "source": [
    "import sys\n",
    "import os\n",
    "from torch.utils.data import DataLoader\n",
    "sys.path.append(\"..\")\n",
    "from tqdm import tqdm\n",
    "import shutil\n",
    "import torch\n",
    "import numpy as np\n",
    "\n",
    "from utils import train_test_split, create_metadata_df\n",
    "from dataset_xy import CARLADatasetXY\n",
    "from dataset import CARLADataset\n",
    "from data_preprocessing import preprocessing, transform_lidar_bev"
   ]
  },
  {
   "attachments": {},
   "cell_type": "markdown",
   "metadata": {},
   "source": [
    "# Prep & save to disk"
   ]
  },
  {
   "cell_type": "code",
   "execution_count": 133,
   "metadata": {},
   "outputs": [],
   "source": [
    "path_data = os.path.join(\"..\", \"..\", \"data\", \"data\")\n",
    "# path_data = os.path.join(\"..\", \"..\", \"data\", \"data\", \"rr_dataset_23_11\")\n",
    "#path_data = os.path.join(\"..\", \"..\", \"data\", \"data_prep_npy\")\n",
    "\n",
    "config_xy = {\"used_inputs\": [\"rgb\", \"measurements\"], \n",
    "        \"used_measurements\": [\"speed\", \"steer\", \"throttle\", \"brake\", \"command\"],\n",
    "        \"y\": [\"brake\", \"steer\", \"throttle\"],\n",
    "        \"seq_len\": 1\n",
    "        }\n",
    "\n",
    "# Create df_meta \n",
    "df_meta_data = create_metadata_df(path_data, config_xy[\"used_inputs\"])\n",
    "\n",
    "# Create Dataset & DataLoader\n",
    "dataset = CARLADatasetXY(root_dir=path_data, df_meta_data=df_meta_data, config=config_xy)\n"
   ]
  },
  {
   "cell_type": "code",
   "execution_count": 4,
   "metadata": {},
   "outputs": [],
   "source": [
    "def rgb_to_disk(sensor, format):\n",
    "    assert format in [\".npy\", \".npz\"]\n",
    "    fn_save = np.save if format == \".npy\" else np.savez_compressed\n",
    "    # save npy/ npz\n",
    "    df_meta = dataset.df_meta_data\n",
    "    for idx in tqdm(range(len(df_meta))):\n",
    "        path_parts = dataset.df_meta_data[\"dir\"][idx].split(os.sep)\n",
    "        path_parts[path_parts.index(\"data\") + 1] += \"_prep_\"\n",
    "        dir_name_zip = os.path.join(*path_parts, \"rgb\")\n",
    "        if not os.path.exists(dir_name_zip):\n",
    "            os.makedirs(dir_name_zip)\n",
    "            shutil.copytree(os.path.join(dataset.df_meta_data[\"dir\"][idx], \"measurements\"), os.path.join(*path_parts, \"measurements\"))\n",
    "        path = os.path.join(df_meta.iloc[idx][0], \"rgb\", df_meta.iloc[idx][1])\n",
    "        img_np = dataset.load_data_from_path(path)\n",
    "        img_torch = torch.Tensor(img_np)\n",
    "        # img_torch_prep = preprocessing[\"rgb\"](img_torch)\n",
    "        # img_np_prep = img_torch_prep.numpy()\n",
    "        filename_np = os.path.join(dir_name_zip, f\"{df_meta.iloc[idx]['rgb'].split('.')[0]}{format}\")\n",
    "        # torch.save(img_torch_prep, filename_torch)\n",
    "        with open(filename_np, 'wb') as f:\n",
    "            fn_save(f, img_np)"
   ]
  },
  {
   "cell_type": "code",
   "execution_count": 134,
   "metadata": {},
   "outputs": [],
   "source": [
    "# Saves preped data in same folder structure under rgb_prep\n",
    "def rgb_to_disk_2(format):\n",
    "    assert format in [\".npy\", \".npz\", \".pt\"]\n",
    "    fn_save = np.save if format == \".npy\" else np.savez_compressed\n",
    "    # save npy/ npz\n",
    "    df_meta = dataset.df_meta_data\n",
    "    for idx in tqdm(range(len(df_meta))):\n",
    "        path_parts = dataset.df_meta_data[\"dir\"][idx].split(os.sep)\n",
    "        # path_parts[path_parts.index(\"data\") + 1] += \"_prep_npy\"\n",
    "        dir_name_zip = os.path.join(*path_parts, \"rgb_prep\")\n",
    "        if not os.path.exists(dir_name_zip):\n",
    "            os.makedirs(dir_name_zip)\n",
    "            # shutil.copytree(os.path.join(dataset.df_meta_data[\"dir\"][idx], \"measurements\"), os.path.join(*path_parts, \"measurements\"))\n",
    "        path = os.path.join(df_meta.iloc[idx][0], \"rgb\", df_meta.iloc[idx][1])\n",
    "        img_np = dataset.load_data_from_path(path)\n",
    "        img_torch = torch.Tensor(img_np)\n",
    "        img_torch_prep = preprocessing[\"rgb\"](img_torch)\n",
    "        img_np_prep = img_torch_prep.numpy()\n",
    "        filename_np = os.path.join(dir_name_zip, f\"{df_meta.iloc[idx]['rgb'].split('.')[0]}{format}\")\n",
    "        # torch.save(img_torch_prep, filename_torch)\n",
    "        with open(filename_np, 'wb') as f:\n",
    "            fn_save(f, img_np_prep)"
   ]
  },
  {
   "cell_type": "code",
   "execution_count": 138,
   "metadata": {},
   "outputs": [
    {
     "data": {
      "text/plain": [
       "'../../data/data/cycl_dataset_23_11/Routes_non-straight-junction-Scen4_Town07_junction_Seed2000/non-straight-junction-Scen4_Town07_junction_route28_11_23_22_00_23'"
      ]
     },
     "execution_count": 138,
     "metadata": {},
     "output_type": "execute_result"
    }
   ],
   "source": [
    "df_meta_data.loc[0][\"dir\"]"
   ]
  },
  {
   "cell_type": "code",
   "execution_count": 135,
   "metadata": {},
   "outputs": [
    {
     "name": "stderr",
     "output_type": "stream",
     "text": [
      "  0%|          | 882/258816 [00:12<1:02:30, 68.76it/s]\n"
     ]
    },
    {
     "ename": "KeyboardInterrupt",
     "evalue": "",
     "output_type": "error",
     "traceback": [
      "\u001b[0;31m---------------------------------------------------------------------------\u001b[0m",
      "\u001b[0;31mKeyboardInterrupt\u001b[0m                         Traceback (most recent call last)",
      "Cell \u001b[0;32mIn[135], line 1\u001b[0m\n\u001b[0;32m----> 1\u001b[0m rgb_to_disk_2(\u001b[39m\"\u001b[39;49m\u001b[39m.npy\u001b[39;49m\u001b[39m\"\u001b[39;49m)\n",
      "Cell \u001b[0;32mIn[134], line 22\u001b[0m, in \u001b[0;36mrgb_to_disk_2\u001b[0;34m(format)\u001b[0m\n\u001b[1;32m     20\u001b[0m \u001b[39m# torch.save(img_torch_prep, filename_torch)\u001b[39;00m\n\u001b[1;32m     21\u001b[0m \u001b[39mwith\u001b[39;00m \u001b[39mopen\u001b[39m(filename_np, \u001b[39m'\u001b[39m\u001b[39mwb\u001b[39m\u001b[39m'\u001b[39m) \u001b[39mas\u001b[39;00m f:\n\u001b[0;32m---> 22\u001b[0m     fn_save(f, img_np_prep)\n",
      "File \u001b[0;32m<__array_function__ internals>:180\u001b[0m, in \u001b[0;36msave\u001b[0;34m(*args, **kwargs)\u001b[0m\n",
      "File \u001b[0;32m~/miniforge3/envs/carla/lib/python3.8/site-packages/numpy/lib/npyio.py:502\u001b[0m, in \u001b[0;36msave\u001b[0;34m(file, arr, allow_pickle, fix_imports)\u001b[0m\n\u001b[1;32m    500\u001b[0m \u001b[39mwith\u001b[39;00m file_ctx \u001b[39mas\u001b[39;00m fid:\n\u001b[1;32m    501\u001b[0m     arr \u001b[39m=\u001b[39m np\u001b[39m.\u001b[39masanyarray(arr)\n\u001b[0;32m--> 502\u001b[0m     \u001b[39mformat\u001b[39;49m\u001b[39m.\u001b[39;49mwrite_array(fid, arr, allow_pickle\u001b[39m=\u001b[39;49mallow_pickle,\n\u001b[1;32m    503\u001b[0m                        pickle_kwargs\u001b[39m=\u001b[39;49m\u001b[39mdict\u001b[39;49m(fix_imports\u001b[39m=\u001b[39;49mfix_imports))\n",
      "File \u001b[0;32m~/miniforge3/envs/carla/lib/python3.8/site-packages/numpy/lib/format.py:689\u001b[0m, in \u001b[0;36mwrite_array\u001b[0;34m(fp, array, version, allow_pickle, pickle_kwargs)\u001b[0m\n\u001b[1;32m    687\u001b[0m \u001b[39melse\u001b[39;00m:\n\u001b[1;32m    688\u001b[0m     \u001b[39mif\u001b[39;00m isfileobj(fp):\n\u001b[0;32m--> 689\u001b[0m         array\u001b[39m.\u001b[39;49mtofile(fp)\n\u001b[1;32m    690\u001b[0m     \u001b[39melse\u001b[39;00m:\n\u001b[1;32m    691\u001b[0m         \u001b[39mfor\u001b[39;00m chunk \u001b[39min\u001b[39;00m numpy\u001b[39m.\u001b[39mnditer(\n\u001b[1;32m    692\u001b[0m                 array, flags\u001b[39m=\u001b[39m[\u001b[39m'\u001b[39m\u001b[39mexternal_loop\u001b[39m\u001b[39m'\u001b[39m, \u001b[39m'\u001b[39m\u001b[39mbuffered\u001b[39m\u001b[39m'\u001b[39m, \u001b[39m'\u001b[39m\u001b[39mzerosize_ok\u001b[39m\u001b[39m'\u001b[39m],\n\u001b[1;32m    693\u001b[0m                 buffersize\u001b[39m=\u001b[39mbuffersize, order\u001b[39m=\u001b[39m\u001b[39m'\u001b[39m\u001b[39mC\u001b[39m\u001b[39m'\u001b[39m):\n",
      "\u001b[0;31mKeyboardInterrupt\u001b[0m: "
     ]
    }
   ],
   "source": [
    "rgb_to_disk_2(\".npy\")"
   ]
  },
  {
   "cell_type": "code",
   "execution_count": 37,
   "metadata": {},
   "outputs": [],
   "source": [
    "def lidar_transform_to_disk():\n",
    "    # save npy/ npz\n",
    "    df_meta = dataset.df_meta_data\n",
    "    for idx in tqdm(range(len(df_meta))):\n",
    "        dir_new = os.path.join(dataset.df_meta_data[\"dir\"][idx], \"lidar_prep\")\n",
    "        if not os.path.exists(dir_new):\n",
    "            os.makedirs(dir_new)\n",
    "        path_load = os.path.join(df_meta.iloc[idx][0], \"lidar\", df_meta.iloc[idx][\"lidar\"])\n",
    "        lidar_np = dataset.load_data_from_path(path_load)\n",
    "        lidar_transformed_np = preprocessing[\"lidar\"](lidar_np)\n",
    "        lidar_img = Image.fromarray(lidar_transformed_np)\n",
    "        path_save = os.path.join(dir_new, f\"{df_meta.iloc[idx]['lidar'].split('.')[0]}{'.png'}\")\n",
    "        lidar_img.save(path_save)"
   ]
  },
  {
   "cell_type": "code",
   "execution_count": 38,
   "metadata": {},
   "outputs": [
    {
     "name": "stderr",
     "output_type": "stream",
     "text": [
      "  0%|          | 0/258816 [00:00<?, ?it/s]\n"
     ]
    },
    {
     "ename": "KeyError",
     "evalue": "'lidar'",
     "output_type": "error",
     "traceback": [
      "\u001b[0;31m---------------------------------------------------------------------------\u001b[0m",
      "\u001b[0;31mKeyError\u001b[0m                                  Traceback (most recent call last)",
      "File \u001b[0;32m~/miniforge3/envs/carla/lib/python3.8/site-packages/pandas/core/indexes/base.py:3803\u001b[0m, in \u001b[0;36mIndex.get_loc\u001b[0;34m(self, key, method, tolerance)\u001b[0m\n\u001b[1;32m   3802\u001b[0m \u001b[39mtry\u001b[39;00m:\n\u001b[0;32m-> 3803\u001b[0m     \u001b[39mreturn\u001b[39;00m \u001b[39mself\u001b[39;49m\u001b[39m.\u001b[39;49m_engine\u001b[39m.\u001b[39;49mget_loc(casted_key)\n\u001b[1;32m   3804\u001b[0m \u001b[39mexcept\u001b[39;00m \u001b[39mKeyError\u001b[39;00m \u001b[39mas\u001b[39;00m err:\n",
      "File \u001b[0;32m~/miniforge3/envs/carla/lib/python3.8/site-packages/pandas/_libs/index.pyx:138\u001b[0m, in \u001b[0;36mpandas._libs.index.IndexEngine.get_loc\u001b[0;34m()\u001b[0m\n",
      "File \u001b[0;32m~/miniforge3/envs/carla/lib/python3.8/site-packages/pandas/_libs/index.pyx:165\u001b[0m, in \u001b[0;36mpandas._libs.index.IndexEngine.get_loc\u001b[0;34m()\u001b[0m\n",
      "File \u001b[0;32mpandas/_libs/hashtable_class_helper.pxi:5745\u001b[0m, in \u001b[0;36mpandas._libs.hashtable.PyObjectHashTable.get_item\u001b[0;34m()\u001b[0m\n",
      "File \u001b[0;32mpandas/_libs/hashtable_class_helper.pxi:5753\u001b[0m, in \u001b[0;36mpandas._libs.hashtable.PyObjectHashTable.get_item\u001b[0;34m()\u001b[0m\n",
      "\u001b[0;31mKeyError\u001b[0m: 'lidar'",
      "\nThe above exception was the direct cause of the following exception:\n",
      "\u001b[0;31mKeyError\u001b[0m                                  Traceback (most recent call last)",
      "Cell \u001b[0;32mIn[38], line 1\u001b[0m\n\u001b[0;32m----> 1\u001b[0m lidar_transform_to_disk()\n",
      "Cell \u001b[0;32mIn[37], line 8\u001b[0m, in \u001b[0;36mlidar_transform_to_disk\u001b[0;34m()\u001b[0m\n\u001b[1;32m      6\u001b[0m \u001b[39mif\u001b[39;00m \u001b[39mnot\u001b[39;00m os\u001b[39m.\u001b[39mpath\u001b[39m.\u001b[39mexists(dir_new):\n\u001b[1;32m      7\u001b[0m     os\u001b[39m.\u001b[39mmakedirs(dir_new)\n\u001b[0;32m----> 8\u001b[0m path_load \u001b[39m=\u001b[39m os\u001b[39m.\u001b[39mpath\u001b[39m.\u001b[39mjoin(df_meta\u001b[39m.\u001b[39miloc[idx][\u001b[39m0\u001b[39m], \u001b[39m\"\u001b[39m\u001b[39mlidar\u001b[39m\u001b[39m\"\u001b[39m, df_meta\u001b[39m.\u001b[39;49miloc[idx][\u001b[39m\"\u001b[39;49m\u001b[39mlidar\u001b[39;49m\u001b[39m\"\u001b[39;49m])\n\u001b[1;32m      9\u001b[0m lidar_np \u001b[39m=\u001b[39m dataset\u001b[39m.\u001b[39mload_data_from_path(path_load)\n\u001b[1;32m     10\u001b[0m lidar_transformed_np \u001b[39m=\u001b[39m preprocessing[\u001b[39m\"\u001b[39m\u001b[39mlidar\u001b[39m\u001b[39m\"\u001b[39m](lidar_np)\n",
      "File \u001b[0;32m~/miniforge3/envs/carla/lib/python3.8/site-packages/pandas/core/series.py:981\u001b[0m, in \u001b[0;36mSeries.__getitem__\u001b[0;34m(self, key)\u001b[0m\n\u001b[1;32m    978\u001b[0m     \u001b[39mreturn\u001b[39;00m \u001b[39mself\u001b[39m\u001b[39m.\u001b[39m_values[key]\n\u001b[1;32m    980\u001b[0m \u001b[39melif\u001b[39;00m key_is_scalar:\n\u001b[0;32m--> 981\u001b[0m     \u001b[39mreturn\u001b[39;00m \u001b[39mself\u001b[39;49m\u001b[39m.\u001b[39;49m_get_value(key)\n\u001b[1;32m    983\u001b[0m \u001b[39mif\u001b[39;00m is_hashable(key):\n\u001b[1;32m    984\u001b[0m     \u001b[39m# Otherwise index.get_value will raise InvalidIndexError\u001b[39;00m\n\u001b[1;32m    985\u001b[0m     \u001b[39mtry\u001b[39;00m:\n\u001b[1;32m    986\u001b[0m         \u001b[39m# For labels that don't resolve as scalars like tuples and frozensets\u001b[39;00m\n",
      "File \u001b[0;32m~/miniforge3/envs/carla/lib/python3.8/site-packages/pandas/core/series.py:1089\u001b[0m, in \u001b[0;36mSeries._get_value\u001b[0;34m(self, label, takeable)\u001b[0m\n\u001b[1;32m   1086\u001b[0m     \u001b[39mreturn\u001b[39;00m \u001b[39mself\u001b[39m\u001b[39m.\u001b[39m_values[label]\n\u001b[1;32m   1088\u001b[0m \u001b[39m# Similar to Index.get_value, but we do not fall back to positional\u001b[39;00m\n\u001b[0;32m-> 1089\u001b[0m loc \u001b[39m=\u001b[39m \u001b[39mself\u001b[39;49m\u001b[39m.\u001b[39;49mindex\u001b[39m.\u001b[39;49mget_loc(label)\n\u001b[1;32m   1090\u001b[0m \u001b[39mreturn\u001b[39;00m \u001b[39mself\u001b[39m\u001b[39m.\u001b[39mindex\u001b[39m.\u001b[39m_get_values_for_loc(\u001b[39mself\u001b[39m, loc, label)\n",
      "File \u001b[0;32m~/miniforge3/envs/carla/lib/python3.8/site-packages/pandas/core/indexes/base.py:3805\u001b[0m, in \u001b[0;36mIndex.get_loc\u001b[0;34m(self, key, method, tolerance)\u001b[0m\n\u001b[1;32m   3803\u001b[0m     \u001b[39mreturn\u001b[39;00m \u001b[39mself\u001b[39m\u001b[39m.\u001b[39m_engine\u001b[39m.\u001b[39mget_loc(casted_key)\n\u001b[1;32m   3804\u001b[0m \u001b[39mexcept\u001b[39;00m \u001b[39mKeyError\u001b[39;00m \u001b[39mas\u001b[39;00m err:\n\u001b[0;32m-> 3805\u001b[0m     \u001b[39mraise\u001b[39;00m \u001b[39mKeyError\u001b[39;00m(key) \u001b[39mfrom\u001b[39;00m \u001b[39merr\u001b[39;00m\n\u001b[1;32m   3806\u001b[0m \u001b[39mexcept\u001b[39;00m \u001b[39mTypeError\u001b[39;00m:\n\u001b[1;32m   3807\u001b[0m     \u001b[39m# If we have a listlike key, _check_indexing_error will raise\u001b[39;00m\n\u001b[1;32m   3808\u001b[0m     \u001b[39m#  InvalidIndexError. Otherwise we fall through and re-raise\u001b[39;00m\n\u001b[1;32m   3809\u001b[0m     \u001b[39m#  the TypeError.\u001b[39;00m\n\u001b[1;32m   3810\u001b[0m     \u001b[39mself\u001b[39m\u001b[39m.\u001b[39m_check_indexing_error(key)\n",
      "\u001b[0;31mKeyError\u001b[0m: 'lidar'"
     ]
    }
   ],
   "source": [
    "lidar_transform_to_disk()"
   ]
  },
  {
   "cell_type": "code",
   "execution_count": 5,
   "metadata": {},
   "outputs": [
    {
     "name": "stderr",
     "output_type": "stream",
     "text": [
      "  0%|          | 798/258841 [00:06<36:47, 116.91it/s]\n"
     ]
    },
    {
     "ename": "KeyboardInterrupt",
     "evalue": "",
     "output_type": "error",
     "traceback": [
      "\u001b[0;31m---------------------------------------------------------------------------\u001b[0m",
      "\u001b[0;31mKeyboardInterrupt\u001b[0m                         Traceback (most recent call last)",
      "Cell \u001b[0;32mIn[5], line 1\u001b[0m\n\u001b[0;32m----> 1\u001b[0m prep_to_disk(\u001b[39m\"\u001b[39;49m\u001b[39m.npy\u001b[39;49m\u001b[39m\"\u001b[39;49m)\n",
      "Cell \u001b[0;32mIn[4], line 14\u001b[0m, in \u001b[0;36mprep_to_disk\u001b[0;34m(format)\u001b[0m\n\u001b[1;32m     12\u001b[0m     shutil\u001b[39m.\u001b[39mcopytree(os\u001b[39m.\u001b[39mpath\u001b[39m.\u001b[39mjoin(dataset\u001b[39m.\u001b[39mdf_meta_data[\u001b[39m\"\u001b[39m\u001b[39mdir\u001b[39m\u001b[39m\"\u001b[39m][idx], \u001b[39m\"\u001b[39m\u001b[39mmeasurements\u001b[39m\u001b[39m\"\u001b[39m), os\u001b[39m.\u001b[39mpath\u001b[39m.\u001b[39mjoin(\u001b[39m*\u001b[39mpath_parts, \u001b[39m\"\u001b[39m\u001b[39mmeasurements\u001b[39m\u001b[39m\"\u001b[39m))\n\u001b[1;32m     13\u001b[0m path \u001b[39m=\u001b[39m os\u001b[39m.\u001b[39mpath\u001b[39m.\u001b[39mjoin(df_meta\u001b[39m.\u001b[39miloc[idx][\u001b[39m0\u001b[39m], \u001b[39m\"\u001b[39m\u001b[39mrgb\u001b[39m\u001b[39m\"\u001b[39m, df_meta\u001b[39m.\u001b[39miloc[idx][\u001b[39m1\u001b[39m])\n\u001b[0;32m---> 14\u001b[0m img_np \u001b[39m=\u001b[39m dataset\u001b[39m.\u001b[39;49mload_data_from_path(path)\n\u001b[1;32m     15\u001b[0m img_torch \u001b[39m=\u001b[39m torch\u001b[39m.\u001b[39mTensor(img_np)\n\u001b[1;32m     16\u001b[0m \u001b[39m# img_torch_prep = preprocessing[\"rgb\"](img_torch)\u001b[39;00m\n\u001b[1;32m     17\u001b[0m \u001b[39m# img_np_prep = img_torch_prep.numpy()\u001b[39;00m\n",
      "File \u001b[0;32m~/Documents/GitHub/end2endappras/data_pipeline/notebooks/../dataset_xy.py:112\u001b[0m, in \u001b[0;36mCARLADatasetXY.load_data_from_path\u001b[0;34m(self, path)\u001b[0m\n\u001b[1;32m    110\u001b[0m data \u001b[39m=\u001b[39m \u001b[39mNone\u001b[39;00m\n\u001b[1;32m    111\u001b[0m \u001b[39mif\u001b[39;00m file_format \u001b[39min\u001b[39;00m [\u001b[39m\"\u001b[39m\u001b[39m.png\u001b[39m\u001b[39m\"\u001b[39m, \u001b[39m\"\u001b[39m\u001b[39m.jpg\u001b[39m\u001b[39m\"\u001b[39m]:\n\u001b[0;32m--> 112\u001b[0m     data \u001b[39m=\u001b[39m cv2\u001b[39m.\u001b[39;49mimread(path)\n\u001b[1;32m    113\u001b[0m     \u001b[39m# reshape to #channels; height; width\u001b[39;00m\n\u001b[1;32m    114\u001b[0m     data \u001b[39m=\u001b[39m data\u001b[39m.\u001b[39mreshape([\u001b[39m3\u001b[39m] \u001b[39m+\u001b[39m \u001b[39mlist\u001b[39m(data\u001b[39m.\u001b[39mshape)[:\u001b[39m-\u001b[39m\u001b[39m1\u001b[39m])\n",
      "\u001b[0;31mKeyboardInterrupt\u001b[0m: "
     ]
    }
   ],
   "source": [
    "lidar_transform_to_disk()"
   ]
  },
  {
   "attachments": {},
   "cell_type": "markdown",
   "metadata": {},
   "source": [
    "# Loading the prep data"
   ]
  },
  {
   "cell_type": "code",
   "execution_count": 8,
   "metadata": {},
   "outputs": [],
   "source": [
    "path_data = os.path.join(\"..\", \"..\", \"data\", \"data_prep\")\n",
    "\n",
    "config_xy = {\"used_inputs\": [\"rgb\", \"measurements\"], \n",
    "        \"used_measurements\": [\"speed\", \"steer\", \"throttle\", \"brake\", \"command\"],\n",
    "        \"y\": [\"brake\", \"steer\", \"throttle\"],\n",
    "        \"seq_len\": 1\n",
    "        }\n",
    "\n",
    "# Create df_meta \n",
    "df_meta_data = create_metadata_df(path_data, config_xy[\"used_inputs\"])\n",
    "\n",
    "# Create Dataset & DataLoader\n",
    "dataset = CARLADatasetXY(root_dir=path_data, df_meta_data=df_meta_data, config=config_xy)\n"
   ]
  },
  {
   "cell_type": "code",
   "execution_count": 9,
   "metadata": {},
   "outputs": [
    {
     "data": {
      "text/html": [
       "<div>\n",
       "<style scoped>\n",
       "    .dataframe tbody tr th:only-of-type {\n",
       "        vertical-align: middle;\n",
       "    }\n",
       "\n",
       "    .dataframe tbody tr th {\n",
       "        vertical-align: top;\n",
       "    }\n",
       "\n",
       "    .dataframe thead th {\n",
       "        text-align: right;\n",
       "    }\n",
       "</style>\n",
       "<table border=\"1\" class=\"dataframe\">\n",
       "  <thead>\n",
       "    <tr style=\"text-align: right;\">\n",
       "      <th></th>\n",
       "      <th>rgb_in_GB</th>\n",
       "      <th>measurements_in_GB</th>\n",
       "      <th>driving_time</th>\n",
       "      <th>%_of_entire_data</th>\n",
       "    </tr>\n",
       "  </thead>\n",
       "  <tbody>\n",
       "    <tr>\n",
       "      <th>0</th>\n",
       "      <td>83.95</td>\n",
       "      <td>1.14</td>\n",
       "      <td>1 day, 11:57:13</td>\n",
       "      <td>100.0</td>\n",
       "    </tr>\n",
       "  </tbody>\n",
       "</table>\n",
       "</div>"
      ],
      "text/plain": [
       "   rgb_in_GB  measurements_in_GB     driving_time  %_of_entire_data\n",
       "0      83.95                1.14  1 day, 11:57:13             100.0"
      ]
     },
     "execution_count": 9,
     "metadata": {},
     "output_type": "execute_result"
    }
   ],
   "source": [
    "dataset.get_statistics()"
   ]
  },
  {
   "attachments": {},
   "cell_type": "markdown",
   "metadata": {},
   "source": [
    "## Check speed: Loading .png and prep on fly"
   ]
  },
  {
   "cell_type": "code",
   "execution_count": 112,
   "metadata": {},
   "outputs": [],
   "source": [
    "path_data = os.path.join(\"..\", \"..\", \"data\", \"data\")\n",
    "\n",
    "config_xy = {\"used_inputs\": [\"rgb\", \"measurements\"], \n",
    "        \"used_measurements\": [\"speed\", \"steer\", \"throttle\", \"brake\", \"command\"],\n",
    "        \"y\": [\"brake\", \"steer\", \"throttle\"],\n",
    "        \"seq_len\": 1\n",
    "        }\n",
    "# Create df_meta \n",
    "df_meta_data = create_metadata_df(path_data, config_xy[\"used_inputs\"])\n",
    "\n",
    "batch_size=64\n",
    "# dataset = CARLADatasetXY(root_dir=path_data, df_meta_data=df_meta_data.head(batch_size * 20), config=config_xy)\n",
    "dataset = CARLADataset(root_dir=path_data, df_meta_data=df_meta_data.head(batch_size * 100), config=config_xy)\n",
    "dl_prep = DataLoader(dataset=dataset, batch_size=batch_size, num_workers=0, sampler=None)"
   ]
  },
  {
   "cell_type": "code",
   "execution_count": 113,
   "metadata": {},
   "outputs": [],
   "source": [
    "# for x, y in tqdm(dl_prep):\n",
    "#     x[\"rgb\"] = preprocessing[\"rgb\"](torch.squeeze(x[\"rgb\"]))"
   ]
  },
  {
   "cell_type": "code",
   "execution_count": 114,
   "metadata": {},
   "outputs": [
    {
     "name": "stderr",
     "output_type": "stream",
     "text": [
      "100%|██████████| 100/100 [01:04<00:00,  1.55it/s]\n"
     ]
    }
   ],
   "source": [
    "for batch in tqdm(dl_prep):\n",
    "    # batch\n",
    "    rgb_prep = preprocessing[\"rgb\"](torch.squeeze(batch[\"rgb\"]))"
   ]
  },
  {
   "attachments": {},
   "cell_type": "markdown",
   "metadata": {},
   "source": [
    "## Check speed: Loading .npy (but unprep because when preped 1.8MB per file because float) and then prep\n",
    "See if loading and .npy and preprocessing is still a lot faster than loading .png and preprocessing"
   ]
  },
  {
   "cell_type": "code",
   "execution_count": 115,
   "metadata": {},
   "outputs": [],
   "source": [
    "path_data = os.path.join(\"..\", \"..\", \"data\", \"data\")\n",
    "\n",
    "config_xy = {\"used_inputs\": [\"rgb\", \"measurements\"], \n",
    "        \"used_measurements\": [\"speed\", \"steer\", \"throttle\", \"brake\", \"command\"],\n",
    "        \"y\": [\"brake\", \"steer\", \"throttle\"],\n",
    "        \"seq_len\": 1\n",
    "        }\n",
    "\n",
    "# Create df_meta \n",
    "df_meta_data = create_metadata_df(path_data, config_xy[\"used_inputs\"])\n",
    "\n",
    "batch_size=64\n",
    "# dataset = CARLADatasetXY(root_dir=path_data, df_meta_data=df_meta_data.head(batch_size * 20), config=config_xy)\n",
    "dataset = CARLADataset(root_dir=path_data, df_meta_data=df_meta_data.head(batch_size * 100), config=config_xy)\n",
    "dl_prep = DataLoader(dataset=dataset, batch_size=batch_size, num_workers=0, sampler=None)"
   ]
  },
  {
   "cell_type": "code",
   "execution_count": 116,
   "metadata": {},
   "outputs": [],
   "source": [
    "# for x, y in tqdm(dl_prep):\n",
    "#     x[\"rgb\"] = preprocessing[\"rgb\"](torch.squeeze(x[\"rgb\"]))"
   ]
  },
  {
   "cell_type": "code",
   "execution_count": 117,
   "metadata": {},
   "outputs": [
    {
     "name": "stderr",
     "output_type": "stream",
     "text": [
      "100%|██████████| 100/100 [00:30<00:00,  3.26it/s]\n"
     ]
    }
   ],
   "source": [
    "for batch in tqdm(dl_prep):\n",
    "    # batch\n",
    "    rgb_prep = preprocessing[\"rgb\"](torch.squeeze(batch[\"rgb\"]))"
   ]
  },
  {
   "attachments": {},
   "cell_type": "markdown",
   "metadata": {},
   "source": [
    "## Check speed: Loading .npy preped (high storage demand)"
   ]
  },
  {
   "cell_type": "code",
   "execution_count": 124,
   "metadata": {},
   "outputs": [],
   "source": [
    "path_data = os.path.join(\"..\", \"..\", \"data\", \"data_prep_npy\")\n",
    "config_xy = {\"used_inputs\": [\"rgb\", \"measurements\"], \n",
    "        \"used_measurements\": [\"speed\", \"steer\", \"throttle\", \"brake\", \"command\"],\n",
    "        \"y\": [\"brake\", \"steer\", \"throttle\"],\n",
    "        \"seq_len\": 1\n",
    "        }\n",
    "\n",
    "# Create df_meta \n",
    "df_meta_data = create_metadata_df(path_data, config_xy[\"used_inputs\"])\n",
    "\n",
    "batch_size=64\n",
    "# dataset = CARLADatasetXY(root_dir=path_data, df_meta_data=df_meta_data.head(batch_size * 20), config=config_xy)\n",
    "dataset = CARLADataset(root_dir=path_data, df_meta_data=df_meta_data.head(batch_size * 100), config=config_xy)\n",
    "dl_prep = DataLoader(dataset=dataset, batch_size=batch_size, num_workers=0, shuffle=False)"
   ]
  },
  {
   "cell_type": "code",
   "execution_count": 126,
   "metadata": {},
   "outputs": [
    {
     "data": {
      "text/html": [
       "<div>\n",
       "<style scoped>\n",
       "    .dataframe tbody tr th:only-of-type {\n",
       "        vertical-align: middle;\n",
       "    }\n",
       "\n",
       "    .dataframe tbody tr th {\n",
       "        vertical-align: top;\n",
       "    }\n",
       "\n",
       "    .dataframe thead th {\n",
       "        text-align: right;\n",
       "    }\n",
       "</style>\n",
       "<table border=\"1\" class=\"dataframe\">\n",
       "  <thead>\n",
       "    <tr style=\"text-align: right;\">\n",
       "      <th></th>\n",
       "      <th>dir</th>\n",
       "      <th>rgb</th>\n",
       "      <th>measurements</th>\n",
       "    </tr>\n",
       "  </thead>\n",
       "  <tbody>\n",
       "    <tr>\n",
       "      <th>0</th>\n",
       "      <td>../../data/data_prep_npy/rr_dataset_23_11/Rout...</td>\n",
       "      <td>0000.npy</td>\n",
       "      <td>0000.json</td>\n",
       "    </tr>\n",
       "    <tr>\n",
       "      <th>1</th>\n",
       "      <td>../../data/data_prep_npy/rr_dataset_23_11/Rout...</td>\n",
       "      <td>0001.npy</td>\n",
       "      <td>0001.json</td>\n",
       "    </tr>\n",
       "    <tr>\n",
       "      <th>2</th>\n",
       "      <td>../../data/data_prep_npy/rr_dataset_23_11/Rout...</td>\n",
       "      <td>0002.npy</td>\n",
       "      <td>0002.json</td>\n",
       "    </tr>\n",
       "    <tr>\n",
       "      <th>3</th>\n",
       "      <td>../../data/data_prep_npy/rr_dataset_23_11/Rout...</td>\n",
       "      <td>0003.npy</td>\n",
       "      <td>0003.json</td>\n",
       "    </tr>\n",
       "    <tr>\n",
       "      <th>4</th>\n",
       "      <td>../../data/data_prep_npy/rr_dataset_23_11/Rout...</td>\n",
       "      <td>0004.npy</td>\n",
       "      <td>0004.json</td>\n",
       "    </tr>\n",
       "    <tr>\n",
       "      <th>...</th>\n",
       "      <td>...</td>\n",
       "      <td>...</td>\n",
       "      <td>...</td>\n",
       "    </tr>\n",
       "    <tr>\n",
       "      <th>5395</th>\n",
       "      <td>../../data/data_prep_npy/rr_dataset_23_11/Rout...</td>\n",
       "      <td>0052.npy</td>\n",
       "      <td>0052.json</td>\n",
       "    </tr>\n",
       "    <tr>\n",
       "      <th>5396</th>\n",
       "      <td>../../data/data_prep_npy/rr_dataset_23_11/Rout...</td>\n",
       "      <td>0053.npy</td>\n",
       "      <td>0053.json</td>\n",
       "    </tr>\n",
       "    <tr>\n",
       "      <th>5397</th>\n",
       "      <td>../../data/data_prep_npy/rr_dataset_23_11/Rout...</td>\n",
       "      <td>0054.npy</td>\n",
       "      <td>0054.json</td>\n",
       "    </tr>\n",
       "    <tr>\n",
       "      <th>5398</th>\n",
       "      <td>../../data/data_prep_npy/rr_dataset_23_11/Rout...</td>\n",
       "      <td>0055.npy</td>\n",
       "      <td>0055.json</td>\n",
       "    </tr>\n",
       "    <tr>\n",
       "      <th>5399</th>\n",
       "      <td>../../data/data_prep_npy/rr_dataset_23_11/Rout...</td>\n",
       "      <td>0056.npy</td>\n",
       "      <td>0056.json</td>\n",
       "    </tr>\n",
       "  </tbody>\n",
       "</table>\n",
       "<p>5400 rows × 3 columns</p>\n",
       "</div>"
      ],
      "text/plain": [
       "                                                    dir       rgb measurements\n",
       "0     ../../data/data_prep_npy/rr_dataset_23_11/Rout...  0000.npy    0000.json\n",
       "1     ../../data/data_prep_npy/rr_dataset_23_11/Rout...  0001.npy    0001.json\n",
       "2     ../../data/data_prep_npy/rr_dataset_23_11/Rout...  0002.npy    0002.json\n",
       "3     ../../data/data_prep_npy/rr_dataset_23_11/Rout...  0003.npy    0003.json\n",
       "4     ../../data/data_prep_npy/rr_dataset_23_11/Rout...  0004.npy    0004.json\n",
       "...                                                 ...       ...          ...\n",
       "5395  ../../data/data_prep_npy/rr_dataset_23_11/Rout...  0052.npy    0052.json\n",
       "5396  ../../data/data_prep_npy/rr_dataset_23_11/Rout...  0053.npy    0053.json\n",
       "5397  ../../data/data_prep_npy/rr_dataset_23_11/Rout...  0054.npy    0054.json\n",
       "5398  ../../data/data_prep_npy/rr_dataset_23_11/Rout...  0055.npy    0055.json\n",
       "5399  ../../data/data_prep_npy/rr_dataset_23_11/Rout...  0056.npy    0056.json\n",
       "\n",
       "[5400 rows x 3 columns]"
      ]
     },
     "execution_count": 126,
     "metadata": {},
     "output_type": "execute_result"
    }
   ],
   "source": [
    "df_meta_data"
   ]
  },
  {
   "cell_type": "code",
   "execution_count": 125,
   "metadata": {},
   "outputs": [
    {
     "name": "stderr",
     "output_type": "stream",
     "text": [
      "100%|██████████| 85/85 [00:17<00:00,  4.88it/s]\n"
     ]
    }
   ],
   "source": [
    "for batch in tqdm(dl_prep):\n",
    "    batch\n",
    "    # rgb_prep = preprocessing[\"rgb\"](torch.squeeze(batch[\"rgb\"]))"
   ]
  },
  {
   "cell_type": "code",
   "execution_count": 102,
   "metadata": {},
   "outputs": [
    {
     "data": {
      "text/plain": [
       "tensor([[[[[-0.8629, -0.3990, -0.5636,  ...,  0.5137,  0.3940,  0.2743],\n",
       "           [ 0.5586,  0.4389,  0.3342,  ...,  0.5586,  0.4389,  0.3192],\n",
       "           [ 0.6035,  0.4988,  0.3940,  ...,  0.7083,  0.6335,  0.6035],\n",
       "           ...,\n",
       "           [ 0.8280,  0.8130,  0.7083,  ..., -0.5636, -0.1297, -0.3990],\n",
       "           [-0.5636,  0.1546,  0.0798,  ...,  0.7382,  1.1422,  0.9178],\n",
       "           [-0.8629, -0.3990, -0.5636,  ...,  0.7831,  0.8280,  0.7232]],\n",
       "\n",
       "          [[ 0.8891,  0.9057,  0.7892,  ..., -0.9911, -0.4753, -0.6584],\n",
       "           [-0.6584,  0.1569, -0.0094,  ...,  0.9889,  1.8708,  1.5546],\n",
       "           [-0.9911, -0.4753, -0.7249,  ...,  0.8724,  0.9723,  0.8558],\n",
       "           ...,\n",
       "           [ 0.9723,  1.9540,  1.7044,  ...,  0.9723,  2.0039,  1.7044],\n",
       "           [-0.6584, -0.0760, -0.2590,  ...,  1.7876,  1.8874,  2.0039],\n",
       "           [ 1.8375,  1.9207,  2.0371,  ...,  0.8724,  1.7876,  1.6711]],\n",
       "\n",
       "          [[ 0.5041,  1.3045,  1.2139,  ...,  0.5041,  1.5159,  1.1535],\n",
       "           [-0.3113,  0.3531, -0.0546,  ...,  1.2592,  1.3498,  1.4706],\n",
       "           [ 1.2743,  1.3800,  1.4857,  ...,  0.4286,  1.2743,  1.1535],\n",
       "           ...,\n",
       "           [ 0.2776,  1.2139,  0.9571,  ...,  0.9571,  1.1384,  1.2743],\n",
       "           [ 1.0477,  1.2139,  1.3347,  ...,  1.1535,  1.3347,  1.4706],\n",
       "           [ 1.2743,  1.4706,  1.5914,  ...,  1.0175,  1.2441,  1.4102]]]],\n",
       "\n",
       "\n",
       "\n",
       "        [[[[-0.8629, -0.3092, -0.5037,  ...,  1.4714,  1.6809,  1.8604],\n",
       "           [ 1.4714,  1.7108,  1.8904,  ...,  0.7232,  0.7382,  0.7681],\n",
       "           [ 0.8280,  0.8579,  0.8729,  ...,  0.4539,  0.4389,  0.3940],\n",
       "           ...,\n",
       "           [-0.6234, -0.0100, -0.1297,  ...,  0.0798,  1.0524,  0.2444],\n",
       "           [-0.0399,  0.8130,  0.0200,  ...,  0.3641,  1.2021,  0.7980],\n",
       "           [-0.9975, -0.5037, -0.6833,  ..., -0.8629, -0.2344, -0.2045]],\n",
       "\n",
       "          [[-0.7915, -0.0760, -0.1758,  ..., -0.2091,  0.6395, -0.2923],\n",
       "           [-0.1758,  0.7393, -0.0094,  ...,  0.1902,  1.2218,  1.0555],\n",
       "           [-0.9911, -0.5252, -0.7249,  ..., -0.7915, -0.1093, -0.2923],\n",
       "           ...,\n",
       "           [ 0.5064,  1.5546,  1.1719,  ...,  0.5064,  1.5213,  1.1386],\n",
       "           [ 0.3233,  1.3383,  1.0055,  ...,  1.6378,  1.8042,  2.0039],\n",
       "           [ 1.6378,  1.8042,  2.0039,  ...,  0.2901,  1.3716,  1.0055]],\n",
       "\n",
       "          [[ 0.0662,  0.9873,  0.7155,  ...,  0.0360,  1.0477,  0.6853],\n",
       "           [-0.1150,  0.8514,  0.5494,  ...,  1.0930,  1.2592,  1.4253],\n",
       "           [ 1.0930,  1.2743,  1.4404,  ..., -0.0697,  0.8665,  0.5645],\n",
       "           ...,\n",
       "           [ 0.4890,  0.6249,  0.7457,  ...,  0.8061,  0.9269,  1.0779],\n",
       "           [ 0.8061,  0.9269,  1.0779,  ...,  1.6669,  1.4555,  1.3649],\n",
       "           [ 1.2743,  1.4253,  1.5461,  ...,  1.1837,  1.3498,  1.3800]]]],\n",
       "\n",
       "\n",
       "\n",
       "        [[[[ 1.2619,  1.1871,  1.0674,  ...,  1.1721,  1.0674,  0.9477],\n",
       "           [ 1.2320,  1.1272,  0.9926,  ...,  1.0973,  0.9178,  0.6035],\n",
       "           [ 1.2469,  1.0674,  0.7532,  ...,  2.0998,  2.1896,  2.2495],\n",
       "           ...,\n",
       "           [ 1.5612,  1.6659,  1.5013,  ..., -0.3990,  0.1247, -0.0698],\n",
       "           [-0.2344,  0.2893,  0.0499,  ..., -0.9975,  0.9178,  1.1272],\n",
       "           [-0.2793,  0.7382,  0.4240,  ...,  1.5312,  1.6360,  1.4714]],\n",
       "\n",
       "          [[ 1.7210,  1.8375,  1.6711,  ..., -0.4753,  0.1902, -0.0427],\n",
       "           [-0.3422,  0.3233,  0.0738,  ..., -1.1409,  0.8391,  1.0887],\n",
       "           [-0.3422,  0.3733,  0.1403,  ...,  1.6711,  1.8042,  1.6378],\n",
       "           ...,\n",
       "           [ 0.7560,  1.9872,  1.6711,  ...,  0.7060,  1.9706,  1.6877],\n",
       "           [ 0.5064,  1.7709,  1.4381,  ...,  1.4881,  1.7543,  1.9872],\n",
       "           [ 1.5546,  1.8375,  2.0704,  ...,  0.5563,  1.7876,  1.5213]],\n",
       "\n",
       "          [[ 0.2927,  1.3196,  1.1837,  ...,  0.3078,  1.4102,  1.1686],\n",
       "           [ 0.1115,  1.2441,  0.9571,  ...,  0.9873,  1.2290,  1.4253],\n",
       "           [ 1.0326,  1.2894,  1.5008,  ...,  0.1266,  1.1686,  1.0326],\n",
       "           ...,\n",
       "           [ 1.2139,  1.3800,  1.5461,  ...,  0.0511,  0.2474,  0.4739],\n",
       "           [-0.2962, -0.3113, -0.3113,  ..., -0.9606, -0.0697, -0.2660],\n",
       "           [-0.2358,  0.1870, -0.0546,  ...,  0.2172,  1.2441,  0.9722]]]],\n",
       "\n",
       "\n",
       "\n",
       "        ...,\n",
       "\n",
       "\n",
       "\n",
       "        [[[[-1.1920, -1.1920, -1.1920,  ..., -1.1920, -1.1920, -1.1920],\n",
       "           [-1.1920, -1.1920, -1.1920,  ..., -1.1920, -1.1920, -1.1920],\n",
       "           [-1.1920, -1.1920, -1.1920,  ..., -1.1920, -1.1920, -1.1920],\n",
       "           ...,\n",
       "           [-1.1920, -1.1920, -1.1920,  ..., -1.1920, -1.1920, -1.1920],\n",
       "           [-1.1920, -1.1920, -1.1920,  ..., -1.1920, -1.1920, -1.1920],\n",
       "           [-1.1920, -1.1920, -1.1920,  ..., -1.1920, -0.9975, -1.1920]],\n",
       "\n",
       "          [[-1.3572, -1.3572, -1.3572,  ..., -1.3572, -1.3572, -1.3572],\n",
       "           [-1.3572, -1.3572, -1.3572,  ..., -1.3572, -1.3572, -1.3572],\n",
       "           [-1.3572, -1.3572, -1.3572,  ..., -1.3572, -1.3572, -1.3572],\n",
       "           ...,\n",
       "           [-1.3572, -1.3572, -1.3572,  ..., -1.3572, -1.1409, -1.3572],\n",
       "           [-1.3572, -1.3572, -1.3572,  ..., -0.6584, -0.7915, -0.9911],\n",
       "           [-1.3572, -1.1409, -1.1409,  ..., -1.3572, -1.3572, -1.3572]],\n",
       "\n",
       "          [[-1.5949, -1.5949, -1.5949,  ..., -1.5949, -1.5949, -1.5949],\n",
       "           [-1.5949, -1.3986, -1.5949,  ..., -1.5949, -1.3986, -1.3986],\n",
       "           [-1.3986, -1.2627, -1.2627,  ..., -1.5949, -1.5949, -1.5949],\n",
       "           ...,\n",
       "           [-1.2627, -1.2627, -1.1721,  ..., -1.3986, -1.2627, -1.2627],\n",
       "           [-1.3986, -1.2627, -1.2627,  ..., -1.2627, -1.1721, -1.0815],\n",
       "           [-1.1721, -1.0815, -0.9606,  ..., -1.5949, -1.5949, -1.3986]]]],\n",
       "\n",
       "\n",
       "\n",
       "        [[[[-1.1920, -1.1920, -1.1920,  ..., -1.1920, -1.1920, -1.1920],\n",
       "           [-1.1920, -1.1920, -1.1920,  ..., -1.1920, -1.1920, -1.1920],\n",
       "           [-1.1920, -1.1920, -1.1920,  ..., -1.1920, -1.1920, -1.1920],\n",
       "           ...,\n",
       "           [-1.1920, -1.1920, -1.1920,  ..., -1.1920, -1.1920, -1.1920],\n",
       "           [-1.1920, -1.1920, -1.1920,  ..., -1.1920, -1.1920, -1.1920],\n",
       "           [-1.1920, -0.9975, -1.1920,  ..., -1.1920, -1.1920, -1.1920]],\n",
       "\n",
       "          [[-1.3572, -1.3572, -1.3572,  ..., -1.3572, -1.3572, -1.3572],\n",
       "           [-1.3572, -1.3572, -1.3572,  ..., -1.3572, -1.3572, -1.3572],\n",
       "           [-1.3572, -1.3572, -1.3572,  ..., -1.3572, -1.1409, -1.3572],\n",
       "           ...,\n",
       "           [-1.3572, -1.1409, -1.3572,  ..., -1.3572, -1.1409, -1.3572],\n",
       "           [-1.3572, -1.3572, -1.3572,  ..., -0.4254, -0.5252, -0.7915],\n",
       "           [-1.1409, -0.9911, -0.9911,  ..., -1.3572, -1.1409, -1.3572]],\n",
       "\n",
       "          [[-1.5949, -1.5949, -1.5949,  ..., -1.5949, -1.3986, -1.5949],\n",
       "           [-1.5949, -1.5949, -1.5949,  ..., -1.3986, -1.2627, -1.2627],\n",
       "           [-1.2627, -1.1721, -1.1721,  ..., -1.5949, -1.3986, -1.5949],\n",
       "           ...,\n",
       "           [-1.2627, -1.2627, -1.2627,  ..., -1.2627, -1.1721, -1.0815],\n",
       "           [-1.2627, -1.1721, -1.0815,  ..., -1.0815, -1.0815, -1.0815],\n",
       "           [-1.0815, -1.0211, -0.9606,  ..., -1.3986, -1.2627, -0.9002]]]],\n",
       "\n",
       "\n",
       "\n",
       "        [[[[-1.1920, -1.1920, -1.1920,  ..., -1.1920, -1.1920, -1.1920],\n",
       "           [-1.1920, -1.1920, -1.1920,  ..., -1.1920, -1.1920, -1.1920],\n",
       "           [-1.1920, -1.1920, -1.1920,  ..., -1.1920, -1.1920, -1.1920],\n",
       "           ...,\n",
       "           [-1.1920, -1.1920, -1.1920,  ..., -1.1920, -1.1920, -1.1920],\n",
       "           [-1.1920, -1.1920, -1.1920,  ..., -1.1920, -1.1920, -1.1920],\n",
       "           [-1.1920, -1.1920, -1.1920,  ..., -1.1920, -1.1920, -1.1920]],\n",
       "\n",
       "          [[-1.3572, -1.3572, -1.3572,  ..., -1.3572, -1.3572, -1.3572],\n",
       "           [-1.3572, -1.3572, -1.3572,  ..., -1.3572, -1.3572, -1.3572],\n",
       "           [-1.3572, -1.3572, -1.3572,  ..., -1.3572, -1.3572, -1.3572],\n",
       "           ...,\n",
       "           [-1.3572, -1.3572, -1.3572,  ..., -1.3572, -1.3572, -1.3572],\n",
       "           [-1.3572, -1.1409, -1.1409,  ..., -1.1409, -0.9911, -0.9911],\n",
       "           [-1.1409, -0.8913, -0.8913,  ..., -1.3572, -1.3572, -1.3572]],\n",
       "\n",
       "          [[-1.5949, -1.3986, -1.3986,  ..., -1.5949, -1.5949, -1.5949],\n",
       "           [-1.5949, -1.3986, -1.5949,  ..., -1.3986, -1.2627, -1.2627],\n",
       "           [-1.2627, -1.1721, -1.0815,  ..., -1.5949, -1.3986, -1.5949],\n",
       "           ...,\n",
       "           [-1.3986, -1.3986, -1.3986,  ..., -1.3986, -1.2627, -1.2627],\n",
       "           [-1.3986, -1.3986, -1.2627,  ..., -1.3986, -1.2627, -1.2627],\n",
       "           [-1.3986, -1.2627, -1.1721,  ..., -1.5949, -1.3986, -1.2627]]]]],\n",
       "       dtype=torch.float64)"
      ]
     },
     "execution_count": 102,
     "metadata": {},
     "output_type": "execute_result"
    }
   ],
   "source": [
    "batch[\"rgb\"]"
   ]
  },
  {
   "attachments": {},
   "cell_type": "markdown",
   "metadata": {},
   "source": [
    "# Test LiDAR transform"
   ]
  },
  {
   "cell_type": "code",
   "execution_count": 5,
   "metadata": {},
   "outputs": [],
   "source": [
    "path = \"/Users/julianvonklitzing/Documents/GitHub/end2endappras/data/data/coke_dataset_23_11/Routes_Scenario3_Town01_curved_Seed1000/Scenario3_Town01_curved_route0_11_23_20_02_59/lidar/0000.npy\""
   ]
  },
  {
   "cell_type": "code",
   "execution_count": 20,
   "metadata": {},
   "outputs": [
    {
     "data": {
      "text/plain": [
       "True"
      ]
     },
     "execution_count": 20,
     "metadata": {},
     "output_type": "execute_result"
    }
   ],
   "source": [
    "np.load(path, allow_pickle=True).shape == (2, )"
   ]
  },
  {
   "cell_type": "code",
   "execution_count": 15,
   "metadata": {},
   "outputs": [],
   "source": [
    "img_lidar_np = transform_lidar_bev(np.load(path, allow_pickle=True)[1])"
   ]
  },
  {
   "cell_type": "code",
   "execution_count": 10,
   "metadata": {},
   "outputs": [],
   "source": [
    "import matplotlib.pyplot as plt"
   ]
  },
  {
   "cell_type": "code",
   "execution_count": 17,
   "metadata": {},
   "outputs": [
    {
     "data": {
      "text/plain": [
       "<matplotlib.image.AxesImage at 0x16aa8bc10>"
      ]
     },
     "execution_count": 17,
     "metadata": {},
     "output_type": "execute_result"
    },
    {
     "data": {
      "image/png": "[encoded data removed]",
      "text/plain": [
       "<Figure size 640x480 with 1 Axes>"
      ]
     },
     "metadata": {},
     "output_type": "display_data"
    }
   ],
   "source": [
    "plt.imshow(img_lidar)"
   ]
  },
  {
   "cell_type": "code",
   "execution_count": 16,
   "metadata": {},
   "outputs": [],
   "source": [
    "from PIL import Image\n",
    "im = Image.fromarray(img_lidar_np)\n",
    "im.save(\"your_file.png\")"
   ]
  },
  {
   "cell_type": "code",
   "execution_count": null,
   "metadata": {},
   "outputs": [],
   "source": []
  }
 ],
 "metadata": {
  "kernelspec": {
   "display_name": "carla",
   "language": "python",
   "name": "python3"
  },
  "language_info": {
   "codemirror_mode": {
    "name": "ipython",
    "version": 3
   },
   "file_extension": ".py",
   "mimetype": "text/x-python",
   "name": "python",
   "nbconvert_exporter": "python",
   "pygments_lexer": "ipython3",
   "version": "3.8.13"
  },
  "orig_nbformat": 4,
  "vscode": {
   "interpreter": {
    "hash": "bc80d0638afb8ec7c43f4b834002a598fcddbd6e8bf5db40ad8cba47e68e6a97"
   }
  }
 },
 "nbformat": 4,
 "nbformat_minor": 2
}
