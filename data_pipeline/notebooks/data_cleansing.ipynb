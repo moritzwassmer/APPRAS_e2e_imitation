{
 "cells": [
  {
   "cell_type": "code",
   "execution_count": 1,
   "metadata": {},
   "outputs": [
    {
     "name": "stderr",
     "output_type": "stream",
     "text": [
      "/Users/julianvonklitzing/miniforge3/envs/carla/lib/python3.8/site-packages/tqdm/auto.py:22: TqdmWarning: IProgress not found. Please update jupyter and ipywidgets. See https://ipywidgets.readthedocs.io/en/stable/user_install.html\n",
      "  from .autonotebook import tqdm as notebook_tqdm\n"
     ]
    }
   ],
   "source": [
    "# original size 258866 # 258841 # 258816\n",
    "import sys\n",
    "import os\n",
    "from torch.utils.data import DataLoader\n",
    "sys.path.append(\"..\")\n",
    "from tqdm import tqdm\n",
    "import numpy as np\n",
    "import pandas as pd\n",
    "\n",
    "from utils import train_test_split, create_metadata_df\n",
    "from dataset_xy import CARLADatasetXY\n",
    "import json\n",
    "from send2trash import send2trash\n",
    "import shutil"
   ]
  },
  {
   "attachments": {},
   "cell_type": "markdown",
   "metadata": {},
   "source": [
    "# Move sensor folders that we are not using"
   ]
  },
  {
   "cell_type": "code",
   "execution_count": null,
   "metadata": {},
   "outputs": [],
   "source": [
    "root_dir = os.path.join(\"..\", \"data\", \"data\")\n",
    "keep_input = [\"lidar\", \"rgb\", \"measurements\"]"
   ]
  },
  {
   "cell_type": "code",
   "execution_count": null,
   "metadata": {},
   "outputs": [],
   "source": [
    "def move_unused_sensors_to_new_folder(root_dir, keep_input):\n",
    "    for (root, dirs, files) in os.walk(root_dir, topdown=True):\n",
    "        # Current folder contains the files\n",
    "        if not dirs:\n",
    "            dir, input_type = os.path.split(root)\n",
    "            if input_type not in keep_input:\n",
    "                dir_new = os.path.join(os.path.split(dir)[0] + \" unused\", os.path.split(dir)[1])\n",
    "                if not os.path.exists(dir_new):\n",
    "                    os.makedirs(dir_new)\n",
    "                shutil.move(root, dir_new)"
   ]
  },
  {
   "attachments": {},
   "cell_type": "markdown",
   "metadata": {},
   "source": [
    "# Delete entries with NaN values"
   ]
  },
  {
   "cell_type": "code",
   "execution_count": 10,
   "metadata": {},
   "outputs": [],
   "source": [
    "path_data = os.path.join(\"..\", \"..\", \"data\", \"data\")\n",
    "\n",
    "config_xy = {\"used_inputs\": [\"measurements\"], \n",
    "        \"used_measurements\": [\"speed\", \"steer\", \"throttle\", \"brake\", \"command\"],\n",
    "        \"y\": [\"brake\", \"steer\", \"throttle\"],\n",
    "        \"seq_len\": 1\n",
    "        }\n",
    "\n",
    "# Create df_meta \n",
    "df_meta_data = create_metadata_df(path_data, config_xy[\"used_inputs\"])\n",
    "\n",
    "# Create Dataset & DataLoader\n",
    "dataset = CARLADatasetXY(root_dir=path_data, df_meta_data=df_meta_data, config=config_xy)\n",
    "dataloader = DataLoader(dataset=dataset, batch_size=64, num_workers=0, sampler=None, shuffle=False)"
   ]
  },
  {
   "cell_type": "code",
   "execution_count": 3,
   "metadata": {},
   "outputs": [],
   "source": [
    "def measurements_to_df(dataloader):\n",
    "    idxs, speed, steer, throttle, brake, command = [], [], [], [], [], []\n",
    "    for idx, (x, y) in tqdm(enumerate(dataloader)):\n",
    "        idxs.append(idx)\n",
    "        speed += x['speed'].flatten().tolist()\n",
    "        command += x['command'].flatten().tolist()\n",
    "        steer += y['steer'].flatten().tolist()\n",
    "        throttle += y['throttle'].flatten().tolist()\n",
    "        brake += y['brake'].flatten().tolist()\n",
    "\n",
    "    df_measurements = pd.DataFrame({\"speed\": speed, \"command\": command, \"steer\": steer, \"throttle\": throttle, \"brake\": brake}, index=list(range(len(speed))))\n",
    "    df_measurements.to_pickle(\"measurements_.pickle\")\n",
    "    return df_measurements\n",
    "\n",
    "def remove_entries_at_indices(idx_nan_list, df_meta_entire):\n",
    "    count_files_deleted = 0\n",
    "    for idx_nan in idx_nan_list:\n",
    "        path_nan = os.path.join(df_meta_entire.loc[idx_nan][\"dir\"], \"measurements\", df_meta_entire.loc[idx_nan][\"measurements\"])\n",
    "        with open(path_nan, 'r') as f:\n",
    "            measurements = json.load(f)\n",
    "        if not np.isnan(measurements[\"steer\"]):\n",
    "            print(\"Break: indexes do not fit!\")\n",
    "            break\n",
    "        dir = df_meta_entire[\"dir\"].loc[idx_nan]\n",
    "        dirs_sensors = os.listdir(dir)\n",
    "        number_entry = df_meta_entire[\"measurements\"].loc[idx_nan].split(\".\")[0]\n",
    "        for dir_sensor in dirs_sensors:\n",
    "            if not dir_sensor.startswith(\".\"):\n",
    "                files = os.listdir(os.path.join(dir, dir_sensor))\n",
    "                for file in files:\n",
    "                    if file.startswith(number_entry):\n",
    "                        count_files_deleted += 1\n",
    "                        # os.remove(os.path.join(dir, dir_sensor, file))\n",
    "                        send2trash(os.path.join(dir, dir_sensor, file))\n",
    "    return count_files_deleted\n",
    "\n",
    "def remove_steer_nan_entries(df_meta_entire, dataloader):\n",
    "    df_measurements = measurements_to_df(dataloader)\n",
    "    print(\"df_measurements was created\")\n",
    "    indices_nan = df_meta_data[df_measurements[\"steer\"].isna()].index.tolist()\n",
    "    count_files_deleted = remove_entries_at_indices(indices_nan, df_meta_entire)\n",
    "    return count_files_deleted"
   ]
  },
  {
   "cell_type": "code",
   "execution_count": 4,
   "metadata": {},
   "outputs": [
    {
     "name": "stderr",
     "output_type": "stream",
     "text": [
      "438it [00:11, 38.14it/s]\n"
     ]
    },
    {
     "ename": "KeyboardInterrupt",
     "evalue": "",
     "output_type": "error",
     "traceback": [
      "\u001b[0;31m---------------------------------------------------------------------------\u001b[0m",
      "\u001b[0;31mKeyboardInterrupt\u001b[0m                         Traceback (most recent call last)",
      "Cell \u001b[0;32mIn[4], line 1\u001b[0m\n\u001b[0;32m----> 1\u001b[0m indices_nan \u001b[39m=\u001b[39m remove_steer_nan_entries(df_meta_data, dataloader)\n",
      "Cell \u001b[0;32mIn[3], line 38\u001b[0m, in \u001b[0;36mremove_steer_nan_entries\u001b[0;34m(df_meta_entire, dataloader)\u001b[0m\n\u001b[1;32m     37\u001b[0m \u001b[39mdef\u001b[39;00m \u001b[39mremove_steer_nan_entries\u001b[39m(df_meta_entire, dataloader):\n\u001b[0;32m---> 38\u001b[0m     df_measurements \u001b[39m=\u001b[39m measurements_to_df(dataloader)\n\u001b[1;32m     39\u001b[0m     \u001b[39mprint\u001b[39m(\u001b[39m\"\u001b[39m\u001b[39mdf_measurements was created\u001b[39m\u001b[39m\"\u001b[39m)\n\u001b[1;32m     40\u001b[0m     indices_nan \u001b[39m=\u001b[39m df_meta_data[df_measurements[\u001b[39m\"\u001b[39m\u001b[39msteer\u001b[39m\u001b[39m\"\u001b[39m]\u001b[39m.\u001b[39misna()]\u001b[39m.\u001b[39mindex\u001b[39m.\u001b[39mtolist()\n",
      "Cell \u001b[0;32mIn[3], line 3\u001b[0m, in \u001b[0;36mmeasurements_to_df\u001b[0;34m(dataloader)\u001b[0m\n\u001b[1;32m      1\u001b[0m \u001b[39mdef\u001b[39;00m \u001b[39mmeasurements_to_df\u001b[39m(dataloader):\n\u001b[1;32m      2\u001b[0m     idxs, speed, steer, throttle, brake, command \u001b[39m=\u001b[39m [], [], [], [], [], []\n\u001b[0;32m----> 3\u001b[0m     \u001b[39mfor\u001b[39;00m idx, (x, y) \u001b[39min\u001b[39;00m tqdm(\u001b[39menumerate\u001b[39m(dataloader)):\n\u001b[1;32m      4\u001b[0m         idxs\u001b[39m.\u001b[39mappend(idx)\n\u001b[1;32m      5\u001b[0m         speed \u001b[39m+\u001b[39m\u001b[39m=\u001b[39m x[\u001b[39m'\u001b[39m\u001b[39mspeed\u001b[39m\u001b[39m'\u001b[39m]\u001b[39m.\u001b[39mflatten()\u001b[39m.\u001b[39mtolist()\n",
      "File \u001b[0;32m~/miniforge3/envs/carla/lib/python3.8/site-packages/tqdm/std.py:1195\u001b[0m, in \u001b[0;36mtqdm.__iter__\u001b[0;34m(self)\u001b[0m\n\u001b[1;32m   1192\u001b[0m time \u001b[39m=\u001b[39m \u001b[39mself\u001b[39m\u001b[39m.\u001b[39m_time\n\u001b[1;32m   1194\u001b[0m \u001b[39mtry\u001b[39;00m:\n\u001b[0;32m-> 1195\u001b[0m     \u001b[39mfor\u001b[39;00m obj \u001b[39min\u001b[39;00m iterable:\n\u001b[1;32m   1196\u001b[0m         \u001b[39myield\u001b[39;00m obj\n\u001b[1;32m   1197\u001b[0m         \u001b[39m# Update and possibly print the progressbar.\u001b[39;00m\n\u001b[1;32m   1198\u001b[0m         \u001b[39m# Note: does not call self.update(1) for speed optimisation.\u001b[39;00m\n",
      "File \u001b[0;32m~/miniforge3/envs/carla/lib/python3.8/site-packages/torch/utils/data/dataloader.py:628\u001b[0m, in \u001b[0;36m_BaseDataLoaderIter.__next__\u001b[0;34m(self)\u001b[0m\n\u001b[1;32m    625\u001b[0m \u001b[39mif\u001b[39;00m \u001b[39mself\u001b[39m\u001b[39m.\u001b[39m_sampler_iter \u001b[39mis\u001b[39;00m \u001b[39mNone\u001b[39;00m:\n\u001b[1;32m    626\u001b[0m     \u001b[39m# TODO(https://github.com/pytorch/pytorch/issues/76750)\u001b[39;00m\n\u001b[1;32m    627\u001b[0m     \u001b[39mself\u001b[39m\u001b[39m.\u001b[39m_reset()  \u001b[39m# type: ignore[call-arg]\u001b[39;00m\n\u001b[0;32m--> 628\u001b[0m data \u001b[39m=\u001b[39m \u001b[39mself\u001b[39;49m\u001b[39m.\u001b[39;49m_next_data()\n\u001b[1;32m    629\u001b[0m \u001b[39mself\u001b[39m\u001b[39m.\u001b[39m_num_yielded \u001b[39m+\u001b[39m\u001b[39m=\u001b[39m \u001b[39m1\u001b[39m\n\u001b[1;32m    630\u001b[0m \u001b[39mif\u001b[39;00m \u001b[39mself\u001b[39m\u001b[39m.\u001b[39m_dataset_kind \u001b[39m==\u001b[39m _DatasetKind\u001b[39m.\u001b[39mIterable \u001b[39mand\u001b[39;00m \\\n\u001b[1;32m    631\u001b[0m         \u001b[39mself\u001b[39m\u001b[39m.\u001b[39m_IterableDataset_len_called \u001b[39mis\u001b[39;00m \u001b[39mnot\u001b[39;00m \u001b[39mNone\u001b[39;00m \u001b[39mand\u001b[39;00m \\\n\u001b[1;32m    632\u001b[0m         \u001b[39mself\u001b[39m\u001b[39m.\u001b[39m_num_yielded \u001b[39m>\u001b[39m \u001b[39mself\u001b[39m\u001b[39m.\u001b[39m_IterableDataset_len_called:\n",
      "File \u001b[0;32m~/miniforge3/envs/carla/lib/python3.8/site-packages/torch/utils/data/dataloader.py:671\u001b[0m, in \u001b[0;36m_SingleProcessDataLoaderIter._next_data\u001b[0;34m(self)\u001b[0m\n\u001b[1;32m    669\u001b[0m \u001b[39mdef\u001b[39;00m \u001b[39m_next_data\u001b[39m(\u001b[39mself\u001b[39m):\n\u001b[1;32m    670\u001b[0m     index \u001b[39m=\u001b[39m \u001b[39mself\u001b[39m\u001b[39m.\u001b[39m_next_index()  \u001b[39m# may raise StopIteration\u001b[39;00m\n\u001b[0;32m--> 671\u001b[0m     data \u001b[39m=\u001b[39m \u001b[39mself\u001b[39;49m\u001b[39m.\u001b[39;49m_dataset_fetcher\u001b[39m.\u001b[39;49mfetch(index)  \u001b[39m# may raise StopIteration\u001b[39;00m\n\u001b[1;32m    672\u001b[0m     \u001b[39mif\u001b[39;00m \u001b[39mself\u001b[39m\u001b[39m.\u001b[39m_pin_memory:\n\u001b[1;32m    673\u001b[0m         data \u001b[39m=\u001b[39m _utils\u001b[39m.\u001b[39mpin_memory\u001b[39m.\u001b[39mpin_memory(data, \u001b[39mself\u001b[39m\u001b[39m.\u001b[39m_pin_memory_device)\n",
      "File \u001b[0;32m~/miniforge3/envs/carla/lib/python3.8/site-packages/torch/utils/data/_utils/fetch.py:58\u001b[0m, in \u001b[0;36m_MapDatasetFetcher.fetch\u001b[0;34m(self, possibly_batched_index)\u001b[0m\n\u001b[1;32m     56\u001b[0m         data \u001b[39m=\u001b[39m \u001b[39mself\u001b[39m\u001b[39m.\u001b[39mdataset\u001b[39m.\u001b[39m__getitems__(possibly_batched_index)\n\u001b[1;32m     57\u001b[0m     \u001b[39melse\u001b[39;00m:\n\u001b[0;32m---> 58\u001b[0m         data \u001b[39m=\u001b[39m [\u001b[39mself\u001b[39m\u001b[39m.\u001b[39mdataset[idx] \u001b[39mfor\u001b[39;00m idx \u001b[39min\u001b[39;00m possibly_batched_index]\n\u001b[1;32m     59\u001b[0m \u001b[39melse\u001b[39;00m:\n\u001b[1;32m     60\u001b[0m     data \u001b[39m=\u001b[39m \u001b[39mself\u001b[39m\u001b[39m.\u001b[39mdataset[possibly_batched_index]\n",
      "File \u001b[0;32m~/miniforge3/envs/carla/lib/python3.8/site-packages/torch/utils/data/_utils/fetch.py:58\u001b[0m, in \u001b[0;36m<listcomp>\u001b[0;34m(.0)\u001b[0m\n\u001b[1;32m     56\u001b[0m         data \u001b[39m=\u001b[39m \u001b[39mself\u001b[39m\u001b[39m.\u001b[39mdataset\u001b[39m.\u001b[39m__getitems__(possibly_batched_index)\n\u001b[1;32m     57\u001b[0m     \u001b[39melse\u001b[39;00m:\n\u001b[0;32m---> 58\u001b[0m         data \u001b[39m=\u001b[39m [\u001b[39mself\u001b[39;49m\u001b[39m.\u001b[39;49mdataset[idx] \u001b[39mfor\u001b[39;00m idx \u001b[39min\u001b[39;00m possibly_batched_index]\n\u001b[1;32m     59\u001b[0m \u001b[39melse\u001b[39;00m:\n\u001b[1;32m     60\u001b[0m     data \u001b[39m=\u001b[39m \u001b[39mself\u001b[39m\u001b[39m.\u001b[39mdataset[possibly_batched_index]\n",
      "File \u001b[0;32m~/Documents/GitHub/end2endappras/data_pipeline/notebooks/../dataset_xy.py:73\u001b[0m, in \u001b[0;36mCARLADatasetXY.__getitem__\u001b[0;34m(self, idx)\u001b[0m\n\u001b[1;32m     71\u001b[0m \u001b[39mfor\u001b[39;00m data_point_idx \u001b[39min\u001b[39;00m \u001b[39mrange\u001b[39m(idx_lagged, idx \u001b[39m+\u001b[39m \u001b[39m1\u001b[39m):\n\u001b[1;32m     72\u001b[0m     file_path \u001b[39m=\u001b[39m \u001b[39mself\u001b[39m\u001b[39m.\u001b[39mget_file_path_from_df(input_idx, data_point_idx)\n\u001b[0;32m---> 73\u001b[0m     data_t \u001b[39m=\u001b[39m \u001b[39mself\u001b[39;49m\u001b[39m.\u001b[39;49mload_data_from_path(file_path)\n\u001b[1;32m     74\u001b[0m     \u001b[39mfor\u001b[39;00m meas_idx, meas \u001b[39min\u001b[39;00m \u001b[39menumerate\u001b[39m(\u001b[39mself\u001b[39m\u001b[39m.\u001b[39mused_measurements):\n\u001b[1;32m     75\u001b[0m         data[meas_idx, idx_array] \u001b[39m=\u001b[39m data_t[meas]\n",
      "File \u001b[0;32m~/Documents/GitHub/end2endappras/data_pipeline/notebooks/../dataset_xy.py:116\u001b[0m, in \u001b[0;36mCARLADatasetXY.load_data_from_path\u001b[0;34m(self, path)\u001b[0m\n\u001b[1;32m    114\u001b[0m     data \u001b[39m=\u001b[39m data\u001b[39m.\u001b[39mreshape([\u001b[39m3\u001b[39m] \u001b[39m+\u001b[39m \u001b[39mlist\u001b[39m(data\u001b[39m.\u001b[39mshape)[:\u001b[39m-\u001b[39m\u001b[39m1\u001b[39m])\n\u001b[1;32m    115\u001b[0m \u001b[39melif\u001b[39;00m file_format \u001b[39m==\u001b[39m \u001b[39m\"\u001b[39m\u001b[39m.json\u001b[39m\u001b[39m\"\u001b[39m:\n\u001b[0;32m--> 116\u001b[0m     \u001b[39mwith\u001b[39;00m \u001b[39mopen\u001b[39;49m(path, \u001b[39m'\u001b[39;49m\u001b[39mr\u001b[39;49m\u001b[39m'\u001b[39;49m) \u001b[39mas\u001b[39;00m f:\n\u001b[1;32m    117\u001b[0m         data \u001b[39m=\u001b[39m json\u001b[39m.\u001b[39mload(f)\n\u001b[1;32m    118\u001b[0m \u001b[39melif\u001b[39;00m file_format \u001b[39m==\u001b[39m \u001b[39m\"\u001b[39m\u001b[39m.npy\u001b[39m\u001b[39m\"\u001b[39m:\n",
      "File \u001b[0;32m~/miniforge3/envs/carla/lib/python3.8/_bootlocale.py:33\u001b[0m, in \u001b[0;36mgetpreferredencoding\u001b[0;34m(do_setlocale)\u001b[0m\n\u001b[1;32m     31\u001b[0m             \u001b[39mreturn\u001b[39;00m locale\u001b[39m.\u001b[39mgetpreferredencoding(do_setlocale)\n\u001b[1;32m     32\u001b[0m \u001b[39melse\u001b[39;00m:\n\u001b[0;32m---> 33\u001b[0m     \u001b[39mdef\u001b[39;00m \u001b[39mgetpreferredencoding\u001b[39m(do_setlocale\u001b[39m=\u001b[39m\u001b[39mTrue\u001b[39;00m):\n\u001b[1;32m     34\u001b[0m         \u001b[39massert\u001b[39;00m \u001b[39mnot\u001b[39;00m do_setlocale\n\u001b[1;32m     35\u001b[0m         \u001b[39mif\u001b[39;00m sys\u001b[39m.\u001b[39mflags\u001b[39m.\u001b[39mutf8_mode:\n",
      "\u001b[0;31mKeyboardInterrupt\u001b[0m: "
     ]
    }
   ],
   "source": [
    "count_files_deleted = remove_steer_nan_entries(df_meta_data, dataloader)"
   ]
  },
  {
   "cell_type": "code",
   "execution_count": null,
   "metadata": {},
   "outputs": [],
   "source": []
  }
 ],
 "metadata": {
  "kernelspec": {
   "display_name": "carla",
   "language": "python",
   "name": "python3"
  },
  "language_info": {
   "codemirror_mode": {
    "name": "ipython",
    "version": 3
   },
   "file_extension": ".py",
   "mimetype": "text/x-python",
   "name": "python",
   "nbconvert_exporter": "python",
   "pygments_lexer": "ipython3",
   "version": "3.8.13 | packaged by conda-forge | (default, Mar 25 2022, 06:05:16) \n[Clang 12.0.1 ]"
  },
  "orig_nbformat": 4,
  "vscode": {
   "interpreter": {
    "hash": "bc80d0638afb8ec7c43f4b834002a598fcddbd6e8bf5db40ad8cba47e68e6a97"
   }
  }
 },
 "nbformat": 4,
 "nbformat_minor": 2
}
